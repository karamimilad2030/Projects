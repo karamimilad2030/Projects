{
 "cells": [
  {
   "cell_type": "code",
   "execution_count": 1,
   "id": "c9b23117",
   "metadata": {},
   "outputs": [],
   "source": [
    "import pandas as pd\n",
    "\n",
    "import seaborn as sns\n",
    "import matplotlib.pyplot as plt\n",
    "\n",
    "import warnings\n",
    "warnings.filterwarnings('ignore')\n",
    "\n",
    "\n",
    "# Regression Methods\n",
    "from sklearn.model_selection import train_test_split\n",
    "from sklearn.preprocessing import StandardScaler\n",
    "\n",
    "# Logistic Regression\n",
    "from sklearn.linear_model import LogisticRegression\n",
    "from sklearn.metrics import accuracy_score, confusion_matrix, roc_auc_score, ConfusionMatrixDisplay, precision_score, recall_score, f1_score, classification_report, roc_curve, plot_roc_curve, auc, precision_recall_curve, plot_precision_recall_curve, average_precision_score\n",
    "from sklearn.metrics import precision_recall_curve,plot_precision_recall_curve,plot_roc_curve\n",
    "from sklearn.metrics import plot_confusion_matrix\n",
    "import plotly.express as px\n",
    "from sklearn.metrics import mean_squared_error"
   ]
  },
  {
   "cell_type": "code",
   "execution_count": 2,
   "id": "32ef5149",
   "metadata": {},
   "outputs": [],
   "source": [
    "df = pd.read_csv(\"diabetes_Sample.csv\")"
   ]
  },
  {
   "cell_type": "code",
   "execution_count": 3,
   "id": "3bd471b9",
   "metadata": {
    "scrolled": true
   },
   "outputs": [
    {
     "name": "stdout",
     "output_type": "stream",
     "text": [
      "(343, 22)\n",
      "Index(['Diabetes_012', 'HighBP', 'HighChol', 'CholCheck', 'BMI', 'Smoker',\n",
      "       'Stroke', 'HeartDiseaseorAttack', 'PhysActivity', 'Fruits', 'Veggies',\n",
      "       'HvyAlcoholConsump', 'AnyHealthcare', 'NoDocbcCost', 'GenHlth',\n",
      "       'MentHlth', 'PhysHlth', 'DiffWalk', 'Sex', 'Age', 'Education',\n",
      "       'Income'],\n",
      "      dtype='object')\n"
     ]
    },
    {
     "data": {
      "text/html": [
       "<div>\n",
       "<style scoped>\n",
       "    .dataframe tbody tr th:only-of-type {\n",
       "        vertical-align: middle;\n",
       "    }\n",
       "\n",
       "    .dataframe tbody tr th {\n",
       "        vertical-align: top;\n",
       "    }\n",
       "\n",
       "    .dataframe thead th {\n",
       "        text-align: right;\n",
       "    }\n",
       "</style>\n",
       "<table border=\"1\" class=\"dataframe\">\n",
       "  <thead>\n",
       "    <tr style=\"text-align: right;\">\n",
       "      <th></th>\n",
       "      <th>Diabetes_012</th>\n",
       "      <th>HighBP</th>\n",
       "      <th>HighChol</th>\n",
       "      <th>CholCheck</th>\n",
       "      <th>BMI</th>\n",
       "      <th>Smoker</th>\n",
       "      <th>Stroke</th>\n",
       "      <th>HeartDiseaseorAttack</th>\n",
       "      <th>PhysActivity</th>\n",
       "      <th>Fruits</th>\n",
       "      <th>...</th>\n",
       "      <th>AnyHealthcare</th>\n",
       "      <th>NoDocbcCost</th>\n",
       "      <th>GenHlth</th>\n",
       "      <th>MentHlth</th>\n",
       "      <th>PhysHlth</th>\n",
       "      <th>DiffWalk</th>\n",
       "      <th>Sex</th>\n",
       "      <th>Age</th>\n",
       "      <th>Education</th>\n",
       "      <th>Income</th>\n",
       "    </tr>\n",
       "  </thead>\n",
       "  <tbody>\n",
       "    <tr>\n",
       "      <th>0</th>\n",
       "      <td>0</td>\n",
       "      <td>1</td>\n",
       "      <td>1</td>\n",
       "      <td>1</td>\n",
       "      <td>40</td>\n",
       "      <td>1</td>\n",
       "      <td>0</td>\n",
       "      <td>0</td>\n",
       "      <td>0</td>\n",
       "      <td>0</td>\n",
       "      <td>...</td>\n",
       "      <td>1</td>\n",
       "      <td>0</td>\n",
       "      <td>5</td>\n",
       "      <td>18</td>\n",
       "      <td>15</td>\n",
       "      <td>1</td>\n",
       "      <td>0</td>\n",
       "      <td>9</td>\n",
       "      <td>4</td>\n",
       "      <td>3</td>\n",
       "    </tr>\n",
       "  </tbody>\n",
       "</table>\n",
       "<p>1 rows × 22 columns</p>\n",
       "</div>"
      ],
      "text/plain": [
       "   Diabetes_012  HighBP  HighChol  CholCheck  BMI  Smoker  Stroke  \\\n",
       "0             0       1         1          1   40       1       0   \n",
       "\n",
       "   HeartDiseaseorAttack  PhysActivity  Fruits  ...  AnyHealthcare  \\\n",
       "0                     0             0       0  ...              1   \n",
       "\n",
       "   NoDocbcCost  GenHlth  MentHlth  PhysHlth  DiffWalk  Sex  Age  Education  \\\n",
       "0            0        5        18        15         1    0    9          4   \n",
       "\n",
       "   Income  \n",
       "0       3  \n",
       "\n",
       "[1 rows x 22 columns]"
      ]
     },
     "execution_count": 3,
     "metadata": {},
     "output_type": "execute_result"
    }
   ],
   "source": [
    "print(df.shape)\n",
    "print(df.columns)\n",
    "df.head(1)"
   ]
  },
  {
   "cell_type": "code",
   "execution_count": 4,
   "id": "f47f5f6c",
   "metadata": {},
   "outputs": [],
   "source": [
    "df[\"Diabetes\"] = df[\"Diabetes_012\"]\n",
    "df = df[['Diabetes', 'HighBP', 'HighChol', 'CholCheck', 'BMI', 'Smoker',\n",
    "       'Stroke', 'HeartDiseaseorAttack', 'PhysActivity', 'Fruits', 'Veggies',\n",
    "       'HvyAlcoholConsump', 'AnyHealthcare', 'NoDocbcCost', 'GenHlth',\n",
    "       'MentHlth', 'PhysHlth', 'DiffWalk', 'Sex', 'Age', 'Education',\n",
    "       'Income']]"
   ]
  },
  {
   "cell_type": "code",
   "execution_count": 5,
   "id": "a2c61828",
   "metadata": {},
   "outputs": [
    {
     "data": {
      "text/html": [
       "<div>\n",
       "<style scoped>\n",
       "    .dataframe tbody tr th:only-of-type {\n",
       "        vertical-align: middle;\n",
       "    }\n",
       "\n",
       "    .dataframe tbody tr th {\n",
       "        vertical-align: top;\n",
       "    }\n",
       "\n",
       "    .dataframe thead th {\n",
       "        text-align: right;\n",
       "    }\n",
       "</style>\n",
       "<table border=\"1\" class=\"dataframe\">\n",
       "  <thead>\n",
       "    <tr style=\"text-align: right;\">\n",
       "      <th></th>\n",
       "      <th>count</th>\n",
       "      <th>mean</th>\n",
       "      <th>std</th>\n",
       "      <th>min</th>\n",
       "      <th>25%</th>\n",
       "      <th>50%</th>\n",
       "      <th>75%</th>\n",
       "      <th>max</th>\n",
       "    </tr>\n",
       "  </thead>\n",
       "  <tbody>\n",
       "    <tr>\n",
       "      <th>Diabetes</th>\n",
       "      <td>343.0</td>\n",
       "      <td>0.469388</td>\n",
       "      <td>0.840197</td>\n",
       "      <td>0.0</td>\n",
       "      <td>0.0</td>\n",
       "      <td>0.0</td>\n",
       "      <td>0.0</td>\n",
       "      <td>2.0</td>\n",
       "    </tr>\n",
       "    <tr>\n",
       "      <th>HighBP</th>\n",
       "      <td>343.0</td>\n",
       "      <td>0.580175</td>\n",
       "      <td>0.494251</td>\n",
       "      <td>0.0</td>\n",
       "      <td>0.0</td>\n",
       "      <td>1.0</td>\n",
       "      <td>1.0</td>\n",
       "      <td>1.0</td>\n",
       "    </tr>\n",
       "    <tr>\n",
       "      <th>HighChol</th>\n",
       "      <td>343.0</td>\n",
       "      <td>0.565598</td>\n",
       "      <td>0.496402</td>\n",
       "      <td>0.0</td>\n",
       "      <td>0.0</td>\n",
       "      <td>1.0</td>\n",
       "      <td>1.0</td>\n",
       "      <td>1.0</td>\n",
       "    </tr>\n",
       "    <tr>\n",
       "      <th>CholCheck</th>\n",
       "      <td>343.0</td>\n",
       "      <td>0.982507</td>\n",
       "      <td>0.131290</td>\n",
       "      <td>0.0</td>\n",
       "      <td>1.0</td>\n",
       "      <td>1.0</td>\n",
       "      <td>1.0</td>\n",
       "      <td>1.0</td>\n",
       "    </tr>\n",
       "    <tr>\n",
       "      <th>BMI</th>\n",
       "      <td>343.0</td>\n",
       "      <td>28.600583</td>\n",
       "      <td>5.740051</td>\n",
       "      <td>16.0</td>\n",
       "      <td>24.0</td>\n",
       "      <td>28.0</td>\n",
       "      <td>32.0</td>\n",
       "      <td>55.0</td>\n",
       "    </tr>\n",
       "    <tr>\n",
       "      <th>Smoker</th>\n",
       "      <td>343.0</td>\n",
       "      <td>0.527697</td>\n",
       "      <td>0.499962</td>\n",
       "      <td>0.0</td>\n",
       "      <td>0.0</td>\n",
       "      <td>1.0</td>\n",
       "      <td>1.0</td>\n",
       "      <td>1.0</td>\n",
       "    </tr>\n",
       "    <tr>\n",
       "      <th>Stroke</th>\n",
       "      <td>343.0</td>\n",
       "      <td>0.067055</td>\n",
       "      <td>0.250483</td>\n",
       "      <td>0.0</td>\n",
       "      <td>0.0</td>\n",
       "      <td>0.0</td>\n",
       "      <td>0.0</td>\n",
       "      <td>1.0</td>\n",
       "    </tr>\n",
       "    <tr>\n",
       "      <th>HeartDiseaseorAttack</th>\n",
       "      <td>343.0</td>\n",
       "      <td>0.131195</td>\n",
       "      <td>0.338107</td>\n",
       "      <td>0.0</td>\n",
       "      <td>0.0</td>\n",
       "      <td>0.0</td>\n",
       "      <td>0.0</td>\n",
       "      <td>1.0</td>\n",
       "    </tr>\n",
       "    <tr>\n",
       "      <th>PhysActivity</th>\n",
       "      <td>343.0</td>\n",
       "      <td>0.597668</td>\n",
       "      <td>0.491085</td>\n",
       "      <td>0.0</td>\n",
       "      <td>0.0</td>\n",
       "      <td>1.0</td>\n",
       "      <td>1.0</td>\n",
       "      <td>1.0</td>\n",
       "    </tr>\n",
       "    <tr>\n",
       "      <th>Fruits</th>\n",
       "      <td>343.0</td>\n",
       "      <td>0.556851</td>\n",
       "      <td>0.497483</td>\n",
       "      <td>0.0</td>\n",
       "      <td>0.0</td>\n",
       "      <td>1.0</td>\n",
       "      <td>1.0</td>\n",
       "      <td>1.0</td>\n",
       "    </tr>\n",
       "    <tr>\n",
       "      <th>Veggies</th>\n",
       "      <td>343.0</td>\n",
       "      <td>0.758017</td>\n",
       "      <td>0.428909</td>\n",
       "      <td>0.0</td>\n",
       "      <td>1.0</td>\n",
       "      <td>1.0</td>\n",
       "      <td>1.0</td>\n",
       "      <td>1.0</td>\n",
       "    </tr>\n",
       "    <tr>\n",
       "      <th>HvyAlcoholConsump</th>\n",
       "      <td>343.0</td>\n",
       "      <td>0.034985</td>\n",
       "      <td>0.184011</td>\n",
       "      <td>0.0</td>\n",
       "      <td>0.0</td>\n",
       "      <td>0.0</td>\n",
       "      <td>0.0</td>\n",
       "      <td>1.0</td>\n",
       "    </tr>\n",
       "    <tr>\n",
       "      <th>AnyHealthcare</th>\n",
       "      <td>343.0</td>\n",
       "      <td>0.959184</td>\n",
       "      <td>0.198154</td>\n",
       "      <td>0.0</td>\n",
       "      <td>1.0</td>\n",
       "      <td>1.0</td>\n",
       "      <td>1.0</td>\n",
       "      <td>1.0</td>\n",
       "    </tr>\n",
       "    <tr>\n",
       "      <th>NoDocbcCost</th>\n",
       "      <td>343.0</td>\n",
       "      <td>0.093294</td>\n",
       "      <td>0.291270</td>\n",
       "      <td>0.0</td>\n",
       "      <td>0.0</td>\n",
       "      <td>0.0</td>\n",
       "      <td>0.0</td>\n",
       "      <td>1.0</td>\n",
       "    </tr>\n",
       "    <tr>\n",
       "      <th>GenHlth</th>\n",
       "      <td>343.0</td>\n",
       "      <td>2.851312</td>\n",
       "      <td>1.112682</td>\n",
       "      <td>1.0</td>\n",
       "      <td>2.0</td>\n",
       "      <td>3.0</td>\n",
       "      <td>4.0</td>\n",
       "      <td>5.0</td>\n",
       "    </tr>\n",
       "    <tr>\n",
       "      <th>MentHlth</th>\n",
       "      <td>343.0</td>\n",
       "      <td>4.052478</td>\n",
       "      <td>7.971267</td>\n",
       "      <td>0.0</td>\n",
       "      <td>0.0</td>\n",
       "      <td>0.0</td>\n",
       "      <td>4.0</td>\n",
       "      <td>30.0</td>\n",
       "    </tr>\n",
       "    <tr>\n",
       "      <th>PhysHlth</th>\n",
       "      <td>343.0</td>\n",
       "      <td>5.571429</td>\n",
       "      <td>9.699280</td>\n",
       "      <td>0.0</td>\n",
       "      <td>0.0</td>\n",
       "      <td>0.0</td>\n",
       "      <td>6.0</td>\n",
       "      <td>30.0</td>\n",
       "    </tr>\n",
       "    <tr>\n",
       "      <th>DiffWalk</th>\n",
       "      <td>343.0</td>\n",
       "      <td>0.276968</td>\n",
       "      <td>0.448154</td>\n",
       "      <td>0.0</td>\n",
       "      <td>0.0</td>\n",
       "      <td>0.0</td>\n",
       "      <td>1.0</td>\n",
       "      <td>1.0</td>\n",
       "    </tr>\n",
       "    <tr>\n",
       "      <th>Sex</th>\n",
       "      <td>343.0</td>\n",
       "      <td>0.381924</td>\n",
       "      <td>0.486568</td>\n",
       "      <td>0.0</td>\n",
       "      <td>0.0</td>\n",
       "      <td>0.0</td>\n",
       "      <td>1.0</td>\n",
       "      <td>1.0</td>\n",
       "    </tr>\n",
       "    <tr>\n",
       "      <th>Age</th>\n",
       "      <td>343.0</td>\n",
       "      <td>8.930029</td>\n",
       "      <td>2.599101</td>\n",
       "      <td>1.0</td>\n",
       "      <td>7.0</td>\n",
       "      <td>9.0</td>\n",
       "      <td>11.0</td>\n",
       "      <td>13.0</td>\n",
       "    </tr>\n",
       "    <tr>\n",
       "      <th>Education</th>\n",
       "      <td>343.0</td>\n",
       "      <td>4.804665</td>\n",
       "      <td>1.025854</td>\n",
       "      <td>2.0</td>\n",
       "      <td>4.0</td>\n",
       "      <td>5.0</td>\n",
       "      <td>6.0</td>\n",
       "      <td>6.0</td>\n",
       "    </tr>\n",
       "    <tr>\n",
       "      <th>Income</th>\n",
       "      <td>343.0</td>\n",
       "      <td>5.510204</td>\n",
       "      <td>2.194967</td>\n",
       "      <td>1.0</td>\n",
       "      <td>4.0</td>\n",
       "      <td>6.0</td>\n",
       "      <td>8.0</td>\n",
       "      <td>8.0</td>\n",
       "    </tr>\n",
       "  </tbody>\n",
       "</table>\n",
       "</div>"
      ],
      "text/plain": [
       "                      count       mean       std   min   25%   50%   75%   max\n",
       "Diabetes              343.0   0.469388  0.840197   0.0   0.0   0.0   0.0   2.0\n",
       "HighBP                343.0   0.580175  0.494251   0.0   0.0   1.0   1.0   1.0\n",
       "HighChol              343.0   0.565598  0.496402   0.0   0.0   1.0   1.0   1.0\n",
       "CholCheck             343.0   0.982507  0.131290   0.0   1.0   1.0   1.0   1.0\n",
       "BMI                   343.0  28.600583  5.740051  16.0  24.0  28.0  32.0  55.0\n",
       "Smoker                343.0   0.527697  0.499962   0.0   0.0   1.0   1.0   1.0\n",
       "Stroke                343.0   0.067055  0.250483   0.0   0.0   0.0   0.0   1.0\n",
       "HeartDiseaseorAttack  343.0   0.131195  0.338107   0.0   0.0   0.0   0.0   1.0\n",
       "PhysActivity          343.0   0.597668  0.491085   0.0   0.0   1.0   1.0   1.0\n",
       "Fruits                343.0   0.556851  0.497483   0.0   0.0   1.0   1.0   1.0\n",
       "Veggies               343.0   0.758017  0.428909   0.0   1.0   1.0   1.0   1.0\n",
       "HvyAlcoholConsump     343.0   0.034985  0.184011   0.0   0.0   0.0   0.0   1.0\n",
       "AnyHealthcare         343.0   0.959184  0.198154   0.0   1.0   1.0   1.0   1.0\n",
       "NoDocbcCost           343.0   0.093294  0.291270   0.0   0.0   0.0   0.0   1.0\n",
       "GenHlth               343.0   2.851312  1.112682   1.0   2.0   3.0   4.0   5.0\n",
       "MentHlth              343.0   4.052478  7.971267   0.0   0.0   0.0   4.0  30.0\n",
       "PhysHlth              343.0   5.571429  9.699280   0.0   0.0   0.0   6.0  30.0\n",
       "DiffWalk              343.0   0.276968  0.448154   0.0   0.0   0.0   1.0   1.0\n",
       "Sex                   343.0   0.381924  0.486568   0.0   0.0   0.0   1.0   1.0\n",
       "Age                   343.0   8.930029  2.599101   1.0   7.0   9.0  11.0  13.0\n",
       "Education             343.0   4.804665  1.025854   2.0   4.0   5.0   6.0   6.0\n",
       "Income                343.0   5.510204  2.194967   1.0   4.0   6.0   8.0   8.0"
      ]
     },
     "execution_count": 5,
     "metadata": {},
     "output_type": "execute_result"
    }
   ],
   "source": [
    "df.describe().T"
   ]
  },
  {
   "cell_type": "code",
   "execution_count": 6,
   "id": "8b52cea9",
   "metadata": {},
   "outputs": [
    {
     "data": {
      "text/plain": [
       "Diabetes                0\n",
       "HighBP                  0\n",
       "HighChol                0\n",
       "CholCheck               0\n",
       "BMI                     0\n",
       "Smoker                  0\n",
       "Stroke                  0\n",
       "HeartDiseaseorAttack    0\n",
       "PhysActivity            0\n",
       "Fruits                  0\n",
       "Veggies                 0\n",
       "HvyAlcoholConsump       0\n",
       "AnyHealthcare           0\n",
       "NoDocbcCost             0\n",
       "GenHlth                 0\n",
       "MentHlth                0\n",
       "PhysHlth                0\n",
       "DiffWalk                0\n",
       "Sex                     0\n",
       "Age                     0\n",
       "Education               0\n",
       "Income                  0\n",
       "dtype: int64"
      ]
     },
     "execution_count": 6,
     "metadata": {},
     "output_type": "execute_result"
    }
   ],
   "source": [
    "df.isna().sum()"
   ]
  },
  {
   "cell_type": "code",
   "execution_count": 7,
   "id": "e283f96d",
   "metadata": {},
   "outputs": [
    {
     "name": "stdout",
     "output_type": "stream",
     "text": [
      "<class 'pandas.core.frame.DataFrame'>\n",
      "RangeIndex: 343 entries, 0 to 342\n",
      "Data columns (total 22 columns):\n",
      " #   Column                Non-Null Count  Dtype\n",
      "---  ------                --------------  -----\n",
      " 0   Diabetes              343 non-null    int32\n",
      " 1   HighBP                343 non-null    int32\n",
      " 2   HighChol              343 non-null    int32\n",
      " 3   CholCheck             343 non-null    int32\n",
      " 4   BMI                   343 non-null    int32\n",
      " 5   Smoker                343 non-null    int32\n",
      " 6   Stroke                343 non-null    int32\n",
      " 7   HeartDiseaseorAttack  343 non-null    int32\n",
      " 8   PhysActivity          343 non-null    int32\n",
      " 9   Fruits                343 non-null    int32\n",
      " 10  Veggies               343 non-null    int32\n",
      " 11  HvyAlcoholConsump     343 non-null    int32\n",
      " 12  AnyHealthcare         343 non-null    int32\n",
      " 13  NoDocbcCost           343 non-null    int32\n",
      " 14  GenHlth               343 non-null    int32\n",
      " 15  MentHlth              343 non-null    int32\n",
      " 16  PhysHlth              343 non-null    int32\n",
      " 17  DiffWalk              343 non-null    int32\n",
      " 18  Sex                   343 non-null    int32\n",
      " 19  Age                   343 non-null    int32\n",
      " 20  Education             343 non-null    int32\n",
      " 21  Income                343 non-null    int32\n",
      "dtypes: int32(22)\n",
      "memory usage: 29.6 KB\n"
     ]
    }
   ],
   "source": [
    "for c in df.columns:\n",
    "    df[c] = df[c].astype(int)\n",
    "    \n",
    "df.info()"
   ]
  },
  {
   "cell_type": "code",
   "execution_count": 8,
   "id": "0239fc96",
   "metadata": {
    "scrolled": true
   },
   "outputs": [
    {
     "data": {
      "image/png": "[encoded data removed]",
      "text/plain": [
       "<Figure size 432x288 with 1 Axes>"
      ]
     },
     "metadata": {
      "needs_background": "light"
     },
     "output_type": "display_data"
    }
   ],
   "source": [
    "Q = \"Diabetes Test Result\"\n",
    "df0 = df\n",
    "df0[\"Diabetes Test Result\"] = df[\"Diabetes\"]\n",
    "df0[\"Diabetes Test Result\"] = df0[\"Diabetes Test Result\"].replace({ 0 :\"No_Diabetes\", 1:\"Pre_Diabetes\", 2:\"Diabetes\"})\n",
    "\n",
    "df0=df0.sort_values(\"Diabetes\")\n",
    "plt.figure(figsize = (6 , 4))\n",
    "ax = sns.countplot(x=df0[Q], data = df0)\n",
    "plt.title(\"Countplot of Participants' Diabetes\")\n",
    "\n",
    "for i in ax.containers:\n",
    "    ax.bar_label(i,),"
   ]
  },
  {
   "cell_type": "code",
   "execution_count": 9,
   "id": "c1f85114",
   "metadata": {},
   "outputs": [
    {
     "name": "stdout",
     "output_type": "stream",
     "text": [
      "Percent of 'No_Diabetes'' in dataset : 75.8%\n",
      "Percent of 'Diabetes'' in dataset : 22.7%\n",
      "Percent of 'Pre_Diabetes'' in dataset : 1.5%\n"
     ]
    }
   ],
   "source": [
    "Q = \"Diabetes Test Result\"\n",
    "df0 = df\n",
    "df0[\"Diabetes Test Result\"] = df[\"Diabetes\"]\n",
    "df0[\"Diabetes Test Result\"] = df0[\"Diabetes Test Result\"].replace({ 0 :\"No_Diabetes\", 1:\"Pre_Diabetes\", 2:\"Diabetes\"})\n",
    "\n",
    "for r in df0[\"Diabetes Test Result\"].unique():\n",
    "    r_num = len(df0[df0[\"Diabetes Test Result\"]==r])\n",
    "    r_per = round(100* r_num/len(df) , 1 ) \n",
    "    print(\"Percent of '{}'' in dataset : {}%\".format(r, r_per))\n"
   ]
  },
  {
   "cell_type": "code",
   "execution_count": null,
   "id": "f2604e54",
   "metadata": {},
   "outputs": [],
   "source": [
    "df[\"Diabetes\"][df[\"Diabetes\"] == 2] = 1\n",
    "\n",
    "Q = \"Diabetes Test Result\"\n",
    "df0 = df\n",
    "df0[\"Diabetes Test Result\"] = df[\"Diabetes\"]\n",
    "df0[\"Diabetes Test Result\"] = df0[\"Diabetes Test Result\"].replace({ 0 :\"No_Diabetes\", 1:\"Diabetes\"})\n",
    "\n",
    "for r in df0[\"Diabetes Test Result\"].unique():\n",
    "    r_num = len(df0[df0[\"Diabetes Test Result\"]==r])\n",
    "    r_per = round(100* r_num/len(df) , 1 ) \n",
    "    print(\"Percent of '{}'' in dataset : {}%\".format(r, r_per))"
   ]
  },
  {
   "cell_type": "markdown",
   "id": "0b28d35b",
   "metadata": {},
   "source": [
    "### Correlation:\n",
    "The correlation between parameters may result some error in methods, for instance the more correlation between columns reduces the capabilities of *Logistic Regression methods*.  "
   ]
  },
  {
   "cell_type": "code",
   "execution_count": null,
   "id": "140de9ce",
   "metadata": {},
   "outputs": [],
   "source": [
    "plt.figure(figsize = (16,16))\n",
    "sns.heatmap(df.corr(),annot=True)\n",
    "plt.title(\"correlation of feature\")"
   ]
  },
  {
   "cell_type": "markdown",
   "id": "308fcffd",
   "metadata": {},
   "source": [
    "**Note**: There are some correlation between columns and this sent a message about the using Logistic Regression method.\n",
    "<br>\n",
    "<br>**The Correlation with Diabetes:**"
   ]
  },
  {
   "cell_type": "code",
   "execution_count": null,
   "id": "129daeaa",
   "metadata": {},
   "outputs": [],
   "source": [
    "df.drop('Diabetes', axis=1).corrwith(df.Diabetes).sort_values(ascending=False).plot(kind='bar', grid=True, figsize=(12, 4)\n",
    ", title=\"Correlation with Diabetes\");\n",
    "#df.drop('Diabetes', axis=1).corrwith(df.Diabetes).sort_values(ascending=False)"
   ]
  },
  {
   "cell_type": "markdown",
   "id": "aea3c47e",
   "metadata": {},
   "source": [
    "## Regression Models"
   ]
  },
  {
   "cell_type": "code",
   "execution_count": null,
   "id": "e287bc9b",
   "metadata": {},
   "outputs": [],
   "source": [
    "y = df[\"Diabetes\"]\n",
    "X =  df.drop([\"Diabetes\", \"Diabetes Test Result\"],axis=1)"
   ]
  },
  {
   "cell_type": "markdown",
   "id": "595aa705",
   "metadata": {},
   "source": [
    "### Spliting Dataset to Train, Cross Validation and Test"
   ]
  },
  {
   "cell_type": "code",
   "execution_count": null,
   "id": "36d1179e",
   "metadata": {},
   "outputs": [],
   "source": [
    "X_train, X_test_cv, y_train, y_test_cv = train_test_split(X, y, test_size=0.4, random_state=42)    \n",
    "X_test, X_cv, y_test, y_cv = train_test_split(X_test_cv, y_test_cv , test_size=0.5)"
   ]
  },
  {
   "cell_type": "code",
   "execution_count": null,
   "id": "c957cd75",
   "metadata": {},
   "outputs": [],
   "source": [
    "for data in [X_train, y_train, X_test, X_cv, y_test, y_cv ]:\n",
    "    print(\"shape : {}\".format(data.shape))"
   ]
  },
  {
   "cell_type": "markdown",
   "id": "2776209e",
   "metadata": {},
   "source": [
    "### Logistic Regression"
   ]
  },
  {
   "cell_type": "code",
   "execution_count": null,
   "id": "f7a7b2b5",
   "metadata": {},
   "outputs": [],
   "source": [
    "Logistic = LogisticRegression(solver='newton-cg', max_iter=1000)"
   ]
  },
  {
   "cell_type": "code",
   "execution_count": null,
   "id": "4143fc9f",
   "metadata": {},
   "outputs": [],
   "source": [
    "Logistic.fit(X_train , y_train)"
   ]
  },
  {
   "cell_type": "code",
   "execution_count": null,
   "id": "ad5f6af2",
   "metadata": {
    "scrolled": true
   },
   "outputs": [],
   "source": [
    "print('Accuracy of Logistic model on Train: {:.5f}'.format(Logistic.score(X_train, y_train)))\n",
    "print(\"Accuracy of Logistic model on Cross Validation: {0:.5f}\".format(Logistic.score(X_cv, y_cv)))\n",
    "print('Accuracy of Logistic model on Test: {:.5f}'.format(Logistic.score(X_test, y_test)))"
   ]
  },
  {
   "cell_type": "markdown",
   "id": "e5357267",
   "metadata": {},
   "source": [
    "**Note**: The accuaracies for Train and Cross Validation is near, Although accuracy is almost universally inappropriate for imbalanced classification.\n",
    "The reason is, a high accuracy (or low error) is achievable by a no skill model that only predicts the majority class.\n",
    "<br>\n",
    "<br>**Precision and Recall Metrics**\n",
    "<br>**Precision**\n",
    "<br>Precision = TruePositive / (TruePositive + FalsePositive)\n",
    "<br><br>**Recall**\n",
    "<br>Recall = TruePositive / (TruePositive + FalseNegative)\n",
    "<br><br>Precision and recall can be combined into a single score that seeks to balance both concerns, <br>**F-score**\n",
    "<br>F-score = (2 * Precision * Recall) / (Precision + Recall)\n",
    "<br>The F-score is a popular metric for imbalanced classification."
   ]
  },
  {
   "cell_type": "code",
   "execution_count": null,
   "id": "71df25d2",
   "metadata": {},
   "outputs": [],
   "source": [
    "# make predictions on Train set\n",
    "y_train_pred = Logistic.predict(X_train)"
   ]
  },
  {
   "cell_type": "code",
   "execution_count": null,
   "id": "cf3ad70e",
   "metadata": {},
   "outputs": [],
   "source": [
    "plot_confusion_matrix(Logistic,X_train,y_train)"
   ]
  },
  {
   "cell_type": "code",
   "execution_count": null,
   "id": "70780850",
   "metadata": {
    "scrolled": true
   },
   "outputs": [],
   "source": [
    "print(classification_report(y_train, y_train_pred))"
   ]
  },
  {
   "cell_type": "code",
   "execution_count": null,
   "id": "01bd1097",
   "metadata": {},
   "outputs": [],
   "source": [
    "# make predictions on cross validation set\n",
    "y_cv_pred = Logistic.predict(X_cv)"
   ]
  },
  {
   "cell_type": "code",
   "execution_count": null,
   "id": "e18dd984",
   "metadata": {},
   "outputs": [],
   "source": [
    "plot_confusion_matrix(Logistic,X_cv,y_cv)"
   ]
  },
  {
   "cell_type": "code",
   "execution_count": null,
   "id": "a6508cf5",
   "metadata": {},
   "outputs": [],
   "source": [
    "print(classification_report(y_cv, y_cv_pred))"
   ]
  },
  {
   "cell_type": "code",
   "execution_count": null,
   "id": "f22b73d5",
   "metadata": {},
   "outputs": [],
   "source": [
    "# make predictions on Test set\n",
    "y_test_pred = Logistic.predict(X_test)"
   ]
  },
  {
   "cell_type": "code",
   "execution_count": null,
   "id": "a757250a",
   "metadata": {},
   "outputs": [],
   "source": [
    "plot_confusion_matrix(Logistic, X_test, y_test)"
   ]
  },
  {
   "cell_type": "code",
   "execution_count": null,
   "id": "fa396872",
   "metadata": {},
   "outputs": [],
   "source": [
    "print(classification_report(y_test, y_test_pred))"
   ]
  },
  {
   "cell_type": "markdown",
   "id": "fddd4bf3",
   "metadata": {},
   "source": [
    "**Conclusion for Logistic model:** <br>Here now we have a Logistic Model and accept this as the final model for this method. <br>Undoutedly there are some weak points for logistic method, the more bold of them here is: <br>*The performance of Logistic model reduces by increasing correlation between columns (what is senseable in correlation heatmap plot)*"
   ]
  },
  {
   "cell_type": "markdown",
   "id": "28eac75d",
   "metadata": {},
   "source": [
    "#### Feature Importance of Logistic model"
   ]
  },
  {
   "cell_type": "code",
   "execution_count": null,
   "id": "edeca400",
   "metadata": {},
   "outputs": [],
   "source": [
    "importances = pd.DataFrame(data={\n",
    "    'Feature': X_train.columns,\n",
    "    'Importance': Logistic.coef_[0]\n",
    "})\n",
    "importances = importances.sort_values(by='Importance', ascending=False)\n",
    "\n",
    "fig = px.bar(importances, x=\"Feature\", y=\"Importance\", text_auto=True)\n",
    "fig.update_layout(barmode='relative', title_text='importances of features obtained from Logistic model (Predicting Diabetes)')\n",
    "fig.show()"
   ]
  },
  {
   "cell_type": "code",
   "execution_count": null,
   "id": "1d20c10a",
   "metadata": {},
   "outputs": [],
   "source": [
    "df.columns"
   ]
  },
  {
   "cell_type": "code",
   "execution_count": null,
   "id": "a1676f61",
   "metadata": {},
   "outputs": [],
   "source": [
    "HighBP = int(input(print(\"What's your HighBP?\")))"
   ]
  },
  {
   "cell_type": "code",
   "execution_count": null,
   "id": "d1d82a9a",
   "metadata": {},
   "outputs": [],
   "source": [
    "HighBP"
   ]
  },
  {
   "cell_type": "code",
   "execution_count": null,
   "id": "46fc939f",
   "metadata": {},
   "outputs": [],
   "source": [
    "HighChol = int(input(print(\"What's your HighChol?\")))"
   ]
  },
  {
   "cell_type": "code",
   "execution_count": null,
   "id": "395d3fc6",
   "metadata": {},
   "outputs": [],
   "source": [
    "HighChol"
   ]
  },
  {
   "cell_type": "code",
   "execution_count": null,
   "id": "5850aa8c",
   "metadata": {},
   "outputs": [],
   "source": [
    "CholCheck = int(input(print(\"What's your CholCheck?\")))"
   ]
  },
  {
   "cell_type": "code",
   "execution_count": null,
   "id": "b6204537",
   "metadata": {},
   "outputs": [],
   "source": [
    "CholCheck"
   ]
  },
  {
   "cell_type": "code",
   "execution_count": null,
   "id": "6a067b84",
   "metadata": {},
   "outputs": [],
   "source": [
    "BMI = int(input(print(\"What's your BMI?\")))"
   ]
  },
  {
   "cell_type": "code",
   "execution_count": null,
   "id": "2f1d261c",
   "metadata": {},
   "outputs": [],
   "source": [
    "BMI"
   ]
  },
  {
   "cell_type": "code",
   "execution_count": null,
   "id": "b81bab6c",
   "metadata": {},
   "outputs": [],
   "source": [
    "Smoker = int(input(print(\"What's your Smoker?\")))"
   ]
  },
  {
   "cell_type": "code",
   "execution_count": null,
   "id": "1a557f15",
   "metadata": {},
   "outputs": [],
   "source": [
    "Smoker"
   ]
  },
  {
   "cell_type": "code",
   "execution_count": null,
   "id": "95e1916d",
   "metadata": {},
   "outputs": [],
   "source": [
    "Stroke = input(print(\"What's your Stroke?\"))"
   ]
  },
  {
   "cell_type": "code",
   "execution_count": null,
   "id": "e857b12f",
   "metadata": {},
   "outputs": [],
   "source": [
    "Stroke"
   ]
  },
  {
   "cell_type": "code",
   "execution_count": null,
   "id": "7762d60c",
   "metadata": {},
   "outputs": [],
   "source": [
    "HeartDiseaseorAttack = input(print(\"What's your HeartDiseaseorAttack?\"))"
   ]
  },
  {
   "cell_type": "code",
   "execution_count": null,
   "id": "22b43bfe",
   "metadata": {},
   "outputs": [],
   "source": [
    "HeartDiseaseorAttack"
   ]
  },
  {
   "cell_type": "code",
   "execution_count": null,
   "id": "7dba7434",
   "metadata": {},
   "outputs": [],
   "source": [
    "PhysActivity = input(print(\"What's your PhysActivity?\"))"
   ]
  },
  {
   "cell_type": "code",
   "execution_count": null,
   "id": "b7a8601b",
   "metadata": {},
   "outputs": [],
   "source": [
    "PhysActivity"
   ]
  },
  {
   "cell_type": "code",
   "execution_count": null,
   "id": "6f0ff641",
   "metadata": {},
   "outputs": [],
   "source": [
    "Fruits = input(print(\"What's your Fruits?\"))"
   ]
  },
  {
   "cell_type": "code",
   "execution_count": null,
   "id": "996de57f",
   "metadata": {},
   "outputs": [],
   "source": [
    "Fruits"
   ]
  },
  {
   "cell_type": "code",
   "execution_count": null,
   "id": "4095f488",
   "metadata": {},
   "outputs": [],
   "source": [
    "Veggies = input(print(\"What's your Veggies?\"))"
   ]
  },
  {
   "cell_type": "code",
   "execution_count": null,
   "id": "a328478c",
   "metadata": {},
   "outputs": [],
   "source": [
    "Veggies"
   ]
  },
  {
   "cell_type": "code",
   "execution_count": null,
   "id": "28e9b3d5",
   "metadata": {},
   "outputs": [],
   "source": [
    "HvyAlcoholConsump = input(print(\"What's your HvyAlcoholConsump?\"))"
   ]
  },
  {
   "cell_type": "code",
   "execution_count": null,
   "id": "4048835b",
   "metadata": {},
   "outputs": [],
   "source": [
    "HvyAlcoholConsump"
   ]
  },
  {
   "cell_type": "code",
   "execution_count": null,
   "id": "a8ecf827",
   "metadata": {},
   "outputs": [],
   "source": [
    "AnyHealthcare = input(print(\"What's your AnyHealthcare?\"))"
   ]
  },
  {
   "cell_type": "code",
   "execution_count": null,
   "id": "4fbd1540",
   "metadata": {},
   "outputs": [],
   "source": [
    "AnyHealthcare"
   ]
  },
  {
   "cell_type": "code",
   "execution_count": null,
   "id": "0f9a6239",
   "metadata": {},
   "outputs": [],
   "source": [
    "NoDocbcCost = input(print(\"What's your NoDocbcCost?\"))"
   ]
  },
  {
   "cell_type": "code",
   "execution_count": null,
   "id": "da06c8aa",
   "metadata": {},
   "outputs": [],
   "source": [
    "NoDocbcCost"
   ]
  },
  {
   "cell_type": "code",
   "execution_count": null,
   "id": "d5f76868",
   "metadata": {},
   "outputs": [],
   "source": [
    "GenHlth = input(print(\"What's your GenHlth?\"))"
   ]
  },
  {
   "cell_type": "code",
   "execution_count": null,
   "id": "54a45b82",
   "metadata": {},
   "outputs": [],
   "source": [
    "GenHlth"
   ]
  },
  {
   "cell_type": "code",
   "execution_count": null,
   "id": "20b0b5ab",
   "metadata": {},
   "outputs": [],
   "source": [
    "MentHlth = input(print(\"What's your MentHlth?\"))"
   ]
  },
  {
   "cell_type": "code",
   "execution_count": null,
   "id": "32e0f4b2",
   "metadata": {},
   "outputs": [],
   "source": [
    "MentHlth"
   ]
  },
  {
   "cell_type": "code",
   "execution_count": null,
   "id": "52c8c037",
   "metadata": {},
   "outputs": [],
   "source": [
    "PhysHlth = input(print(\"What's your PhysHlth?\"))"
   ]
  },
  {
   "cell_type": "code",
   "execution_count": null,
   "id": "f193d4a6",
   "metadata": {},
   "outputs": [],
   "source": [
    "PhysHlth"
   ]
  },
  {
   "cell_type": "code",
   "execution_count": null,
   "id": "63e29b82",
   "metadata": {},
   "outputs": [],
   "source": [
    "DiffWalk = input(print(\"What's your DiffWalk?\"))"
   ]
  },
  {
   "cell_type": "code",
   "execution_count": null,
   "id": "82493f56",
   "metadata": {},
   "outputs": [],
   "source": [
    "DiffWalk"
   ]
  },
  {
   "cell_type": "code",
   "execution_count": null,
   "id": "14be9ea6",
   "metadata": {},
   "outputs": [],
   "source": [
    "Sex = input(print(\"What's your Sex?\"))"
   ]
  },
  {
   "cell_type": "code",
   "execution_count": null,
   "id": "5d222aab",
   "metadata": {},
   "outputs": [],
   "source": [
    "Sex"
   ]
  },
  {
   "cell_type": "code",
   "execution_count": null,
   "id": "c233028a",
   "metadata": {},
   "outputs": [],
   "source": [
    "Age = input(print(\"What's your Age?\"))"
   ]
  },
  {
   "cell_type": "code",
   "execution_count": null,
   "id": "4212a78d",
   "metadata": {},
   "outputs": [],
   "source": [
    "Age"
   ]
  },
  {
   "cell_type": "code",
   "execution_count": null,
   "id": "566d95b2",
   "metadata": {},
   "outputs": [],
   "source": [
    "Education = input(print(\"What's your Education?\"))"
   ]
  },
  {
   "cell_type": "code",
   "execution_count": null,
   "id": "e0ee9b16",
   "metadata": {},
   "outputs": [],
   "source": [
    "Education"
   ]
  },
  {
   "cell_type": "code",
   "execution_count": null,
   "id": "9f06ae55",
   "metadata": {},
   "outputs": [],
   "source": [
    "Income = input(print(\"What's your Income?\"))"
   ]
  },
  {
   "cell_type": "code",
   "execution_count": null,
   "id": "0b0c7ab7",
   "metadata": {},
   "outputs": [],
   "source": [
    "Income"
   ]
  },
  {
   "cell_type": "code",
   "execution_count": null,
   "id": "cf76d97b",
   "metadata": {},
   "outputs": [],
   "source": [
    "Diabetes = input(print(\"What's your Diabetes?\"))"
   ]
  },
  {
   "cell_type": "code",
   "execution_count": null,
   "id": "34ea840b",
   "metadata": {},
   "outputs": [],
   "source": [
    "Diabetes"
   ]
  },
  {
   "cell_type": "code",
   "execution_count": null,
   "id": "957e1a3b",
   "metadata": {},
   "outputs": [],
   "source": [
    "df.columns"
   ]
  },
  {
   "cell_type": "code",
   "execution_count": null,
   "id": "6d5faec1",
   "metadata": {},
   "outputs": [],
   "source": [
    "df0 = df[df[\"HighBP\"]==0] \n",
    "df1 = df[df[\"HighChol\"]==1] \n",
    "df2 = df[df[\"CholCheck\"]==2] \n",
    "df3 = df[df[\"BMI\"]==3] \n",
    "df4 = df[df[\"Smoker\"]==4] \n",
    "df5 = df[df[\"Stroke\"]==5] \n",
    "df6 = df[df[\"HeartDiseaseorAttack\"]==6] \n",
    "df7 = df[df[\"PhysActivity\"]==7] \n",
    "df8 = df[df[\"Fruits\"]==8] \n",
    "df9 = df[df[\"Veggies\"]==9] \n",
    "df10 = df[df[\"HvyAlcoholConsump\"]==10] \n",
    "df11 = df[df[\"AnyHealthcare\"]==11] \n",
    "df12 = df[df[\"NoDocbcCost\"]==12] \n",
    "df13 = df[df[\"GenHlth\"]==13] \n",
    "df14 = df[df[\"MentHlth\"]==14] \n",
    "df15 = df[df[\"PhysHlth\"]==15] \n",
    "df16 = df[df[\"DiffWalk\"]==16] \n",
    "df17 = df[df[\"Sex\"]==17] \n",
    "df18 = df[df[\"Age\"]==18] \n",
    "df19 = df[df[\"Education\"]==19] \n",
    "df20 = df[df[\"Income\"]==20] \n",
    "df21 = df[df[\"Diabetes\"]==21]\n",
    "\n",
    "len(df21)"
   ]
  },
  {
   "cell_type": "code",
   "execution_count": null,
   "id": "598c42b0",
   "metadata": {},
   "outputs": [],
   "source": []
  }
 ],
 "metadata": {
  "kernelspec": {
   "display_name": "Python 3 (ipykernel)",
   "language": "python",
   "name": "python3"
  },
  "language_info": {
   "codemirror_mode": {
    "name": "ipython",
    "version": 3
   },
   "file_extension": ".py",
   "mimetype": "text/x-python",
   "name": "python",
   "nbconvert_exporter": "python",
   "pygments_lexer": "ipython3",
   "version": "3.9.7"
  }
 },
 "nbformat": 4,
 "nbformat_minor": 5
}

{
 "cells": [
  {
   "cell_type": "code",
   "execution_count": null,
   "id": "c9b23117",
   "metadata": {},
   "outputs": [],
   "source": [
    "import pandas as pd\n",
    "\n",
    "import seaborn as sns\n",
    "import matplotlib.pyplot as plt\n",
    "\n",
    "import warnings\n",
    "warnings.filterwarnings('ignore')\n",
    "\n",
    "\n",
    "# Regression Methods\n",
    "from sklearn.model_selection import train_test_split\n",
    "from sklearn.preprocessing import StandardScaler\n",
    "\n",
    "# Logistic Regression\n",
    "from sklearn.linear_model import LogisticRegression\n",
    "from sklearn.metrics import accuracy_score, confusion_matrix, roc_auc_score, ConfusionMatrixDisplay, precision_score, recall_score, f1_score, classification_report, roc_curve, plot_roc_curve, auc, precision_recall_curve, plot_precision_recall_curve, average_precision_score\n",
    "from sklearn.metrics import precision_recall_curve,plot_precision_recall_curve,plot_roc_curve\n",
    "from sklearn.metrics import plot_confusion_matrix\n",
    "import plotly.express as px\n",
    "from sklearn.metrics import mean_squared_error"
   ]
  },
  {
   "cell_type": "code",
   "execution_count": null,
   "id": "32ef5149",
   "metadata": {},
   "outputs": [],
   "source": [
    "df = pd.read_csv(\"diabetes_Sample.csv\")"
   ]
  },
  {
   "cell_type": "code",
   "execution_count": null,
   "id": "3bd471b9",
   "metadata": {
    "scrolled": true
   },
   "outputs": [],
   "source": [
    "print(df.shape)\n",
    "print(df.columns)\n",
    "df.head(1)"
   ]
  },
  {
   "cell_type": "code",
   "execution_count": null,
   "id": "f47f5f6c",
   "metadata": {},
   "outputs": [],
   "source": [
    "df[\"Diabetes\"] = df[\"Diabetes_012\"]\n",
    "df = df[['Diabetes', 'HighBP', 'HighChol', 'CholCheck', 'BMI', 'Smoker',\n",
    "       'Stroke', 'HeartDiseaseorAttack', 'PhysActivity', 'Fruits', 'Veggies',\n",
    "       'HvyAlcoholConsump', 'AnyHealthcare', 'NoDocbcCost', 'GenHlth',\n",
    "       'MentHlth', 'PhysHlth', 'DiffWalk', 'Sex', 'Age', 'Education',\n",
    "       'Income']]"
   ]
  },
  {
   "cell_type": "code",
   "execution_count": null,
   "id": "a2c61828",
   "metadata": {},
   "outputs": [],
   "source": [
    "df.describe().T"
   ]
  },
  {
   "cell_type": "code",
   "execution_count": null,
   "id": "8b52cea9",
   "metadata": {},
   "outputs": [],
   "source": [
    "df.isna().sum()"
   ]
  },
  {
   "cell_type": "code",
   "execution_count": null,
   "id": "e283f96d",
   "metadata": {},
   "outputs": [],
   "source": [
    "for c in df.columns:\n",
    "    df[c] = df[c].astype(int)\n",
    "    \n",
    "df.info()"
   ]
  },
  {
   "cell_type": "code",
   "execution_count": null,
   "id": "0239fc96",
   "metadata": {
    "scrolled": true
   },
   "outputs": [],
   "source": [
    "Q = \"Diabetes Test Result\"\n",
    "df0 = df\n",
    "df0[\"Diabetes Test Result\"] = df[\"Diabetes\"]\n",
    "df0[\"Diabetes Test Result\"] = df0[\"Diabetes Test Result\"].replace({ 0 :\"No_Diabetes\", 1:\"Pre_Diabetes\", 2:\"Diabetes\"})\n",
    "\n",
    "df0=df0.sort_values(\"Diabetes\")\n",
    "plt.figure(figsize = (6 , 4))\n",
    "ax = sns.countplot(x=df0[Q], data = df0)\n",
    "plt.title(\"Countplot of Participants' Diabetes\")\n",
    "\n",
    "for i in ax.containers:\n",
    "    ax.bar_label(i,),"
   ]
  },
  {
   "cell_type": "code",
   "execution_count": null,
   "id": "c1f85114",
   "metadata": {},
   "outputs": [],
   "source": [
    "Q = \"Diabetes Test Result\"\n",
    "df0 = df\n",
    "df0[\"Diabetes Test Result\"] = df[\"Diabetes\"]\n",
    "df0[\"Diabetes Test Result\"] = df0[\"Diabetes Test Result\"].replace({ 0 :\"No_Diabetes\", 1:\"Pre_Diabetes\", 2:\"Diabetes\"})\n",
    "\n",
    "for r in df0[\"Diabetes Test Result\"].unique():\n",
    "    r_num = len(df0[df0[\"Diabetes Test Result\"]==r])\n",
    "    r_per = round(100* r_num/len(df) , 1 ) \n",
    "    print(\"Percent of '{}'' in dataset : {}%\".format(r, r_per))\n"
   ]
  },
  {
   "cell_type": "code",
   "execution_count": null,
   "id": "f2604e54",
   "metadata": {},
   "outputs": [],
   "source": [
    "df[\"Diabetes\"][df[\"Diabetes\"] == 2] = 1\n",
    "\n",
    "Q = \"Diabetes Test Result\"\n",
    "df0 = df\n",
    "df0[\"Diabetes Test Result\"] = df[\"Diabetes\"]\n",
    "df0[\"Diabetes Test Result\"] = df0[\"Diabetes Test Result\"].replace({ 0 :\"No_Diabetes\", 1:\"Diabetes\"})\n",
    "\n",
    "for r in df0[\"Diabetes Test Result\"].unique():\n",
    "    r_num = len(df0[df0[\"Diabetes Test Result\"]==r])\n",
    "    r_per = round(100* r_num/len(df) , 1 ) \n",
    "    print(\"Percent of '{}'' in dataset : {}%\".format(r, r_per))"
   ]
  },
  {
   "cell_type": "code",
   "execution_count": null,
   "id": "140de9ce",
   "metadata": {},
   "outputs": [],
   "source": [
    "plt.figure(figsize = (16,16))\n",
    "sns.heatmap(df.corr(),annot=True)\n",
    "plt.title(\"correlation of feature\")"
   ]
  },
  {
   "cell_type": "code",
   "execution_count": null,
   "id": "129daeaa",
   "metadata": {},
   "outputs": [],
   "source": [
    "df.drop('Diabetes', axis=1).corrwith(df.Diabetes).sort_values(ascending=False).plot(kind='bar', grid=True, figsize=(12, 4)\n",
    ", title=\"Correlation with Diabetes\");\n",
    "#df.drop('Diabetes', axis=1).corrwith(df.Diabetes).sort_values(ascending=False)"
   ]
  },
  {
   "cell_type": "code",
   "execution_count": null,
   "id": "e287bc9b",
   "metadata": {},
   "outputs": [],
   "source": [
    "y = df[\"Diabetes\"]\n",
    "X =  df.drop([\"Diabetes\", \"Diabetes Test Result\"],axis=1)"
   ]
  },
  {
   "cell_type": "code",
   "execution_count": null,
   "id": "36d1179e",
   "metadata": {},
   "outputs": [],
   "source": [
    "X_train, X_test_cv, y_train, y_test_cv = train_test_split(X, y, test_size=0.4, random_state=42)    \n",
    "X_test, X_cv, y_test, y_cv = train_test_split(X_test_cv, y_test_cv , test_size=0.5)"
   ]
  },
  {
   "cell_type": "code",
   "execution_count": null,
   "id": "c957cd75",
   "metadata": {},
   "outputs": [],
   "source": [
    "for data in [X_train, y_train, X_test, X_cv, y_test, y_cv ]:\n",
    "    print(\"shape : {}\".format(data.shape))"
   ]
  },
  {
   "cell_type": "code",
   "execution_count": null,
   "id": "f7a7b2b5",
   "metadata": {},
   "outputs": [],
   "source": [
    "Logistic = LogisticRegression(solver='newton-cg', max_iter=1000)"
   ]
  },
  {
   "cell_type": "code",
   "execution_count": null,
   "id": "4143fc9f",
   "metadata": {},
   "outputs": [],
   "source": [
    "Logistic.fit(X_train , y_train)"
   ]
  },
  {
   "cell_type": "code",
   "execution_count": null,
   "id": "ad5f6af2",
   "metadata": {
    "scrolled": true
   },
   "outputs": [],
   "source": [
    "print('Accuracy of Logistic model on Train: {:.5f}'.format(Logistic.score(X_train, y_train)))\n",
    "print(\"Accuracy of Logistic model on Cross Validation: {0:.5f}\".format(Logistic.score(X_cv, y_cv)))\n",
    "print('Accuracy of Logistic model on Test: {:.5f}'.format(Logistic.score(X_test, y_test)))"
   ]
  },
  {
   "cell_type": "code",
   "execution_count": null,
   "id": "71df25d2",
   "metadata": {},
   "outputs": [],
   "source": [
    "# make predictions on Train set\n",
    "y_train_pred = Logistic.predict(X_train)"
   ]
  },
  {
   "cell_type": "code",
   "execution_count": null,
   "id": "cf3ad70e",
   "metadata": {},
   "outputs": [],
   "source": [
    "plot_confusion_matrix(Logistic,X_train,y_train)"
   ]
  },
  {
   "cell_type": "code",
   "execution_count": null,
   "id": "70780850",
   "metadata": {
    "scrolled": true
   },
   "outputs": [],
   "source": [
    "print(classification_report(y_train, y_train_pred))"
   ]
  },
  {
   "cell_type": "code",
   "execution_count": null,
   "id": "01bd1097",
   "metadata": {},
   "outputs": [],
   "source": [
    "# make predictions on cross validation set\n",
    "y_cv_pred = Logistic.predict(X_cv)"
   ]
  },
  {
   "cell_type": "code",
   "execution_count": null,
   "id": "e18dd984",
   "metadata": {},
   "outputs": [],
   "source": [
    "plot_confusion_matrix(Logistic,X_cv,y_cv)"
   ]
  },
  {
   "cell_type": "code",
   "execution_count": null,
   "id": "a6508cf5",
   "metadata": {},
   "outputs": [],
   "source": [
    "print(classification_report(y_cv, y_cv_pred))"
   ]
  },
  {
   "cell_type": "code",
   "execution_count": null,
   "id": "f22b73d5",
   "metadata": {},
   "outputs": [],
   "source": [
    "# make predictions on Test set\n",
    "y_test_pred = Logistic.predict(X_test)"
   ]
  },
  {
   "cell_type": "code",
   "execution_count": null,
   "id": "a757250a",
   "metadata": {},
   "outputs": [],
   "source": [
    "plot_confusion_matrix(Logistic, X_test, y_test)"
   ]
  },
  {
   "cell_type": "code",
   "execution_count": null,
   "id": "fa396872",
   "metadata": {},
   "outputs": [],
   "source": [
    "print(classification_report(y_test, y_test_pred))"
   ]
  },
  {
   "cell_type": "code",
   "execution_count": null,
   "id": "edeca400",
   "metadata": {},
   "outputs": [],
   "source": [
    "importances = pd.DataFrame(data={\n",
    "    'Feature': X_train.columns,\n",
    "    'Importance': Logistic.coef_[0]\n",
    "})\n",
    "importances = importances.sort_values(by='Importance', ascending=False)\n",
    "\n",
    "fig = px.bar(importances, x=\"Feature\", y=\"Importance\", text_auto=True)\n",
    "fig.update_layout(barmode='relative', title_text='importances of features obtained from Logistic model (Predicting Diabetes)')\n",
    "fig.show()"
   ]
  },
  {
   "cell_type": "code",
   "execution_count": null,
   "id": "3ed03a3d",
   "metadata": {},
   "outputs": [],
   "source": [
    "\"USA2015\", \"India 2019\""
   ]
  },
  {
   "cell_type": "code",
   "execution_count": null,
   "id": "c712cf72",
   "metadata": {},
   "outputs": [],
   "source": [
    "label = \"IR_from_site\" "
   ]
  },
  {
   "cell_type": "code",
   "execution_count": null,
   "id": "14fac7d7",
   "metadata": {},
   "outputs": [],
   "source": [
    "DATE= "
   ]
  },
  {
   "cell_type": "code",
   "execution_count": null,
   "id": "a1676f61",
   "metadata": {},
   "outputs": [],
   "source": [
    "HighBP = input(print(\"Do you have High Blood Pressure? (Yes/No)\"))\n",
    "\n",
    "HighBP =  list(HighBP)[0].lower()\n",
    "if HighBP != \"y\" and \"yes\" and \"n\" and \"no\":\n",
    "    print(\"Wrong value! please enter yes or no\")\n",
    "    HighBP = input(print(\"Do you have High Blood Pressure? (Yes/No)\"))\n",
    "if HighBP != \"y\" and \"yes\" and \"n\" and \"no\":\n",
    "    print(\"Wrong value! please check!!!\")\n",
    "    HighBP = input(print(\"Do you have High Blood Pressure? (Please ENTER Yes/No)\"))\n",
    "elif HighBP == \"y\":\n",
    "    HighBP = 1\n",
    "else:\n",
    "    HighBP =0"
   ]
  },
  {
   "cell_type": "code",
   "execution_count": null,
   "id": "bc6dab73",
   "metadata": {},
   "outputs": [],
   "source": [
    "HighBP"
   ]
  },
  {
   "cell_type": "code",
   "execution_count": null,
   "id": "c3ad81a9",
   "metadata": {},
   "outputs": [],
   "source": [
    "HighChol = input(print(\"Do you have High Blood cholesterol ? (Yes/No)\"))\n",
    "\n",
    "HighChol =  list(HighChol)[0].lower()\n",
    "if HighChol != \"y\" and \"yes\" and \"n\" and \"no\":\n",
    "    print(\"Wrong value! please enter yes or no\")\n",
    "    HighChol = input(print(\"Do you have High Blood cholesterol ? (Yes/No)\"))\n",
    "if HighChol != \"y\" and \"yes\" and \"n\" and \"no\":\n",
    "    print(\"Wrong value! please check!!!\")\n",
    "    HighChol = input(print(\"Do you have High Blood cholesterol ? (Please ENTER Yes/No)\"))\n",
    "elif HighChol == \"y\":\n",
    "    HighChol = 1\n",
    "else:\n",
    "    HighChol =0"
   ]
  },
  {
   "cell_type": "code",
   "execution_count": null,
   "id": "ec82a7d8",
   "metadata": {},
   "outputs": [],
   "source": [
    "HighChol"
   ]
  },
  {
   "cell_type": "code",
   "execution_count": null,
   "id": "005ba57c",
   "metadata": {},
   "outputs": [],
   "source": [
    "CholCheck = input(print(\"Do you check within  Cholesterol past five years? (Yes/No)\"))\n",
    "\n",
    "CholCheck =  list(CholCheck)[0].lower()\n",
    "if CholCheck != \"y\" and \"yes\" and \"n\" and \"no\":\n",
    "    print(\"Wrong value! please enter yes or no\")\n",
    "    CholCheck = input(print(\"Do you check within  Cholesterol past five years? (Yes/No)\"))\n",
    "if CholCheck != \"y\" and \"yes\" and \"n\" and \"no\":\n",
    "    print(\"Wrong value! please check!!!\")\n",
    "    CholCheck = input(print(\"Do you check within  Cholesterol past five years? (Please ENTER Yes/No)\"))\n",
    "elif CholCheck == \"y\":\n",
    "    CholCheck = 1\n",
    "else:\n",
    "    CholCheck =0"
   ]
  },
  {
   "cell_type": "code",
   "execution_count": null,
   "id": "6afa1dee",
   "metadata": {},
   "outputs": [],
   "source": [
    "CholCheck"
   ]
  },
  {
   "cell_type": "code",
   "execution_count": null,
   "id": "ab65dcba",
   "metadata": {},
   "outputs": [],
   "source": [
    "BMI = input(print(\"What is your Body Mass Index? (5..100)\"))\n",
    "\n",
    "if (BMI<'5') and (BMI>'100'):\n",
    "    print(\"Wrong value! please enter yes or no\")\n",
    "    BMI = input(print(\"What is your Body Mass Index? (5..100)\"))\n",
    "if (BMI<'5') and (BMI>'100'):\n",
    "    print(\"Wrong value! please check!!!\")\n",
    "    BMI = input(print(\"What is your Body Mass Index? (Please ENTER 5..100)\"))\n",
    "elif (BMI>'5') and (BMI<='100'):\n",
    "    BMI = int(BMI)"
   ]
  },
  {
   "cell_type": "code",
   "execution_count": null,
   "id": "021c0557",
   "metadata": {},
   "outputs": [],
   "source": [
    "BMI"
   ]
  },
  {
   "cell_type": "code",
   "execution_count": null,
   "id": "e252439c",
   "metadata": {},
   "outputs": [],
   "source": [
    "Smoker = input(print(\"Have you smoked at least 100 cigarettes in your entire life? [Note: 5 packs = 100 cigarettes] (Yes/No)\"))\n",
    "\n",
    "Smoker =  list(Smoker)[0].lower()\n",
    "if Smoker != \"y\" and \"yes\" and \"n\" and \"no\":\n",
    "    print(\"Wrong value! please enter yes or no\")\n",
    "    Smoker = input(print(\"Have you smoked at least 100 cigarettes in your entire life? (Yes/No)\"))\n",
    "if Smoker != \"y\" and \"yes\" and \"n\" and \"no\":\n",
    "    print(\"Wrong value! please check!!!\")\n",
    "    Smoker = input(print(\"Have you smoked at least 100 cigarettes in your entire life? (Please ENTER Yes/No)\"))\n",
    "elif Smoker == \"y\":\n",
    "    Smoker = 1\n",
    "else:\n",
    "    Smoker =0"
   ]
  },
  {
   "cell_type": "code",
   "execution_count": null,
   "id": "481e79c5",
   "metadata": {},
   "outputs": [],
   "source": [
    "Smoker"
   ]
  },
  {
   "cell_type": "code",
   "execution_count": null,
   "id": "396d2905",
   "metadata": {},
   "outputs": [],
   "source": [
    "Stroke = input(print(\"you had a stroke? (Yes/No)\"))\n",
    "\n",
    "Stroke =  list(Stroke)[0].lower()\n",
    "if Stroke != \"y\" and \"yes\" and \"n\" and \"no\":\n",
    "    print(\"Wrong value! please enter yes or no\")\n",
    "    Stroke = input(print(\"you had a stroke? (Yes/No)\"))\n",
    "if Stroke != \"y\" and \"yes\" and \"n\" and \"no\":\n",
    "    print(\"Wrong value! please check!!!\")\n",
    "    Stroke = input(print(\"you had a stroke? (Please ENTER Yes/No)\"))\n",
    "elif Stroke == \"y\":\n",
    "    Stroke = 1\n",
    "else:\n",
    "    Stroke =0"
   ]
  },
  {
   "cell_type": "code",
   "execution_count": null,
   "id": "4a52f870",
   "metadata": {},
   "outputs": [],
   "source": [
    "Stroke"
   ]
  },
  {
   "cell_type": "code",
   "execution_count": null,
   "id": "1add4b2e",
   "metadata": {},
   "outputs": [],
   "source": [
    "HeartDiseaseorAttack = input(print(\"Do you have ever coronary heart disease (CHD) or myocardial infarction (MI)? (Yes/No)\"))\n",
    "\n",
    "HeartDiseaseorAttack =  list(HeartDiseaseorAttack)[0].lower()\n",
    "if Stroke != \"y\" and \"yes\" and \"n\" and \"no\":\n",
    "    print(\"Wrong value! please enter yes or no\")\n",
    "    HeartDiseaseorAttack = input(print(\"Do you have ever coronary heart disease (CHD) or myocardial infarction (MI)? (Yes/No)\"))\n",
    "if HeartDiseaseorAttack != \"y\" and \"yes\" and \"n\" and \"no\":\n",
    "    print(\"Wrong value! please check!!!\")\n",
    "    HeartDiseaseorAttack = input(print(\"Do you have ever coronary heart disease (CHD) or myocardial infarction (MI)? (Please ENTER Yes/No)\"))\n",
    "elif HeartDiseaseorAttack == \"y\":\n",
    "    HeartDiseaseorAttack = 1\n",
    "else:\n",
    "    HeartDiseaseorAttack =0"
   ]
  },
  {
   "cell_type": "code",
   "execution_count": null,
   "id": "9863dd72",
   "metadata": {},
   "outputs": [],
   "source": [
    "HeartDiseaseorAttack"
   ]
  },
  {
   "cell_type": "code",
   "execution_count": null,
   "id": "9815fd90",
   "metadata": {},
   "outputs": [],
   "source": [
    "PhysActivity = input(print(\"Are you doing physical activity or exercise during the past 30 days other than their regular job? (Yes/No)\"))\n",
    "\n",
    "PhysActivity =  list(PhysActivity)[0].lower()\n",
    "if PhysActivity != \"y\" and \"yes\" and \"n\" and \"no\":\n",
    "    print(\"Wrong value! please enter yes or no\")\n",
    "    PhysActivity = input(print(\"Are you doing physical activity or exercise during the past 30 days other than their regular job? (Yes/No)\"))\n",
    "if PhysActivity != \"y\" and \"yes\" and \"n\" and \"no\":\n",
    "    print(\"Wrong value! please check!!!\")\n",
    "    PhysActivity = input(print(\"Are you doing physical activity or exercise during the past 30 days other than their regular job? (Please ENTER Yes/No)\"))\n",
    "elif PhysActivity == \"y\":\n",
    "    PhysActivity = 1\n",
    "else:\n",
    "    PhysActivity =0"
   ]
  },
  {
   "cell_type": "code",
   "execution_count": null,
   "id": "ec32ac45",
   "metadata": {},
   "outputs": [],
   "source": [
    "PhysActivity"
   ]
  },
  {
   "cell_type": "code",
   "execution_count": null,
   "id": "dfb85818",
   "metadata": {},
   "outputs": [],
   "source": [
    "Fruits = input(print(\"Consume Fruit 1 or more times per day? (Yes/No)\"))\n",
    "\n",
    "Fruits =  list(Fruits)[0].lower()\n",
    "if Fruits != \"y\" and \"yes\" and \"n\" and \"no\":\n",
    "    print(\"Wrong value! please enter yes or no\")\n",
    "    Fruits = input(print(\"Consume Fruit 1 or more times per day? (Yes/No)\"))\n",
    "if Fruits != \"y\" and \"yes\" and \"n\" and \"no\":\n",
    "    print(\"Wrong value! please check!!!\")\n",
    "    Fruits = input(print(\"Consume Fruit 1 or more times per day? (Please ENTER Yes/No)\"))\n",
    "elif Fruits == \"y\":\n",
    "    Fruits = 1\n",
    "else:\n",
    "    Fruits =0"
   ]
  },
  {
   "cell_type": "code",
   "execution_count": null,
   "id": "0a97f926",
   "metadata": {},
   "outputs": [],
   "source": [
    "Fruits"
   ]
  },
  {
   "cell_type": "code",
   "execution_count": null,
   "id": "56d05259",
   "metadata": {},
   "outputs": [],
   "source": [
    "Veggies = input(print(\"Consume Vegetables 1 or more times per day? (Yes/No)\"))\n",
    "\n",
    "Veggies =  list(Veggies)[0].lower()\n",
    "if Veggies != \"y\" and \"yes\" and \"n\" and \"no\":\n",
    "    print(\"Wrong value! please enter yes or no\")\n",
    "    Veggies = input(print(\"Consume Vegetables 1 or more times per day? (Yes/No)\"))\n",
    "if Veggies != \"y\" and \"yes\" and \"n\" and \"no\":\n",
    "    print(\"Wrong value! please check!!!\")\n",
    "    Veggies = input(print(\"Consume Vegetables 1 or more times per day? (Please ENTER Yes/No)\"))\n",
    "elif Veggies == \"y\":\n",
    "    Veggies = 1\n",
    "else:\n",
    "    Veggies =0"
   ]
  },
  {
   "cell_type": "code",
   "execution_count": null,
   "id": "523578df",
   "metadata": {},
   "outputs": [],
   "source": [
    "Veggies"
   ]
  },
  {
   "cell_type": "code",
   "execution_count": null,
   "id": "39822c06",
   "metadata": {},
   "outputs": [],
   "source": [
    "HvyAlcoholConsump = input(print(\"Heavy drinkers_adult men having more than14drinks per week and adult women having more than7drinks per week? (Yes/No)\"))\n",
    "\n",
    "HvyAlcoholConsump =  list(HvyAlcoholConsump)[0].lower()\n",
    "if HvyAlcoholConsump != \"y\" and \"yes\" and \"n\" and \"no\":\n",
    "    print(\"Wrong value! please enter yes or no\")\n",
    "    HvyAlcoholConsump = input(print(\"Heavy drinkers_adult men having more than14drinks per week and adult women having more than7drinks per week? (Yes/No)\"))\n",
    "if HvyAlcoholConsump != \"y\" and \"yes\" and \"n\" and \"no\":\n",
    "    print(\"Wrong value! please check!!!\")\n",
    "    HvyAlcoholConsump = input(print(\"Heavy drinkers_adult men having more than14drinks per week and adult women having more than7drinks per week? (Please ENTER Yes/No)\"))\n",
    "elif HvyAlcoholConsump == \"y\":\n",
    "    HvyAlcoholConsump = 1\n",
    "else:\n",
    "    HvyAlcoholConsump =0"
   ]
  },
  {
   "cell_type": "code",
   "execution_count": null,
   "id": "6fe08ee1",
   "metadata": {},
   "outputs": [],
   "source": [
    "HvyAlcoholConsump"
   ]
  },
  {
   "cell_type": "code",
   "execution_count": null,
   "id": "72f12246",
   "metadata": {},
   "outputs": [],
   "source": [
    "AnyHealthcare = input(print(\"Do you have any kind of health care coverage, including health insurance, prepaid plans such as HMOs, or government plans such as Medicare, or Indian Health Service? (Yes/No)\"))\n",
    "\n",
    "AnyHealthcare =  list(AnyHealthcare)[0].lower()\n",
    "if AnyHealthcare != \"y\" and \"yes\" and \"n\" and \"no\":\n",
    "    print(\"Wrong value! please enter yes or no\")\n",
    "    AnyHealthcare = input(print(\"Do you have any kind of health care coverage, including health insurance, prepaid plans such as HMOs, or government plans such as Medicare, or Indian Health Service? (Yes/No)\"))\n",
    "if AnyHealthcare != \"y\" and \"yes\" and \"n\" and \"no\":\n",
    "    print(\"Wrong value! please check!!!\")\n",
    "    AnyHealthcare = input(print(\"Do you have any kind of health care coverage, including health insurance, prepaid plans such as HMOs, or government plans such as Medicare, or Indian Health Service? (Please ENTER Yes/No)\"))\n",
    "elif AnyHealthcare == \"y\":\n",
    "    AnyHealthcare = 1\n",
    "else:\n",
    "    AnyHealthcare =0"
   ]
  },
  {
   "cell_type": "code",
   "execution_count": null,
   "id": "bf4eff16",
   "metadata": {},
   "outputs": [],
   "source": [
    "AnyHealthcare"
   ]
  },
  {
   "cell_type": "code",
   "execution_count": null,
   "id": "0720fc8d",
   "metadata": {},
   "outputs": [],
   "source": [
    "NoDocbcCost = input(print(\"Was there a time in the past 12 months when you needed to see a doctor but could not because of cost? (Yes/No)\"))\n",
    "\n",
    "NoDocbcCost =  list(NoDocbcCost)[0].lower()\n",
    "if NoDocbcCost != \"y\" and \"yes\" and \"n\" and \"no\":\n",
    "    print(\"Wrong value! please enter yes or no\")\n",
    "    NoDocbcCost = input(print(\"Was there a time in the past 12 months when you needed to see a doctor but could not because of cost? (Yes/No)\"))\n",
    "if NoDocbcCost != \"y\" and \"yes\" and \"n\" and \"no\":\n",
    "    print(\"Wrong value! please check!!!\")\n",
    "    NoDocbcCost = input(print(\"Was there a time in the past 12 months when you needed to see a doctor but could not because of cost? (Please ENTER Yes/No)\"))\n",
    "elif NoDocbcCost == \"y\":\n",
    "    NoDocbcCost = 1\n",
    "else:\n",
    "    NoDocbcCost =0"
   ]
  },
  {
   "cell_type": "code",
   "execution_count": null,
   "id": "ee15bac9",
   "metadata": {},
   "outputs": [],
   "source": [
    "NoDocbcCost"
   ]
  },
  {
   "cell_type": "code",
   "execution_count": null,
   "id": "a0f24bc3",
   "metadata": {},
   "outputs": [],
   "source": [
    "GenHlth = input(print(\" Would you say that in general your health is: rate (LOW:1 ~ HIGH:5)? (1..5)\"))\n",
    "\n",
    "if (GenHlth<'1') and (GenHlth>'5'):\n",
    "    print(\"Wrong value! please enter yes or no\")\n",
    "    GenHlth = input(print(\" Would you say that in general your health is: rate (LOW:1 ~ HIGH:5)? (1..5)\"))\n",
    "if (GenHlth<'1') and (GenHlth>'5'):\n",
    "    print(\"Wrong value! please check!!!\")\n",
    "    GenHlth = input(print(\" Would you say that in general your health is: rate (LOW:1 ~ HIGH:5)? (Please ENTER 1..5)\"))\n",
    "elif (GenHlth>'1') and (GenHlth<='5'):\n",
    "    GenHlth = int(GenHlth)"
   ]
  },
  {
   "cell_type": "code",
   "execution_count": null,
   "id": "295a2433",
   "metadata": {},
   "outputs": [],
   "source": [
    "GenHlth"
   ]
  },
  {
   "cell_type": "code",
   "execution_count": null,
   "id": "14315306",
   "metadata": {},
   "outputs": [],
   "source": [
    "MentHlth = input(print(\"Now thinking about your mental health, which includes stress, depression, and problems with emotions, for how many days during the past 30 days was your mental health not good? (LOW:0 ~ HIGH:30)? (0..30)\"))\n",
    "\n",
    "if (MentHlth<'0') and (MentHlth>'30'):\n",
    "    print(\"Wrong value! please enter yes or no\")\n",
    "    MentHlth = input(print(\"Now thinking about your mental health, which includes stress, depression, and problems with emotions, for how many days during the past 30 days was your mental health not good? (0LOW:0 ~ HIGH:30)? (0..30)\"))\n",
    "if (MentHlth<'0') and (MentHlth>'30'):\n",
    "    print(\"Wrong value! please check!!!\")\n",
    "    MentHlth = input(print(\"Now thinking about your mental health, which includes stress, depression, and problems with emotions, for how many days during the past 30 days was your mental health not good? (LOW:0 ~ HIGH:30)? (Please ENTER 0..30)\"))\n",
    "elif (MentHlth>'0') and (MentHlth<='30'):\n",
    "    MentHlth = int(MentHlth)"
   ]
  },
  {
   "cell_type": "code",
   "execution_count": null,
   "id": "b1805e2e",
   "metadata": {},
   "outputs": [],
   "source": [
    "MentHlth"
   ]
  },
  {
   "cell_type": "code",
   "execution_count": null,
   "id": "ae65f542",
   "metadata": {},
   "outputs": [],
   "source": [
    "PhysHlth = input(print(\"Now thinking about your physical health, which includes physical illness and injury, for how many days during the past 30 days was your physical health not good? (LOW:0 ~ HIGH:30)? (0..30)\"))\n",
    "\n",
    "if (PhysHlth<'0') and (PhysHlth>'30'):\n",
    "    print(\"Wrong value! please enter yes or no\")\n",
    "    PhysHlth = input(print(\"Now thinking about your physical health, which includes physical illness and injury, for how many days during the past 30 days was your physical health not good? (LOW:0 ~ HIGH:30)? (0..30)\"))\n",
    "if (PhysHlth<'0') and (PhysHlth>'30'):\n",
    "    print(\"Wrong value! please check!!!\")\n",
    "    PhysHlth = input(print(\"Now thinking about your physical health, which includes physical illness and injury, for how many days during the past 30 days was your physical health not good? (LOW:0 ~ HIGH:30)? (Please ENTER 0..30)\"))\n",
    "elif (PhysHlth>'0') and (PhysHlth<='30'):\n",
    "    PhysHlth = int(PhysHlth)"
   ]
  },
  {
   "cell_type": "code",
   "execution_count": null,
   "id": "c78f3d02",
   "metadata": {},
   "outputs": [],
   "source": [
    "PhysHlth"
   ]
  },
  {
   "cell_type": "code",
   "execution_count": null,
   "id": "9a93306b",
   "metadata": {},
   "outputs": [],
   "source": [
    "DiffWalk = input(print(\"Do you have serious difficulty walking or climbing stairs? (Yes/No)\"))\n",
    "\n",
    "DiffWalk =  list(DiffWalk)[0].lower()\n",
    "if DiffWalk != \"y\" and \"yes\" and \"n\" and \"no\":\n",
    "    print(\"Wrong value! please enter yes or no\")\n",
    "    DiffWalk = input(print(\"Do you have serious difficulty walking or climbing stairs? (Yes/No)\"))\n",
    "if DiffWalk != \"y\" and \"yes\" and \"n\" and \"no\":\n",
    "    print(\"Wrong value! please check!!!\")\n",
    "    DiffWalk = input(print(\"Do you have serious difficulty walking or climbing stairs? (Please ENTER Yes/No)\"))\n",
    "elif DiffWalk == \"y\":\n",
    "    DiffWalk = 1\n",
    "else:\n",
    "    DiffWalk =0"
   ]
  },
  {
   "cell_type": "code",
   "execution_count": null,
   "id": "31f7d04e",
   "metadata": {},
   "outputs": [],
   "source": [
    "DiffWalk"
   ]
  },
  {
   "cell_type": "code",
   "execution_count": null,
   "id": "2f8a4df5",
   "metadata": {},
   "outputs": [],
   "source": [
    "Sex = input(print(\"Indicate sex of respondent (Female or Male)? (Female/Male)\"))\n",
    "\n",
    "Sex =  list(Sex)[0].lower()\n",
    "if Sex != \"f\" and \"female\" and \"m\" and \"male\":\n",
    "    print(\"Wrong value! please enter yes or no\")\n",
    "    Sex = input(print(\"Indicate sex of respondent (Female or Male)? (Female/Male)\"))\n",
    "if Sex != \"f\" and \"female\" and \"m\" and \"male\":\n",
    "    print(\"Wrong value! please check!!!\")\n",
    "    Sex = input(print(\"Indicate sex of respondent (Female or Male)? (Please ENTER Female/Male)\"))\n",
    "elif Sex == \"m\":\n",
    "    Sex = 1\n",
    "else:\n",
    "    Sex =0"
   ]
  },
  {
   "cell_type": "code",
   "execution_count": null,
   "id": "f3a32dae",
   "metadata": {},
   "outputs": [],
   "source": [
    "Sex"
   ]
  },
  {
   "cell_type": "code",
   "execution_count": null,
   "id": "1f6216de",
   "metadata": {},
   "outputs": [],
   "source": [
    "Age = input(print(\"Fourteen-level age category (1 ~ 13)['Age'] == 1 => '18 to 24',['Age'] == 2 => '25 to 29',['Age'] == 3 => '30 to 34',['Age'] == 4 => '35 to 39',['Age'] == 5 => '40 to 44',['Age'] == 6 => '45 to 49',['Age'] == 7 => '50 to 54',['Age'] == 8 => '55 to 59',['Age'] == 9 => '60 to 64',['Age'] == 10 => '65 to 69',['Age'] == 11 => '70 to 74',['Age'] == 12 => '75 to 79',['Age'] == 13 => '80 or older'? (1..13)\"))\n",
    "\n",
    "if (Age<'1') and (Age>'13'):\n",
    "    print(\"Wrong value! please enter yes or no\")\n",
    "    Age = input(print(\"Fourteen-level age category (1 ~ 13)? (1..13)\"))\n",
    "if (Age<'1') and (Age>'13'):\n",
    "    print(\"Wrong value! please check!!!\")\n",
    "    Age = input(print(\"Fourteen-level age category (1 ~ 13)? (Please ENTER 1..13)\"))\n",
    "elif (Age>'1') and (Age<='13'):\n",
    "    Age = int(Age)"
   ]
  },
  {
   "cell_type": "code",
   "execution_count": null,
   "id": "006d3a7b",
   "metadata": {},
   "outputs": [],
   "source": [
    "Age"
   ]
  },
  {
   "cell_type": "code",
   "execution_count": null,
   "id": "7fdb0e50",
   "metadata": {},
   "outputs": [],
   "source": [
    "Education = input(print(\"What is the highest grade or year of school you completed? (1 ~ 6)['Education'] == 1 => 'Bi Savad',['Education'] == 2 => 'Sikl,['Education'] == 3 => 'Diplom',['Education'] == 4 => 'Karshenasi',['Education'] == 5 => 'Karshenasi arshad',['Education'] == 6 => 'Doctora'? (1..6)\"))\n",
    "\n",
    "if (Education<'1') and (Education>'6'):\n",
    "    print(\"Wrong value! please enter yes or no\")\n",
    "    Education = input(print(\"What is the highest grade or year of school you completed? (1 ~ 6)? (1..6)\"))\n",
    "if (Education<'1') and (Education>'6'):\n",
    "    print(\"Wrong value! please check!!!\")\n",
    "    Education = input(print(\"What is the highest grade or year of school you completed? (1 ~ 6)? (Please ENTER 1..6)\"))\n",
    "elif (Education>'1') and (Education<='6'):\n",
    "    Education = int(Education)"
   ]
  },
  {
   "cell_type": "code",
   "execution_count": null,
   "id": "9e01edc6",
   "metadata": {},
   "outputs": [],
   "source": [
    "Education"
   ]
  },
  {
   "cell_type": "code",
   "execution_count": null,
   "id": "37ca998c",
   "metadata": {},
   "outputs": [],
   "source": [
    "Income = input(print(\"Is your annual household income from all sources: (If respondent refuses at any income level, code) (1 ~ 8)data2.Income[data2['Income'] == 1] = 'Less Than $10,000'\n",
    ",['Income'] == 2 => 'Less Than 60 milion Toman'\n",
    ",['Income'] == 3 => 'Less Than 60 milion Toman'\n",
    ",['Income'] == 4 => 'Less Than 60 milion Toman'\n",
    ",['Income'] == 5 => 'Less Than $35,000'\n",
    ",['Income'] == 6 => 'Less Than $35,000'\n",
    ",['Income'] == 7 => 'Less Than $35,000'\n",
    ",['Income'] == 8 => '$75,000 or More'? (1..8)\"))\n",
    "\n",
    "if (Income<'5') and (Income>'100'):\n",
    "    print(\"Wrong value! please enter yes or no\")\n",
    "    Income = input(print(\"Is your annual household income from all sources: (If respondent refuses at any income level, code) (1 ~ 8)? (1..8)\"))\n",
    "if (Income<'5') and (Income>'100'):\n",
    "    print(\"Wrong value! please check!!!\")\n",
    "    Income = input(print(\"Is your annual household income from all sources: (If respondent refuses at any income level, code) (1 ~ 8)? (Please ENTER 1..8)\"))\n",
    "elif (Income>'5') and (Income<='100'):\n",
    "    Income = int(Income)"
   ]
  },
  {
   "cell_type": "code",
   "execution_count": null,
   "id": "9ff317a3",
   "metadata": {},
   "outputs": [],
   "source": [
    "Income"
   ]
  },
  {
   "cell_type": "code",
   "execution_count": null,
   "id": "f92ea662",
   "metadata": {},
   "outputs": [],
   "source": []
  }
 ],
 "metadata": {
  "kernelspec": {
   "display_name": "Python 3 (ipykernel)",
   "language": "python",
   "name": "python3"
  },
  "language_info": {
   "codemirror_mode": {
    "name": "ipython",
    "version": 3
   },
   "file_extension": ".py",
   "mimetype": "text/x-python",
   "name": "python",
   "nbconvert_exporter": "python",
   "pygments_lexer": "ipython3",
   "version": "3.9.7"
  }
 },
 "nbformat": 4,
 "nbformat_minor": 5
}

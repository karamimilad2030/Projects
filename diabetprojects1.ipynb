{
 "cells": [
  {
   "cell_type": "markdown",
   "id": "62070393",
   "metadata": {},
   "source": [
    "## Phase1: Predicting Model"
   ]
  },
  {
   "cell_type": "code",
   "execution_count": 13,
   "id": "daee5578",
   "metadata": {
    "id": "rxiu6IA0oSKf"
   },
   "outputs": [],
   "source": [
    "import pandas as pd\n",
    "import lightgbm as lgb\n",
    "from sklearn import metrics\n",
    "import matplotlib.pyplot as plt\n",
    "import numpy as np\n",
    "import seaborn as sns"
   ]
  },
  {
   "cell_type": "code",
   "execution_count": 21,
   "id": "a6e7dd91",
   "metadata": {
    "id": "6ippkhOEp3Dm"
   },
   "outputs": [],
   "source": [
    "data = pd.read_csv('diabetes_012_health_indicators_BRFSS2015.csv')"
   ]
  },
  {
   "cell_type": "code",
   "execution_count": 17,
   "id": "6ffc133e",
   "metadata": {
    "colab": {
     "base_uri": "https://localhost:8080/",
     "height": 488
    },
    "id": "JCCAbGXBrlBe",
    "outputId": "8f1bb2d1-48e2-4532-fc55-fac44f5ce50b",
    "scrolled": true
   },
   "outputs": [
    {
     "data": {
      "text/html": [
       "<div>\n",
       "<style scoped>\n",
       "    .dataframe tbody tr th:only-of-type {\n",
       "        vertical-align: middle;\n",
       "    }\n",
       "\n",
       "    .dataframe tbody tr th {\n",
       "        vertical-align: top;\n",
       "    }\n",
       "\n",
       "    .dataframe thead th {\n",
       "        text-align: right;\n",
       "    }\n",
       "</style>\n",
       "<table border=\"1\" class=\"dataframe\">\n",
       "  <thead>\n",
       "    <tr style=\"text-align: right;\">\n",
       "      <th></th>\n",
       "      <th>Diabetes_012</th>\n",
       "      <th>HighBP</th>\n",
       "      <th>HighChol</th>\n",
       "      <th>CholCheck</th>\n",
       "      <th>BMI</th>\n",
       "      <th>Smoker</th>\n",
       "      <th>Stroke</th>\n",
       "      <th>HeartDiseaseorAttack</th>\n",
       "      <th>PhysActivity</th>\n",
       "      <th>Fruits</th>\n",
       "      <th>...</th>\n",
       "      <th>AnyHealthcare</th>\n",
       "      <th>NoDocbcCost</th>\n",
       "      <th>GenHlth</th>\n",
       "      <th>MentHlth</th>\n",
       "      <th>PhysHlth</th>\n",
       "      <th>DiffWalk</th>\n",
       "      <th>Sex</th>\n",
       "      <th>Age</th>\n",
       "      <th>Education</th>\n",
       "      <th>Income</th>\n",
       "    </tr>\n",
       "  </thead>\n",
       "  <tbody>\n",
       "    <tr>\n",
       "      <th>0</th>\n",
       "      <td>0</td>\n",
       "      <td>1</td>\n",
       "      <td>1</td>\n",
       "      <td>1</td>\n",
       "      <td>40</td>\n",
       "      <td>1</td>\n",
       "      <td>0</td>\n",
       "      <td>0</td>\n",
       "      <td>0</td>\n",
       "      <td>0</td>\n",
       "      <td>...</td>\n",
       "      <td>1</td>\n",
       "      <td>0</td>\n",
       "      <td>5</td>\n",
       "      <td>18</td>\n",
       "      <td>15</td>\n",
       "      <td>1</td>\n",
       "      <td>0</td>\n",
       "      <td>9</td>\n",
       "      <td>4</td>\n",
       "      <td>3</td>\n",
       "    </tr>\n",
       "    <tr>\n",
       "      <th>1</th>\n",
       "      <td>0</td>\n",
       "      <td>0</td>\n",
       "      <td>0</td>\n",
       "      <td>0</td>\n",
       "      <td>25</td>\n",
       "      <td>1</td>\n",
       "      <td>0</td>\n",
       "      <td>0</td>\n",
       "      <td>1</td>\n",
       "      <td>0</td>\n",
       "      <td>...</td>\n",
       "      <td>0</td>\n",
       "      <td>1</td>\n",
       "      <td>3</td>\n",
       "      <td>0</td>\n",
       "      <td>0</td>\n",
       "      <td>0</td>\n",
       "      <td>0</td>\n",
       "      <td>7</td>\n",
       "      <td>6</td>\n",
       "      <td>1</td>\n",
       "    </tr>\n",
       "    <tr>\n",
       "      <th>2</th>\n",
       "      <td>0</td>\n",
       "      <td>1</td>\n",
       "      <td>1</td>\n",
       "      <td>1</td>\n",
       "      <td>28</td>\n",
       "      <td>0</td>\n",
       "      <td>0</td>\n",
       "      <td>0</td>\n",
       "      <td>0</td>\n",
       "      <td>1</td>\n",
       "      <td>...</td>\n",
       "      <td>1</td>\n",
       "      <td>1</td>\n",
       "      <td>5</td>\n",
       "      <td>30</td>\n",
       "      <td>30</td>\n",
       "      <td>1</td>\n",
       "      <td>0</td>\n",
       "      <td>9</td>\n",
       "      <td>4</td>\n",
       "      <td>8</td>\n",
       "    </tr>\n",
       "    <tr>\n",
       "      <th>3</th>\n",
       "      <td>0</td>\n",
       "      <td>1</td>\n",
       "      <td>0</td>\n",
       "      <td>1</td>\n",
       "      <td>27</td>\n",
       "      <td>0</td>\n",
       "      <td>0</td>\n",
       "      <td>0</td>\n",
       "      <td>1</td>\n",
       "      <td>1</td>\n",
       "      <td>...</td>\n",
       "      <td>1</td>\n",
       "      <td>0</td>\n",
       "      <td>2</td>\n",
       "      <td>0</td>\n",
       "      <td>0</td>\n",
       "      <td>0</td>\n",
       "      <td>0</td>\n",
       "      <td>11</td>\n",
       "      <td>3</td>\n",
       "      <td>6</td>\n",
       "    </tr>\n",
       "    <tr>\n",
       "      <th>4</th>\n",
       "      <td>0</td>\n",
       "      <td>1</td>\n",
       "      <td>1</td>\n",
       "      <td>1</td>\n",
       "      <td>24</td>\n",
       "      <td>0</td>\n",
       "      <td>0</td>\n",
       "      <td>0</td>\n",
       "      <td>1</td>\n",
       "      <td>1</td>\n",
       "      <td>...</td>\n",
       "      <td>1</td>\n",
       "      <td>0</td>\n",
       "      <td>2</td>\n",
       "      <td>3</td>\n",
       "      <td>0</td>\n",
       "      <td>0</td>\n",
       "      <td>0</td>\n",
       "      <td>11</td>\n",
       "      <td>5</td>\n",
       "      <td>4</td>\n",
       "    </tr>\n",
       "  </tbody>\n",
       "</table>\n",
       "<p>5 rows × 22 columns</p>\n",
       "</div>"
      ],
      "text/plain": [
       "   Diabetes_012  HighBP  HighChol  CholCheck  BMI  Smoker  Stroke  \\\n",
       "0             0       1         1          1   40       1       0   \n",
       "1             0       0         0          0   25       1       0   \n",
       "2             0       1         1          1   28       0       0   \n",
       "3             0       1         0          1   27       0       0   \n",
       "4             0       1         1          1   24       0       0   \n",
       "\n",
       "   HeartDiseaseorAttack  PhysActivity  Fruits  ...  AnyHealthcare  \\\n",
       "0                     0             0       0  ...              1   \n",
       "1                     0             1       0  ...              0   \n",
       "2                     0             0       1  ...              1   \n",
       "3                     0             1       1  ...              1   \n",
       "4                     0             1       1  ...              1   \n",
       "\n",
       "   NoDocbcCost  GenHlth  MentHlth  PhysHlth  DiffWalk  Sex  Age  Education  \\\n",
       "0            0        5        18        15         1    0    9          4   \n",
       "1            1        3         0         0         0    0    7          6   \n",
       "2            1        5        30        30         1    0    9          4   \n",
       "3            0        2         0         0         0    0   11          3   \n",
       "4            0        2         3         0         0    0   11          5   \n",
       "\n",
       "   Income  \n",
       "0       3  \n",
       "1       1  \n",
       "2       8  \n",
       "3       6  \n",
       "4       4  \n",
       "\n",
       "[5 rows x 22 columns]"
      ]
     },
     "execution_count": 17,
     "metadata": {},
     "output_type": "execute_result"
    }
   ],
   "source": [
    "data.head()"
   ]
  },
  {
   "cell_type": "markdown",
   "id": "75d8e4b6",
   "metadata": {},
   "source": [
    "## Data Wrangling"
   ]
  },
  {
   "cell_type": "code",
   "execution_count": 19,
   "id": "89f9ae60",
   "metadata": {
    "scrolled": true
   },
   "outputs": [
    {
     "data": {
      "text/plain": [
       "Diabetes_012            0\n",
       "HighBP                  0\n",
       "HighChol                0\n",
       "CholCheck               0\n",
       "BMI                     0\n",
       "Smoker                  0\n",
       "Stroke                  0\n",
       "HeartDiseaseorAttack    0\n",
       "PhysActivity            0\n",
       "Fruits                  0\n",
       "Veggies                 0\n",
       "HvyAlcoholConsump       0\n",
       "AnyHealthcare           0\n",
       "NoDocbcCost             0\n",
       "GenHlth                 0\n",
       "MentHlth                0\n",
       "PhysHlth                0\n",
       "DiffWalk                0\n",
       "Sex                     0\n",
       "Age                     0\n",
       "Education               0\n",
       "Income                  0\n",
       "Diabetes Test Result    0\n",
       "dtype: int64"
      ]
     },
     "execution_count": 19,
     "metadata": {},
     "output_type": "execute_result"
    }
   ],
   "source": [
    "# Null Values\n",
    "data.isna().sum()"
   ]
  },
  {
   "cell_type": "code",
   "execution_count": 16,
   "id": "b64502b1",
   "metadata": {},
   "outputs": [],
   "source": [
    "# Comment\n",
    "for col in data.columns:\n",
    "    data[col] = [int(x) for x in data[col]]"
   ]
  },
  {
   "cell_type": "markdown",
   "id": "87a9b9b1",
   "metadata": {},
   "source": [
    "### Diabetes Case Indicator\n",
    "**\"Diabetes Test Result\"** is revealed in data[\"Diabetes_012\"] column by following values:\n",
    "<br> *0 :\"No_Diabetes\", 1:\"Pre_Diabetes\", 2:\"Diabetes\""
   ]
  },
  {
   "cell_type": "code",
   "execution_count": 27,
   "id": "3d9c1c35",
   "metadata": {},
   "outputs": [
    {
     "data": {
      "image/png": "[encoded data removed]",
      "text/plain": [
       "<Figure size 216x288 with 1 Axes>"
      ]
     },
     "metadata": {
      "needs_background": "light"
     },
     "output_type": "display_data"
    }
   ],
   "source": [
    "# Diabetes vs PreDiabetes cases\n",
    "Q = \"Diabetes_012\"\n",
    "df0 = data\n",
    "\n",
    "\n",
    "plt.figure(figsize = (3 , 4))\n",
    "ax = sns.countplot(x=df0[Q], data = df0)\n",
    "plt.title(\"Countplot of Participants' Diabetes\")\n",
    "\n",
    "for i in ax.containers:\n",
    "    ax.bar_label(i,),"
   ]
  },
  {
   "cell_type": "markdown",
   "id": "0ac45939",
   "metadata": {},
   "source": [
    "**Conclusion**: AS this was found we have a districted imbalanced values for Diabetes results. This fact leads our case study and define who to treat with our challenge.\n",
    "Action: To prevent the complexities of imblanced data, it shall be necessary to consider all Pre_Diabetes to Diabetes cases in on basket as Diabetes. (In Logistic Regression, regarding the weak predicting performace of model, I make this decision.) so all Diabetes and Pre_Diabetes cases will be taken in one cases."
   ]
  },
  {
   "cell_type": "code",
   "execution_count": 23,
   "id": "d6c95a30",
   "metadata": {
    "colab": {
     "base_uri": "https://localhost:8080/",
     "height": 488
    },
    "id": "4x76GCbbrn42",
    "outputId": "35542d72-917c-46e7-ee36-ce03e2e0ea84"
   },
   "outputs": [
    {
     "data": {
      "text/plain": [
       "array([0., 1.])"
      ]
     },
     "execution_count": 23,
     "metadata": {},
     "output_type": "execute_result"
    }
   ],
   "source": [
    "# deleting prediabetes \n",
    "data.Diabetes_012[data.Diabetes_012 == 2] = 1\n",
    "data.Diabetes_012.unique()"
   ]
  },
  {
   "cell_type": "code",
   "execution_count": 28,
   "id": "cdc979ab",
   "metadata": {},
   "outputs": [
    {
     "data": {
      "image/png": "[encoded data removed]",
      "text/plain": [
       "<Figure size 216x288 with 1 Axes>"
      ]
     },
     "metadata": {
      "needs_background": "light"
     },
     "output_type": "display_data"
    }
   ],
   "source": [
    "plt.figure(figsize = (3 , 4))\n",
    "ax = sns.countplot(x=df0[Q], data = df0)\n",
    "plt.title(\"Countplot of Participants' Diabetes\")\n",
    "\n",
    "for i in ax.containers:\n",
    "    ax.bar_label(i,),"
   ]
  },
  {
   "cell_type": "markdown",
   "id": "0ab070dd",
   "metadata": {},
   "source": [
    "## Correlation between diabetes and other parameters"
   ]
  },
  {
   "cell_type": "code",
   "execution_count": 29,
   "id": "0e47c0f8",
   "metadata": {
    "colab": {
     "base_uri": "https://localhost:8080/",
     "height": 381
    },
    "id": "adK-id8S0g4p",
    "outputId": "86172a6b-bb8e-490e-c167-9a729d05c6a2"
   },
   "outputs": [
    {
     "data": {
      "image/png": "[encoded data removed]",
      "text/plain": [
       "<Figure size 864x288 with 1 Axes>"
      ]
     },
     "metadata": {
      "needs_background": "light"
     },
     "output_type": "display_data"
    }
   ],
   "source": [
    "data.drop('Diabetes_012', axis=1).corrwith(data.Diabetes_012).sort_values(ascending=False).plot(kind='bar', grid=True, figsize=(12, 4)\n",
    ", title=\"Correlation with Diabetes\");\n",
    "#df.drop('Diabetes', axis=1).corrwith(df.Diabetes).sort_values(ascending=False)"
   ]
  },
  {
   "cell_type": "markdown",
   "id": "66cf285b",
   "metadata": {
    "id": "VdQTJbTV0870"
   },
   "source": [
    "I stole the above correlation graph from your notebook! It is excellent."
   ]
  },
  {
   "cell_type": "markdown",
   "id": "7f04af76",
   "metadata": {},
   "source": [
    "Because the massive difference between Income in US and other countries (*including Iran*), among these parameters **Income** is going to be dropped."
   ]
  },
  {
   "cell_type": "code",
   "execution_count": 30,
   "id": "7db3095f",
   "metadata": {},
   "outputs": [],
   "source": [
    "data = data.drop('Income', axis = 1)"
   ]
  },
  {
   "cell_type": "code",
   "execution_count": 31,
   "id": "6d1a2edf",
   "metadata": {},
   "outputs": [
    {
     "data": {
      "image/png": "[encoded data removed]",
      "text/plain": [
       "<Figure size 864x288 with 1 Axes>"
      ]
     },
     "metadata": {
      "needs_background": "light"
     },
     "output_type": "display_data"
    }
   ],
   "source": [
    "data.drop('Diabetes_012', axis=1).corrwith(data.Diabetes_012).sort_values(ascending=False).plot(kind='bar', grid=True, figsize=(12, 4)\n",
    ", title=\"Correlation with Diabetes\");\n",
    "#df.drop('Diabetes', axis=1).corrwith(df.Diabetes).sort_values(ascending=False)"
   ]
  },
  {
   "cell_type": "markdown",
   "id": "ffde65cb",
   "metadata": {},
   "source": [
    "## Training Model\n",
    "The **LGBMClassifier** had one of the best performances among all applyed methods. so this model will be selected as classifier for this projecs."
   ]
  },
  {
   "cell_type": "code",
   "execution_count": 32,
   "id": "52713a83",
   "metadata": {
    "id": "rCvv62leUV-g"
   },
   "outputs": [],
   "source": [
    "x = data.drop('Diabetes_012', axis = 1)\n",
    "y = data['Diabetes_012']"
   ]
  },
  {
   "cell_type": "code",
   "execution_count": 33,
   "id": "6ff66349",
   "metadata": {
    "id": "uspp8gRfVqn1"
   },
   "outputs": [],
   "source": [
    "from sklearn.model_selection import train_test_split\n",
    "\n",
    "x_train,xx,y_train,yy = train_test_split(x,y,test_size = 0.8,random_state = 23) \n",
    "#x_test,x_val,y_test,y_val = train_test_split(xx,yy,test_size = 0.5,random_state = 23) "
   ]
  },
  {
   "cell_type": "code",
   "execution_count": 34,
   "id": "1594ca7c",
   "metadata": {
    "colab": {
     "base_uri": "https://localhost:8080/"
    },
    "id": "vaTk_37WVMvD",
    "outputId": "67a43c77-2db9-42e2-b747-492c310ec7f7"
   },
   "outputs": [
    {
     "name": "stdout",
     "output_type": "stream",
     "text": [
      "0.8994008199306213\n"
     ]
    }
   ],
   "source": [
    "clf = lgb.LGBMClassifier(boosting_type= 'gbdt', objective = 'binary',learning_rate= 0.07, n_estimators= 4000, reg_lambda = 2, \n",
    "                         max_depth = 5 , num_leaves = 20)\n",
    "clf.fit(x_train,y_train)\n",
    "train_predict = clf.predict(x_train)\n",
    "print (metrics.accuracy_score(y_train,train_predict))"
   ]
  },
  {
   "cell_type": "code",
   "execution_count": 35,
   "id": "62aadab3",
   "metadata": {
    "colab": {
     "base_uri": "https://localhost:8080/"
    },
    "id": "tahdDZ6cZSCP",
    "outputId": "f0989dd3-60df-4264-e058-2be672e8bfea"
   },
   "outputs": [
    {
     "name": "stdout",
     "output_type": "stream",
     "text": [
      "0.842493495742668\n"
     ]
    }
   ],
   "source": [
    "# Accuracy Score of model\n",
    "test_predict = clf.predict(xx)\n",
    "print (metrics.accuracy_score(yy,test_predict))"
   ]
  },
  {
   "cell_type": "code",
   "execution_count": 36,
   "id": "b2655b7c",
   "metadata": {
    "colab": {
     "base_uri": "https://localhost:8080/",
     "height": 708
    },
    "id": "vWVuDAhiVVff",
    "outputId": "fd953cd5-5177-4aff-95d8-525acbd59c12"
   },
   "outputs": [
    {
     "data": {
      "text/html": [
       "<div>\n",
       "<style scoped>\n",
       "    .dataframe tbody tr th:only-of-type {\n",
       "        vertical-align: middle;\n",
       "    }\n",
       "\n",
       "    .dataframe tbody tr th {\n",
       "        vertical-align: top;\n",
       "    }\n",
       "\n",
       "    .dataframe thead th {\n",
       "        text-align: right;\n",
       "    }\n",
       "</style>\n",
       "<table border=\"1\" class=\"dataframe\">\n",
       "  <thead>\n",
       "    <tr style=\"text-align: right;\">\n",
       "      <th></th>\n",
       "      <th>importance</th>\n",
       "      <th>feature name</th>\n",
       "    </tr>\n",
       "  </thead>\n",
       "  <tbody>\n",
       "    <tr>\n",
       "      <th>3</th>\n",
       "      <td>16134</td>\n",
       "      <td>BMI</td>\n",
       "    </tr>\n",
       "    <tr>\n",
       "      <th>18</th>\n",
       "      <td>9041</td>\n",
       "      <td>Age</td>\n",
       "    </tr>\n",
       "    <tr>\n",
       "      <th>15</th>\n",
       "      <td>8679</td>\n",
       "      <td>PhysHlth</td>\n",
       "    </tr>\n",
       "    <tr>\n",
       "      <th>14</th>\n",
       "      <td>7202</td>\n",
       "      <td>MentHlth</td>\n",
       "    </tr>\n",
       "    <tr>\n",
       "      <th>19</th>\n",
       "      <td>5428</td>\n",
       "      <td>Education</td>\n",
       "    </tr>\n",
       "    <tr>\n",
       "      <th>13</th>\n",
       "      <td>4849</td>\n",
       "      <td>GenHlth</td>\n",
       "    </tr>\n",
       "    <tr>\n",
       "      <th>7</th>\n",
       "      <td>2201</td>\n",
       "      <td>PhysActivity</td>\n",
       "    </tr>\n",
       "    <tr>\n",
       "      <th>4</th>\n",
       "      <td>2043</td>\n",
       "      <td>Smoker</td>\n",
       "    </tr>\n",
       "    <tr>\n",
       "      <th>8</th>\n",
       "      <td>1901</td>\n",
       "      <td>Fruits</td>\n",
       "    </tr>\n",
       "    <tr>\n",
       "      <th>1</th>\n",
       "      <td>1898</td>\n",
       "      <td>HighChol</td>\n",
       "    </tr>\n",
       "    <tr>\n",
       "      <th>17</th>\n",
       "      <td>1880</td>\n",
       "      <td>Sex</td>\n",
       "    </tr>\n",
       "    <tr>\n",
       "      <th>0</th>\n",
       "      <td>1738</td>\n",
       "      <td>HighBP</td>\n",
       "    </tr>\n",
       "    <tr>\n",
       "      <th>9</th>\n",
       "      <td>1721</td>\n",
       "      <td>Veggies</td>\n",
       "    </tr>\n",
       "    <tr>\n",
       "      <th>16</th>\n",
       "      <td>1596</td>\n",
       "      <td>DiffWalk</td>\n",
       "    </tr>\n",
       "    <tr>\n",
       "      <th>12</th>\n",
       "      <td>1350</td>\n",
       "      <td>NoDocbcCost</td>\n",
       "    </tr>\n",
       "    <tr>\n",
       "      <th>6</th>\n",
       "      <td>1164</td>\n",
       "      <td>HeartDiseaseorAttack</td>\n",
       "    </tr>\n",
       "    <tr>\n",
       "      <th>11</th>\n",
       "      <td>1002</td>\n",
       "      <td>AnyHealthcare</td>\n",
       "    </tr>\n",
       "    <tr>\n",
       "      <th>5</th>\n",
       "      <td>914</td>\n",
       "      <td>Stroke</td>\n",
       "    </tr>\n",
       "    <tr>\n",
       "      <th>10</th>\n",
       "      <td>544</td>\n",
       "      <td>HvyAlcoholConsump</td>\n",
       "    </tr>\n",
       "    <tr>\n",
       "      <th>2</th>\n",
       "      <td>469</td>\n",
       "      <td>CholCheck</td>\n",
       "    </tr>\n",
       "  </tbody>\n",
       "</table>\n",
       "</div>"
      ],
      "text/plain": [
       "    importance          feature name\n",
       "3        16134                   BMI\n",
       "18        9041                   Age\n",
       "15        8679              PhysHlth\n",
       "14        7202              MentHlth\n",
       "19        5428             Education\n",
       "13        4849               GenHlth\n",
       "7         2201          PhysActivity\n",
       "4         2043                Smoker\n",
       "8         1901                Fruits\n",
       "1         1898              HighChol\n",
       "17        1880                   Sex\n",
       "0         1738                HighBP\n",
       "9         1721               Veggies\n",
       "16        1596              DiffWalk\n",
       "12        1350           NoDocbcCost\n",
       "6         1164  HeartDiseaseorAttack\n",
       "11        1002         AnyHealthcare\n",
       "5          914                Stroke\n",
       "10         544     HvyAlcoholConsump\n",
       "2          469             CholCheck"
      ]
     },
     "execution_count": 36,
     "metadata": {},
     "output_type": "execute_result"
    }
   ],
   "source": [
    "# important features\n",
    "im = clf.feature_importances_\n",
    "col = np.array(x.columns)\n",
    "\n",
    "dd = pd.DataFrame(im, columns=['importance'])\n",
    "dd.insert(1 , 'feature name', value = col)\n",
    "dd.sort_values(by = 'importance', ascending=False, inplace = True)\n",
    "dd"
   ]
  },
  {
   "cell_type": "markdown",
   "id": "e566a592",
   "metadata": {},
   "source": [
    "## Phase 2: Communication Algirithm"
   ]
  },
  {
   "cell_type": "code",
   "execution_count": 37,
   "id": "3ed03a3d",
   "metadata": {},
   "outputs": [],
   "source": [
    "data['Label'] = [\"USA\"] * len(data)"
   ]
  },
  {
   "cell_type": "code",
   "execution_count": 38,
   "id": "3125ec25",
   "metadata": {},
   "outputs": [],
   "source": [
    "data['Date'] = [\"2015\"] * len(data)"
   ]
  },
  {
   "cell_type": "code",
   "execution_count": 40,
   "id": "4b1a4ef1",
   "metadata": {},
   "outputs": [
    {
     "data": {
      "text/html": [
       "<div>\n",
       "<style scoped>\n",
       "    .dataframe tbody tr th:only-of-type {\n",
       "        vertical-align: middle;\n",
       "    }\n",
       "\n",
       "    .dataframe tbody tr th {\n",
       "        vertical-align: top;\n",
       "    }\n",
       "\n",
       "    .dataframe thead th {\n",
       "        text-align: right;\n",
       "    }\n",
       "</style>\n",
       "<table border=\"1\" class=\"dataframe\">\n",
       "  <thead>\n",
       "    <tr style=\"text-align: right;\">\n",
       "      <th></th>\n",
       "      <th>Diabetes_012</th>\n",
       "      <th>HighBP</th>\n",
       "      <th>HighChol</th>\n",
       "      <th>CholCheck</th>\n",
       "      <th>BMI</th>\n",
       "      <th>Smoker</th>\n",
       "      <th>Stroke</th>\n",
       "      <th>HeartDiseaseorAttack</th>\n",
       "      <th>PhysActivity</th>\n",
       "      <th>Fruits</th>\n",
       "      <th>...</th>\n",
       "      <th>NoDocbcCost</th>\n",
       "      <th>GenHlth</th>\n",
       "      <th>MentHlth</th>\n",
       "      <th>PhysHlth</th>\n",
       "      <th>DiffWalk</th>\n",
       "      <th>Sex</th>\n",
       "      <th>Age</th>\n",
       "      <th>Education</th>\n",
       "      <th>Label</th>\n",
       "      <th>Date</th>\n",
       "    </tr>\n",
       "  </thead>\n",
       "  <tbody>\n",
       "    <tr>\n",
       "      <th>0</th>\n",
       "      <td>0.0</td>\n",
       "      <td>1.0</td>\n",
       "      <td>1.0</td>\n",
       "      <td>1.0</td>\n",
       "      <td>40.0</td>\n",
       "      <td>1.0</td>\n",
       "      <td>0.0</td>\n",
       "      <td>0.0</td>\n",
       "      <td>0.0</td>\n",
       "      <td>0.0</td>\n",
       "      <td>...</td>\n",
       "      <td>0.0</td>\n",
       "      <td>5.0</td>\n",
       "      <td>18.0</td>\n",
       "      <td>15.0</td>\n",
       "      <td>1.0</td>\n",
       "      <td>0.0</td>\n",
       "      <td>9.0</td>\n",
       "      <td>4.0</td>\n",
       "      <td>USA</td>\n",
       "      <td>2015</td>\n",
       "    </tr>\n",
       "    <tr>\n",
       "      <th>1</th>\n",
       "      <td>0.0</td>\n",
       "      <td>0.0</td>\n",
       "      <td>0.0</td>\n",
       "      <td>0.0</td>\n",
       "      <td>25.0</td>\n",
       "      <td>1.0</td>\n",
       "      <td>0.0</td>\n",
       "      <td>0.0</td>\n",
       "      <td>1.0</td>\n",
       "      <td>0.0</td>\n",
       "      <td>...</td>\n",
       "      <td>1.0</td>\n",
       "      <td>3.0</td>\n",
       "      <td>0.0</td>\n",
       "      <td>0.0</td>\n",
       "      <td>0.0</td>\n",
       "      <td>0.0</td>\n",
       "      <td>7.0</td>\n",
       "      <td>6.0</td>\n",
       "      <td>USA</td>\n",
       "      <td>2015</td>\n",
       "    </tr>\n",
       "  </tbody>\n",
       "</table>\n",
       "<p>2 rows × 23 columns</p>\n",
       "</div>"
      ],
      "text/plain": [
       "   Diabetes_012  HighBP  HighChol  CholCheck   BMI  Smoker  Stroke  \\\n",
       "0           0.0     1.0       1.0        1.0  40.0     1.0     0.0   \n",
       "1           0.0     0.0       0.0        0.0  25.0     1.0     0.0   \n",
       "\n",
       "   HeartDiseaseorAttack  PhysActivity  Fruits  ...  NoDocbcCost  GenHlth  \\\n",
       "0                   0.0           0.0     0.0  ...          0.0      5.0   \n",
       "1                   0.0           1.0     0.0  ...          1.0      3.0   \n",
       "\n",
       "   MentHlth  PhysHlth  DiffWalk  Sex  Age  Education  Label  Date  \n",
       "0      18.0      15.0       1.0  0.0  9.0        4.0    USA  2015  \n",
       "1       0.0       0.0       0.0  0.0  7.0        6.0    USA  2015  \n",
       "\n",
       "[2 rows x 23 columns]"
      ]
     },
     "execution_count": 40,
     "metadata": {},
     "output_type": "execute_result"
    }
   ],
   "source": [
    "data.head(2)"
   ]
  },
  {
   "cell_type": "code",
   "execution_count": 36,
   "id": "ba40856e",
   "metadata": {},
   "outputs": [],
   "source": [
    "############## Communication  Algorithm        ##############################\n",
    "# The issues:\n",
    "# 1-  Nomber of Questions\n",
    "# 2- Periority of Questions (1-Sex, 2-Age, ...) without income\n",
    "\n",
    "# Note : you can read sample of questionaires."
   ]
  },
  {
   "cell_type": "code",
   "execution_count": null,
   "id": "a212e60c",
   "metadata": {},
   "outputs": [],
   "source": []
  },
  {
   "cell_type": "code",
   "execution_count": null,
   "id": "c712cf72",
   "metadata": {},
   "outputs": [],
   "source": [
    "label = \"Capchered_site\""
   ]
  },
  {
   "cell_type": "code",
   "execution_count": null,
   "id": "96223e1a",
   "metadata": {},
   "outputs": [],
   "source": [
    "# Comment \n",
    "from datetime import datetime\n",
    "\n",
    "# datetime object containing current date and time\n",
    "dt_string = now.strftime(\"%d/%m/%Y %H:%M:%S\")\n",
    "print(\"date and time =\", dt_string)"
   ]
  },
  {
   "cell_type": "code",
   "execution_count": null,
   "id": "a1676f61",
   "metadata": {},
   "outputs": [],
   "source": [
    "HighBP = input(print(\"Do you have High Blood Pressure? (Yes/No)\"))\n",
    "\n",
    "\n",
    "HighBP =  list(HighBP)[0].lower()\n",
    "\n",
    "\n",
    "if HighBP != \"y\" and \"yes\":\n",
    "    if HighBP != \"n\" and \"no\":\n",
    "        print(\"Wrong value! please enter yes or no\")\n",
    "        HighBP = input(print(\"Do you have High Blood Pressure? (Yes/No)\"))\n",
    "    elif HighBP == \"n\":\n",
    "        HighBP = 0\n",
    "elif HighBP == \"y\":\n",
    "    HighBP = 1\n",
    "    "
   ]
  },
  {
   "cell_type": "code",
   "execution_count": null,
   "id": "bc6dab73",
   "metadata": {},
   "outputs": [],
   "source": [
    "HighBP"
   ]
  },
  {
   "cell_type": "code",
   "execution_count": null,
   "id": "c3ad81a9",
   "metadata": {},
   "outputs": [],
   "source": [
    "HighChol = input(print(\"Do you have High Blood cholesterol? (Yes/No)\"))\n",
    "\n",
    "\n",
    "HighChol =  list(HighChol)[0].lower()\n",
    "\n",
    "\n",
    "if HighChol != \"y\" and \"yes\":\n",
    "    if HighChol != \"n\" and \"no\":\n",
    "        print(\"Wrong value! please enter yes or no\")\n",
    "        HighChol = input(print(\"Do you have High Blood cholesterol? (Yes/No)\"))\n",
    "    elif HighChol == \"n\":\n",
    "        HighChol =0\n",
    "elif HighChol == \"y\":\n",
    "    HighChol = 1  \n",
    "    "
   ]
  },
  {
   "cell_type": "code",
   "execution_count": null,
   "id": "ec82a7d8",
   "metadata": {},
   "outputs": [],
   "source": [
    "HighChol"
   ]
  },
  {
   "cell_type": "code",
   "execution_count": null,
   "id": "005ba57c",
   "metadata": {},
   "outputs": [],
   "source": [
    "CholCheck = input(print(\"Do you check within  Cholesterol past five years? (Yes/No)\"))\n",
    "\n",
    "\n",
    "CholCheck =  list(CholCheck)[0].lower()\n",
    "\n",
    "\n",
    "if HighChol != \"y\" and \"yes\":\n",
    "    if HighChol != \"n\" and \"no\":\n",
    "        print(\"Wrong value! please enter yes or no\")\n",
    "        CholCheck = input(print(\"Do you check within  Cholesterol past five years? (Yes/No)\"))\n",
    "    elif CholCheck == \"n\":\n",
    "        CholCheck =0\n",
    "elif CholCheck == \"y\":\n",
    "    CholCheck = 1  \n",
    "\n",
    "# Comment: Check it, you should replace 'and' with 'or'\n",
    "# Comment: After a while consider yes(as mode of CholCheck column) for this question."
   ]
  },
  {
   "cell_type": "code",
   "execution_count": null,
   "id": "6afa1dee",
   "metadata": {},
   "outputs": [],
   "source": [
    "CholCheck"
   ]
  },
  {
   "cell_type": "code",
   "execution_count": null,
   "id": "ab65dcba",
   "metadata": {},
   "outputs": [],
   "source": [
    "BMI = input(print(\"What is your Body Mass Index? (5..100)\"))\n",
    "\n",
    "if (BMI<'5') and (BMI>'100'):\n",
    "    print(\"Wrong value! please enter yes or no\")\n",
    "    BMI = input(print(\"What is your Body Mass Index? (5..100)\"))\n",
    "if (BMI<'5') and (BMI>'100'):\n",
    "    print(\"Wrong value! please check!!!\")\n",
    "    BMI = input(print(\"What is your Body Mass Index? (Please ENTER 5..100)\"))\n",
    "elif (BMI>'5') and (BMI<='100'):\n",
    "    BMI = int(BMI) # Comment: Is there formula for BMI, If yes apply this formula to calculate BMI"
   ]
  },
  {
   "cell_type": "code",
   "execution_count": null,
   "id": "021c0557",
   "metadata": {},
   "outputs": [],
   "source": [
    "BMI"
   ]
  },
  {
   "cell_type": "code",
   "execution_count": null,
   "id": "e252439c",
   "metadata": {},
   "outputs": [],
   "source": [
    "Smoker = input(print(\"Have you smoked at least 100 cigarettes in your entire life? [Note: 5 packs = 100 cigarettes] (Yes/No)\"))\n",
    "\n",
    "\n",
    "Smoker =  list(Smoker)[0].lower()\n",
    "\n",
    "\n",
    "if Smoker != \"y\" and \"yes\":\n",
    "    if Smoker != \"n\" and \"no\":\n",
    "        print(\"Wrong value! please enter yes or no\")\n",
    "        Smoker = input(print(\"Have you smoked at least 100 cigarettes in your entire life? (Yes/No)\"))\n",
    "    elif Smoker == \"n\":\n",
    "        Smoker =0\n",
    "elif Smoker == \"y\":\n",
    "    Smoker = 1 "
   ]
  },
  {
   "cell_type": "code",
   "execution_count": null,
   "id": "481e79c5",
   "metadata": {},
   "outputs": [],
   "source": [
    "Smoker"
   ]
  },
  {
   "cell_type": "code",
   "execution_count": 3,
   "id": "396d2905",
   "metadata": {},
   "outputs": [
    {
     "name": "stdout",
     "output_type": "stream",
     "text": [
      "Did you have a stroke? (Yes/No)\n",
      "Noneno\n"
     ]
    }
   ],
   "source": [
    "Stroke = input(print(\"Did you have a stroke? (Yes/No)\"))\n",
    "\n",
    "\n",
    "Stroke =  list(Stroke)[0].lower()\n",
    "\n",
    "\n",
    "if Stroke != \"y\" and \"yes\":\n",
    "    if Stroke != \"n\" and \"no\":\n",
    "        print(\"Wrong value! please enter yes or no\")\n",
    "        Stroke = input(print(\"you had a stroke? (Yes/No)\"))\n",
    "    elif Stroke == \"n\":\n",
    "        Stroke =0\n",
    "elif Stroke == \"y\":\n",
    "    Stroke = 1 "
   ]
  },
  {
   "cell_type": "code",
   "execution_count": 4,
   "id": "4a52f870",
   "metadata": {},
   "outputs": [
    {
     "data": {
      "text/plain": [
       "0"
      ]
     },
     "execution_count": 4,
     "metadata": {},
     "output_type": "execute_result"
    }
   ],
   "source": [
    "Stroke"
   ]
  },
  {
   "cell_type": "code",
   "execution_count": null,
   "id": "1064fad7",
   "metadata": {},
   "outputs": [],
   "source": []
  },
  {
   "cell_type": "code",
   "execution_count": 14,
   "id": "1add4b2e",
   "metadata": {},
   "outputs": [
    {
     "name": "stdout",
     "output_type": "stream",
     "text": [
      "Do you have ever coronary heart disease (CHD) or myocardial infarction (MI)? (Yes/No)\n",
      "Noneyes\n"
     ]
    }
   ],
   "source": [
    "# !!!!!\n",
    "HeartDiseaseorAttack = input(print(\"Do you have ever coronary heart disease (CHD) or myocardial infarction (MI)? (Yes/No)\"))\n",
    "\n",
    "\n",
    "HeartDiseaseorAttack =  list(HeartDiseaseorAttack)[0].lower()\n",
    "\n",
    "\n",
    "if HeartDiseaseorAttack != \"y\" and \"yes\":\n",
    "    HeartDiseaseorAttack = 1\n",
    "    if HeartDiseaseorAttack != \"n\" and \"no\":\n",
    "        HeartDiseaseorAttack = 0\n",
    "        #print(\"Wrong value! please enter yes or no\")\n",
    "        #HeartDiseaseorAttack = input(print(\"Do you have ever coronary heart disease (CHD) or myocardial infarction (MI)? (Yes/No)\"))\n",
    "    else:\n",
    "        print(\"Wrong value! please enter yes or no\")\n",
    "        HeartDiseaseorAttack = input(print(\"Do you have ever coronary heart disease (CHD) or myocardial infarction (MI)? (Yes/No)\"))\n",
    "        if HeartDiseaseorAttack != \"y\" and \"yes\":\n",
    "            HeartDiseaseorAttack = 1\n",
    "        if HeartDiseaseorAttack != \"n\" and \"no\":\n",
    "            HeartDiseaseorAttack = 0\n",
    "        \n",
    "        #elif HeartDiseaseorAttack == \"y\":\n",
    "        #    HeartDiseaseorAttack = 1 "
   ]
  },
  {
   "cell_type": "code",
   "execution_count": 15,
   "id": "9863dd72",
   "metadata": {},
   "outputs": [
    {
     "data": {
      "text/plain": [
       "'y'"
      ]
     },
     "execution_count": 15,
     "metadata": {},
     "output_type": "execute_result"
    }
   ],
   "source": [
    "HeartDiseaseorAttack"
   ]
  },
  {
   "cell_type": "code",
   "execution_count": 24,
   "id": "9815fd90",
   "metadata": {},
   "outputs": [
    {
     "name": "stdout",
     "output_type": "stream",
     "text": [
      "Are you doing physical activity or exercise during the past 30 days other than their regular job? (Yes/No)\n",
      "Noneuuuu\n",
      "Wrong value! please enter yes or no\n",
      "Are you doing physical activity or exercise during the past 30 days other than their regular job? (Yes/No)\n",
      "None\n"
     ]
    }
   ],
   "source": [
    "PhysActivity = input(print(\"Are you doing physical activity or exercise during the past 30 days other than their regular job? (Yes/No)\"))\n",
    "\n",
    "\n",
    "PhysActivity =  list(PhysActivity)[0].lower()\n",
    "\n",
    "\n",
    "if PhysActivity != \"y\" and \"yes\":\n",
    "    if PhysActivity != \"n\" and \"no\":\n",
    "        print(\"Wrong value! please enter yes or no\")\n",
    "        PhysActivity = input(print(\"Are you doing physical activity or exercise during the past 30 days other than their regular job? (Yes/No)\"))\n",
    "    elif PhysActivity == \"n\":\n",
    "        PhysActivity =0\n",
    "elif PhysActivity == \"y\":\n",
    "    PhysActivity = 1 "
   ]
  },
  {
   "cell_type": "code",
   "execution_count": 25,
   "id": "ec32ac45",
   "metadata": {},
   "outputs": [
    {
     "data": {
      "text/plain": [
       "''"
      ]
     },
     "execution_count": 25,
     "metadata": {},
     "output_type": "execute_result"
    }
   ],
   "source": [
    "PhysActivity"
   ]
  },
  {
   "cell_type": "code",
   "execution_count": 26,
   "id": "dfb85818",
   "metadata": {},
   "outputs": [
    {
     "name": "stdout",
     "output_type": "stream",
     "text": [
      "Consume Fruit 1 or more times per day? (Yes/No)\n",
      "Nonem\n",
      "Wrong value! please enter yes or no\n",
      "Consume Fruit 1 or more times per day? (Yes/No)\n",
      "None\n"
     ]
    }
   ],
   "source": [
    "Fruits = input(print(\"Consume Fruit 1 or more times per day? (Yes/No)\"))\n",
    "\n",
    "Fruits =  list(Fruits)[0].lower()\n",
    "if Fruits != \"y\" and \"yes\":\n",
    "    if Fruits != \"n\" and \"no\":\n",
    "        print(\"Wrong value! please enter yes or no\")\n",
    "        Fruits = input(print(\"Consume Fruit 1 or more times per day? (Yes/No)\"))\n",
    "    elif Fruits == \"n\":\n",
    "        Fruits =0\n",
    "elif Fruits == \"y\":\n",
    "    Fruits = 1 "
   ]
  },
  {
   "cell_type": "code",
   "execution_count": 27,
   "id": "0a97f926",
   "metadata": {},
   "outputs": [
    {
     "data": {
      "text/plain": [
       "''"
      ]
     },
     "execution_count": 27,
     "metadata": {},
     "output_type": "execute_result"
    }
   ],
   "source": [
    "Fruits"
   ]
  },
  {
   "cell_type": "code",
   "execution_count": 28,
   "id": "56d05259",
   "metadata": {},
   "outputs": [
    {
     "name": "stdout",
     "output_type": "stream",
     "text": [
      "Consume Vegetables 1 or more times per day? (Yes/No)\n",
      "Noneno\n"
     ]
    }
   ],
   "source": [
    "Veggies = input(print(\"Consume Vegetables 1 or more times per day? (Yes/No)\"))\n",
    "\n",
    "Veggies =  list(Veggies)[0].lower()\n",
    "if Veggies != \"y\" and \"yes\":\n",
    "    if Veggies != \"n\" and \"no\":    \n",
    "        print(\"Wrong value! please enter yes or no\")\n",
    "        Veggies = input(print(\"Consume Vegetables 1 or more times per day? (Yes/No)\"))\n",
    "    elif Veggies == \"n\":\n",
    "        Veggies =0\n",
    "elif Veggies == \"y\":\n",
    "    Veggies = 1 "
   ]
  },
  {
   "cell_type": "code",
   "execution_count": 29,
   "id": "523578df",
   "metadata": {},
   "outputs": [
    {
     "data": {
      "text/plain": [
       "0"
      ]
     },
     "execution_count": 29,
     "metadata": {},
     "output_type": "execute_result"
    }
   ],
   "source": [
    "Veggies"
   ]
  },
  {
   "cell_type": "code",
   "execution_count": 30,
   "id": "39822c06",
   "metadata": {},
   "outputs": [
    {
     "name": "stdout",
     "output_type": "stream",
     "text": [
      "Heavy drinkers_adult men having more than14drinks per week and adult women having more than7drinks per week? (Yes/No)\n",
      "None\n"
     ]
    },
    {
     "ename": "IndexError",
     "evalue": "list index out of range",
     "output_type": "error",
     "traceback": [
      "\u001b[1;31m---------------------------------------------------------------------------\u001b[0m",
      "\u001b[1;31mIndexError\u001b[0m                                Traceback (most recent call last)",
      "Input \u001b[1;32mIn [30]\u001b[0m, in \u001b[0;36m<cell line: 3>\u001b[1;34m()\u001b[0m\n\u001b[0;32m      1\u001b[0m HvyAlcoholConsump \u001b[38;5;241m=\u001b[39m \u001b[38;5;28minput\u001b[39m(\u001b[38;5;28mprint\u001b[39m(\u001b[38;5;124m\"\u001b[39m\u001b[38;5;124mHeavy drinkers_adult men having more than14drinks per week and adult women having more than7drinks per week? (Yes/No)\u001b[39m\u001b[38;5;124m\"\u001b[39m))\n\u001b[1;32m----> 3\u001b[0m HvyAlcoholConsump \u001b[38;5;241m=\u001b[39m  \u001b[38;5;28;43mlist\u001b[39;49m\u001b[43m(\u001b[49m\u001b[43mHvyAlcoholConsump\u001b[49m\u001b[43m)\u001b[49m\u001b[43m[\u001b[49m\u001b[38;5;241;43m0\u001b[39;49m\u001b[43m]\u001b[49m\u001b[38;5;241m.\u001b[39mlower()\n\u001b[0;32m      4\u001b[0m \u001b[38;5;28;01mif\u001b[39;00m HvyAlcoholConsump \u001b[38;5;241m!=\u001b[39m \u001b[38;5;124m\"\u001b[39m\u001b[38;5;124my\u001b[39m\u001b[38;5;124m\"\u001b[39m \u001b[38;5;129;01mand\u001b[39;00m \u001b[38;5;124m\"\u001b[39m\u001b[38;5;124myes\u001b[39m\u001b[38;5;124m\"\u001b[39m:\n\u001b[0;32m      5\u001b[0m     \u001b[38;5;28;01mif\u001b[39;00m HvyAlcoholConsump \u001b[38;5;241m!=\u001b[39m \u001b[38;5;124m\"\u001b[39m\u001b[38;5;124mn\u001b[39m\u001b[38;5;124m\"\u001b[39m \u001b[38;5;129;01mand\u001b[39;00m \u001b[38;5;124m\"\u001b[39m\u001b[38;5;124mno\u001b[39m\u001b[38;5;124m\"\u001b[39m: \n",
      "\u001b[1;31mIndexError\u001b[0m: list index out of range"
     ]
    }
   ],
   "source": [
    "HvyAlcoholConsump = input(print(\"Heavy drinkers_adult men having more than14drinks per week and adult women having more than7drinks per week? (Yes/No)\"))\n",
    "\n",
    "HvyAlcoholConsump =  list(HvyAlcoholConsump)[0].lower()\n",
    "if HvyAlcoholConsump != \"y\" and \"yes\":\n",
    "    if HvyAlcoholConsump != \"n\" and \"no\": \n",
    "        print(\"Wrong value! please enter yes or no\")\n",
    "        HvyAlcoholConsump = input(print(\"Heavy drinkers_adult men having more than14drinks per week and adult women having more than7drinks per week? (Yes/No)\"))\n",
    "    elif HvyAlcoholConsump == \"n\":\n",
    "        HvyAlcoholConsump =0\n",
    "elif HvyAlcoholConsump == \"y\":\n",
    "    HvyAlcoholConsump = 1 "
   ]
  },
  {
   "cell_type": "code",
   "execution_count": 31,
   "id": "6fe08ee1",
   "metadata": {},
   "outputs": [
    {
     "data": {
      "text/plain": [
       "''"
      ]
     },
     "execution_count": 31,
     "metadata": {},
     "output_type": "execute_result"
    }
   ],
   "source": [
    "HvyAlcoholConsump"
   ]
  },
  {
   "cell_type": "code",
   "execution_count": null,
   "id": "72f12246",
   "metadata": {},
   "outputs": [],
   "source": [
    "AnyHealthcare = input(print(\"Do you have any kind of health care coverage, including health insurance, prepaid plans such as HMOs, or government plans such as Medicare, or Indian Health Service? (Yes/No)\"))\n",
    "\n",
    "AnyHealthcare =  list(AnyHealthcare)[0].lower()\n",
    "if AnyHealthcare != \"y\" and \"yes\":\n",
    "    if AnyHealthcare != \"n\" and \"no\": \n",
    "        print(\"Wrong value! please enter yes or no\")\n",
    "        AnyHealthcare = input(print(\"Do you have any kind of health care coverage, including health insurance, prepaid plans such as HMOs, or government plans such as Medicare, or Indian Health Service? (Yes/No)\"))\n",
    "    elif AnyHealthcare == \"n\":\n",
    "        AnyHealthcare =0\n",
    "elif AnyHealthcare == \"y\":\n",
    "    AnyHealthcare = 1 "
   ]
  },
  {
   "cell_type": "code",
   "execution_count": null,
   "id": "bf4eff16",
   "metadata": {},
   "outputs": [],
   "source": [
    "AnyHealthcare"
   ]
  },
  {
   "cell_type": "code",
   "execution_count": null,
   "id": "0720fc8d",
   "metadata": {},
   "outputs": [],
   "source": [
    "NoDocbcCost = input(print(\"Was there a time in the past 12 months when you needed to see a doctor but could not because of cost? (Yes/No)\"))\n",
    "\n",
    "NoDocbcCost =  list(NoDocbcCost)[0].lower()\n",
    "if NoDocbcCost != \"y\" and \"yes\":\n",
    "    if NoDocbcCost != \"n\" and \"no\": \n",
    "        print(\"Wrong value! please enter yes or no\")\n",
    "        NoDocbcCost = input(print(\"Was there a time in the past 12 months when you needed to see a doctor but could not because of cost? (Yes/No)\"))\n",
    "    elif NoDocbcCost == \"n\":\n",
    "        NoDocbcCost =0\n",
    "elif NoDocbcCost == \"y\":\n",
    "    NoDocbcCost = 1 "
   ]
  },
  {
   "cell_type": "code",
   "execution_count": null,
   "id": "ee15bac9",
   "metadata": {},
   "outputs": [],
   "source": [
    "NoDocbcCost"
   ]
  },
  {
   "cell_type": "code",
   "execution_count": null,
   "id": "a0f24bc3",
   "metadata": {},
   "outputs": [],
   "source": [
    "GenHlth = input(print(\" Would you say that in general your health is: rate (LOW:1 ~ HIGH:5)? (1..5)\"))\n",
    "\n",
    "if (GenHlth<'1') and (GenHlth>'5'):\n",
    "    print(\"Wrong value! please enter yes or no\")\n",
    "    GenHlth = input(print(\" Would you say that in general your health is: rate (LOW:1 ~ HIGH:5)? (1..5)\"))\n",
    "if (GenHlth<'1') and (GenHlth>'5'):\n",
    "    print(\"Wrong value! please check!!!\")\n",
    "    GenHlth = input(print(\" Would you say that in general your health is: rate (LOW:1 ~ HIGH:5)? (Please ENTER 1..5)\"))\n",
    "elif (GenHlth>'1') and (GenHlth<='5'):\n",
    "    GenHlth = int(GenHlth)"
   ]
  },
  {
   "cell_type": "code",
   "execution_count": null,
   "id": "295a2433",
   "metadata": {},
   "outputs": [],
   "source": [
    "GenHlth"
   ]
  },
  {
   "cell_type": "code",
   "execution_count": null,
   "id": "14315306",
   "metadata": {},
   "outputs": [],
   "source": [
    "MentHlth = input(print(\"Now thinking about your mental health, which includes stress, depression, and problems with emotions, for how many days during the past 30 days was your mental health not good? (LOW:0 ~ HIGH:30)? (0..30)\"))\n",
    "\n",
    "if (MentHlth<'0') and (MentHlth>'30'):\n",
    "    print(\"Wrong value! please enter yes or no\")\n",
    "    MentHlth = input(print(\"Now thinking about your mental health, which includes stress, depression, and problems with emotions, for how many days during the past 30 days was your mental health not good? (0LOW:0 ~ HIGH:30)? (0..30)\"))\n",
    "if (MentHlth<'0') and (MentHlth>'30'):\n",
    "    print(\"Wrong value! please check!!!\")\n",
    "    MentHlth = input(print(\"Now thinking about your mental health, which includes stress, depression, and problems with emotions, for how many days during the past 30 days was your mental health not good? (LOW:0 ~ HIGH:30)? (Please ENTER 0..30)\"))\n",
    "elif (MentHlth>'0') and (MentHlth<='30'):\n",
    "    MentHlth = int(MentHlth)"
   ]
  },
  {
   "cell_type": "code",
   "execution_count": null,
   "id": "b1805e2e",
   "metadata": {},
   "outputs": [],
   "source": [
    "MentHlth"
   ]
  },
  {
   "cell_type": "code",
   "execution_count": null,
   "id": "ae65f542",
   "metadata": {},
   "outputs": [],
   "source": [
    "PhysHlth = input(print(\"Now thinking about your physical health, which includes physical illness and injury, for how many days during the past 30 days was your physical health not good? (LOW:0 ~ HIGH:30)? (0..30)\"))\n",
    "\n",
    "if (PhysHlth<'0') and (PhysHlth>'30'):\n",
    "    print(\"Wrong value! please enter yes or no\")\n",
    "    PhysHlth = input(print(\"Now thinking about your physical health, which includes physical illness and injury, for how many days during the past 30 days was your physical health not good? (LOW:0 ~ HIGH:30)? (0..30)\"))\n",
    "if (PhysHlth<'0') and (PhysHlth>'30'):\n",
    "    print(\"Wrong value! please check!!!\")\n",
    "    PhysHlth = input(print(\"Now thinking about your physical health, which includes physical illness and injury, for how many days during the past 30 days was your physical health not good? (LOW:0 ~ HIGH:30)? (Please ENTER 0..30)\"))\n",
    "elif (PhysHlth>'0') and (PhysHlth<='30'):\n",
    "    PhysHlth = int(PhysHlth)"
   ]
  },
  {
   "cell_type": "code",
   "execution_count": null,
   "id": "c78f3d02",
   "metadata": {},
   "outputs": [],
   "source": [
    "PhysHlth"
   ]
  },
  {
   "cell_type": "code",
   "execution_count": null,
   "id": "9a93306b",
   "metadata": {},
   "outputs": [],
   "source": [
    "DiffWalk = input(print(\"Do you have serious difficulty walking or climbing stairs? (Yes/No)\"))\n",
    "\n",
    "DiffWalk =  list(DiffWalk)[0].lower()\n",
    "if DiffWalk != \"y\" and \"yes\":\n",
    "    if DiffWalk != \"n\" and \"no\": \n",
    "        print(\"Wrong value! please enter yes or no\")\n",
    "        DiffWalk = input(print(\"Do you have serious difficulty walking or climbing stairs? (Yes/No)\"))\n",
    "    elif DiffWalk == \"n\":\n",
    "        DiffWalk =0\n",
    "elif DiffWalk == \"y\":\n",
    "    DiffWalk = 1 "
   ]
  },
  {
   "cell_type": "code",
   "execution_count": null,
   "id": "31f7d04e",
   "metadata": {},
   "outputs": [],
   "source": [
    "DiffWalk"
   ]
  },
  {
   "cell_type": "code",
   "execution_count": null,
   "id": "2f8a4df5",
   "metadata": {},
   "outputs": [],
   "source": [
    "Sex = input(print(\"Indicate sex of respondent (Female or Male)? (Female/Male)\"))\n",
    "\n",
    "Sex =  list(Sex)[0].lower()\n",
    "if Sex != \"m\" and \"male\":\n",
    "    if Sex != \"f\" and \"female\":\n",
    "        print(\"Wrong value! please enter male or female\")\n",
    "        Sex = input(print(\"Indicate sex of respondent (Female or Male)? (Female/Male)\"))\n",
    "    elif Sex == \"f\":\n",
    "        Sex =0\n",
    "elif Sex == \"m\":\n",
    "    Sex = 1 "
   ]
  },
  {
   "cell_type": "code",
   "execution_count": null,
   "id": "f3a32dae",
   "metadata": {},
   "outputs": [],
   "source": [
    "Sex"
   ]
  },
  {
   "cell_type": "code",
   "execution_count": null,
   "id": "1f6216de",
   "metadata": {},
   "outputs": [],
   "source": [
    "# Comment: Correct it\n",
    "Age = input(print(\"Fourteen-level age category (1 ~ 13)['Age'] == 1 => '18 to 24',['Age'] == 2 => '25 to 29',['Age'] == 3 => '30 to 34',['Age'] == 4 => '35 to 39',['Age'] == 5 => '40 to 44',['Age'] == 6 => '45 to 49',['Age'] == 7 => '50 to 54',['Age'] == 8 => '55 to 59',['Age'] == 9 => '60 to 64',['Age'] == 10 => '65 to 69',['Age'] == 11 => '70 to 74',['Age'] == 12 => '75 to 79',['Age'] == 13 => '80 or older'? (1..13)\"))\n",
    "\n",
    "if (Age<'1') and (Age>'13'):\n",
    "    print(\"Wrong value! please enter yes or no\")\n",
    "    Age = input(print(\"Fourteen-level age category (1 ~ 13)? (1..13)\"))\n",
    "if (Age<'1') and (Age>'13'):\n",
    "    print(\"Wrong value! please check!!!\")\n",
    "    Age = input(print(\"Fourteen-level age category (1 ~ 13)? (Please ENTER 1..13)\"))\n",
    "elif (Age>'1') and (Age<='13'):\n",
    "    Age = int(Age)"
   ]
  },
  {
   "cell_type": "code",
   "execution_count": null,
   "id": "006d3a7b",
   "metadata": {},
   "outputs": [],
   "source": [
    "Age"
   ]
  },
  {
   "cell_type": "code",
   "execution_count": null,
   "id": "7fdb0e50",
   "metadata": {},
   "outputs": [],
   "source": [
    "Education = input(print(\"What is the highest grade or year of school you completed? (1 ~ 6)['Education'] == 1 => 'Bi Savad',['Education'] == 2 => 'Sikl,['Education'] == 3 => 'Diplom',['Education'] == 4 => 'Karshenasi',['Education'] == 5 => 'Karshenasi arshad',['Education'] == 6 => 'Doctora'? (1..6)\"))\n",
    "\n",
    "if (Education<'1') and (Education>'6'):\n",
    "    print(\"Wrong value! please enter yes or no\")\n",
    "    Education = input(print(\"What is the highest grade or year of school you completed? (1 ~ 6)? (1..6)\"))\n",
    "if (Education<'1') and (Education>'6'):\n",
    "    print(\"Wrong value! please check!!!\")\n",
    "    Education = input(print(\"What is the highest grade or year of school you completed? (1 ~ 6)? (Please ENTER 1..6)\"))\n",
    "elif (Education>'1') and (Education<='6'):\n",
    "    Education = int(Education)"
   ]
  },
  {
   "cell_type": "code",
   "execution_count": null,
   "id": "9e01edc6",
   "metadata": {},
   "outputs": [],
   "source": [
    "Education"
   ]
  },
  {
   "cell_type": "code",
   "execution_count": null,
   "id": "37ca998c",
   "metadata": {},
   "outputs": [],
   "source": [
    "#######!!!!!!!! Eleminate !!!!!!!!!!!!!!###########\n",
    "#Income = input(print(\"Is your annual household income from all sources: (If respondent refuses at any income level, code) (1 ~ 8)data2.Income[data2['Income'] == 1] = 'Less Than $10,000',['Income'] == 2 => 'Less Than 60 milion Toman',['Income'] == 3 => 'Less Than 70 milion Toman',['Income'] == 4 => 'Less Than 80 milion Toman',['Income'] == 5 => 'Less Than 90 milion Toman',['Income'] == 6 => 'Less Than 100 milion Toman',['Income'] == 7 => 'Less Than 120 milion Toman',['Income'] == 8 => '150 milion Toman or More'? (1..8)\"))\n",
    "\n",
    "#if (Income<'5') and (Income>'100'):\n",
    "#    print(\"Wrong value! please enter yes or no\")\n",
    "#Income = input(print(\"Is your annual household income from all sources: (If respondent refuses at any income level, code) (1 ~ 8)? (1..8)\"))\n",
    "#if (Income<'5') and (Income>'100'):\n",
    "#    print(\"Wrong value! please check!!!\")\n",
    "#    Income = input(print(\"Is your annual household income from all sources: (If respondent refuses at any income level, code) (1 ~ 8)? (Please ENTER 1..8)\"))\n",
    "#elif (Income>'5') and (Income<='100'):\n",
    "#    Income = int(Income)"
   ]
  },
  {
   "cell_type": "code",
   "execution_count": null,
   "id": "1245c86a",
   "metadata": {},
   "outputs": [],
   "source": [
    "data.columns "
   ]
  },
  {
   "cell_type": "code",
   "execution_count": null,
   "id": "b0a11d2b",
   "metadata": {},
   "outputs": [],
   "source": [
    "new_vector = [[col1, col2, ... ]]"
   ]
  },
  {
   "cell_type": "code",
   "execution_count": null,
   "id": "1df1c9e3",
   "metadata": {},
   "outputs": [],
   "source": [
    "Diabetes_Prediction = clf.predict(new_vector)\n",
    "if Diabetes_Prediction == 1:\n",
    "    result = \"Posetive\"\n",
    "else:\n",
    "    result = \"Negative\""
   ]
  },
  {
   "cell_type": "code",
   "execution_count": null,
   "id": "90489b1b",
   "metadata": {
    "collapsed": true
   },
   "outputs": [],
   "source": [
    "print(\"Our model predicted your diabetec test result is: {}\".format(result))\n",
    "print(\"The accuracy of pediction model: {}\".format(result))\n"
   ]
  },
  {
   "cell_type": "code",
   "execution_count": null,
   "id": "699a9dc3",
   "metadata": {},
   "outputs": [],
   "source": [
    "print(\"Our model predicted that your diabetec result is: '{}'\".format(result))\n",
    "print(\"Number of participants of in this survaytion = {}\\nThe accuracy of model is: {}\".format(len(data), 86%))"
   ]
  },
  {
   "cell_type": "code",
   "execution_count": null,
   "id": "2a99e3d5",
   "metadata": {},
   "outputs": [],
   "source": []
  },
  {
   "cell_type": "code",
   "execution_count": 4,
   "id": "55cf3d9b",
   "metadata": {},
   "outputs": [
    {
     "name": "stdout",
     "output_type": "stream",
     "text": [
      "Age?\n",
      "None31\n"
     ]
    }
   ],
   "source": [
    "# Comment: continue this\n",
    "Age = int(input(print(\"Age?\")))\n",
    "if Age<24 and Age>19:\n",
    "    Age = 2\n"
   ]
  },
  {
   "cell_type": "code",
   "execution_count": 5,
   "id": "8d53ca31",
   "metadata": {},
   "outputs": [
    {
     "data": {
      "text/plain": [
       "int"
      ]
     },
     "execution_count": 5,
     "metadata": {},
     "output_type": "execute_result"
    }
   ],
   "source": [
    "data0 = data[data[\"Age\"]==Age]\n"
   ]
  },
  {
   "cell_type": "code",
   "execution_count": null,
   "id": "cb7f3c5e",
   "metadata": {},
   "outputs": [],
   "source": []
  }
 ],
 "metadata": {
  "kernelspec": {
   "display_name": "Python 3 (ipykernel)",
   "language": "python",
   "name": "python3"
  },
  "language_info": {
   "codemirror_mode": {
    "name": "ipython",
    "version": 3
   },
   "file_extension": ".py",
   "mimetype": "text/x-python",
   "name": "python",
   "nbconvert_exporter": "python",
   "pygments_lexer": "ipython3",
   "version": "3.9.7"
  }
 },
 "nbformat": 4,
 "nbformat_minor": 5
}

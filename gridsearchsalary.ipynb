{
 "cells": [
  {
   "cell_type": "code",
   "execution_count": 2,
   "id": "a06a800d",
   "metadata": {},
   "outputs": [
    {
     "data": {
      "text/html": [
       "<div>\n",
       "<style scoped>\n",
       "    .dataframe tbody tr th:only-of-type {\n",
       "        vertical-align: middle;\n",
       "    }\n",
       "\n",
       "    .dataframe tbody tr th {\n",
       "        vertical-align: top;\n",
       "    }\n",
       "\n",
       "    .dataframe thead th {\n",
       "        text-align: right;\n",
       "    }\n",
       "</style>\n",
       "<table border=\"1\" class=\"dataframe\">\n",
       "  <thead>\n",
       "    <tr style=\"text-align: right;\">\n",
       "      <th></th>\n",
       "      <th>age</th>\n",
       "      <th>workclass</th>\n",
       "      <th>fnlwgt</th>\n",
       "      <th>education</th>\n",
       "      <th>education-num</th>\n",
       "      <th>marital-status</th>\n",
       "      <th>occupation</th>\n",
       "      <th>relationship</th>\n",
       "      <th>race</th>\n",
       "      <th>sex</th>\n",
       "      <th>capital-gain</th>\n",
       "      <th>capital-loss</th>\n",
       "      <th>hours-per-week</th>\n",
       "      <th>native-country</th>\n",
       "      <th>salary</th>\n",
       "    </tr>\n",
       "  </thead>\n",
       "  <tbody>\n",
       "    <tr>\n",
       "      <th>0</th>\n",
       "      <td>39</td>\n",
       "      <td>State-gov</td>\n",
       "      <td>77516</td>\n",
       "      <td>Bachelors</td>\n",
       "      <td>13</td>\n",
       "      <td>Never-married</td>\n",
       "      <td>Adm-clerical</td>\n",
       "      <td>Not-in-family</td>\n",
       "      <td>White</td>\n",
       "      <td>Male</td>\n",
       "      <td>2174</td>\n",
       "      <td>0</td>\n",
       "      <td>40</td>\n",
       "      <td>United-States</td>\n",
       "      <td>&lt;=50K</td>\n",
       "    </tr>\n",
       "    <tr>\n",
       "      <th>1</th>\n",
       "      <td>50</td>\n",
       "      <td>Self-emp-not-inc</td>\n",
       "      <td>83311</td>\n",
       "      <td>Bachelors</td>\n",
       "      <td>13</td>\n",
       "      <td>Married-civ-spouse</td>\n",
       "      <td>Exec-managerial</td>\n",
       "      <td>Husband</td>\n",
       "      <td>White</td>\n",
       "      <td>Male</td>\n",
       "      <td>0</td>\n",
       "      <td>0</td>\n",
       "      <td>13</td>\n",
       "      <td>United-States</td>\n",
       "      <td>&lt;=50K</td>\n",
       "    </tr>\n",
       "    <tr>\n",
       "      <th>2</th>\n",
       "      <td>38</td>\n",
       "      <td>Private</td>\n",
       "      <td>215646</td>\n",
       "      <td>HS-grad</td>\n",
       "      <td>9</td>\n",
       "      <td>Divorced</td>\n",
       "      <td>Handlers-cleaners</td>\n",
       "      <td>Not-in-family</td>\n",
       "      <td>White</td>\n",
       "      <td>Male</td>\n",
       "      <td>0</td>\n",
       "      <td>0</td>\n",
       "      <td>40</td>\n",
       "      <td>United-States</td>\n",
       "      <td>&lt;=50K</td>\n",
       "    </tr>\n",
       "    <tr>\n",
       "      <th>3</th>\n",
       "      <td>53</td>\n",
       "      <td>Private</td>\n",
       "      <td>234721</td>\n",
       "      <td>11th</td>\n",
       "      <td>7</td>\n",
       "      <td>Married-civ-spouse</td>\n",
       "      <td>Handlers-cleaners</td>\n",
       "      <td>Husband</td>\n",
       "      <td>Black</td>\n",
       "      <td>Male</td>\n",
       "      <td>0</td>\n",
       "      <td>0</td>\n",
       "      <td>40</td>\n",
       "      <td>United-States</td>\n",
       "      <td>&lt;=50K</td>\n",
       "    </tr>\n",
       "    <tr>\n",
       "      <th>4</th>\n",
       "      <td>28</td>\n",
       "      <td>Private</td>\n",
       "      <td>338409</td>\n",
       "      <td>Bachelors</td>\n",
       "      <td>13</td>\n",
       "      <td>Married-civ-spouse</td>\n",
       "      <td>Prof-specialty</td>\n",
       "      <td>Wife</td>\n",
       "      <td>Black</td>\n",
       "      <td>Female</td>\n",
       "      <td>0</td>\n",
       "      <td>0</td>\n",
       "      <td>40</td>\n",
       "      <td>Cuba</td>\n",
       "      <td>&lt;=50K</td>\n",
       "    </tr>\n",
       "  </tbody>\n",
       "</table>\n",
       "</div>"
      ],
      "text/plain": [
       "   age          workclass  fnlwgt   education  education-num  \\\n",
       "0   39          State-gov   77516   Bachelors             13   \n",
       "1   50   Self-emp-not-inc   83311   Bachelors             13   \n",
       "2   38            Private  215646     HS-grad              9   \n",
       "3   53            Private  234721        11th              7   \n",
       "4   28            Private  338409   Bachelors             13   \n",
       "\n",
       "        marital-status          occupation    relationship    race      sex  \\\n",
       "0        Never-married        Adm-clerical   Not-in-family   White     Male   \n",
       "1   Married-civ-spouse     Exec-managerial         Husband   White     Male   \n",
       "2             Divorced   Handlers-cleaners   Not-in-family   White     Male   \n",
       "3   Married-civ-spouse   Handlers-cleaners         Husband   Black     Male   \n",
       "4   Married-civ-spouse      Prof-specialty            Wife   Black   Female   \n",
       "\n",
       "   capital-gain  capital-loss  hours-per-week  native-country  salary  \n",
       "0          2174             0              40   United-States   <=50K  \n",
       "1             0             0              13   United-States   <=50K  \n",
       "2             0             0              40   United-States   <=50K  \n",
       "3             0             0              40   United-States   <=50K  \n",
       "4             0             0              40            Cuba   <=50K  "
      ]
     },
     "execution_count": 2,
     "metadata": {},
     "output_type": "execute_result"
    }
   ],
   "source": [
    "import numpy as np\n",
    "import pandas as pd\n",
    "import matplotlib.pyplot as plt\n",
    "%matplotlib inline\n",
    "import seaborn as sns\n",
    "sns.set(\"talk\",\"ticks\",font_scale=1,font=\"sans-serif\",color_codes=True)\n",
    "import scipy.stats as stats\n",
    "import statsmodels.api as sm\n",
    "from sklearn import metrics\n",
    "from sklearn.linear_model import LinearRegression, Lasso, Ridge, RidgeCV\n",
    "from sklearn.preprocessing import StandardScaler\n",
    "from sklearn.model_selection import cross_val_score, GridSearchCV, train_test_split\n",
    "from sklearn.ensemble import RandomForestRegressor\n",
    "import warnings\n",
    "warnings.filterwarnings(\"ignore\")\n",
    "from pylab import rcParams\n",
    "plt.rcParams[\"figure.figsize\"] = [10,10]\n",
    "df = pd.read_csv(\"Salary1.csv\")\n",
    "df.head()"
   ]
  },
  {
   "cell_type": "code",
   "execution_count": 4,
   "id": "a2d3a53b",
   "metadata": {},
   "outputs": [],
   "source": [
    "from sklearn import preprocessing\n",
    "from sklearn.linear_model import LinearRegression\n",
    "label_encoder = preprocessing.LabelEncoder() \n",
    "df['workclass']= label_encoder.fit_transform(df['workclass']) \n",
    "df['fnlwgt']= label_encoder.fit_transform(df['fnlwgt']) \n",
    "df['education']= label_encoder.fit_transform(df['education']) \n",
    "df['marital-status']= label_encoder.fit_transform(df['marital-status']) \n",
    "df['occupation']= label_encoder.fit_transform(df['occupation']) \n",
    "df['relationship']= label_encoder.fit_transform(df['relationship']) \n",
    "df['race']= label_encoder.fit_transform(df['race']) \n",
    "df['sex']= label_encoder.fit_transform(df['sex']) \n",
    "df['native-country']= label_encoder.fit_transform(df['native-country']) \n",
    "df['salary']= label_encoder.fit_transform(df['salary']) "
   ]
  },
  {
   "cell_type": "code",
   "execution_count": 5,
   "id": "0a931de9",
   "metadata": {},
   "outputs": [
    {
     "data": {
      "text/html": [
       "<div>\n",
       "<style scoped>\n",
       "    .dataframe tbody tr th:only-of-type {\n",
       "        vertical-align: middle;\n",
       "    }\n",
       "\n",
       "    .dataframe tbody tr th {\n",
       "        vertical-align: top;\n",
       "    }\n",
       "\n",
       "    .dataframe thead th {\n",
       "        text-align: right;\n",
       "    }\n",
       "</style>\n",
       "<table border=\"1\" class=\"dataframe\">\n",
       "  <thead>\n",
       "    <tr style=\"text-align: right;\">\n",
       "      <th></th>\n",
       "      <th>age</th>\n",
       "      <th>workclass</th>\n",
       "      <th>fnlwgt</th>\n",
       "      <th>education</th>\n",
       "      <th>education-num</th>\n",
       "      <th>marital-status</th>\n",
       "      <th>occupation</th>\n",
       "      <th>relationship</th>\n",
       "      <th>race</th>\n",
       "      <th>sex</th>\n",
       "      <th>capital-gain</th>\n",
       "      <th>capital-loss</th>\n",
       "      <th>hours-per-week</th>\n",
       "      <th>native-country</th>\n",
       "      <th>salary</th>\n",
       "    </tr>\n",
       "  </thead>\n",
       "  <tbody>\n",
       "    <tr>\n",
       "      <th>0</th>\n",
       "      <td>39</td>\n",
       "      <td>7</td>\n",
       "      <td>2671</td>\n",
       "      <td>9</td>\n",
       "      <td>13</td>\n",
       "      <td>4</td>\n",
       "      <td>1</td>\n",
       "      <td>1</td>\n",
       "      <td>4</td>\n",
       "      <td>1</td>\n",
       "      <td>2174</td>\n",
       "      <td>0</td>\n",
       "      <td>40</td>\n",
       "      <td>39</td>\n",
       "      <td>0</td>\n",
       "    </tr>\n",
       "    <tr>\n",
       "      <th>1</th>\n",
       "      <td>50</td>\n",
       "      <td>6</td>\n",
       "      <td>2926</td>\n",
       "      <td>9</td>\n",
       "      <td>13</td>\n",
       "      <td>2</td>\n",
       "      <td>4</td>\n",
       "      <td>0</td>\n",
       "      <td>4</td>\n",
       "      <td>1</td>\n",
       "      <td>0</td>\n",
       "      <td>0</td>\n",
       "      <td>13</td>\n",
       "      <td>39</td>\n",
       "      <td>0</td>\n",
       "    </tr>\n",
       "    <tr>\n",
       "      <th>2</th>\n",
       "      <td>38</td>\n",
       "      <td>4</td>\n",
       "      <td>14086</td>\n",
       "      <td>11</td>\n",
       "      <td>9</td>\n",
       "      <td>0</td>\n",
       "      <td>6</td>\n",
       "      <td>1</td>\n",
       "      <td>4</td>\n",
       "      <td>1</td>\n",
       "      <td>0</td>\n",
       "      <td>0</td>\n",
       "      <td>40</td>\n",
       "      <td>39</td>\n",
       "      <td>0</td>\n",
       "    </tr>\n",
       "    <tr>\n",
       "      <th>3</th>\n",
       "      <td>53</td>\n",
       "      <td>4</td>\n",
       "      <td>15336</td>\n",
       "      <td>1</td>\n",
       "      <td>7</td>\n",
       "      <td>2</td>\n",
       "      <td>6</td>\n",
       "      <td>0</td>\n",
       "      <td>2</td>\n",
       "      <td>1</td>\n",
       "      <td>0</td>\n",
       "      <td>0</td>\n",
       "      <td>40</td>\n",
       "      <td>39</td>\n",
       "      <td>0</td>\n",
       "    </tr>\n",
       "    <tr>\n",
       "      <th>4</th>\n",
       "      <td>28</td>\n",
       "      <td>4</td>\n",
       "      <td>19355</td>\n",
       "      <td>9</td>\n",
       "      <td>13</td>\n",
       "      <td>2</td>\n",
       "      <td>10</td>\n",
       "      <td>5</td>\n",
       "      <td>2</td>\n",
       "      <td>0</td>\n",
       "      <td>0</td>\n",
       "      <td>0</td>\n",
       "      <td>40</td>\n",
       "      <td>5</td>\n",
       "      <td>0</td>\n",
       "    </tr>\n",
       "  </tbody>\n",
       "</table>\n",
       "</div>"
      ],
      "text/plain": [
       "   age  workclass  fnlwgt  education  education-num  marital-status  \\\n",
       "0   39          7    2671          9             13               4   \n",
       "1   50          6    2926          9             13               2   \n",
       "2   38          4   14086         11              9               0   \n",
       "3   53          4   15336          1              7               2   \n",
       "4   28          4   19355          9             13               2   \n",
       "\n",
       "   occupation  relationship  race  sex  capital-gain  capital-loss  \\\n",
       "0           1             1     4    1          2174             0   \n",
       "1           4             0     4    1             0             0   \n",
       "2           6             1     4    1             0             0   \n",
       "3           6             0     2    1             0             0   \n",
       "4          10             5     2    0             0             0   \n",
       "\n",
       "   hours-per-week  native-country  salary  \n",
       "0              40              39       0  \n",
       "1              13              39       0  \n",
       "2              40              39       0  \n",
       "3              40              39       0  \n",
       "4              40               5       0  "
      ]
     },
     "execution_count": 5,
     "metadata": {},
     "output_type": "execute_result"
    }
   ],
   "source": [
    "df.head()"
   ]
  },
  {
   "cell_type": "code",
   "execution_count": 6,
   "id": "cc906a13",
   "metadata": {},
   "outputs": [],
   "source": [
    "X = df.drop('salary', axis = 1)\n",
    "y = np.array(df[\"salary\"])\n",
    "x_train, x_test, y_train, y_test = train_test_split(X,y,test_size=0.2,random_state=0)\n",
    "x_train, x_val, y_train, y_val = train_test_split(x_train,y_train,test_size=0.2,random_state=0)"
   ]
  },
  {
   "cell_type": "code",
   "execution_count": 7,
   "id": "218cbeef",
   "metadata": {},
   "outputs": [],
   "source": [
    "scaler = StandardScaler()\n",
    "x_train = scaler.fit_transform(x_train)\n",
    "x_test = scaler.transform(x_test)"
   ]
  },
  {
   "cell_type": "code",
   "execution_count": 9,
   "id": "ea2735e2",
   "metadata": {},
   "outputs": [],
   "source": [
    "lm = LinearRegression().fit(x_train,y_train)\n",
    "ridge = Ridge().fit(x_train,y_train)\n",
    "ridgecv = RidgeCV().fit(x_train,y_train)\n",
    "lasso = Lasso().fit(x_train,y_train)\n",
    "rfr = RandomForestRegressor().fit(x_train,y_train)"
   ]
  },
  {
   "cell_type": "code",
   "execution_count": 10,
   "id": "4b111aee",
   "metadata": {},
   "outputs": [],
   "source": [
    "def get_val_score(model):\n",
    "    scores = cross_val_score(model, x_train, y_train, scoring=\"r2\")\n",
    "    print(\"CV mean: \", np.mean(scores))\n",
    "    print(\"CV std: \", np.std(scores))\n",
    "    print(\"\\n\")"
   ]
  },
  {
   "cell_type": "code",
   "execution_count": 11,
   "id": "bfa96380",
   "metadata": {},
   "outputs": [
    {
     "name": "stdout",
     "output_type": "stream",
     "text": [
      "CV mean:  0.2605539665205825\n",
      "CV std:  0.004582883414221149\n",
      "\n",
      "\n"
     ]
    }
   ],
   "source": [
    "get_val_score(lm)"
   ]
  },
  {
   "cell_type": "code",
   "execution_count": 12,
   "id": "5dd472ae",
   "metadata": {},
   "outputs": [
    {
     "name": "stdout",
     "output_type": "stream",
     "text": [
      "CV mean:  -0.00022411762750897956\n",
      "CV std:  0.00024176864718815195\n",
      "\n",
      "\n"
     ]
    }
   ],
   "source": [
    "get_val_score(lasso)"
   ]
  },
  {
   "cell_type": "code",
   "execution_count": 13,
   "id": "b7b7d108",
   "metadata": {},
   "outputs": [
    {
     "name": "stdout",
     "output_type": "stream",
     "text": [
      "CV mean:  0.2605540752023871\n",
      "CV std:  0.004582932437982547\n",
      "\n",
      "\n"
     ]
    }
   ],
   "source": [
    "get_val_score(ridge)"
   ]
  },
  {
   "cell_type": "code",
   "execution_count": 14,
   "id": "7307f7ed",
   "metadata": {},
   "outputs": [
    {
     "name": "stdout",
     "output_type": "stream",
     "text": [
      "CV mean:  0.2605550025424061\n",
      "CV std:  0.004583375142160328\n",
      "\n",
      "\n"
     ]
    }
   ],
   "source": [
    "get_val_score(ridgecv)"
   ]
  },
  {
   "cell_type": "code",
   "execution_count": 15,
   "id": "1c019c29",
   "metadata": {},
   "outputs": [
    {
     "name": "stdout",
     "output_type": "stream",
     "text": [
      "CV mean:  0.44394435611511235\n",
      "CV std:  0.006680013699694497\n",
      "\n",
      "\n"
     ]
    }
   ],
   "source": [
    "get_val_score(rfr)"
   ]
  },
  {
   "cell_type": "code",
   "execution_count": 16,
   "id": "8472de34",
   "metadata": {},
   "outputs": [
    {
     "data": {
      "text/plain": [
       "GridSearchCV(estimator=LinearRegression(), n_jobs=-1,\n",
       "             param_grid={'copy_X': [True, False],\n",
       "                         'fit_intercept': [True, False],\n",
       "                         'normalize': [True, False]})"
      ]
     },
     "execution_count": 16,
     "metadata": {},
     "output_type": "execute_result"
    }
   ],
   "source": [
    "param_gridOLS = {'fit_intercept':[True,False], 'normalize':[True,False], 'copy_X':[True, False]}\n",
    "grid_modelOLS  = GridSearchCV(estimator=lm, param_grid=param_gridOLS, n_jobs=-1)\n",
    "grid_modelOLS.fit(x_train,y_train)"
   ]
  },
  {
   "cell_type": "code",
   "execution_count": 17,
   "id": "f58cf9a6",
   "metadata": {},
   "outputs": [
    {
     "name": "stdout",
     "output_type": "stream",
     "text": [
      "Best score 0.2605539665205825 Best parameters {'copy_X': True, 'fit_intercept': True, 'normalize': True}\n"
     ]
    }
   ],
   "source": [
    "print(\"Best score\", grid_modelOLS.best_score_, \"Best parameters\", grid_modelOLS.best_params_)"
   ]
  },
  {
   "cell_type": "code",
   "execution_count": 19,
   "id": "67d121c4",
   "metadata": {},
   "outputs": [
    {
     "data": {
      "text/plain": [
       "GridSearchCV(estimator=Ridge(), n_jobs=-1,\n",
       "             param_grid={'alpha': [0.0001, 0.001, 0.01, 0.1, 1, 10, 100, 1000]})"
      ]
     },
     "execution_count": 19,
     "metadata": {},
     "output_type": "execute_result"
    }
   ],
   "source": [
    "alpharidge = [0.0001,0.001,0.01,0.1,1,10,100,1000]\n",
    "param_gridridge = dict(alpha=alpharidge)\n",
    "grid_modelridge  = GridSearchCV(estimator=ridge, param_grid=param_gridridge, n_jobs=-1)\n",
    "grid_modelridge .fit(x_train,y_train)"
   ]
  },
  {
   "cell_type": "code",
   "execution_count": 20,
   "id": "8ba2bb3c",
   "metadata": {},
   "outputs": [
    {
     "name": "stdout",
     "output_type": "stream",
     "text": [
      "Best score 0.2605593185334487 Best parameters {'alpha': 100}\n"
     ]
    }
   ],
   "source": [
    "print(\"Best score\", grid_modelridge.best_score_, \"Best parameters\", grid_modelridge.best_params_)"
   ]
  },
  {
   "cell_type": "code",
   "execution_count": 22,
   "id": "4b797431",
   "metadata": {},
   "outputs": [
    {
     "data": {
      "text/plain": [
       "GridSearchCV(estimator=Lasso(), n_jobs=-1,\n",
       "             param_grid={'alpha': [0.0001, 0.001, 0.01, 0.1, 1, 10, 100, 1000]})"
      ]
     },
     "execution_count": 22,
     "metadata": {},
     "output_type": "execute_result"
    }
   ],
   "source": [
    "alphalasso = [0.0001,0.001,0.01,0.1,1,10,100,1000]\n",
    "param_gridlasso = dict(alpha=alphalasso)\n",
    "grid_modellasso = GridSearchCV(estimator=lasso, param_grid=param_gridlasso, n_jobs=-1)\n",
    "grid_modellasso.fit(x_train,y_train)"
   ]
  },
  {
   "cell_type": "code",
   "execution_count": 23,
   "id": "dee0b042",
   "metadata": {},
   "outputs": [
    {
     "name": "stdout",
     "output_type": "stream",
     "text": [
      "Best score 0.2605570251636808 Best parameters {'alpha': 0.0001}\n"
     ]
    }
   ],
   "source": [
    "print(\"Best score\", grid_modellasso.best_score_, \"Best parameters\", grid_modellasso.best_params_)"
   ]
  },
  {
   "cell_type": "code",
   "execution_count": 24,
   "id": "9276dca4",
   "metadata": {},
   "outputs": [
    {
     "data": {
      "text/plain": [
       "GridSearchCV(estimator=RandomForestRegressor(), n_jobs=-1,\n",
       "             param_grid={'max_depth': [2, 4, 6, 8],\n",
       "                         'min_samples_leaf': [1, 2, 3, 4, 5],\n",
       "                         'n_estimators': [2, 4, 6, 8, 10, 12, 14]})"
      ]
     },
     "execution_count": 24,
     "metadata": {},
     "output_type": "execute_result"
    }
   ],
   "source": [
    "param_gridrfr = {\"n_estimators\": [2,4,6,8,10,12,14], \"max_depth\": [2,4,6,8], \"min_samples_leaf\": [1,2,3,4,5]}\n",
    "grid_modelrfr = GridSearchCV(estimator=rfr, param_grid=param_gridrfr, n_jobs=-1)\n",
    "grid_modelrfr.fit(x_train,y_train)"
   ]
  },
  {
   "cell_type": "code",
   "execution_count": 25,
   "id": "b2446fd6",
   "metadata": {},
   "outputs": [
    {
     "name": "stdout",
     "output_type": "stream",
     "text": [
      "Best score 0.46369313468294865 Best parameters {'max_depth': 8, 'min_samples_leaf': 1, 'n_estimators': 14}\n"
     ]
    }
   ],
   "source": [
    "print(\"Best score\", grid_modelrfr.best_score_, \"Best parameters\", grid_modelrfr.best_params_)"
   ]
  },
  {
   "cell_type": "code",
   "execution_count": 32,
   "id": "e38cc0cb",
   "metadata": {},
   "outputs": [
    {
     "data": {
      "text/html": [
       "<div>\n",
       "<style scoped>\n",
       "    .dataframe tbody tr th:only-of-type {\n",
       "        vertical-align: middle;\n",
       "    }\n",
       "\n",
       "    .dataframe tbody tr th {\n",
       "        vertical-align: top;\n",
       "    }\n",
       "\n",
       "    .dataframe thead th {\n",
       "        text-align: right;\n",
       "    }\n",
       "</style>\n",
       "<table border=\"1\" class=\"dataframe\">\n",
       "  <thead>\n",
       "    <tr style=\"text-align: right;\">\n",
       "      <th></th>\n",
       "      <th>Ordinary Least Squared</th>\n",
       "      <th>Ridge</th>\n",
       "      <th>RidgeCV</th>\n",
       "      <th>Lasso</th>\n",
       "      <th>RidgeCV</th>\n",
       "      <th>Lasso</th>\n",
       "    </tr>\n",
       "  </thead>\n",
       "  <tbody>\n",
       "    <tr>\n",
       "      <th>0</th>\n",
       "      <td>0.099877</td>\n",
       "      <td>0.099877</td>\n",
       "      <td>0.099935</td>\n",
       "      <td>0.100220</td>\n",
       "      <td>0.099935</td>\n",
       "      <td>0.100220</td>\n",
       "    </tr>\n",
       "    <tr>\n",
       "      <th>1</th>\n",
       "      <td>0.223420</td>\n",
       "      <td>0.223420</td>\n",
       "      <td>0.223416</td>\n",
       "      <td>0.223309</td>\n",
       "      <td>0.223416</td>\n",
       "      <td>0.223309</td>\n",
       "    </tr>\n",
       "    <tr>\n",
       "      <th>2</th>\n",
       "      <td>0.352056</td>\n",
       "      <td>0.352056</td>\n",
       "      <td>0.352010</td>\n",
       "      <td>0.351646</td>\n",
       "      <td>0.352010</td>\n",
       "      <td>0.351646</td>\n",
       "    </tr>\n",
       "    <tr>\n",
       "      <th>3</th>\n",
       "      <td>0.208949</td>\n",
       "      <td>0.208949</td>\n",
       "      <td>0.209003</td>\n",
       "      <td>0.208932</td>\n",
       "      <td>0.209003</td>\n",
       "      <td>0.208932</td>\n",
       "    </tr>\n",
       "    <tr>\n",
       "      <th>4</th>\n",
       "      <td>0.716132</td>\n",
       "      <td>0.716132</td>\n",
       "      <td>0.715977</td>\n",
       "      <td>0.714854</td>\n",
       "      <td>0.715977</td>\n",
       "      <td>0.714854</td>\n",
       "    </tr>\n",
       "    <tr>\n",
       "      <th>...</th>\n",
       "      <td>...</td>\n",
       "      <td>...</td>\n",
       "      <td>...</td>\n",
       "      <td>...</td>\n",
       "      <td>...</td>\n",
       "      <td>...</td>\n",
       "    </tr>\n",
       "    <tr>\n",
       "      <th>6508</th>\n",
       "      <td>0.313311</td>\n",
       "      <td>0.313311</td>\n",
       "      <td>0.313354</td>\n",
       "      <td>0.313708</td>\n",
       "      <td>0.313354</td>\n",
       "      <td>0.313708</td>\n",
       "    </tr>\n",
       "    <tr>\n",
       "      <th>6509</th>\n",
       "      <td>0.055111</td>\n",
       "      <td>0.055111</td>\n",
       "      <td>0.055141</td>\n",
       "      <td>0.055108</td>\n",
       "      <td>0.055141</td>\n",
       "      <td>0.055108</td>\n",
       "    </tr>\n",
       "    <tr>\n",
       "      <th>6510</th>\n",
       "      <td>0.599869</td>\n",
       "      <td>0.599869</td>\n",
       "      <td>0.599742</td>\n",
       "      <td>0.599536</td>\n",
       "      <td>0.599742</td>\n",
       "      <td>0.599536</td>\n",
       "    </tr>\n",
       "    <tr>\n",
       "      <th>6511</th>\n",
       "      <td>0.345111</td>\n",
       "      <td>0.345111</td>\n",
       "      <td>0.345103</td>\n",
       "      <td>0.344940</td>\n",
       "      <td>0.345103</td>\n",
       "      <td>0.344940</td>\n",
       "    </tr>\n",
       "    <tr>\n",
       "      <th>6512</th>\n",
       "      <td>0.305356</td>\n",
       "      <td>0.305356</td>\n",
       "      <td>0.305372</td>\n",
       "      <td>0.305485</td>\n",
       "      <td>0.305372</td>\n",
       "      <td>0.305485</td>\n",
       "    </tr>\n",
       "  </tbody>\n",
       "</table>\n",
       "<p>6513 rows × 6 columns</p>\n",
       "</div>"
      ],
      "text/plain": [
       "      Ordinary Least Squared     Ridge   RidgeCV     Lasso   RidgeCV     Lasso\n",
       "0                   0.099877  0.099877  0.099935  0.100220  0.099935  0.100220\n",
       "1                   0.223420  0.223420  0.223416  0.223309  0.223416  0.223309\n",
       "2                   0.352056  0.352056  0.352010  0.351646  0.352010  0.351646\n",
       "3                   0.208949  0.208949  0.209003  0.208932  0.209003  0.208932\n",
       "4                   0.716132  0.716132  0.715977  0.714854  0.715977  0.714854\n",
       "...                      ...       ...       ...       ...       ...       ...\n",
       "6508                0.313311  0.313311  0.313354  0.313708  0.313354  0.313708\n",
       "6509                0.055111  0.055111  0.055141  0.055108  0.055141  0.055108\n",
       "6510                0.599869  0.599869  0.599742  0.599536  0.599742  0.599536\n",
       "6511                0.345111  0.345111  0.345103  0.344940  0.345103  0.344940\n",
       "6512                0.305356  0.305356  0.305372  0.305485  0.305372  0.305485\n",
       "\n",
       "[6513 rows x 6 columns]"
      ]
     },
     "execution_count": 32,
     "metadata": {},
     "output_type": "execute_result"
    }
   ],
   "source": [
    "y_predlm = lm.predict(x_test)\n",
    "y_predlm = pd.DataFrame(y_predlm, columns = [\"Ordinary Least Squared\"])\n",
    "y_predridge = ridge.predict(x_test)\n",
    "y_predridge = pd.DataFrame(y_predridge, columns = [\"Ridge\"])\n",
    "y_predridgecv = ridgecv.predict(x_test)\n",
    "y_predridgecv = pd.DataFrame(y_predridgecv, columns = [\"RidgeCV\"])\n",
    "y_predlasso = lasso.predict(x_test)\n",
    "y_predlasso = pd.DataFrame(y_predlasso, columns = [\"Lasso\"])\n",
    "y_predrfr = rfr.predict(x_test)\n",
    "y_predrfr= pd.DataFrame(y_predrfr, columns = [\"Random Forest\"])\n",
    "prediction1 = pd.concat([y_predlm,y_predridge],axis=1)\n",
    "prediction2 = pd.concat([y_predridgecv,y_predlasso],axis=1)\n",
    "prediction3 = pd.concat([prediction1,prediction2],axis=1)\n",
    "prediction4 = pd.concat([prediction3,prediction2],axis=1)\n",
    "prediction4"
   ]
  },
  {
   "cell_type": "code",
   "execution_count": 33,
   "id": "0eb8855a",
   "metadata": {},
   "outputs": [
    {
     "data": {
      "text/html": [
       "<div>\n",
       "<style scoped>\n",
       "    .dataframe tbody tr th:only-of-type {\n",
       "        vertical-align: middle;\n",
       "    }\n",
       "\n",
       "    .dataframe tbody tr th {\n",
       "        vertical-align: top;\n",
       "    }\n",
       "\n",
       "    .dataframe thead th {\n",
       "        text-align: right;\n",
       "    }\n",
       "</style>\n",
       "<table border=\"1\" class=\"dataframe\">\n",
       "  <thead>\n",
       "    <tr style=\"text-align: right;\">\n",
       "      <th></th>\n",
       "      <th>Actual</th>\n",
       "    </tr>\n",
       "  </thead>\n",
       "  <tbody>\n",
       "    <tr>\n",
       "      <th>0</th>\n",
       "      <td>0</td>\n",
       "    </tr>\n",
       "    <tr>\n",
       "      <th>1</th>\n",
       "      <td>0</td>\n",
       "    </tr>\n",
       "    <tr>\n",
       "      <th>2</th>\n",
       "      <td>0</td>\n",
       "    </tr>\n",
       "    <tr>\n",
       "      <th>3</th>\n",
       "      <td>0</td>\n",
       "    </tr>\n",
       "    <tr>\n",
       "      <th>4</th>\n",
       "      <td>1</td>\n",
       "    </tr>\n",
       "    <tr>\n",
       "      <th>...</th>\n",
       "      <td>...</td>\n",
       "    </tr>\n",
       "    <tr>\n",
       "      <th>6508</th>\n",
       "      <td>1</td>\n",
       "    </tr>\n",
       "    <tr>\n",
       "      <th>6509</th>\n",
       "      <td>0</td>\n",
       "    </tr>\n",
       "    <tr>\n",
       "      <th>6510</th>\n",
       "      <td>1</td>\n",
       "    </tr>\n",
       "    <tr>\n",
       "      <th>6511</th>\n",
       "      <td>0</td>\n",
       "    </tr>\n",
       "    <tr>\n",
       "      <th>6512</th>\n",
       "      <td>1</td>\n",
       "    </tr>\n",
       "  </tbody>\n",
       "</table>\n",
       "<p>6513 rows × 1 columns</p>\n",
       "</div>"
      ],
      "text/plain": [
       "      Actual\n",
       "0          0\n",
       "1          0\n",
       "2          0\n",
       "3          0\n",
       "4          1\n",
       "...      ...\n",
       "6508       1\n",
       "6509       0\n",
       "6510       1\n",
       "6511       0\n",
       "6512       1\n",
       "\n",
       "[6513 rows x 1 columns]"
      ]
     },
     "execution_count": 33,
     "metadata": {},
     "output_type": "execute_result"
    }
   ],
   "source": [
    "y_test = pd.DataFrame(y_test, columns = [\"Actual\"])\n",
    "y_test"
   ]
  },
  {
   "cell_type": "code",
   "execution_count": 34,
   "id": "d2f27043",
   "metadata": {},
   "outputs": [
    {
     "data": {
      "text/plain": [
       "Actual    0.244895\n",
       "dtype: float64"
      ]
     },
     "execution_count": 34,
     "metadata": {},
     "output_type": "execute_result"
    }
   ],
   "source": [
    "y_test.mean()"
   ]
  },
  {
   "cell_type": "code",
   "execution_count": 43,
   "id": "b5eb1c6c",
   "metadata": {},
   "outputs": [
    {
     "data": {
      "text/html": [
       "<div>\n",
       "<style scoped>\n",
       "    .dataframe tbody tr th:only-of-type {\n",
       "        vertical-align: middle;\n",
       "    }\n",
       "\n",
       "    .dataframe tbody tr th {\n",
       "        vertical-align: top;\n",
       "    }\n",
       "\n",
       "    .dataframe thead th {\n",
       "        text-align: right;\n",
       "    }\n",
       "</style>\n",
       "<table border=\"1\" class=\"dataframe\">\n",
       "  <thead>\n",
       "    <tr style=\"text-align: right;\">\n",
       "      <th></th>\n",
       "      <th>MAE</th>\n",
       "      <th>MSE</th>\n",
       "      <th>RMSE</th>\n",
       "      <th>R2</th>\n",
       "    </tr>\n",
       "  </thead>\n",
       "  <tbody>\n",
       "    <tr>\n",
       "      <th>Ordinary Least Squared</th>\n",
       "      <td>0.297900</td>\n",
       "      <td>0.137057</td>\n",
       "      <td>0.370212</td>\n",
       "      <td>0.258835</td>\n",
       "    </tr>\n",
       "    <tr>\n",
       "      <th>Ridge</th>\n",
       "      <td>0.297900</td>\n",
       "      <td>0.137057</td>\n",
       "      <td>0.370212</td>\n",
       "      <td>0.258835</td>\n",
       "    </tr>\n",
       "    <tr>\n",
       "      <th>RidgeCV</th>\n",
       "      <td>0.297904</td>\n",
       "      <td>0.137058</td>\n",
       "      <td>0.370213</td>\n",
       "      <td>0.258831</td>\n",
       "    </tr>\n",
       "    <tr>\n",
       "      <th>Lasso</th>\n",
       "      <td>0.297915</td>\n",
       "      <td>0.137057</td>\n",
       "      <td>0.370212</td>\n",
       "      <td>0.258837</td>\n",
       "    </tr>\n",
       "    <tr>\n",
       "      <th>Random Forest</th>\n",
       "      <td>0.199218</td>\n",
       "      <td>0.107948</td>\n",
       "      <td>0.328555</td>\n",
       "      <td>0.416246</td>\n",
       "    </tr>\n",
       "  </tbody>\n",
       "</table>\n",
       "</div>"
      ],
      "text/plain": [
       "                             MAE       MSE      RMSE        R2\n",
       "Ordinary Least Squared  0.297900  0.137057  0.370212  0.258835\n",
       "Ridge                   0.297900  0.137057  0.370212  0.258835\n",
       "RidgeCV                 0.297904  0.137058  0.370213  0.258831\n",
       "Lasso                   0.297915  0.137057  0.370212  0.258837\n",
       "Random Forest           0.199218  0.107948  0.328555  0.416246"
      ]
     },
     "execution_count": 43,
     "metadata": {},
     "output_type": "execute_result"
    }
   ],
   "source": [
    "MAElm = metrics.mean_absolute_error(y_test,y_predlm)\n",
    "MAEridge = metrics.mean_absolute_error(y_test,y_predridge)\n",
    "MAEridgecv = metrics.mean_absolute_error(y_test,y_predridgecv)\n",
    "MAElasso = metrics.mean_absolute_error(y_test,y_predlasso)\n",
    "MAErfr = metrics.mean_absolute_error(y_test,y_predrfr)\n",
    "MAEmodel = [[MAElm,MAEridge,MAEridgecv,MAElasso,MAErfr]]\n",
    "MAEmodeldata = pd.DataFrame(MAEmodel, columns = (\"Ordinary Least Squared\", \"Ridge\", \"RidgeCV\", \"Lasso\", \"Random Forest\"), index=[\"MAE\"]).transpose()\n",
    "MSElm = metrics.mean_squared_error(y_test,y_predlm)\n",
    "MSEridge = metrics.mean_squared_error(y_test,y_predridge)\n",
    "MSEridgecv = metrics.mean_squared_error(y_test,y_predridgecv)\n",
    "MSElasso = metrics.mean_squared_error(y_test,y_predlasso)\n",
    "MSErfr = metrics.mean_squared_error(y_test,y_predrfr)\n",
    "MSEmodel = [[MSElm,MSEridge,MSEridgecv,MSElasso,MSErfr]]\n",
    "MSEmodeldata = pd.DataFrame(MSEmodel, columns = (\"Ordinary Least Squared\", \"Ridge\", \"RidgeCV\", \"Lasso\", \"Random Forest\"), index=[\"MSE\"]).transpose()\n",
    "RMSElm = np.sqrt(MSElm)\n",
    "RMSEridge = np.sqrt(MSEridge)\n",
    "RMSEridgecv = np.sqrt(MSEridgecv)\n",
    "RMSElasso = np.sqrt(MSElasso)\n",
    "RMSErfr = np.sqrt(MSErfr)\n",
    "RMSEmodel = [[RMSElm,RMSEridge,RMSEridgecv,RMSElasso,RMSErfr]]\n",
    "RMSEmodeldata = pd.DataFrame(RMSEmodel, columns = (\"Ordinary Least Squared\", \"Ridge\", \"RidgeCV\", \"Lasso\", \"Random Forest\"), index=[\"RMSE\"]).transpose()\n",
    "R2lm = metrics.r2_score(y_test,y_predlm)\n",
    "R2ridge = metrics.r2_score(y_test,y_predridge)\n",
    "R2ridgecv = metrics.r2_score(y_test,y_predridgecv)\n",
    "R2lasso = metrics.r2_score(y_test,y_predlasso)\n",
    "R2rfr = metrics.r2_score(y_test,y_predrfr)\n",
    "R2model = [[R2lm,R2ridge,R2ridgecv,R2lasso,R2rfr]]\n",
    "R2modeldata = pd.DataFrame(R2model, columns = (\"Ordinary Least Squared\", \"Ridge\", \"RidgeCV\", \"Lasso\", \"Random Forest\"), index=[\"R2\"]).transpose()\n",
    "modelevaluation1 = pd.concat([MAEmodeldata, MSEmodeldata],axis=1)\n",
    "modelevaluation2 = pd.concat([RMSEmodeldata, R2modeldata],axis=1)\n",
    "modelevaluation3 = pd.concat([modelevaluation1, modelevaluation2],axis=1)\n",
    "modelevaluation3"
   ]
  },
  {
   "cell_type": "code",
   "execution_count": 46,
   "id": "4209549b",
   "metadata": {},
   "outputs": [
    {
     "data": {
      "image/png": "[encoded data removed]",
      "text/plain": [
       "<Figure size 720x720 with 1 Axes>"
      ]
     },
     "metadata": {},
     "output_type": "display_data"
    }
   ],
   "source": [
    "plt.scatter(y_test,y_predridgecv,alpha=0.8)\n",
    "plt.axhline(color=\"red\",alpha=0.8)\n",
    "plt.title(\"Actual Salary vs Predicted Salary\")\n",
    "plt.xlabel(\"Actual Salary\")\n",
    "plt.ylabel(\"Predicted Salary\")\n",
    "plt.show()"
   ]
  },
  {
   "cell_type": "code",
   "execution_count": null,
   "id": "275873ad",
   "metadata": {},
   "outputs": [],
   "source": []
  }
 ],
 "metadata": {
  "kernelspec": {
   "display_name": "Python 3 (ipykernel)",
   "language": "python",
   "name": "python3"
  },
  "language_info": {
   "codemirror_mode": {
    "name": "ipython",
    "version": 3
   },
   "file_extension": ".py",
   "mimetype": "text/x-python",
   "name": "python",
   "nbconvert_exporter": "python",
   "pygments_lexer": "ipython3",
   "version": "3.9.7"
  }
 },
 "nbformat": 4,
 "nbformat_minor": 5
}

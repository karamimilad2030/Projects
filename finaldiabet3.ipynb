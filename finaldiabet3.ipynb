{
 "cells": [
  {
   "cell_type": "markdown",
   "id": "c1eec103",
   "metadata": {},
   "source": [
    "# Phase1: Predicting Model"
   ]
  },
  {
   "cell_type": "code",
   "execution_count": 1,
   "id": "31207f36",
   "metadata": {},
   "outputs": [],
   "source": [
    "import pandas as pd\n",
    "import lightgbm as lgb\n",
    "from sklearn import metrics\n",
    "import matplotlib.pyplot as plt\n",
    "import numpy as np\n",
    "import seaborn as sns"
   ]
  },
  {
   "cell_type": "code",
   "execution_count": 118,
   "id": "6d994e25",
   "metadata": {},
   "outputs": [],
   "source": [
    "import seaborn as sns\n",
    "import matplotlib.pyplot as plt\n",
    "import warnings\n",
    "import plotly.express as px\n",
    "px_template = \"simple_white\""
   ]
  },
  {
   "cell_type": "code",
   "execution_count": 2,
   "id": "b34c0ef2",
   "metadata": {},
   "outputs": [],
   "source": [
    "data = pd.read_csv('diabetes_012_health_indicators_BRFSS2015.csv')"
   ]
  },
  {
   "cell_type": "code",
   "execution_count": 3,
   "id": "1e39608b",
   "metadata": {},
   "outputs": [
    {
     "data": {
      "text/html": [
       "<div>\n",
       "<style scoped>\n",
       "    .dataframe tbody tr th:only-of-type {\n",
       "        vertical-align: middle;\n",
       "    }\n",
       "\n",
       "    .dataframe tbody tr th {\n",
       "        vertical-align: top;\n",
       "    }\n",
       "\n",
       "    .dataframe thead th {\n",
       "        text-align: right;\n",
       "    }\n",
       "</style>\n",
       "<table border=\"1\" class=\"dataframe\">\n",
       "  <thead>\n",
       "    <tr style=\"text-align: right;\">\n",
       "      <th></th>\n",
       "      <th>Diabetes_012</th>\n",
       "      <th>HighBP</th>\n",
       "      <th>HighChol</th>\n",
       "      <th>CholCheck</th>\n",
       "      <th>BMI</th>\n",
       "      <th>Smoker</th>\n",
       "      <th>Stroke</th>\n",
       "      <th>HeartDiseaseorAttack</th>\n",
       "      <th>PhysActivity</th>\n",
       "      <th>Fruits</th>\n",
       "      <th>...</th>\n",
       "      <th>AnyHealthcare</th>\n",
       "      <th>NoDocbcCost</th>\n",
       "      <th>GenHlth</th>\n",
       "      <th>MentHlth</th>\n",
       "      <th>PhysHlth</th>\n",
       "      <th>DiffWalk</th>\n",
       "      <th>Sex</th>\n",
       "      <th>Age</th>\n",
       "      <th>Education</th>\n",
       "      <th>Income</th>\n",
       "    </tr>\n",
       "  </thead>\n",
       "  <tbody>\n",
       "    <tr>\n",
       "      <th>0</th>\n",
       "      <td>0.0</td>\n",
       "      <td>1.0</td>\n",
       "      <td>1.0</td>\n",
       "      <td>1.0</td>\n",
       "      <td>40.0</td>\n",
       "      <td>1.0</td>\n",
       "      <td>0.0</td>\n",
       "      <td>0.0</td>\n",
       "      <td>0.0</td>\n",
       "      <td>0.0</td>\n",
       "      <td>...</td>\n",
       "      <td>1.0</td>\n",
       "      <td>0.0</td>\n",
       "      <td>5.0</td>\n",
       "      <td>18.0</td>\n",
       "      <td>15.0</td>\n",
       "      <td>1.0</td>\n",
       "      <td>0.0</td>\n",
       "      <td>9.0</td>\n",
       "      <td>4.0</td>\n",
       "      <td>3.0</td>\n",
       "    </tr>\n",
       "    <tr>\n",
       "      <th>1</th>\n",
       "      <td>0.0</td>\n",
       "      <td>0.0</td>\n",
       "      <td>0.0</td>\n",
       "      <td>0.0</td>\n",
       "      <td>25.0</td>\n",
       "      <td>1.0</td>\n",
       "      <td>0.0</td>\n",
       "      <td>0.0</td>\n",
       "      <td>1.0</td>\n",
       "      <td>0.0</td>\n",
       "      <td>...</td>\n",
       "      <td>0.0</td>\n",
       "      <td>1.0</td>\n",
       "      <td>3.0</td>\n",
       "      <td>0.0</td>\n",
       "      <td>0.0</td>\n",
       "      <td>0.0</td>\n",
       "      <td>0.0</td>\n",
       "      <td>7.0</td>\n",
       "      <td>6.0</td>\n",
       "      <td>1.0</td>\n",
       "    </tr>\n",
       "    <tr>\n",
       "      <th>2</th>\n",
       "      <td>0.0</td>\n",
       "      <td>1.0</td>\n",
       "      <td>1.0</td>\n",
       "      <td>1.0</td>\n",
       "      <td>28.0</td>\n",
       "      <td>0.0</td>\n",
       "      <td>0.0</td>\n",
       "      <td>0.0</td>\n",
       "      <td>0.0</td>\n",
       "      <td>1.0</td>\n",
       "      <td>...</td>\n",
       "      <td>1.0</td>\n",
       "      <td>1.0</td>\n",
       "      <td>5.0</td>\n",
       "      <td>30.0</td>\n",
       "      <td>30.0</td>\n",
       "      <td>1.0</td>\n",
       "      <td>0.0</td>\n",
       "      <td>9.0</td>\n",
       "      <td>4.0</td>\n",
       "      <td>8.0</td>\n",
       "    </tr>\n",
       "    <tr>\n",
       "      <th>3</th>\n",
       "      <td>0.0</td>\n",
       "      <td>1.0</td>\n",
       "      <td>0.0</td>\n",
       "      <td>1.0</td>\n",
       "      <td>27.0</td>\n",
       "      <td>0.0</td>\n",
       "      <td>0.0</td>\n",
       "      <td>0.0</td>\n",
       "      <td>1.0</td>\n",
       "      <td>1.0</td>\n",
       "      <td>...</td>\n",
       "      <td>1.0</td>\n",
       "      <td>0.0</td>\n",
       "      <td>2.0</td>\n",
       "      <td>0.0</td>\n",
       "      <td>0.0</td>\n",
       "      <td>0.0</td>\n",
       "      <td>0.0</td>\n",
       "      <td>11.0</td>\n",
       "      <td>3.0</td>\n",
       "      <td>6.0</td>\n",
       "    </tr>\n",
       "    <tr>\n",
       "      <th>4</th>\n",
       "      <td>0.0</td>\n",
       "      <td>1.0</td>\n",
       "      <td>1.0</td>\n",
       "      <td>1.0</td>\n",
       "      <td>24.0</td>\n",
       "      <td>0.0</td>\n",
       "      <td>0.0</td>\n",
       "      <td>0.0</td>\n",
       "      <td>1.0</td>\n",
       "      <td>1.0</td>\n",
       "      <td>...</td>\n",
       "      <td>1.0</td>\n",
       "      <td>0.0</td>\n",
       "      <td>2.0</td>\n",
       "      <td>3.0</td>\n",
       "      <td>0.0</td>\n",
       "      <td>0.0</td>\n",
       "      <td>0.0</td>\n",
       "      <td>11.0</td>\n",
       "      <td>5.0</td>\n",
       "      <td>4.0</td>\n",
       "    </tr>\n",
       "  </tbody>\n",
       "</table>\n",
       "<p>5 rows × 22 columns</p>\n",
       "</div>"
      ],
      "text/plain": [
       "   Diabetes_012  HighBP  HighChol  CholCheck   BMI  Smoker  Stroke  \\\n",
       "0           0.0     1.0       1.0        1.0  40.0     1.0     0.0   \n",
       "1           0.0     0.0       0.0        0.0  25.0     1.0     0.0   \n",
       "2           0.0     1.0       1.0        1.0  28.0     0.0     0.0   \n",
       "3           0.0     1.0       0.0        1.0  27.0     0.0     0.0   \n",
       "4           0.0     1.0       1.0        1.0  24.0     0.0     0.0   \n",
       "\n",
       "   HeartDiseaseorAttack  PhysActivity  Fruits  ...  AnyHealthcare  \\\n",
       "0                   0.0           0.0     0.0  ...            1.0   \n",
       "1                   0.0           1.0     0.0  ...            0.0   \n",
       "2                   0.0           0.0     1.0  ...            1.0   \n",
       "3                   0.0           1.0     1.0  ...            1.0   \n",
       "4                   0.0           1.0     1.0  ...            1.0   \n",
       "\n",
       "   NoDocbcCost  GenHlth  MentHlth  PhysHlth  DiffWalk  Sex   Age  Education  \\\n",
       "0          0.0      5.0      18.0      15.0       1.0  0.0   9.0        4.0   \n",
       "1          1.0      3.0       0.0       0.0       0.0  0.0   7.0        6.0   \n",
       "2          1.0      5.0      30.0      30.0       1.0  0.0   9.0        4.0   \n",
       "3          0.0      2.0       0.0       0.0       0.0  0.0  11.0        3.0   \n",
       "4          0.0      2.0       3.0       0.0       0.0  0.0  11.0        5.0   \n",
       "\n",
       "   Income  \n",
       "0     3.0  \n",
       "1     1.0  \n",
       "2     8.0  \n",
       "3     6.0  \n",
       "4     4.0  \n",
       "\n",
       "[5 rows x 22 columns]"
      ]
     },
     "execution_count": 3,
     "metadata": {},
     "output_type": "execute_result"
    }
   ],
   "source": [
    "data.head()"
   ]
  },
  {
   "cell_type": "markdown",
   "id": "17f7a17f",
   "metadata": {},
   "source": [
    "# Data Wrangling"
   ]
  },
  {
   "cell_type": "code",
   "execution_count": 5,
   "id": "c573e7cd",
   "metadata": {},
   "outputs": [
    {
     "data": {
      "text/plain": [
       "Diabetes_012            0\n",
       "HighBP                  0\n",
       "HighChol                0\n",
       "CholCheck               0\n",
       "BMI                     0\n",
       "Smoker                  0\n",
       "Stroke                  0\n",
       "HeartDiseaseorAttack    0\n",
       "PhysActivity            0\n",
       "Fruits                  0\n",
       "Veggies                 0\n",
       "HvyAlcoholConsump       0\n",
       "AnyHealthcare           0\n",
       "NoDocbcCost             0\n",
       "GenHlth                 0\n",
       "MentHlth                0\n",
       "PhysHlth                0\n",
       "DiffWalk                0\n",
       "Sex                     0\n",
       "Age                     0\n",
       "Education               0\n",
       "Income                  0\n",
       "dtype: int64"
      ]
     },
     "execution_count": 5,
     "metadata": {},
     "output_type": "execute_result"
    }
   ],
   "source": [
    "# Null Values\n",
    "data.isna().sum()"
   ]
  },
  {
   "cell_type": "markdown",
   "id": "c0005d20",
   "metadata": {},
   "source": [
    "### Diabetes Case Indicator\n",
    "**\"Diabetes Test Result\"** is revealed in data[\"Diabetes_012\"] column by following values:\n",
    "<br> *0 :\"No_Diabetes\", 1:\"Pre_Diabetes\", 2:\"Diabetes\""
   ]
  },
  {
   "cell_type": "code",
   "execution_count": 7,
   "id": "c9bd3ae1",
   "metadata": {},
   "outputs": [
    {
     "data": {
      "image/png": "[encoded data removed]",
      "text/plain": [
       "<Figure size 216x288 with 1 Axes>"
      ]
     },
     "metadata": {
      "needs_background": "light"
     },
     "output_type": "display_data"
    }
   ],
   "source": [
    "# Diabetes vs PreDiabetes cases\n",
    "Q = \"Diabetes_012\"\n",
    "df0 = data\n",
    "\n",
    "\n",
    "plt.figure(figsize = (3 , 4))\n",
    "ax = sns.countplot(x=df0[Q], data = df0)\n",
    "plt.title(\"Countplot of Participants' Diabetes\")\n",
    "\n",
    "for i in ax.containers:\n",
    "    ax.bar_label(i,),"
   ]
  },
  {
   "cell_type": "markdown",
   "id": "b61bade9",
   "metadata": {},
   "source": [
    "**Conclusion**: AS this was found we have a districted imbalanced values for Diabetes results. This fact leads our case study and define who to treat with our challenge.\n",
    "Action: To prevent the complexities of imblanced data, it shall be necessary to consider all Pre_Diabetes to Diabetes cases in on basket as Diabetes. (In Logistic Regression, regarding the weak predicting performace of model, I make this decision.) so all Diabetes and Pre_Diabetes cases will be taken in one cases."
   ]
  },
  {
   "cell_type": "code",
   "execution_count": 8,
   "id": "759780e9",
   "metadata": {},
   "outputs": [
    {
     "data": {
      "text/plain": [
       "array([0., 1.])"
      ]
     },
     "execution_count": 8,
     "metadata": {},
     "output_type": "execute_result"
    }
   ],
   "source": [
    "# deleting prediabetes \n",
    "data.Diabetes_012[data.Diabetes_012 == 2] = 1\n",
    "data.Diabetes_012.unique()"
   ]
  },
  {
   "cell_type": "code",
   "execution_count": 9,
   "id": "167c3893",
   "metadata": {},
   "outputs": [
    {
     "data": {
      "image/png": "[encoded data removed]",
      "text/plain": [
       "<Figure size 216x288 with 1 Axes>"
      ]
     },
     "metadata": {
      "needs_background": "light"
     },
     "output_type": "display_data"
    }
   ],
   "source": [
    "plt.figure(figsize = (3 , 4))\n",
    "ax = sns.countplot(x=df0[Q], data = df0)\n",
    "plt.title(\"Countplot of Participants' Diabetes\")\n",
    "\n",
    "for i in ax.containers:\n",
    "    ax.bar_label(i,),"
   ]
  },
  {
   "cell_type": "markdown",
   "id": "f58efeca",
   "metadata": {},
   "source": [
    "# Correlation between diabetes and other parameters"
   ]
  },
  {
   "cell_type": "code",
   "execution_count": 10,
   "id": "5ebd7c35",
   "metadata": {},
   "outputs": [
    {
     "data": {
      "image/png": "[encoded data removed]",
      "text/plain": [
       "<Figure size 864x288 with 1 Axes>"
      ]
     },
     "metadata": {
      "needs_background": "light"
     },
     "output_type": "display_data"
    }
   ],
   "source": [
    "data.drop('Diabetes_012', axis=1).corrwith(data.Diabetes_012).sort_values(ascending=False).plot(kind='bar', grid=True, figsize=(12, 4)\n",
    ", title=\"Correlation with Diabetes\");\n",
    "#df.drop('Diabetes', axis=1).corrwith(df.Diabetes).sort_values(ascending=False)"
   ]
  },
  {
   "cell_type": "markdown",
   "id": "9922643b",
   "metadata": {},
   "source": [
    "I stole the above correlation graph from your notebook! It is excellent."
   ]
  },
  {
   "cell_type": "markdown",
   "id": "569b207a",
   "metadata": {},
   "source": [
    "Because the massive difference between Income in US and other countries (*including Iran*), among these parameters **Income** is going to be dropped."
   ]
  },
  {
   "cell_type": "code",
   "execution_count": 11,
   "id": "d6d89771",
   "metadata": {},
   "outputs": [],
   "source": [
    "data = data.drop('Income', axis = 1)"
   ]
  },
  {
   "cell_type": "code",
   "execution_count": 12,
   "id": "5a4eb125",
   "metadata": {},
   "outputs": [
    {
     "data": {
      "image/png": "[encoded data removed]",
      "text/plain": [
       "<Figure size 864x288 with 1 Axes>"
      ]
     },
     "metadata": {
      "needs_background": "light"
     },
     "output_type": "display_data"
    }
   ],
   "source": [
    "data.drop('Diabetes_012', axis=1).corrwith(data.Diabetes_012).sort_values(ascending=False).plot(kind='bar', grid=True, figsize=(12, 4)\n",
    ", title=\"Correlation with Diabetes\");\n",
    "#df.drop('Diabetes', axis=1).corrwith(df.Diabetes).sort_values(ascending=False)"
   ]
  },
  {
   "cell_type": "markdown",
   "id": "a56ea11c",
   "metadata": {},
   "source": [
    "## Training Model\n",
    "The **LGBMClassifier** had one of the best performances among all applyed methods. so this model will be selected as classifier for this projecs."
   ]
  },
  {
   "cell_type": "code",
   "execution_count": 13,
   "id": "5721ffd6",
   "metadata": {},
   "outputs": [],
   "source": [
    "x = data.drop('Diabetes_012', axis = 1)\n",
    "y = data['Diabetes_012']"
   ]
  },
  {
   "cell_type": "code",
   "execution_count": 14,
   "id": "f8c642d0",
   "metadata": {},
   "outputs": [],
   "source": [
    "from sklearn.model_selection import train_test_split\n",
    "\n",
    "x_train,xx,y_train,yy = train_test_split(x,y,test_size = 0.8,random_state = 23) \n",
    "#x_test,x_val,y_test,y_val = train_test_split(xx,yy,test_size = 0.5,random_state = 23) "
   ]
  },
  {
   "cell_type": "code",
   "execution_count": 15,
   "id": "e46c3a6f",
   "metadata": {},
   "outputs": [
    {
     "name": "stdout",
     "output_type": "stream",
     "text": [
      "0.8994008199306213\n"
     ]
    }
   ],
   "source": [
    "clf = lgb.LGBMClassifier(boosting_type= 'gbdt', objective = 'binary',learning_rate= 0.07, n_estimators= 4000, reg_lambda = 2, \n",
    "                         max_depth = 5 , num_leaves = 20)\n",
    "clf.fit(x_train,y_train)\n",
    "train_predict = clf.predict(x_train)\n",
    "print (metrics.accuracy_score(y_train,train_predict))"
   ]
  },
  {
   "cell_type": "code",
   "execution_count": 16,
   "id": "3fcfe5c3",
   "metadata": {},
   "outputs": [
    {
     "name": "stdout",
     "output_type": "stream",
     "text": [
      "0.842493495742668\n"
     ]
    }
   ],
   "source": [
    "# Accuracy Score of model\n",
    "test_predict = clf.predict(xx)\n",
    "print (metrics.accuracy_score(yy,test_predict))"
   ]
  },
  {
   "cell_type": "code",
   "execution_count": 17,
   "id": "df51da08",
   "metadata": {},
   "outputs": [
    {
     "data": {
      "text/html": [
       "<div>\n",
       "<style scoped>\n",
       "    .dataframe tbody tr th:only-of-type {\n",
       "        vertical-align: middle;\n",
       "    }\n",
       "\n",
       "    .dataframe tbody tr th {\n",
       "        vertical-align: top;\n",
       "    }\n",
       "\n",
       "    .dataframe thead th {\n",
       "        text-align: right;\n",
       "    }\n",
       "</style>\n",
       "<table border=\"1\" class=\"dataframe\">\n",
       "  <thead>\n",
       "    <tr style=\"text-align: right;\">\n",
       "      <th></th>\n",
       "      <th>importance</th>\n",
       "      <th>feature name</th>\n",
       "    </tr>\n",
       "  </thead>\n",
       "  <tbody>\n",
       "    <tr>\n",
       "      <th>3</th>\n",
       "      <td>16134</td>\n",
       "      <td>BMI</td>\n",
       "    </tr>\n",
       "    <tr>\n",
       "      <th>18</th>\n",
       "      <td>9041</td>\n",
       "      <td>Age</td>\n",
       "    </tr>\n",
       "    <tr>\n",
       "      <th>15</th>\n",
       "      <td>8679</td>\n",
       "      <td>PhysHlth</td>\n",
       "    </tr>\n",
       "    <tr>\n",
       "      <th>14</th>\n",
       "      <td>7202</td>\n",
       "      <td>MentHlth</td>\n",
       "    </tr>\n",
       "    <tr>\n",
       "      <th>19</th>\n",
       "      <td>5428</td>\n",
       "      <td>Education</td>\n",
       "    </tr>\n",
       "    <tr>\n",
       "      <th>13</th>\n",
       "      <td>4849</td>\n",
       "      <td>GenHlth</td>\n",
       "    </tr>\n",
       "    <tr>\n",
       "      <th>7</th>\n",
       "      <td>2201</td>\n",
       "      <td>PhysActivity</td>\n",
       "    </tr>\n",
       "    <tr>\n",
       "      <th>4</th>\n",
       "      <td>2043</td>\n",
       "      <td>Smoker</td>\n",
       "    </tr>\n",
       "    <tr>\n",
       "      <th>8</th>\n",
       "      <td>1901</td>\n",
       "      <td>Fruits</td>\n",
       "    </tr>\n",
       "    <tr>\n",
       "      <th>1</th>\n",
       "      <td>1898</td>\n",
       "      <td>HighChol</td>\n",
       "    </tr>\n",
       "    <tr>\n",
       "      <th>17</th>\n",
       "      <td>1880</td>\n",
       "      <td>Sex</td>\n",
       "    </tr>\n",
       "    <tr>\n",
       "      <th>0</th>\n",
       "      <td>1738</td>\n",
       "      <td>HighBP</td>\n",
       "    </tr>\n",
       "    <tr>\n",
       "      <th>9</th>\n",
       "      <td>1721</td>\n",
       "      <td>Veggies</td>\n",
       "    </tr>\n",
       "    <tr>\n",
       "      <th>16</th>\n",
       "      <td>1596</td>\n",
       "      <td>DiffWalk</td>\n",
       "    </tr>\n",
       "    <tr>\n",
       "      <th>12</th>\n",
       "      <td>1350</td>\n",
       "      <td>NoDocbcCost</td>\n",
       "    </tr>\n",
       "    <tr>\n",
       "      <th>6</th>\n",
       "      <td>1164</td>\n",
       "      <td>HeartDiseaseorAttack</td>\n",
       "    </tr>\n",
       "    <tr>\n",
       "      <th>11</th>\n",
       "      <td>1002</td>\n",
       "      <td>AnyHealthcare</td>\n",
       "    </tr>\n",
       "    <tr>\n",
       "      <th>5</th>\n",
       "      <td>914</td>\n",
       "      <td>Stroke</td>\n",
       "    </tr>\n",
       "    <tr>\n",
       "      <th>10</th>\n",
       "      <td>544</td>\n",
       "      <td>HvyAlcoholConsump</td>\n",
       "    </tr>\n",
       "    <tr>\n",
       "      <th>2</th>\n",
       "      <td>469</td>\n",
       "      <td>CholCheck</td>\n",
       "    </tr>\n",
       "  </tbody>\n",
       "</table>\n",
       "</div>"
      ],
      "text/plain": [
       "    importance          feature name\n",
       "3        16134                   BMI\n",
       "18        9041                   Age\n",
       "15        8679              PhysHlth\n",
       "14        7202              MentHlth\n",
       "19        5428             Education\n",
       "13        4849               GenHlth\n",
       "7         2201          PhysActivity\n",
       "4         2043                Smoker\n",
       "8         1901                Fruits\n",
       "1         1898              HighChol\n",
       "17        1880                   Sex\n",
       "0         1738                HighBP\n",
       "9         1721               Veggies\n",
       "16        1596              DiffWalk\n",
       "12        1350           NoDocbcCost\n",
       "6         1164  HeartDiseaseorAttack\n",
       "11        1002         AnyHealthcare\n",
       "5          914                Stroke\n",
       "10         544     HvyAlcoholConsump\n",
       "2          469             CholCheck"
      ]
     },
     "execution_count": 17,
     "metadata": {},
     "output_type": "execute_result"
    }
   ],
   "source": [
    "# important features\n",
    "im = clf.feature_importances_\n",
    "col = np.array(x.columns)\n",
    "\n",
    "dd = pd.DataFrame(im, columns=['importance'])\n",
    "dd.insert(1 , 'feature name', value = col)\n",
    "dd.sort_values(by = 'importance', ascending=False, inplace = True)\n",
    "dd"
   ]
  },
  {
   "cell_type": "markdown",
   "id": "ab2bc345",
   "metadata": {},
   "source": [
    "# Phase 2: Communication Algirithm"
   ]
  },
  {
   "cell_type": "code",
   "execution_count": 18,
   "id": "517d4da2",
   "metadata": {},
   "outputs": [],
   "source": [
    "data['Label'] = [\"USA\"] * len(data)"
   ]
  },
  {
   "cell_type": "code",
   "execution_count": 19,
   "id": "dc3cdd02",
   "metadata": {},
   "outputs": [],
   "source": [
    "data['Date'] = [\"2015\"] * len(data)"
   ]
  },
  {
   "cell_type": "code",
   "execution_count": 20,
   "id": "405e8105",
   "metadata": {},
   "outputs": [],
   "source": [
    "data.to_csv('export_diabet.csv', index=False, header=True)"
   ]
  },
  {
   "cell_type": "code",
   "execution_count": 21,
   "id": "56707f90",
   "metadata": {},
   "outputs": [],
   "source": [
    "label = \"Capchered_site\""
   ]
  },
  {
   "cell_type": "code",
   "execution_count": 22,
   "id": "858bb24a",
   "metadata": {},
   "outputs": [
    {
     "name": "stdout",
     "output_type": "stream",
     "text": [
      "date and time = 2022-12-11 20:43:44.241804\n"
     ]
    }
   ],
   "source": [
    "from datetime import datetime\n",
    "\n",
    "# datetime object containing current date and time\n",
    "dt_string=datetime.now()\n",
    "#dt_string = now.strftime(\"%d/%m/%Y %H:%M:%S\")\n",
    "print(\"date and time =\", dt_string)"
   ]
  },
  {
   "cell_type": "code",
   "execution_count": 24,
   "id": "13de9cdc",
   "metadata": {},
   "outputs": [
    {
     "name": "stdout",
     "output_type": "stream",
     "text": [
      "Do you have High Blood Pressure? (Yes/No)\n",
      "Nonen\n"
     ]
    }
   ],
   "source": [
    "HighBP = input(print(\"Do you have High Blood Pressure? (Yes/No)\"))\n",
    "\n",
    "\n",
    "HighBP =  list(HighBP)[0].lower()\n",
    "\n",
    "\n",
    "if HighBP != \"y\" and \"yes\":\n",
    "    if HighBP != \"n\" and \"no\":\n",
    "        print(\"Wrong value! please enter yes or no\")\n",
    "        HighBP = input(print(\"Do you have High Blood Pressure? (Yes/No)\"))\n",
    "    elif HighBP == \"n\":\n",
    "        HighBP = 0\n",
    "elif HighBP == \"y\":\n",
    "    HighBP = 1"
   ]
  },
  {
   "cell_type": "code",
   "execution_count": 25,
   "id": "eba5ab1c",
   "metadata": {},
   "outputs": [
    {
     "data": {
      "text/plain": [
       "0"
      ]
     },
     "execution_count": 25,
     "metadata": {},
     "output_type": "execute_result"
    }
   ],
   "source": [
    "HighBP"
   ]
  },
  {
   "cell_type": "code",
   "execution_count": 26,
   "id": "3506fb1c",
   "metadata": {},
   "outputs": [
    {
     "name": "stdout",
     "output_type": "stream",
     "text": [
      "Do you have High Blood cholesterol? (Yes/No)\n",
      "Nonen\n"
     ]
    }
   ],
   "source": [
    "HighChol = input(print(\"Do you have High Blood cholesterol? (Yes/No)\"))\n",
    "\n",
    "\n",
    "HighChol =  list(HighChol)[0].lower()\n",
    "\n",
    "\n",
    "if HighChol != \"y\" and \"yes\":\n",
    "    if HighChol != \"n\" and \"no\":\n",
    "        print(\"Wrong value! please enter yes or no\")\n",
    "        HighChol = input(print(\"Do you have High Blood cholesterol? (Yes/No)\"))\n",
    "    elif HighChol == \"n\":\n",
    "        HighChol =0\n",
    "elif HighChol == \"y\":\n",
    "    HighChol = 1"
   ]
  },
  {
   "cell_type": "code",
   "execution_count": 27,
   "id": "37feaefe",
   "metadata": {},
   "outputs": [
    {
     "data": {
      "text/plain": [
       "0"
      ]
     },
     "execution_count": 27,
     "metadata": {},
     "output_type": "execute_result"
    }
   ],
   "source": [
    "HighChol"
   ]
  },
  {
   "cell_type": "code",
   "execution_count": 28,
   "id": "25363841",
   "metadata": {},
   "outputs": [
    {
     "name": "stdout",
     "output_type": "stream",
     "text": [
      "Do you check within  Cholesterol past five years? (Yes/No)\n",
      "Nonen\n"
     ]
    }
   ],
   "source": [
    "CholCheck = input(print(\"Do you check within  Cholesterol past five years? (Yes/No)\"))\n",
    "\n",
    "\n",
    "CholCheck =  list(CholCheck)[0].lower()\n",
    "\n",
    "\n",
    "if CholCheck != \"y\" and \"yes\":\n",
    "    if CholCheck != \"n\" and \"no\":\n",
    "        print(\"Wrong value! please enter yes or no\")\n",
    "        CholCheck = input(print(\"Do you check within  Cholesterol past five years? (Yes/No)\"))\n",
    "    elif CholCheck == \"n\":\n",
    "        CholCheck =0\n",
    "elif CholCheck == \"y\":\n",
    "    CholCheck = 1"
   ]
  },
  {
   "cell_type": "code",
   "execution_count": 29,
   "id": "e3f08b09",
   "metadata": {},
   "outputs": [
    {
     "data": {
      "text/plain": [
       "0"
      ]
     },
     "execution_count": 29,
     "metadata": {},
     "output_type": "execute_result"
    }
   ],
   "source": [
    "CholCheck"
   ]
  },
  {
   "cell_type": "code",
   "execution_count": 77,
   "id": "ad53f781",
   "metadata": {},
   "outputs": [
    {
     "name": "stdout",
     "output_type": "stream",
     "text": [
      "What is your Body Mass Index? (5..100)\n",
      "None27\n"
     ]
    }
   ],
   "source": [
    "BMI = int(input(print(\"What is your Body Mass Index? (5..100)\")))\n",
    "\n",
    "\n",
    "if ( BMI < 5) or (BMI > 100):\n",
    "        print(\"Wrong value! please enter your BMI\")\n",
    "        BMI = input(print(\"What is your Body Mass Index? (5..100)\"))\n",
    "else:\n",
    "#elif (BMI>'5') or (BMI<='100'):\n",
    "    BMI = int(BMI)"
   ]
  },
  {
   "cell_type": "code",
   "execution_count": 78,
   "id": "9fec1a09",
   "metadata": {},
   "outputs": [
    {
     "data": {
      "text/plain": [
       "27"
      ]
     },
     "execution_count": 78,
     "metadata": {},
     "output_type": "execute_result"
    }
   ],
   "source": [
    "BMI"
   ]
  },
  {
   "cell_type": "code",
   "execution_count": 79,
   "id": "74d908c8",
   "metadata": {},
   "outputs": [
    {
     "name": "stdout",
     "output_type": "stream",
     "text": [
      "Have you smoked at least 100 cigarettes in your entire life? [Note: 5 packs = 100 cigarettes] (Yes/No)\n",
      "Nonen\n"
     ]
    }
   ],
   "source": [
    "Smoker = input(print(\"Have you smoked at least 100 cigarettes in your entire life? [Note: 5 packs = 100 cigarettes] (Yes/No)\"))\n",
    "\n",
    "\n",
    "Smoker =  list(Smoker)[0].lower()\n",
    "\n",
    "\n",
    "if Smoker != \"y\" and \"yes\":\n",
    "    if Smoker != \"n\" and \"no\":\n",
    "        print(\"Wrong value! please enter yes or no\")\n",
    "        Smoker = input(print(\"Have you smoked at least 100 cigarettes in your entire life? (Yes/No)\"))\n",
    "    elif Smoker == \"n\":\n",
    "        Smoker =0\n",
    "elif Smoker == \"y\":\n",
    "    Smoker = 1"
   ]
  },
  {
   "cell_type": "code",
   "execution_count": 80,
   "id": "a1b111a1",
   "metadata": {},
   "outputs": [
    {
     "data": {
      "text/plain": [
       "0"
      ]
     },
     "execution_count": 80,
     "metadata": {},
     "output_type": "execute_result"
    }
   ],
   "source": [
    "Smoker"
   ]
  },
  {
   "cell_type": "code",
   "execution_count": 81,
   "id": "e7772740",
   "metadata": {},
   "outputs": [
    {
     "name": "stdout",
     "output_type": "stream",
     "text": [
      "Did you have a stroke? (Yes/No)\n",
      "Nonen\n"
     ]
    }
   ],
   "source": [
    "Stroke = input(print(\"Did you have a stroke? (Yes/No)\"))\n",
    "\n",
    "\n",
    "Stroke =  list(Stroke)[0].lower()\n",
    "\n",
    "\n",
    "if Stroke != \"y\" and \"yes\":\n",
    "    if Stroke != \"n\" and \"no\":\n",
    "        print(\"Wrong value! please enter yes or no\")\n",
    "        Stroke = input(print(\"you had a stroke? (Yes/No)\"))\n",
    "    elif Stroke == \"n\":\n",
    "        Stroke =0\n",
    "elif Stroke == \"y\":\n",
    "    Stroke = 1 "
   ]
  },
  {
   "cell_type": "code",
   "execution_count": 82,
   "id": "3fac2ce9",
   "metadata": {},
   "outputs": [
    {
     "data": {
      "text/plain": [
       "0"
      ]
     },
     "execution_count": 82,
     "metadata": {},
     "output_type": "execute_result"
    }
   ],
   "source": [
    "Stroke"
   ]
  },
  {
   "cell_type": "code",
   "execution_count": 83,
   "id": "94e42886",
   "metadata": {},
   "outputs": [
    {
     "name": "stdout",
     "output_type": "stream",
     "text": [
      "Do you have ever coronary heart disease (CHD) or myocardial infarction (MI)? (Yes/No)\n",
      "Nonen\n"
     ]
    }
   ],
   "source": [
    "HeartDiseaseorAttack = input(print(\"Do you have ever coronary heart disease (CHD) or myocardial infarction (MI)? (Yes/No)\"))\n",
    "\n",
    "\n",
    "HeartDiseaseorAttack =  list(HeartDiseaseorAttack)[0].lower()\n",
    "\n",
    "\n",
    "if HeartDiseaseorAttack != \"y\" and \"yes\":\n",
    "    if HeartDiseaseorAttack != \"n\" and \"no\":\n",
    "        print(\"Wrong value! please enter yes or no\")\n",
    "        HeartDiseaseorAttack = input(print(\"Do you have ever coronary heart disease (CHD) or myocardial infarction (MI)? (Yes/No)\"))\n",
    "    elif HeartDiseaseorAttack == \"n\":\n",
    "        HeartDiseaseorAttack =0\n",
    "elif HeartDiseaseorAttack == \"y\":\n",
    "    HeartDiseaseorAttack = 1 "
   ]
  },
  {
   "cell_type": "code",
   "execution_count": 84,
   "id": "0b1994fb",
   "metadata": {},
   "outputs": [
    {
     "data": {
      "text/plain": [
       "0"
      ]
     },
     "execution_count": 84,
     "metadata": {},
     "output_type": "execute_result"
    }
   ],
   "source": [
    "HeartDiseaseorAttack"
   ]
  },
  {
   "cell_type": "code",
   "execution_count": 85,
   "id": "59cb6c31",
   "metadata": {},
   "outputs": [
    {
     "name": "stdout",
     "output_type": "stream",
     "text": [
      "Are you doing physical activity or exercise during the past 30 days other than their regular job? (Yes/No)\n",
      "Nonen\n"
     ]
    }
   ],
   "source": [
    "PhysActivity = input(print(\"Are you doing physical activity or exercise during the past 30 days other than their regular job? (Yes/No)\"))\n",
    "\n",
    "\n",
    "PhysActivity =  list(PhysActivity)[0].lower()\n",
    "\n",
    "\n",
    "if PhysActivity != \"y\" and \"yes\":\n",
    "    if PhysActivity != \"n\" and \"no\":\n",
    "        print(\"Wrong value! please enter yes or no\")\n",
    "        PhysActivity = input(print(\"Are you doing physical activity or exercise during the past 30 days other than their regular job? (Yes/No)\"))\n",
    "    elif PhysActivity == \"n\":\n",
    "        PhysActivity =0\n",
    "elif PhysActivity == \"y\":\n",
    "    PhysActivity = 1"
   ]
  },
  {
   "cell_type": "code",
   "execution_count": 86,
   "id": "ad2b6d33",
   "metadata": {},
   "outputs": [
    {
     "data": {
      "text/plain": [
       "0"
      ]
     },
     "execution_count": 86,
     "metadata": {},
     "output_type": "execute_result"
    }
   ],
   "source": [
    "PhysActivity"
   ]
  },
  {
   "cell_type": "code",
   "execution_count": 87,
   "id": "7fe0b9f5",
   "metadata": {},
   "outputs": [
    {
     "name": "stdout",
     "output_type": "stream",
     "text": [
      "Consume Fruit 1 or more times per day? (Yes/No)\n",
      "Nonen\n"
     ]
    }
   ],
   "source": [
    "Fruits = input(print(\"Consume Fruit 1 or more times per day? (Yes/No)\"))\n",
    "\n",
    "Fruits =  list(Fruits)[0].lower()\n",
    "if Fruits != \"y\" and \"yes\":\n",
    "    if Fruits != \"n\" and \"no\":\n",
    "        print(\"Wrong value! please enter yes or no\")\n",
    "        Fruits = input(print(\"Consume Fruit 1 or more times per day? (Yes/No)\"))\n",
    "    elif Fruits == \"n\":\n",
    "        Fruits =0\n",
    "elif Fruits == \"y\":\n",
    "    Fruits = 1 "
   ]
  },
  {
   "cell_type": "code",
   "execution_count": 88,
   "id": "0a123239",
   "metadata": {},
   "outputs": [
    {
     "data": {
      "text/plain": [
       "0"
      ]
     },
     "execution_count": 88,
     "metadata": {},
     "output_type": "execute_result"
    }
   ],
   "source": [
    "Fruits"
   ]
  },
  {
   "cell_type": "code",
   "execution_count": 89,
   "id": "cfa2090b",
   "metadata": {},
   "outputs": [
    {
     "name": "stdout",
     "output_type": "stream",
     "text": [
      "Consume Vegetables 1 or more times per day? (Yes/No)\n",
      "Noney\n"
     ]
    }
   ],
   "source": [
    "Veggies = input(print(\"Consume Vegetables 1 or more times per day? (Yes/No)\"))\n",
    "\n",
    "Veggies =  list(Veggies)[0].lower()\n",
    "if Veggies != \"y\" and \"yes\":\n",
    "    if Veggies != \"n\" and \"no\":    \n",
    "        print(\"Wrong value! please enter yes or no\")\n",
    "        Veggies = input(print(\"Consume Vegetables 1 or more times per day? (Yes/No)\"))\n",
    "    elif Veggies == \"n\":\n",
    "        Veggies =0\n",
    "elif Veggies == \"y\":\n",
    "    Veggies = 1 "
   ]
  },
  {
   "cell_type": "code",
   "execution_count": 90,
   "id": "3d7e628f",
   "metadata": {},
   "outputs": [
    {
     "data": {
      "text/plain": [
       "1"
      ]
     },
     "execution_count": 90,
     "metadata": {},
     "output_type": "execute_result"
    }
   ],
   "source": [
    "Veggies"
   ]
  },
  {
   "cell_type": "code",
   "execution_count": 91,
   "id": "69844d48",
   "metadata": {},
   "outputs": [
    {
     "name": "stdout",
     "output_type": "stream",
     "text": [
      "Heavy drinkers_adult men having more than14drinks per week and adult women having more than7drinks per week? (Yes/No)\n",
      "Nonen\n"
     ]
    }
   ],
   "source": [
    "HvyAlcoholConsump = input(print(\"Heavy drinkers_adult men having more than14drinks per week and adult women having more than7drinks per week? (Yes/No)\"))\n",
    "\n",
    "HvyAlcoholConsump =  list(HvyAlcoholConsump)[0].lower()\n",
    "if HvyAlcoholConsump != \"y\" and \"yes\":\n",
    "    if HvyAlcoholConsump != \"n\" and \"no\": \n",
    "        print(\"Wrong value! please enter yes or no\")\n",
    "        HvyAlcoholConsump = input(print(\"Heavy drinkers_adult men having more than14drinks per week and adult women having more than7drinks per week? (Yes/No)\"))\n",
    "    elif HvyAlcoholConsump == \"n\":\n",
    "        HvyAlcoholConsump =0\n",
    "elif HvyAlcoholConsump == \"y\":\n",
    "    HvyAlcoholConsump = 1 "
   ]
  },
  {
   "cell_type": "code",
   "execution_count": 92,
   "id": "f7f385dd",
   "metadata": {},
   "outputs": [
    {
     "data": {
      "text/plain": [
       "0"
      ]
     },
     "execution_count": 92,
     "metadata": {},
     "output_type": "execute_result"
    }
   ],
   "source": [
    "HvyAlcoholConsump"
   ]
  },
  {
   "cell_type": "code",
   "execution_count": 93,
   "id": "a46c950a",
   "metadata": {},
   "outputs": [
    {
     "name": "stdout",
     "output_type": "stream",
     "text": [
      "Do you have any kind of health care coverage, including health insurance, prepaid plans such as HMOs, or government plans such as Medicare, or Indian Health Service? (Yes/No)\n",
      "Noney\n"
     ]
    }
   ],
   "source": [
    "AnyHealthcare = input(print(\"Do you have any kind of health care coverage, including health insurance, prepaid plans such as HMOs, or government plans such as Medicare, or Indian Health Service? (Yes/No)\"))\n",
    "\n",
    "AnyHealthcare =  list(AnyHealthcare)[0].lower()\n",
    "if AnyHealthcare != \"y\" and \"yes\":\n",
    "    if AnyHealthcare != \"n\" and \"no\": \n",
    "        print(\"Wrong value! please enter yes or no\")\n",
    "        AnyHealthcare = input(print(\"Do you have any kind of health care coverage, including health insurance, prepaid plans such as HMOs, or government plans such as Medicare, or Indian Health Service? (Yes/No)\"))\n",
    "    elif AnyHealthcare == \"n\":\n",
    "        AnyHealthcare =0\n",
    "elif AnyHealthcare == \"y\":\n",
    "    AnyHealthcare = 1"
   ]
  },
  {
   "cell_type": "code",
   "execution_count": 94,
   "id": "62993f34",
   "metadata": {},
   "outputs": [
    {
     "data": {
      "text/plain": [
       "1"
      ]
     },
     "execution_count": 94,
     "metadata": {},
     "output_type": "execute_result"
    }
   ],
   "source": [
    "AnyHealthcare"
   ]
  },
  {
   "cell_type": "code",
   "execution_count": 95,
   "id": "05dd2ede",
   "metadata": {},
   "outputs": [
    {
     "name": "stdout",
     "output_type": "stream",
     "text": [
      "Was there a time in the past 12 months when you needed to see a doctor but could not because of cost? (Yes/No)\n",
      "Nonen\n"
     ]
    }
   ],
   "source": [
    "NoDocbcCost = input(print(\"Was there a time in the past 12 months when you needed to see a doctor but could not because of cost? (Yes/No)\"))\n",
    "\n",
    "NoDocbcCost =  list(NoDocbcCost)[0].lower()\n",
    "if NoDocbcCost != \"y\" and \"yes\":\n",
    "    if NoDocbcCost != \"n\" and \"no\": \n",
    "        print(\"Wrong value! please enter yes or no\")\n",
    "        NoDocbcCost = input(print(\"Was there a time in the past 12 months when you needed to see a doctor but could not because of cost? (Yes/No)\"))\n",
    "    elif NoDocbcCost == \"n\":\n",
    "        NoDocbcCost =0\n",
    "elif NoDocbcCost == \"y\":\n",
    "    NoDocbcCost = 1 "
   ]
  },
  {
   "cell_type": "code",
   "execution_count": 96,
   "id": "d36684fd",
   "metadata": {},
   "outputs": [
    {
     "data": {
      "text/plain": [
       "0"
      ]
     },
     "execution_count": 96,
     "metadata": {},
     "output_type": "execute_result"
    }
   ],
   "source": [
    "NoDocbcCost"
   ]
  },
  {
   "cell_type": "code",
   "execution_count": 97,
   "id": "434350b5",
   "metadata": {},
   "outputs": [
    {
     "name": "stdout",
     "output_type": "stream",
     "text": [
      " Would you say that in general your health is: rate (LOW:1 ~ HIGH:5)? (1..5)\n",
      "None3\n"
     ]
    }
   ],
   "source": [
    "GenHlth = input(print(\" Would you say that in general your health is: rate (LOW:1 ~ HIGH:5)? (1..5)\"))\n",
    "\n",
    "if (GenHlth<'1') and (GenHlth>'5'):\n",
    "    print(\"Wrong value! please enter yes or no\")\n",
    "    GenHlth = input(print(\" Would you say that in general your health is: rate (LOW:1 ~ HIGH:5)? (1..5)\"))\n",
    "if (GenHlth<'1') and (GenHlth>'5'):\n",
    "    print(\"Wrong value! please check!!!\")\n",
    "    GenHlth = input(print(\" Would you say that in general your health is: rate (LOW:1 ~ HIGH:5)? (Please ENTER 1..5)\"))\n",
    "elif (GenHlth>'1') and (GenHlth<='5'):\n",
    "    GenHlth = int(GenHlth)"
   ]
  },
  {
   "cell_type": "code",
   "execution_count": 98,
   "id": "1cd2676f",
   "metadata": {},
   "outputs": [
    {
     "data": {
      "text/plain": [
       "3"
      ]
     },
     "execution_count": 98,
     "metadata": {},
     "output_type": "execute_result"
    }
   ],
   "source": [
    "GenHlth"
   ]
  },
  {
   "cell_type": "code",
   "execution_count": 99,
   "id": "f5967ac3",
   "metadata": {},
   "outputs": [
    {
     "name": "stdout",
     "output_type": "stream",
     "text": [
      "Now thinking about your mental health, which includes stress, depression, and problems with emotions, for how many days during the past 30 days was your mental health not good? (LOW:0 ~ HIGH:30)? (0..30)\n",
      "None10\n"
     ]
    }
   ],
   "source": [
    "MentHlth = input(print(\"Now thinking about your mental health, which includes stress, depression, and problems with emotions, for how many days during the past 30 days was your mental health not good? (LOW:0 ~ HIGH:30)? (0..30)\"))\n",
    "\n",
    "if (MentHlth<'0') or (MentHlth>'30'):\n",
    "    print(\"Wrong value! please enter yes or no\")\n",
    "    MentHlth = input(print(\"Now thinking about your mental health, which includes stress, depression, and problems with emotions, for how many days during the past 30 days was your mental health not good? (0LOW:0 ~ HIGH:30)? (0..30)\"))\n",
    "if (MentHlth<'0') or (MentHlth>'30'):\n",
    "    print(\"Wrong value! please check!!!\")\n",
    "    MentHlth = input(print(\"Now thinking about your mental health, which includes stress, depression, and problems with emotions, for how many days during the past 30 days was your mental health not good? (LOW:0 ~ HIGH:30)? (Please ENTER 0..30)\"))\n",
    "elif (MentHlth>'0') and (MentHlth<='30'):\n",
    "    MentHlth = int(MentHlth)"
   ]
  },
  {
   "cell_type": "code",
   "execution_count": 100,
   "id": "b96c2ddf",
   "metadata": {},
   "outputs": [
    {
     "data": {
      "text/plain": [
       "10"
      ]
     },
     "execution_count": 100,
     "metadata": {},
     "output_type": "execute_result"
    }
   ],
   "source": [
    "MentHlth"
   ]
  },
  {
   "cell_type": "code",
   "execution_count": 101,
   "id": "648807e4",
   "metadata": {},
   "outputs": [
    {
     "name": "stdout",
     "output_type": "stream",
     "text": [
      "Now thinking about your physical health, which includes physical illness and injury, for how many days during the past 30 days was your physical health not good? (LOW:0 ~ HIGH:30)? (0..30)\n",
      "None10\n"
     ]
    }
   ],
   "source": [
    "PhysHlth = input(print(\"Now thinking about your physical health, which includes physical illness and injury, for how many days during the past 30 days was your physical health not good? (LOW:0 ~ HIGH:30)? (0..30)\"))\n",
    "\n",
    "if (PhysHlth<'0') or (PhysHlth>'30'):\n",
    "    print(\"Wrong value! please enter yes or no\")\n",
    "    PhysHlth = input(print(\"Now thinking about your physical health, which includes physical illness and injury, for how many days during the past 30 days was your physical health not good? (LOW:0 ~ HIGH:30)? (0..30)\"))\n",
    "if (PhysHlth<'0') or (PhysHlth>'30'):\n",
    "    print(\"Wrong value! please check!!!\")\n",
    "    PhysHlth = input(print(\"Now thinking about your physical health, which includes physical illness and injury, for how many days during the past 30 days was your physical health not good? (LOW:0 ~ HIGH:30)? (Please ENTER 0..30)\"))\n",
    "elif (PhysHlth>'0') and (PhysHlth<='30'):\n",
    "    PhysHlth = int(PhysHlth)"
   ]
  },
  {
   "cell_type": "code",
   "execution_count": 102,
   "id": "43bf8ab7",
   "metadata": {},
   "outputs": [
    {
     "data": {
      "text/plain": [
       "10"
      ]
     },
     "execution_count": 102,
     "metadata": {},
     "output_type": "execute_result"
    }
   ],
   "source": [
    "PhysHlth"
   ]
  },
  {
   "cell_type": "code",
   "execution_count": 103,
   "id": "652c6af0",
   "metadata": {},
   "outputs": [
    {
     "name": "stdout",
     "output_type": "stream",
     "text": [
      "Do you have serious difficulty walking or climbing stairs? (Yes/No)\n",
      "Nonen\n"
     ]
    }
   ],
   "source": [
    "DiffWalk = input(print(\"Do you have serious difficulty walking or climbing stairs? (Yes/No)\"))\n",
    "\n",
    "DiffWalk =  list(DiffWalk)[0].lower()\n",
    "if DiffWalk != \"y\" and \"yes\":\n",
    "    if DiffWalk != \"n\" and \"no\": \n",
    "        print(\"Wrong value! please enter yes or no\")\n",
    "        DiffWalk = input(print(\"Do you have serious difficulty walking or climbing stairs? (Yes/No)\"))\n",
    "    elif DiffWalk == \"n\":\n",
    "        DiffWalk =0\n",
    "elif DiffWalk == \"y\":\n",
    "    DiffWalk = 1 "
   ]
  },
  {
   "cell_type": "code",
   "execution_count": 104,
   "id": "73ce688c",
   "metadata": {},
   "outputs": [
    {
     "data": {
      "text/plain": [
       "0"
      ]
     },
     "execution_count": 104,
     "metadata": {},
     "output_type": "execute_result"
    }
   ],
   "source": [
    "DiffWalk"
   ]
  },
  {
   "cell_type": "code",
   "execution_count": 106,
   "id": "dcf893bc",
   "metadata": {},
   "outputs": [
    {
     "name": "stdout",
     "output_type": "stream",
     "text": [
      "Indicate sex of respondent (Female or Male)? (Female/Male)\n",
      "Nonem\n"
     ]
    }
   ],
   "source": [
    "Sex = input(print(\"Indicate sex of respondent (Female or Male)? (Female/Male)\"))\n",
    "\n",
    "Sex =  list(Sex)[0].lower()\n",
    "if Sex != \"m\" and \"male\":\n",
    "    if Sex != \"f\" and \"female\":\n",
    "        print(\"Wrong value! please enter male or female\")\n",
    "        Sex = input(print(\"Indicate sex of respondent (Female or Male)? (Female/Male)\"))\n",
    "    elif Sex == \"f\":\n",
    "        Sex =0\n",
    "elif Sex == \"m\":\n",
    "    Sex = 1 "
   ]
  },
  {
   "cell_type": "code",
   "execution_count": 107,
   "id": "38e71321",
   "metadata": {},
   "outputs": [
    {
     "data": {
      "text/plain": [
       "1"
      ]
     },
     "execution_count": 107,
     "metadata": {},
     "output_type": "execute_result"
    }
   ],
   "source": [
    "Sex"
   ]
  },
  {
   "cell_type": "code",
   "execution_count": 108,
   "id": "ff8d93a5",
   "metadata": {},
   "outputs": [
    {
     "name": "stdout",
     "output_type": "stream",
     "text": [
      "please enter age\n",
      "None32\n"
     ]
    }
   ],
   "source": [
    "Age = input(print(\"please enter age\"))\n",
    "\n",
    "if (Age<'18'):\n",
    "    print(\"Wrong value! please enter 18 years old and older\")\n",
    "    Age = input(print(\"Fourteen-level age category?\"))\n",
    "elif (Age>='18') and (Age<='24'):\n",
    "    Age = 1\n",
    "elif (Age>='25') and (Age<='29'):\n",
    "    Age = 2\n",
    "elif (Age>='30') and (Age<='34'):\n",
    "    Age = 3\n",
    "elif (Age>='35') and (Age<='39'):\n",
    "    Age = 4\n",
    "elif (Age>='40') and (Age<='44'):\n",
    "    Age = 5\n",
    "elif (Age>='45') and (Age<='49'):\n",
    "    Age = 6\n",
    "elif (Age>='50') and (Age<='54'):\n",
    "    Age = 7\n",
    "elif (Age>='55') and (Age<='59'):\n",
    "    Age = 8\n",
    "elif (Age>='60') and (Age<='64'):\n",
    "    Age = 9\n",
    "elif (Age>='65') and (Age<='69'):\n",
    "    Age = 10\n",
    "elif (Age>='70') and (Age<='74'):\n",
    "    Age = 11\n",
    "elif (Age>='75') and (Age<='79'):\n",
    "    Age = 12\n",
    "elif (Age>='80'):\n",
    "    Age = 13"
   ]
  },
  {
   "cell_type": "code",
   "execution_count": 109,
   "id": "6fe5f5dc",
   "metadata": {},
   "outputs": [
    {
     "data": {
      "text/plain": [
       "3"
      ]
     },
     "execution_count": 109,
     "metadata": {},
     "output_type": "execute_result"
    }
   ],
   "source": [
    "Age"
   ]
  },
  {
   "cell_type": "code",
   "execution_count": 110,
   "id": "ebfb217f",
   "metadata": {},
   "outputs": [
    {
     "name": "stdout",
     "output_type": "stream",
     "text": [
      "What is the highest grade or year of school you completed? (1 ~ 6)['Education'] == 1 => 'Bi Savad',['Education'] == 2 => 'Sikl,['Education'] == 3 => 'Diplom',['Education'] == 4 => 'Karshenasi',['Education'] == 5 => 'Karshenasi arshad',['Education'] == 6 => 'Doctora'? (1..6)\n",
      "None4\n"
     ]
    }
   ],
   "source": [
    "Education = input(print(\"What is the highest grade or year of school you completed? (1 ~ 6)['Education'] == 1 => 'Bi Savad',['Education'] == 2 => 'Sikl,['Education'] == 3 => 'Diplom',['Education'] == 4 => 'Karshenasi',['Education'] == 5 => 'Karshenasi arshad',['Education'] == 6 => 'Doctora'? (1..6)\"))\n",
    "\n",
    "if (Education<'1') or (Education>'6'):\n",
    "    print(\"Wrong value! please enter yes or no\")\n",
    "    Education = input(print(\"What is the highest grade or year of school you completed? (1 ~ 6)? (1..6)\"))\n",
    "if (Education<'1') or (Education>'6'):\n",
    "    print(\"Wrong value! please check!!!\")\n",
    "    Education = input(print(\"What is the highest grade or year of school you completed? (1 ~ 6)? (Please ENTER 1..6)\"))\n",
    "elif (Education>'1') and (Education<='6'):\n",
    "    Education = int(Education)"
   ]
  },
  {
   "cell_type": "code",
   "execution_count": 111,
   "id": "ebd5f9c3",
   "metadata": {},
   "outputs": [
    {
     "data": {
      "text/plain": [
       "4"
      ]
     },
     "execution_count": 111,
     "metadata": {},
     "output_type": "execute_result"
    }
   ],
   "source": [
    "Education"
   ]
  },
  {
   "cell_type": "code",
   "execution_count": 112,
   "id": "520b598a",
   "metadata": {},
   "outputs": [
    {
     "data": {
      "text/plain": [
       "Index(['Diabetes_012', 'HighBP', 'HighChol', 'CholCheck', 'BMI', 'Smoker',\n",
       "       'Stroke', 'HeartDiseaseorAttack', 'PhysActivity', 'Fruits', 'Veggies',\n",
       "       'HvyAlcoholConsump', 'AnyHealthcare', 'NoDocbcCost', 'GenHlth',\n",
       "       'MentHlth', 'PhysHlth', 'DiffWalk', 'Sex', 'Age', 'Education', 'Label',\n",
       "       'Date'],\n",
       "      dtype='object')"
      ]
     },
     "execution_count": 112,
     "metadata": {},
     "output_type": "execute_result"
    }
   ],
   "source": [
    "data.columns"
   ]
  },
  {
   "cell_type": "code",
   "execution_count": 113,
   "id": "85c7ed91",
   "metadata": {},
   "outputs": [],
   "source": [
    "new_vector = [[HighBP, HighChol, CholCheck, BMI, Smoker,\n",
    "       Stroke, HeartDiseaseorAttack, PhysActivity, Fruits, Veggies,\n",
    "       HvyAlcoholConsump, AnyHealthcare, NoDocbcCost, GenHlth,\n",
    "       MentHlth, PhysHlth, DiffWalk, Sex, Age, Education]]"
   ]
  },
  {
   "cell_type": "code",
   "execution_count": 114,
   "id": "0a4c2fbb",
   "metadata": {},
   "outputs": [
    {
     "data": {
      "text/plain": [
       "[[0, 0, 0, 27, 0, 0, 0, 0, 0, 1, 0, 1, 0, 3, 10, 10, 0, 1, 3, 4]]"
      ]
     },
     "execution_count": 114,
     "metadata": {},
     "output_type": "execute_result"
    }
   ],
   "source": [
    "new_vector"
   ]
  },
  {
   "cell_type": "code",
   "execution_count": 115,
   "id": "69886210",
   "metadata": {},
   "outputs": [],
   "source": [
    "Diabetes_Prediction = clf.predict(new_vector)\n",
    "if Diabetes_Prediction == 2:\n",
    "    result = \"Positive\"\n",
    "else:\n",
    "    result = \"Negative\""
   ]
  },
  {
   "cell_type": "code",
   "execution_count": 117,
   "id": "b4f0633d",
   "metadata": {},
   "outputs": [
    {
     "name": "stdout",
     "output_type": "stream",
     "text": [
      "Our model predicted that your diabetec result is: 'Negative'\n",
      "Number of participants of in this survaytion = 253680\n",
      "The accuracy of model is:  84%\n"
     ]
    }
   ],
   "source": [
    "print(\"Our model predicted that your diabetec result is: '{}'\".format(result))\n",
    "print(\"Number of participants of in this survaytion = {}\\nThe accuracy of model is:  84%\".format(len(data)))"
   ]
  },
  {
   "cell_type": "code",
   "execution_count": 119,
   "id": "a1b4085a",
   "metadata": {},
   "outputs": [
    {
     "data": {
      "text/html": [
       "<div>\n",
       "<style scoped>\n",
       "    .dataframe tbody tr th:only-of-type {\n",
       "        vertical-align: middle;\n",
       "    }\n",
       "\n",
       "    .dataframe tbody tr th {\n",
       "        vertical-align: top;\n",
       "    }\n",
       "\n",
       "    .dataframe thead th {\n",
       "        text-align: right;\n",
       "    }\n",
       "</style>\n",
       "<table border=\"1\" class=\"dataframe\">\n",
       "  <thead>\n",
       "    <tr style=\"text-align: right;\">\n",
       "      <th></th>\n",
       "      <th>Diabetes_012</th>\n",
       "      <th>HighBP</th>\n",
       "      <th>HighChol</th>\n",
       "      <th>CholCheck</th>\n",
       "      <th>BMI</th>\n",
       "      <th>Smoker</th>\n",
       "      <th>Stroke</th>\n",
       "      <th>HeartDiseaseorAttack</th>\n",
       "      <th>PhysActivity</th>\n",
       "      <th>Fruits</th>\n",
       "      <th>...</th>\n",
       "      <th>NoDocbcCost</th>\n",
       "      <th>GenHlth</th>\n",
       "      <th>MentHlth</th>\n",
       "      <th>PhysHlth</th>\n",
       "      <th>DiffWalk</th>\n",
       "      <th>Sex</th>\n",
       "      <th>Age</th>\n",
       "      <th>Education</th>\n",
       "      <th>Label</th>\n",
       "      <th>Date</th>\n",
       "    </tr>\n",
       "  </thead>\n",
       "  <tbody>\n",
       "    <tr>\n",
       "      <th>91</th>\n",
       "      <td>0.0</td>\n",
       "      <td>0.0</td>\n",
       "      <td>0.0</td>\n",
       "      <td>1.0</td>\n",
       "      <td>22.0</td>\n",
       "      <td>0.0</td>\n",
       "      <td>0.0</td>\n",
       "      <td>0.0</td>\n",
       "      <td>1.0</td>\n",
       "      <td>0.0</td>\n",
       "      <td>...</td>\n",
       "      <td>0.0</td>\n",
       "      <td>1.0</td>\n",
       "      <td>5.0</td>\n",
       "      <td>0.0</td>\n",
       "      <td>0.0</td>\n",
       "      <td>0.0</td>\n",
       "      <td>3.0</td>\n",
       "      <td>6.0</td>\n",
       "      <td>USA</td>\n",
       "      <td>2015</td>\n",
       "    </tr>\n",
       "    <tr>\n",
       "      <th>96</th>\n",
       "      <td>1.0</td>\n",
       "      <td>0.0</td>\n",
       "      <td>0.0</td>\n",
       "      <td>1.0</td>\n",
       "      <td>32.0</td>\n",
       "      <td>0.0</td>\n",
       "      <td>0.0</td>\n",
       "      <td>0.0</td>\n",
       "      <td>1.0</td>\n",
       "      <td>0.0</td>\n",
       "      <td>...</td>\n",
       "      <td>1.0</td>\n",
       "      <td>4.0</td>\n",
       "      <td>0.0</td>\n",
       "      <td>3.0</td>\n",
       "      <td>0.0</td>\n",
       "      <td>0.0</td>\n",
       "      <td>3.0</td>\n",
       "      <td>5.0</td>\n",
       "      <td>USA</td>\n",
       "      <td>2015</td>\n",
       "    </tr>\n",
       "    <tr>\n",
       "      <th>115</th>\n",
       "      <td>0.0</td>\n",
       "      <td>0.0</td>\n",
       "      <td>0.0</td>\n",
       "      <td>1.0</td>\n",
       "      <td>28.0</td>\n",
       "      <td>1.0</td>\n",
       "      <td>0.0</td>\n",
       "      <td>0.0</td>\n",
       "      <td>1.0</td>\n",
       "      <td>1.0</td>\n",
       "      <td>...</td>\n",
       "      <td>1.0</td>\n",
       "      <td>3.0</td>\n",
       "      <td>30.0</td>\n",
       "      <td>30.0</td>\n",
       "      <td>1.0</td>\n",
       "      <td>1.0</td>\n",
       "      <td>3.0</td>\n",
       "      <td>5.0</td>\n",
       "      <td>USA</td>\n",
       "      <td>2015</td>\n",
       "    </tr>\n",
       "    <tr>\n",
       "      <th>319</th>\n",
       "      <td>0.0</td>\n",
       "      <td>0.0</td>\n",
       "      <td>0.0</td>\n",
       "      <td>1.0</td>\n",
       "      <td>31.0</td>\n",
       "      <td>1.0</td>\n",
       "      <td>0.0</td>\n",
       "      <td>0.0</td>\n",
       "      <td>0.0</td>\n",
       "      <td>1.0</td>\n",
       "      <td>...</td>\n",
       "      <td>0.0</td>\n",
       "      <td>2.0</td>\n",
       "      <td>0.0</td>\n",
       "      <td>3.0</td>\n",
       "      <td>0.0</td>\n",
       "      <td>0.0</td>\n",
       "      <td>3.0</td>\n",
       "      <td>5.0</td>\n",
       "      <td>USA</td>\n",
       "      <td>2015</td>\n",
       "    </tr>\n",
       "    <tr>\n",
       "      <th>404</th>\n",
       "      <td>0.0</td>\n",
       "      <td>0.0</td>\n",
       "      <td>0.0</td>\n",
       "      <td>1.0</td>\n",
       "      <td>23.0</td>\n",
       "      <td>1.0</td>\n",
       "      <td>0.0</td>\n",
       "      <td>0.0</td>\n",
       "      <td>1.0</td>\n",
       "      <td>1.0</td>\n",
       "      <td>...</td>\n",
       "      <td>0.0</td>\n",
       "      <td>2.0</td>\n",
       "      <td>0.0</td>\n",
       "      <td>0.0</td>\n",
       "      <td>0.0</td>\n",
       "      <td>0.0</td>\n",
       "      <td>3.0</td>\n",
       "      <td>6.0</td>\n",
       "      <td>USA</td>\n",
       "      <td>2015</td>\n",
       "    </tr>\n",
       "    <tr>\n",
       "      <th>...</th>\n",
       "      <td>...</td>\n",
       "      <td>...</td>\n",
       "      <td>...</td>\n",
       "      <td>...</td>\n",
       "      <td>...</td>\n",
       "      <td>...</td>\n",
       "      <td>...</td>\n",
       "      <td>...</td>\n",
       "      <td>...</td>\n",
       "      <td>...</td>\n",
       "      <td>...</td>\n",
       "      <td>...</td>\n",
       "      <td>...</td>\n",
       "      <td>...</td>\n",
       "      <td>...</td>\n",
       "      <td>...</td>\n",
       "      <td>...</td>\n",
       "      <td>...</td>\n",
       "      <td>...</td>\n",
       "      <td>...</td>\n",
       "      <td>...</td>\n",
       "    </tr>\n",
       "    <tr>\n",
       "      <th>253645</th>\n",
       "      <td>0.0</td>\n",
       "      <td>1.0</td>\n",
       "      <td>0.0</td>\n",
       "      <td>1.0</td>\n",
       "      <td>35.0</td>\n",
       "      <td>0.0</td>\n",
       "      <td>0.0</td>\n",
       "      <td>1.0</td>\n",
       "      <td>0.0</td>\n",
       "      <td>0.0</td>\n",
       "      <td>...</td>\n",
       "      <td>0.0</td>\n",
       "      <td>4.0</td>\n",
       "      <td>0.0</td>\n",
       "      <td>0.0</td>\n",
       "      <td>0.0</td>\n",
       "      <td>1.0</td>\n",
       "      <td>3.0</td>\n",
       "      <td>2.0</td>\n",
       "      <td>USA</td>\n",
       "      <td>2015</td>\n",
       "    </tr>\n",
       "    <tr>\n",
       "      <th>253654</th>\n",
       "      <td>0.0</td>\n",
       "      <td>0.0</td>\n",
       "      <td>0.0</td>\n",
       "      <td>1.0</td>\n",
       "      <td>26.0</td>\n",
       "      <td>1.0</td>\n",
       "      <td>0.0</td>\n",
       "      <td>0.0</td>\n",
       "      <td>1.0</td>\n",
       "      <td>1.0</td>\n",
       "      <td>...</td>\n",
       "      <td>0.0</td>\n",
       "      <td>2.0</td>\n",
       "      <td>1.0</td>\n",
       "      <td>0.0</td>\n",
       "      <td>0.0</td>\n",
       "      <td>1.0</td>\n",
       "      <td>3.0</td>\n",
       "      <td>3.0</td>\n",
       "      <td>USA</td>\n",
       "      <td>2015</td>\n",
       "    </tr>\n",
       "    <tr>\n",
       "      <th>253658</th>\n",
       "      <td>0.0</td>\n",
       "      <td>0.0</td>\n",
       "      <td>0.0</td>\n",
       "      <td>0.0</td>\n",
       "      <td>27.0</td>\n",
       "      <td>0.0</td>\n",
       "      <td>0.0</td>\n",
       "      <td>0.0</td>\n",
       "      <td>1.0</td>\n",
       "      <td>0.0</td>\n",
       "      <td>...</td>\n",
       "      <td>1.0</td>\n",
       "      <td>2.0</td>\n",
       "      <td>0.0</td>\n",
       "      <td>0.0</td>\n",
       "      <td>0.0</td>\n",
       "      <td>0.0</td>\n",
       "      <td>3.0</td>\n",
       "      <td>6.0</td>\n",
       "      <td>USA</td>\n",
       "      <td>2015</td>\n",
       "    </tr>\n",
       "    <tr>\n",
       "      <th>253673</th>\n",
       "      <td>0.0</td>\n",
       "      <td>1.0</td>\n",
       "      <td>0.0</td>\n",
       "      <td>1.0</td>\n",
       "      <td>42.0</td>\n",
       "      <td>0.0</td>\n",
       "      <td>0.0</td>\n",
       "      <td>0.0</td>\n",
       "      <td>1.0</td>\n",
       "      <td>1.0</td>\n",
       "      <td>...</td>\n",
       "      <td>0.0</td>\n",
       "      <td>3.0</td>\n",
       "      <td>14.0</td>\n",
       "      <td>4.0</td>\n",
       "      <td>0.0</td>\n",
       "      <td>1.0</td>\n",
       "      <td>3.0</td>\n",
       "      <td>6.0</td>\n",
       "      <td>USA</td>\n",
       "      <td>2015</td>\n",
       "    </tr>\n",
       "    <tr>\n",
       "      <th>253674</th>\n",
       "      <td>0.0</td>\n",
       "      <td>0.0</td>\n",
       "      <td>0.0</td>\n",
       "      <td>1.0</td>\n",
       "      <td>27.0</td>\n",
       "      <td>0.0</td>\n",
       "      <td>0.0</td>\n",
       "      <td>0.0</td>\n",
       "      <td>0.0</td>\n",
       "      <td>0.0</td>\n",
       "      <td>...</td>\n",
       "      <td>0.0</td>\n",
       "      <td>1.0</td>\n",
       "      <td>0.0</td>\n",
       "      <td>0.0</td>\n",
       "      <td>0.0</td>\n",
       "      <td>0.0</td>\n",
       "      <td>3.0</td>\n",
       "      <td>6.0</td>\n",
       "      <td>USA</td>\n",
       "      <td>2015</td>\n",
       "    </tr>\n",
       "  </tbody>\n",
       "</table>\n",
       "<p>11123 rows × 23 columns</p>\n",
       "</div>"
      ],
      "text/plain": [
       "        Diabetes_012  HighBP  HighChol  CholCheck   BMI  Smoker  Stroke  \\\n",
       "91               0.0     0.0       0.0        1.0  22.0     0.0     0.0   \n",
       "96               1.0     0.0       0.0        1.0  32.0     0.0     0.0   \n",
       "115              0.0     0.0       0.0        1.0  28.0     1.0     0.0   \n",
       "319              0.0     0.0       0.0        1.0  31.0     1.0     0.0   \n",
       "404              0.0     0.0       0.0        1.0  23.0     1.0     0.0   \n",
       "...              ...     ...       ...        ...   ...     ...     ...   \n",
       "253645           0.0     1.0       0.0        1.0  35.0     0.0     0.0   \n",
       "253654           0.0     0.0       0.0        1.0  26.0     1.0     0.0   \n",
       "253658           0.0     0.0       0.0        0.0  27.0     0.0     0.0   \n",
       "253673           0.0     1.0       0.0        1.0  42.0     0.0     0.0   \n",
       "253674           0.0     0.0       0.0        1.0  27.0     0.0     0.0   \n",
       "\n",
       "        HeartDiseaseorAttack  PhysActivity  Fruits  ...  NoDocbcCost  GenHlth  \\\n",
       "91                       0.0           1.0     0.0  ...          0.0      1.0   \n",
       "96                       0.0           1.0     0.0  ...          1.0      4.0   \n",
       "115                      0.0           1.0     1.0  ...          1.0      3.0   \n",
       "319                      0.0           0.0     1.0  ...          0.0      2.0   \n",
       "404                      0.0           1.0     1.0  ...          0.0      2.0   \n",
       "...                      ...           ...     ...  ...          ...      ...   \n",
       "253645                   1.0           0.0     0.0  ...          0.0      4.0   \n",
       "253654                   0.0           1.0     1.0  ...          0.0      2.0   \n",
       "253658                   0.0           1.0     0.0  ...          1.0      2.0   \n",
       "253673                   0.0           1.0     1.0  ...          0.0      3.0   \n",
       "253674                   0.0           0.0     0.0  ...          0.0      1.0   \n",
       "\n",
       "        MentHlth  PhysHlth  DiffWalk  Sex  Age  Education  Label  Date  \n",
       "91           5.0       0.0       0.0  0.0  3.0        6.0    USA  2015  \n",
       "96           0.0       3.0       0.0  0.0  3.0        5.0    USA  2015  \n",
       "115         30.0      30.0       1.0  1.0  3.0        5.0    USA  2015  \n",
       "319          0.0       3.0       0.0  0.0  3.0        5.0    USA  2015  \n",
       "404          0.0       0.0       0.0  0.0  3.0        6.0    USA  2015  \n",
       "...          ...       ...       ...  ...  ...        ...    ...   ...  \n",
       "253645       0.0       0.0       0.0  1.0  3.0        2.0    USA  2015  \n",
       "253654       1.0       0.0       0.0  1.0  3.0        3.0    USA  2015  \n",
       "253658       0.0       0.0       0.0  0.0  3.0        6.0    USA  2015  \n",
       "253673      14.0       4.0       0.0  1.0  3.0        6.0    USA  2015  \n",
       "253674       0.0       0.0       0.0  0.0  3.0        6.0    USA  2015  \n",
       "\n",
       "[11123 rows x 23 columns]"
      ]
     },
     "execution_count": 119,
     "metadata": {},
     "output_type": "execute_result"
    }
   ],
   "source": [
    "data0 = data[data[\"Age\"]==Age]\n",
    "data0"
   ]
  },
  {
   "cell_type": "code",
   "execution_count": 121,
   "id": "2ba5867f",
   "metadata": {},
   "outputs": [
    {
     "data": {
      "text/html": [
       "<div>\n",
       "<style scoped>\n",
       "    .dataframe tbody tr th:only-of-type {\n",
       "        vertical-align: middle;\n",
       "    }\n",
       "\n",
       "    .dataframe tbody tr th {\n",
       "        vertical-align: top;\n",
       "    }\n",
       "\n",
       "    .dataframe thead th {\n",
       "        text-align: right;\n",
       "    }\n",
       "</style>\n",
       "<table border=\"1\" class=\"dataframe\">\n",
       "  <thead>\n",
       "    <tr style=\"text-align: right;\">\n",
       "      <th>Diabetes_012</th>\n",
       "      <th>0.0</th>\n",
       "      <th>1.0</th>\n",
       "    </tr>\n",
       "    <tr>\n",
       "      <th>Age</th>\n",
       "      <th></th>\n",
       "      <th></th>\n",
       "    </tr>\n",
       "  </thead>\n",
       "  <tbody>\n",
       "    <tr>\n",
       "      <th>3.0</th>\n",
       "      <td>10737</td>\n",
       "      <td>386</td>\n",
       "    </tr>\n",
       "  </tbody>\n",
       "</table>\n",
       "</div>"
      ],
      "text/plain": [
       "Diabetes_012    0.0  1.0\n",
       "Age                     \n",
       "3.0           10737  386"
      ]
     },
     "execution_count": 121,
     "metadata": {},
     "output_type": "execute_result"
    }
   ],
   "source": [
    "pd.crosstab(data0.Age,data0.Diabetes_012)"
   ]
  },
  {
   "cell_type": "code",
   "execution_count": 157,
   "id": "f3340335",
   "metadata": {},
   "outputs": [
    {
     "data": {
      "text/plain": [
       "Counter({0.0: 10737, 1.0: 386})"
      ]
     },
     "execution_count": 157,
     "metadata": {},
     "output_type": "execute_result"
    }
   ],
   "source": [
    "from collections import Counter\n",
    "Counter(data0.Diabetes_012)"
   ]
  },
  {
   "cell_type": "code",
   "execution_count": 120,
   "id": "942c1278",
   "metadata": {},
   "outputs": [
    {
     "data": {
      "text/html": [
       "<div>\n",
       "<style scoped>\n",
       "    .dataframe tbody tr th:only-of-type {\n",
       "        vertical-align: middle;\n",
       "    }\n",
       "\n",
       "    .dataframe tbody tr th {\n",
       "        vertical-align: top;\n",
       "    }\n",
       "\n",
       "    .dataframe thead th {\n",
       "        text-align: right;\n",
       "    }\n",
       "</style>\n",
       "<table border=\"1\" class=\"dataframe\">\n",
       "  <thead>\n",
       "    <tr style=\"text-align: right;\">\n",
       "      <th>HighBP</th>\n",
       "      <th>0.0</th>\n",
       "      <th>1.0</th>\n",
       "    </tr>\n",
       "    <tr>\n",
       "      <th>Age</th>\n",
       "      <th></th>\n",
       "      <th></th>\n",
       "    </tr>\n",
       "  </thead>\n",
       "  <tbody>\n",
       "    <tr>\n",
       "      <th>3.0</th>\n",
       "      <td>9487</td>\n",
       "      <td>1636</td>\n",
       "    </tr>\n",
       "  </tbody>\n",
       "</table>\n",
       "</div>"
      ],
      "text/plain": [
       "HighBP   0.0   1.0\n",
       "Age               \n",
       "3.0     9487  1636"
      ]
     },
     "execution_count": 120,
     "metadata": {},
     "output_type": "execute_result"
    }
   ],
   "source": [
    "pd.crosstab(data0.Age,data0.HighBP)"
   ]
  },
  {
   "cell_type": "code",
   "execution_count": 124,
   "id": "9d25cf83",
   "metadata": {},
   "outputs": [
    {
     "data": {
      "text/html": [
       "<div>\n",
       "<style scoped>\n",
       "    .dataframe tbody tr th:only-of-type {\n",
       "        vertical-align: middle;\n",
       "    }\n",
       "\n",
       "    .dataframe tbody tr th {\n",
       "        vertical-align: top;\n",
       "    }\n",
       "\n",
       "    .dataframe thead th {\n",
       "        text-align: right;\n",
       "    }\n",
       "</style>\n",
       "<table border=\"1\" class=\"dataframe\">\n",
       "  <thead>\n",
       "    <tr style=\"text-align: right;\">\n",
       "      <th>HighChol</th>\n",
       "      <th>0.0</th>\n",
       "      <th>1.0</th>\n",
       "    </tr>\n",
       "    <tr>\n",
       "      <th>Age</th>\n",
       "      <th></th>\n",
       "      <th></th>\n",
       "    </tr>\n",
       "  </thead>\n",
       "  <tbody>\n",
       "    <tr>\n",
       "      <th>3.0</th>\n",
       "      <td>9295</td>\n",
       "      <td>1828</td>\n",
       "    </tr>\n",
       "  </tbody>\n",
       "</table>\n",
       "</div>"
      ],
      "text/plain": [
       "HighChol   0.0   1.0\n",
       "Age                 \n",
       "3.0       9295  1828"
      ]
     },
     "execution_count": 124,
     "metadata": {},
     "output_type": "execute_result"
    }
   ],
   "source": [
    "pd.crosstab(data0.Age,data0.HighChol)"
   ]
  },
  {
   "cell_type": "code",
   "execution_count": 125,
   "id": "56faef94",
   "metadata": {},
   "outputs": [
    {
     "data": {
      "text/html": [
       "<div>\n",
       "<style scoped>\n",
       "    .dataframe tbody tr th:only-of-type {\n",
       "        vertical-align: middle;\n",
       "    }\n",
       "\n",
       "    .dataframe tbody tr th {\n",
       "        vertical-align: top;\n",
       "    }\n",
       "\n",
       "    .dataframe thead th {\n",
       "        text-align: right;\n",
       "    }\n",
       "</style>\n",
       "<table border=\"1\" class=\"dataframe\">\n",
       "  <thead>\n",
       "    <tr style=\"text-align: right;\">\n",
       "      <th>CholCheck</th>\n",
       "      <th>0.0</th>\n",
       "      <th>1.0</th>\n",
       "    </tr>\n",
       "    <tr>\n",
       "      <th>Age</th>\n",
       "      <th></th>\n",
       "      <th></th>\n",
       "    </tr>\n",
       "  </thead>\n",
       "  <tbody>\n",
       "    <tr>\n",
       "      <th>3.0</th>\n",
       "      <td>797</td>\n",
       "      <td>10326</td>\n",
       "    </tr>\n",
       "  </tbody>\n",
       "</table>\n",
       "</div>"
      ],
      "text/plain": [
       "CholCheck  0.0    1.0\n",
       "Age                  \n",
       "3.0        797  10326"
      ]
     },
     "execution_count": 125,
     "metadata": {},
     "output_type": "execute_result"
    }
   ],
   "source": [
    "pd.crosstab(data0.Age,data0.CholCheck)"
   ]
  },
  {
   "cell_type": "code",
   "execution_count": 126,
   "id": "b114b451",
   "metadata": {},
   "outputs": [
    {
     "data": {
      "text/html": [
       "<div>\n",
       "<style scoped>\n",
       "    .dataframe tbody tr th:only-of-type {\n",
       "        vertical-align: middle;\n",
       "    }\n",
       "\n",
       "    .dataframe tbody tr th {\n",
       "        vertical-align: top;\n",
       "    }\n",
       "\n",
       "    .dataframe thead th {\n",
       "        text-align: right;\n",
       "    }\n",
       "</style>\n",
       "<table border=\"1\" class=\"dataframe\">\n",
       "  <thead>\n",
       "    <tr style=\"text-align: right;\">\n",
       "      <th>BMI</th>\n",
       "      <th>13.0</th>\n",
       "      <th>14.0</th>\n",
       "      <th>15.0</th>\n",
       "      <th>16.0</th>\n",
       "      <th>17.0</th>\n",
       "      <th>18.0</th>\n",
       "      <th>19.0</th>\n",
       "      <th>20.0</th>\n",
       "      <th>21.0</th>\n",
       "      <th>22.0</th>\n",
       "      <th>...</th>\n",
       "      <th>79.0</th>\n",
       "      <th>81.0</th>\n",
       "      <th>82.0</th>\n",
       "      <th>84.0</th>\n",
       "      <th>87.0</th>\n",
       "      <th>88.0</th>\n",
       "      <th>89.0</th>\n",
       "      <th>92.0</th>\n",
       "      <th>95.0</th>\n",
       "      <th>98.0</th>\n",
       "    </tr>\n",
       "    <tr>\n",
       "      <th>Age</th>\n",
       "      <th></th>\n",
       "      <th></th>\n",
       "      <th></th>\n",
       "      <th></th>\n",
       "      <th></th>\n",
       "      <th></th>\n",
       "      <th></th>\n",
       "      <th></th>\n",
       "      <th></th>\n",
       "      <th></th>\n",
       "      <th></th>\n",
       "      <th></th>\n",
       "      <th></th>\n",
       "      <th></th>\n",
       "      <th></th>\n",
       "      <th></th>\n",
       "      <th></th>\n",
       "      <th></th>\n",
       "      <th></th>\n",
       "      <th></th>\n",
       "      <th></th>\n",
       "    </tr>\n",
       "  </thead>\n",
       "  <tbody>\n",
       "    <tr>\n",
       "      <th>3.0</th>\n",
       "      <td>1</td>\n",
       "      <td>1</td>\n",
       "      <td>4</td>\n",
       "      <td>13</td>\n",
       "      <td>24</td>\n",
       "      <td>92</td>\n",
       "      <td>205</td>\n",
       "      <td>386</td>\n",
       "      <td>499</td>\n",
       "      <td>734</td>\n",
       "      <td>...</td>\n",
       "      <td>4</td>\n",
       "      <td>5</td>\n",
       "      <td>4</td>\n",
       "      <td>9</td>\n",
       "      <td>9</td>\n",
       "      <td>1</td>\n",
       "      <td>4</td>\n",
       "      <td>2</td>\n",
       "      <td>2</td>\n",
       "      <td>1</td>\n",
       "    </tr>\n",
       "  </tbody>\n",
       "</table>\n",
       "<p>1 rows × 72 columns</p>\n",
       "</div>"
      ],
      "text/plain": [
       "BMI  13.0  14.0  15.0  16.0  17.0  18.0  19.0  20.0  21.0  22.0  ...  79.0  \\\n",
       "Age                                                              ...         \n",
       "3.0     1     1     4    13    24    92   205   386   499   734  ...     4   \n",
       "\n",
       "BMI  81.0  82.0  84.0  87.0  88.0  89.0  92.0  95.0  98.0  \n",
       "Age                                                        \n",
       "3.0     5     4     9     9     1     4     2     2     1  \n",
       "\n",
       "[1 rows x 72 columns]"
      ]
     },
     "execution_count": 126,
     "metadata": {},
     "output_type": "execute_result"
    }
   ],
   "source": [
    "pd.crosstab(data0.Age,data0.BMI)"
   ]
  },
  {
   "cell_type": "code",
   "execution_count": 127,
   "id": "31c1cded",
   "metadata": {},
   "outputs": [
    {
     "data": {
      "text/html": [
       "<div>\n",
       "<style scoped>\n",
       "    .dataframe tbody tr th:only-of-type {\n",
       "        vertical-align: middle;\n",
       "    }\n",
       "\n",
       "    .dataframe tbody tr th {\n",
       "        vertical-align: top;\n",
       "    }\n",
       "\n",
       "    .dataframe thead th {\n",
       "        text-align: right;\n",
       "    }\n",
       "</style>\n",
       "<table border=\"1\" class=\"dataframe\">\n",
       "  <thead>\n",
       "    <tr style=\"text-align: right;\">\n",
       "      <th>Smoker</th>\n",
       "      <th>0.0</th>\n",
       "      <th>1.0</th>\n",
       "    </tr>\n",
       "    <tr>\n",
       "      <th>Age</th>\n",
       "      <th></th>\n",
       "      <th></th>\n",
       "    </tr>\n",
       "  </thead>\n",
       "  <tbody>\n",
       "    <tr>\n",
       "      <th>3.0</th>\n",
       "      <td>6919</td>\n",
       "      <td>4204</td>\n",
       "    </tr>\n",
       "  </tbody>\n",
       "</table>\n",
       "</div>"
      ],
      "text/plain": [
       "Smoker   0.0   1.0\n",
       "Age               \n",
       "3.0     6919  4204"
      ]
     },
     "execution_count": 127,
     "metadata": {},
     "output_type": "execute_result"
    }
   ],
   "source": [
    "pd.crosstab(data0.Age,data0.Smoker)"
   ]
  },
  {
   "cell_type": "code",
   "execution_count": 128,
   "id": "01964b4c",
   "metadata": {},
   "outputs": [
    {
     "data": {
      "text/html": [
       "<div>\n",
       "<style scoped>\n",
       "    .dataframe tbody tr th:only-of-type {\n",
       "        vertical-align: middle;\n",
       "    }\n",
       "\n",
       "    .dataframe tbody tr th {\n",
       "        vertical-align: top;\n",
       "    }\n",
       "\n",
       "    .dataframe thead th {\n",
       "        text-align: right;\n",
       "    }\n",
       "</style>\n",
       "<table border=\"1\" class=\"dataframe\">\n",
       "  <thead>\n",
       "    <tr style=\"text-align: right;\">\n",
       "      <th>Stroke</th>\n",
       "      <th>0.0</th>\n",
       "      <th>1.0</th>\n",
       "    </tr>\n",
       "    <tr>\n",
       "      <th>Age</th>\n",
       "      <th></th>\n",
       "      <th></th>\n",
       "    </tr>\n",
       "  </thead>\n",
       "  <tbody>\n",
       "    <tr>\n",
       "      <th>3.0</th>\n",
       "      <td>11040</td>\n",
       "      <td>83</td>\n",
       "    </tr>\n",
       "  </tbody>\n",
       "</table>\n",
       "</div>"
      ],
      "text/plain": [
       "Stroke    0.0  1.0\n",
       "Age               \n",
       "3.0     11040   83"
      ]
     },
     "execution_count": 128,
     "metadata": {},
     "output_type": "execute_result"
    }
   ],
   "source": [
    "pd.crosstab(data0.Age,data0.Stroke)"
   ]
  },
  {
   "cell_type": "code",
   "execution_count": 129,
   "id": "e2d5d6e5",
   "metadata": {},
   "outputs": [
    {
     "data": {
      "text/html": [
       "<div>\n",
       "<style scoped>\n",
       "    .dataframe tbody tr th:only-of-type {\n",
       "        vertical-align: middle;\n",
       "    }\n",
       "\n",
       "    .dataframe tbody tr th {\n",
       "        vertical-align: top;\n",
       "    }\n",
       "\n",
       "    .dataframe thead th {\n",
       "        text-align: right;\n",
       "    }\n",
       "</style>\n",
       "<table border=\"1\" class=\"dataframe\">\n",
       "  <thead>\n",
       "    <tr style=\"text-align: right;\">\n",
       "      <th>HeartDiseaseorAttack</th>\n",
       "      <th>0.0</th>\n",
       "      <th>1.0</th>\n",
       "    </tr>\n",
       "    <tr>\n",
       "      <th>Age</th>\n",
       "      <th></th>\n",
       "      <th></th>\n",
       "    </tr>\n",
       "  </thead>\n",
       "  <tbody>\n",
       "    <tr>\n",
       "      <th>3.0</th>\n",
       "      <td>10997</td>\n",
       "      <td>126</td>\n",
       "    </tr>\n",
       "  </tbody>\n",
       "</table>\n",
       "</div>"
      ],
      "text/plain": [
       "HeartDiseaseorAttack    0.0  1.0\n",
       "Age                             \n",
       "3.0                   10997  126"
      ]
     },
     "execution_count": 129,
     "metadata": {},
     "output_type": "execute_result"
    }
   ],
   "source": [
    "pd.crosstab(data0.Age,data0.HeartDiseaseorAttack)"
   ]
  },
  {
   "cell_type": "code",
   "execution_count": 130,
   "id": "02bcea31",
   "metadata": {},
   "outputs": [
    {
     "data": {
      "text/html": [
       "<div>\n",
       "<style scoped>\n",
       "    .dataframe tbody tr th:only-of-type {\n",
       "        vertical-align: middle;\n",
       "    }\n",
       "\n",
       "    .dataframe tbody tr th {\n",
       "        vertical-align: top;\n",
       "    }\n",
       "\n",
       "    .dataframe thead th {\n",
       "        text-align: right;\n",
       "    }\n",
       "</style>\n",
       "<table border=\"1\" class=\"dataframe\">\n",
       "  <thead>\n",
       "    <tr style=\"text-align: right;\">\n",
       "      <th>PhysActivity</th>\n",
       "      <th>0.0</th>\n",
       "      <th>1.0</th>\n",
       "    </tr>\n",
       "    <tr>\n",
       "      <th>Age</th>\n",
       "      <th></th>\n",
       "      <th></th>\n",
       "    </tr>\n",
       "  </thead>\n",
       "  <tbody>\n",
       "    <tr>\n",
       "      <th>3.0</th>\n",
       "      <td>1952</td>\n",
       "      <td>9171</td>\n",
       "    </tr>\n",
       "  </tbody>\n",
       "</table>\n",
       "</div>"
      ],
      "text/plain": [
       "PhysActivity   0.0   1.0\n",
       "Age                     \n",
       "3.0           1952  9171"
      ]
     },
     "execution_count": 130,
     "metadata": {},
     "output_type": "execute_result"
    }
   ],
   "source": [
    "pd.crosstab(data0.Age,data0.PhysActivity)"
   ]
  },
  {
   "cell_type": "code",
   "execution_count": 131,
   "id": "22bcd9bb",
   "metadata": {},
   "outputs": [
    {
     "data": {
      "text/html": [
       "<div>\n",
       "<style scoped>\n",
       "    .dataframe tbody tr th:only-of-type {\n",
       "        vertical-align: middle;\n",
       "    }\n",
       "\n",
       "    .dataframe tbody tr th {\n",
       "        vertical-align: top;\n",
       "    }\n",
       "\n",
       "    .dataframe thead th {\n",
       "        text-align: right;\n",
       "    }\n",
       "</style>\n",
       "<table border=\"1\" class=\"dataframe\">\n",
       "  <thead>\n",
       "    <tr style=\"text-align: right;\">\n",
       "      <th>Fruits</th>\n",
       "      <th>0.0</th>\n",
       "      <th>1.0</th>\n",
       "    </tr>\n",
       "    <tr>\n",
       "      <th>Age</th>\n",
       "      <th></th>\n",
       "      <th></th>\n",
       "    </tr>\n",
       "  </thead>\n",
       "  <tbody>\n",
       "    <tr>\n",
       "      <th>3.0</th>\n",
       "      <td>4164</td>\n",
       "      <td>6959</td>\n",
       "    </tr>\n",
       "  </tbody>\n",
       "</table>\n",
       "</div>"
      ],
      "text/plain": [
       "Fruits   0.0   1.0\n",
       "Age               \n",
       "3.0     4164  6959"
      ]
     },
     "execution_count": 131,
     "metadata": {},
     "output_type": "execute_result"
    }
   ],
   "source": [
    "pd.crosstab(data0.Age,data0.Fruits)"
   ]
  },
  {
   "cell_type": "code",
   "execution_count": 132,
   "id": "c8aae9de",
   "metadata": {},
   "outputs": [
    {
     "data": {
      "text/html": [
       "<div>\n",
       "<style scoped>\n",
       "    .dataframe tbody tr th:only-of-type {\n",
       "        vertical-align: middle;\n",
       "    }\n",
       "\n",
       "    .dataframe tbody tr th {\n",
       "        vertical-align: top;\n",
       "    }\n",
       "\n",
       "    .dataframe thead th {\n",
       "        text-align: right;\n",
       "    }\n",
       "</style>\n",
       "<table border=\"1\" class=\"dataframe\">\n",
       "  <thead>\n",
       "    <tr style=\"text-align: right;\">\n",
       "      <th>Veggies</th>\n",
       "      <th>0.0</th>\n",
       "      <th>1.0</th>\n",
       "    </tr>\n",
       "    <tr>\n",
       "      <th>Age</th>\n",
       "      <th></th>\n",
       "      <th></th>\n",
       "    </tr>\n",
       "  </thead>\n",
       "  <tbody>\n",
       "    <tr>\n",
       "      <th>3.0</th>\n",
       "      <td>1847</td>\n",
       "      <td>9276</td>\n",
       "    </tr>\n",
       "  </tbody>\n",
       "</table>\n",
       "</div>"
      ],
      "text/plain": [
       "Veggies   0.0   1.0\n",
       "Age                \n",
       "3.0      1847  9276"
      ]
     },
     "execution_count": 132,
     "metadata": {},
     "output_type": "execute_result"
    }
   ],
   "source": [
    "pd.crosstab(data0.Age,data0.Veggies)"
   ]
  },
  {
   "cell_type": "code",
   "execution_count": 133,
   "id": "6742087f",
   "metadata": {},
   "outputs": [
    {
     "data": {
      "text/html": [
       "<div>\n",
       "<style scoped>\n",
       "    .dataframe tbody tr th:only-of-type {\n",
       "        vertical-align: middle;\n",
       "    }\n",
       "\n",
       "    .dataframe tbody tr th {\n",
       "        vertical-align: top;\n",
       "    }\n",
       "\n",
       "    .dataframe thead th {\n",
       "        text-align: right;\n",
       "    }\n",
       "</style>\n",
       "<table border=\"1\" class=\"dataframe\">\n",
       "  <thead>\n",
       "    <tr style=\"text-align: right;\">\n",
       "      <th>HvyAlcoholConsump</th>\n",
       "      <th>0.0</th>\n",
       "      <th>1.0</th>\n",
       "    </tr>\n",
       "    <tr>\n",
       "      <th>Age</th>\n",
       "      <th></th>\n",
       "      <th></th>\n",
       "    </tr>\n",
       "  </thead>\n",
       "  <tbody>\n",
       "    <tr>\n",
       "      <th>3.0</th>\n",
       "      <td>10445</td>\n",
       "      <td>678</td>\n",
       "    </tr>\n",
       "  </tbody>\n",
       "</table>\n",
       "</div>"
      ],
      "text/plain": [
       "HvyAlcoholConsump    0.0  1.0\n",
       "Age                          \n",
       "3.0                10445  678"
      ]
     },
     "execution_count": 133,
     "metadata": {},
     "output_type": "execute_result"
    }
   ],
   "source": [
    "pd.crosstab(data0.Age,data0.HvyAlcoholConsump)"
   ]
  },
  {
   "cell_type": "code",
   "execution_count": 134,
   "id": "b8b716cc",
   "metadata": {},
   "outputs": [
    {
     "data": {
      "text/html": [
       "<div>\n",
       "<style scoped>\n",
       "    .dataframe tbody tr th:only-of-type {\n",
       "        vertical-align: middle;\n",
       "    }\n",
       "\n",
       "    .dataframe tbody tr th {\n",
       "        vertical-align: top;\n",
       "    }\n",
       "\n",
       "    .dataframe thead th {\n",
       "        text-align: right;\n",
       "    }\n",
       "</style>\n",
       "<table border=\"1\" class=\"dataframe\">\n",
       "  <thead>\n",
       "    <tr style=\"text-align: right;\">\n",
       "      <th>AnyHealthcare</th>\n",
       "      <th>0.0</th>\n",
       "      <th>1.0</th>\n",
       "    </tr>\n",
       "    <tr>\n",
       "      <th>Age</th>\n",
       "      <th></th>\n",
       "      <th></th>\n",
       "    </tr>\n",
       "  </thead>\n",
       "  <tbody>\n",
       "    <tr>\n",
       "      <th>3.0</th>\n",
       "      <td>1060</td>\n",
       "      <td>10063</td>\n",
       "    </tr>\n",
       "  </tbody>\n",
       "</table>\n",
       "</div>"
      ],
      "text/plain": [
       "AnyHealthcare   0.0    1.0\n",
       "Age                       \n",
       "3.0            1060  10063"
      ]
     },
     "execution_count": 134,
     "metadata": {},
     "output_type": "execute_result"
    }
   ],
   "source": [
    "pd.crosstab(data0.Age,data0.AnyHealthcare)"
   ]
  },
  {
   "cell_type": "code",
   "execution_count": 135,
   "id": "dd846e0b",
   "metadata": {},
   "outputs": [
    {
     "data": {
      "text/html": [
       "<div>\n",
       "<style scoped>\n",
       "    .dataframe tbody tr th:only-of-type {\n",
       "        vertical-align: middle;\n",
       "    }\n",
       "\n",
       "    .dataframe tbody tr th {\n",
       "        vertical-align: top;\n",
       "    }\n",
       "\n",
       "    .dataframe thead th {\n",
       "        text-align: right;\n",
       "    }\n",
       "</style>\n",
       "<table border=\"1\" class=\"dataframe\">\n",
       "  <thead>\n",
       "    <tr style=\"text-align: right;\">\n",
       "      <th>NoDocbcCost</th>\n",
       "      <th>0.0</th>\n",
       "      <th>1.0</th>\n",
       "    </tr>\n",
       "    <tr>\n",
       "      <th>Age</th>\n",
       "      <th></th>\n",
       "      <th></th>\n",
       "    </tr>\n",
       "  </thead>\n",
       "  <tbody>\n",
       "    <tr>\n",
       "      <th>3.0</th>\n",
       "      <td>9694</td>\n",
       "      <td>1429</td>\n",
       "    </tr>\n",
       "  </tbody>\n",
       "</table>\n",
       "</div>"
      ],
      "text/plain": [
       "NoDocbcCost   0.0   1.0\n",
       "Age                    \n",
       "3.0          9694  1429"
      ]
     },
     "execution_count": 135,
     "metadata": {},
     "output_type": "execute_result"
    }
   ],
   "source": [
    "pd.crosstab(data0.Age,data0.NoDocbcCost)"
   ]
  },
  {
   "cell_type": "code",
   "execution_count": 136,
   "id": "d16c3945",
   "metadata": {},
   "outputs": [
    {
     "data": {
      "text/html": [
       "<div>\n",
       "<style scoped>\n",
       "    .dataframe tbody tr th:only-of-type {\n",
       "        vertical-align: middle;\n",
       "    }\n",
       "\n",
       "    .dataframe tbody tr th {\n",
       "        vertical-align: top;\n",
       "    }\n",
       "\n",
       "    .dataframe thead th {\n",
       "        text-align: right;\n",
       "    }\n",
       "</style>\n",
       "<table border=\"1\" class=\"dataframe\">\n",
       "  <thead>\n",
       "    <tr style=\"text-align: right;\">\n",
       "      <th>GenHlth</th>\n",
       "      <th>1.0</th>\n",
       "      <th>2.0</th>\n",
       "      <th>3.0</th>\n",
       "      <th>4.0</th>\n",
       "      <th>5.0</th>\n",
       "    </tr>\n",
       "    <tr>\n",
       "      <th>Age</th>\n",
       "      <th></th>\n",
       "      <th></th>\n",
       "      <th></th>\n",
       "      <th></th>\n",
       "      <th></th>\n",
       "    </tr>\n",
       "  </thead>\n",
       "  <tbody>\n",
       "    <tr>\n",
       "      <th>3.0</th>\n",
       "      <td>2688</td>\n",
       "      <td>4468</td>\n",
       "      <td>2992</td>\n",
       "      <td>807</td>\n",
       "      <td>168</td>\n",
       "    </tr>\n",
       "  </tbody>\n",
       "</table>\n",
       "</div>"
      ],
      "text/plain": [
       "GenHlth   1.0   2.0   3.0  4.0  5.0\n",
       "Age                                \n",
       "3.0      2688  4468  2992  807  168"
      ]
     },
     "execution_count": 136,
     "metadata": {},
     "output_type": "execute_result"
    }
   ],
   "source": [
    "pd.crosstab(data0.Age,data0.GenHlth)"
   ]
  },
  {
   "cell_type": "code",
   "execution_count": 137,
   "id": "816bedd7",
   "metadata": {},
   "outputs": [
    {
     "data": {
      "text/html": [
       "<div>\n",
       "<style scoped>\n",
       "    .dataframe tbody tr th:only-of-type {\n",
       "        vertical-align: middle;\n",
       "    }\n",
       "\n",
       "    .dataframe tbody tr th {\n",
       "        vertical-align: top;\n",
       "    }\n",
       "\n",
       "    .dataframe thead th {\n",
       "        text-align: right;\n",
       "    }\n",
       "</style>\n",
       "<table border=\"1\" class=\"dataframe\">\n",
       "  <thead>\n",
       "    <tr style=\"text-align: right;\">\n",
       "      <th>MentHlth</th>\n",
       "      <th>0.0</th>\n",
       "      <th>1.0</th>\n",
       "      <th>2.0</th>\n",
       "      <th>3.0</th>\n",
       "      <th>4.0</th>\n",
       "      <th>5.0</th>\n",
       "      <th>6.0</th>\n",
       "      <th>7.0</th>\n",
       "      <th>8.0</th>\n",
       "      <th>9.0</th>\n",
       "      <th>...</th>\n",
       "      <th>20.0</th>\n",
       "      <th>21.0</th>\n",
       "      <th>22.0</th>\n",
       "      <th>23.0</th>\n",
       "      <th>25.0</th>\n",
       "      <th>26.0</th>\n",
       "      <th>27.0</th>\n",
       "      <th>28.0</th>\n",
       "      <th>29.0</th>\n",
       "      <th>30.0</th>\n",
       "    </tr>\n",
       "    <tr>\n",
       "      <th>Age</th>\n",
       "      <th></th>\n",
       "      <th></th>\n",
       "      <th></th>\n",
       "      <th></th>\n",
       "      <th></th>\n",
       "      <th></th>\n",
       "      <th></th>\n",
       "      <th></th>\n",
       "      <th></th>\n",
       "      <th></th>\n",
       "      <th></th>\n",
       "      <th></th>\n",
       "      <th></th>\n",
       "      <th></th>\n",
       "      <th></th>\n",
       "      <th></th>\n",
       "      <th></th>\n",
       "      <th></th>\n",
       "      <th></th>\n",
       "      <th></th>\n",
       "      <th></th>\n",
       "    </tr>\n",
       "  </thead>\n",
       "  <tbody>\n",
       "    <tr>\n",
       "      <th>3.0</th>\n",
       "      <td>6604</td>\n",
       "      <td>554</td>\n",
       "      <td>760</td>\n",
       "      <td>459</td>\n",
       "      <td>221</td>\n",
       "      <td>579</td>\n",
       "      <td>41</td>\n",
       "      <td>234</td>\n",
       "      <td>42</td>\n",
       "      <td>5</td>\n",
       "      <td>...</td>\n",
       "      <td>184</td>\n",
       "      <td>13</td>\n",
       "      <td>4</td>\n",
       "      <td>1</td>\n",
       "      <td>61</td>\n",
       "      <td>3</td>\n",
       "      <td>3</td>\n",
       "      <td>18</td>\n",
       "      <td>7</td>\n",
       "      <td>561</td>\n",
       "    </tr>\n",
       "  </tbody>\n",
       "</table>\n",
       "<p>1 rows × 30 columns</p>\n",
       "</div>"
      ],
      "text/plain": [
       "MentHlth  0.0   1.0   2.0   3.0   4.0   5.0   6.0   7.0   8.0   9.0   ...  \\\n",
       "Age                                                                   ...   \n",
       "3.0       6604   554   760   459   221   579    41   234    42     5  ...   \n",
       "\n",
       "MentHlth  20.0  21.0  22.0  23.0  25.0  26.0  27.0  28.0  29.0  30.0  \n",
       "Age                                                                   \n",
       "3.0        184    13     4     1    61     3     3    18     7   561  \n",
       "\n",
       "[1 rows x 30 columns]"
      ]
     },
     "execution_count": 137,
     "metadata": {},
     "output_type": "execute_result"
    }
   ],
   "source": [
    "pd.crosstab(data0.Age,data0.MentHlth)"
   ]
  },
  {
   "cell_type": "code",
   "execution_count": 138,
   "id": "19fad84f",
   "metadata": {},
   "outputs": [
    {
     "data": {
      "text/html": [
       "<div>\n",
       "<style scoped>\n",
       "    .dataframe tbody tr th:only-of-type {\n",
       "        vertical-align: middle;\n",
       "    }\n",
       "\n",
       "    .dataframe tbody tr th {\n",
       "        vertical-align: top;\n",
       "    }\n",
       "\n",
       "    .dataframe thead th {\n",
       "        text-align: right;\n",
       "    }\n",
       "</style>\n",
       "<table border=\"1\" class=\"dataframe\">\n",
       "  <thead>\n",
       "    <tr style=\"text-align: right;\">\n",
       "      <th>PhysHlth</th>\n",
       "      <th>0.0</th>\n",
       "      <th>1.0</th>\n",
       "      <th>2.0</th>\n",
       "      <th>3.0</th>\n",
       "      <th>4.0</th>\n",
       "      <th>5.0</th>\n",
       "      <th>6.0</th>\n",
       "      <th>7.0</th>\n",
       "      <th>8.0</th>\n",
       "      <th>9.0</th>\n",
       "      <th>...</th>\n",
       "      <th>21.0</th>\n",
       "      <th>22.0</th>\n",
       "      <th>23.0</th>\n",
       "      <th>24.0</th>\n",
       "      <th>25.0</th>\n",
       "      <th>26.0</th>\n",
       "      <th>27.0</th>\n",
       "      <th>28.0</th>\n",
       "      <th>29.0</th>\n",
       "      <th>30.0</th>\n",
       "    </tr>\n",
       "    <tr>\n",
       "      <th>Age</th>\n",
       "      <th></th>\n",
       "      <th></th>\n",
       "      <th></th>\n",
       "      <th></th>\n",
       "      <th></th>\n",
       "      <th></th>\n",
       "      <th></th>\n",
       "      <th></th>\n",
       "      <th></th>\n",
       "      <th></th>\n",
       "      <th></th>\n",
       "      <th></th>\n",
       "      <th></th>\n",
       "      <th></th>\n",
       "      <th></th>\n",
       "      <th></th>\n",
       "      <th></th>\n",
       "      <th></th>\n",
       "      <th></th>\n",
       "      <th></th>\n",
       "      <th></th>\n",
       "    </tr>\n",
       "  </thead>\n",
       "  <tbody>\n",
       "    <tr>\n",
       "      <th>3.0</th>\n",
       "      <td>7452</td>\n",
       "      <td>729</td>\n",
       "      <td>797</td>\n",
       "      <td>391</td>\n",
       "      <td>213</td>\n",
       "      <td>277</td>\n",
       "      <td>50</td>\n",
       "      <td>229</td>\n",
       "      <td>32</td>\n",
       "      <td>8</td>\n",
       "      <td>...</td>\n",
       "      <td>21</td>\n",
       "      <td>2</td>\n",
       "      <td>1</td>\n",
       "      <td>2</td>\n",
       "      <td>26</td>\n",
       "      <td>1</td>\n",
       "      <td>2</td>\n",
       "      <td>10</td>\n",
       "      <td>1</td>\n",
       "      <td>355</td>\n",
       "    </tr>\n",
       "  </tbody>\n",
       "</table>\n",
       "<p>1 rows × 30 columns</p>\n",
       "</div>"
      ],
      "text/plain": [
       "PhysHlth  0.0   1.0   2.0   3.0   4.0   5.0   6.0   7.0   8.0   9.0   ...  \\\n",
       "Age                                                                   ...   \n",
       "3.0       7452   729   797   391   213   277    50   229    32     8  ...   \n",
       "\n",
       "PhysHlth  21.0  22.0  23.0  24.0  25.0  26.0  27.0  28.0  29.0  30.0  \n",
       "Age                                                                   \n",
       "3.0         21     2     1     2    26     1     2    10     1   355  \n",
       "\n",
       "[1 rows x 30 columns]"
      ]
     },
     "execution_count": 138,
     "metadata": {},
     "output_type": "execute_result"
    }
   ],
   "source": [
    "pd.crosstab(data0.Age,data0.PhysHlth)"
   ]
  },
  {
   "cell_type": "code",
   "execution_count": 139,
   "id": "19c2d3fe",
   "metadata": {},
   "outputs": [
    {
     "data": {
      "text/html": [
       "<div>\n",
       "<style scoped>\n",
       "    .dataframe tbody tr th:only-of-type {\n",
       "        vertical-align: middle;\n",
       "    }\n",
       "\n",
       "    .dataframe tbody tr th {\n",
       "        vertical-align: top;\n",
       "    }\n",
       "\n",
       "    .dataframe thead th {\n",
       "        text-align: right;\n",
       "    }\n",
       "</style>\n",
       "<table border=\"1\" class=\"dataframe\">\n",
       "  <thead>\n",
       "    <tr style=\"text-align: right;\">\n",
       "      <th>DiffWalk</th>\n",
       "      <th>0.0</th>\n",
       "      <th>1.0</th>\n",
       "    </tr>\n",
       "    <tr>\n",
       "      <th>Age</th>\n",
       "      <th></th>\n",
       "      <th></th>\n",
       "    </tr>\n",
       "  </thead>\n",
       "  <tbody>\n",
       "    <tr>\n",
       "      <th>3.0</th>\n",
       "      <td>10664</td>\n",
       "      <td>459</td>\n",
       "    </tr>\n",
       "  </tbody>\n",
       "</table>\n",
       "</div>"
      ],
      "text/plain": [
       "DiffWalk    0.0  1.0\n",
       "Age                 \n",
       "3.0       10664  459"
      ]
     },
     "execution_count": 139,
     "metadata": {},
     "output_type": "execute_result"
    }
   ],
   "source": [
    "pd.crosstab(data0.Age,data0.DiffWalk)"
   ]
  },
  {
   "cell_type": "code",
   "execution_count": 140,
   "id": "840e0b37",
   "metadata": {},
   "outputs": [
    {
     "data": {
      "text/html": [
       "<div>\n",
       "<style scoped>\n",
       "    .dataframe tbody tr th:only-of-type {\n",
       "        vertical-align: middle;\n",
       "    }\n",
       "\n",
       "    .dataframe tbody tr th {\n",
       "        vertical-align: top;\n",
       "    }\n",
       "\n",
       "    .dataframe thead th {\n",
       "        text-align: right;\n",
       "    }\n",
       "</style>\n",
       "<table border=\"1\" class=\"dataframe\">\n",
       "  <thead>\n",
       "    <tr style=\"text-align: right;\">\n",
       "      <th>Sex</th>\n",
       "      <th>0.0</th>\n",
       "      <th>1.0</th>\n",
       "    </tr>\n",
       "    <tr>\n",
       "      <th>Age</th>\n",
       "      <th></th>\n",
       "      <th></th>\n",
       "    </tr>\n",
       "  </thead>\n",
       "  <tbody>\n",
       "    <tr>\n",
       "      <th>3.0</th>\n",
       "      <td>6062</td>\n",
       "      <td>5061</td>\n",
       "    </tr>\n",
       "  </tbody>\n",
       "</table>\n",
       "</div>"
      ],
      "text/plain": [
       "Sex   0.0   1.0\n",
       "Age            \n",
       "3.0  6062  5061"
      ]
     },
     "execution_count": 140,
     "metadata": {},
     "output_type": "execute_result"
    }
   ],
   "source": [
    "pd.crosstab(data0.Age,data0.Sex)"
   ]
  },
  {
   "cell_type": "code",
   "execution_count": 141,
   "id": "46186796",
   "metadata": {},
   "outputs": [
    {
     "data": {
      "text/html": [
       "<div>\n",
       "<style scoped>\n",
       "    .dataframe tbody tr th:only-of-type {\n",
       "        vertical-align: middle;\n",
       "    }\n",
       "\n",
       "    .dataframe tbody tr th {\n",
       "        vertical-align: top;\n",
       "    }\n",
       "\n",
       "    .dataframe thead th {\n",
       "        text-align: right;\n",
       "    }\n",
       "</style>\n",
       "<table border=\"1\" class=\"dataframe\">\n",
       "  <thead>\n",
       "    <tr style=\"text-align: right;\">\n",
       "      <th>Education</th>\n",
       "      <th>1.0</th>\n",
       "      <th>2.0</th>\n",
       "      <th>3.0</th>\n",
       "      <th>4.0</th>\n",
       "      <th>5.0</th>\n",
       "      <th>6.0</th>\n",
       "    </tr>\n",
       "    <tr>\n",
       "      <th>Age</th>\n",
       "      <th></th>\n",
       "      <th></th>\n",
       "      <th></th>\n",
       "      <th></th>\n",
       "      <th></th>\n",
       "      <th></th>\n",
       "    </tr>\n",
       "  </thead>\n",
       "  <tbody>\n",
       "    <tr>\n",
       "      <th>3.0</th>\n",
       "      <td>7</td>\n",
       "      <td>106</td>\n",
       "      <td>373</td>\n",
       "      <td>2018</td>\n",
       "      <td>3012</td>\n",
       "      <td>5607</td>\n",
       "    </tr>\n",
       "  </tbody>\n",
       "</table>\n",
       "</div>"
      ],
      "text/plain": [
       "Education  1.0  2.0  3.0   4.0   5.0   6.0\n",
       "Age                                       \n",
       "3.0          7  106  373  2018  3012  5607"
      ]
     },
     "execution_count": 141,
     "metadata": {},
     "output_type": "execute_result"
    }
   ],
   "source": [
    "pd.crosstab(data0.Age,data0.Education)"
   ]
  },
  {
   "cell_type": "code",
   "execution_count": null,
   "id": "b8ae3494",
   "metadata": {},
   "outputs": [],
   "source": []
  }
 ],
 "metadata": {
  "kernelspec": {
   "display_name": "Python 3 (ipykernel)",
   "language": "python",
   "name": "python3"
  },
  "language_info": {
   "codemirror_mode": {
    "name": "ipython",
    "version": 3
   },
   "file_extension": ".py",
   "mimetype": "text/x-python",
   "name": "python",
   "nbconvert_exporter": "python",
   "pygments_lexer": "ipython3",
   "version": "3.9.7"
  }
 },
 "nbformat": 4,
 "nbformat_minor": 5
}

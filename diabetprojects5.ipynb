{
 "cells": [
  {
   "cell_type": "markdown",
   "id": "62070393",
   "metadata": {},
   "source": [
    "## Phase1: Predicting Model"
   ]
  },
  {
   "cell_type": "code",
   "execution_count": 5,
   "id": "daee5578",
   "metadata": {
    "id": "rxiu6IA0oSKf"
   },
   "outputs": [],
   "source": [
    "import pandas as pd\n",
    "import lightgbm as lgb\n",
    "from sklearn import metrics\n",
    "import matplotlib.pyplot as plt\n",
    "import numpy as np"
   ]
  },
  {
   "cell_type": "code",
   "execution_count": 6,
   "id": "79fc69cf",
   "metadata": {
    "id": "6fyfHpq8pbIf"
   },
   "outputs": [],
   "source": [
    "data = pd.read_csv('diabetes_012_health_indicators_BRFSS2015.csv')"
   ]
  },
  {
   "cell_type": "code",
   "execution_count": 7,
   "id": "a13a0965",
   "metadata": {
    "colab": {
     "base_uri": "https://localhost:8080/"
    },
    "id": "8JTFvWWUp0-y",
    "outputId": "753936c9-7367-4932-e41e-428438668111"
   },
   "outputs": [
    {
     "data": {
      "text/plain": [
       "Index(['Diabetes_012', 'HighBP', 'HighChol', 'CholCheck', 'BMI', 'Smoker',\n",
       "       'Stroke', 'HeartDiseaseorAttack', 'PhysActivity', 'Fruits', 'Veggies',\n",
       "       'HvyAlcoholConsump', 'AnyHealthcare', 'NoDocbcCost', 'GenHlth',\n",
       "       'MentHlth', 'PhysHlth', 'DiffWalk', 'Sex', 'Age', 'Education',\n",
       "       'Income'],\n",
       "      dtype='object')"
      ]
     },
     "execution_count": 7,
     "metadata": {},
     "output_type": "execute_result"
    }
   ],
   "source": [
    "data.columns"
   ]
  },
  {
   "cell_type": "code",
   "execution_count": 8,
   "id": "6ffc133e",
   "metadata": {
    "colab": {
     "base_uri": "https://localhost:8080/",
     "height": 488
    },
    "id": "JCCAbGXBrlBe",
    "outputId": "8f1bb2d1-48e2-4532-fc55-fac44f5ce50b",
    "scrolled": true
   },
   "outputs": [],
   "source": [
    "data.drop('Income', axis =1, inplace = True)"
   ]
  },
  {
   "cell_type": "code",
   "execution_count": 9,
   "id": "d6c95a30",
   "metadata": {
    "colab": {
     "base_uri": "https://localhost:8080/",
     "height": 488
    },
    "id": "4x76GCbbrn42",
    "outputId": "35542d72-917c-46e7-ee36-ce03e2e0ea84"
   },
   "outputs": [
    {
     "data": {
      "text/html": [
       "<div>\n",
       "<style scoped>\n",
       "    .dataframe tbody tr th:only-of-type {\n",
       "        vertical-align: middle;\n",
       "    }\n",
       "\n",
       "    .dataframe tbody tr th {\n",
       "        vertical-align: top;\n",
       "    }\n",
       "\n",
       "    .dataframe thead th {\n",
       "        text-align: right;\n",
       "    }\n",
       "</style>\n",
       "<table border=\"1\" class=\"dataframe\">\n",
       "  <thead>\n",
       "    <tr style=\"text-align: right;\">\n",
       "      <th></th>\n",
       "      <th>Diabetes_012</th>\n",
       "      <th>HighBP</th>\n",
       "      <th>HighChol</th>\n",
       "      <th>CholCheck</th>\n",
       "      <th>BMI</th>\n",
       "      <th>Smoker</th>\n",
       "      <th>Stroke</th>\n",
       "      <th>HeartDiseaseorAttack</th>\n",
       "      <th>PhysActivity</th>\n",
       "      <th>Fruits</th>\n",
       "      <th>...</th>\n",
       "      <th>HvyAlcoholConsump</th>\n",
       "      <th>AnyHealthcare</th>\n",
       "      <th>NoDocbcCost</th>\n",
       "      <th>GenHlth</th>\n",
       "      <th>MentHlth</th>\n",
       "      <th>PhysHlth</th>\n",
       "      <th>DiffWalk</th>\n",
       "      <th>Sex</th>\n",
       "      <th>Age</th>\n",
       "      <th>Education</th>\n",
       "    </tr>\n",
       "  </thead>\n",
       "  <tbody>\n",
       "    <tr>\n",
       "      <th>0</th>\n",
       "      <td>0.0</td>\n",
       "      <td>1.0</td>\n",
       "      <td>1.0</td>\n",
       "      <td>1.0</td>\n",
       "      <td>40.0</td>\n",
       "      <td>1.0</td>\n",
       "      <td>0.0</td>\n",
       "      <td>0.0</td>\n",
       "      <td>0.0</td>\n",
       "      <td>0.0</td>\n",
       "      <td>...</td>\n",
       "      <td>0.0</td>\n",
       "      <td>1.0</td>\n",
       "      <td>0.0</td>\n",
       "      <td>5.0</td>\n",
       "      <td>18.0</td>\n",
       "      <td>15.0</td>\n",
       "      <td>1.0</td>\n",
       "      <td>0.0</td>\n",
       "      <td>9.0</td>\n",
       "      <td>4.0</td>\n",
       "    </tr>\n",
       "    <tr>\n",
       "      <th>1</th>\n",
       "      <td>0.0</td>\n",
       "      <td>0.0</td>\n",
       "      <td>0.0</td>\n",
       "      <td>0.0</td>\n",
       "      <td>25.0</td>\n",
       "      <td>1.0</td>\n",
       "      <td>0.0</td>\n",
       "      <td>0.0</td>\n",
       "      <td>1.0</td>\n",
       "      <td>0.0</td>\n",
       "      <td>...</td>\n",
       "      <td>0.0</td>\n",
       "      <td>0.0</td>\n",
       "      <td>1.0</td>\n",
       "      <td>3.0</td>\n",
       "      <td>0.0</td>\n",
       "      <td>0.0</td>\n",
       "      <td>0.0</td>\n",
       "      <td>0.0</td>\n",
       "      <td>7.0</td>\n",
       "      <td>6.0</td>\n",
       "    </tr>\n",
       "    <tr>\n",
       "      <th>2</th>\n",
       "      <td>0.0</td>\n",
       "      <td>1.0</td>\n",
       "      <td>1.0</td>\n",
       "      <td>1.0</td>\n",
       "      <td>28.0</td>\n",
       "      <td>0.0</td>\n",
       "      <td>0.0</td>\n",
       "      <td>0.0</td>\n",
       "      <td>0.0</td>\n",
       "      <td>1.0</td>\n",
       "      <td>...</td>\n",
       "      <td>0.0</td>\n",
       "      <td>1.0</td>\n",
       "      <td>1.0</td>\n",
       "      <td>5.0</td>\n",
       "      <td>30.0</td>\n",
       "      <td>30.0</td>\n",
       "      <td>1.0</td>\n",
       "      <td>0.0</td>\n",
       "      <td>9.0</td>\n",
       "      <td>4.0</td>\n",
       "    </tr>\n",
       "    <tr>\n",
       "      <th>3</th>\n",
       "      <td>0.0</td>\n",
       "      <td>1.0</td>\n",
       "      <td>0.0</td>\n",
       "      <td>1.0</td>\n",
       "      <td>27.0</td>\n",
       "      <td>0.0</td>\n",
       "      <td>0.0</td>\n",
       "      <td>0.0</td>\n",
       "      <td>1.0</td>\n",
       "      <td>1.0</td>\n",
       "      <td>...</td>\n",
       "      <td>0.0</td>\n",
       "      <td>1.0</td>\n",
       "      <td>0.0</td>\n",
       "      <td>2.0</td>\n",
       "      <td>0.0</td>\n",
       "      <td>0.0</td>\n",
       "      <td>0.0</td>\n",
       "      <td>0.0</td>\n",
       "      <td>11.0</td>\n",
       "      <td>3.0</td>\n",
       "    </tr>\n",
       "    <tr>\n",
       "      <th>4</th>\n",
       "      <td>0.0</td>\n",
       "      <td>1.0</td>\n",
       "      <td>1.0</td>\n",
       "      <td>1.0</td>\n",
       "      <td>24.0</td>\n",
       "      <td>0.0</td>\n",
       "      <td>0.0</td>\n",
       "      <td>0.0</td>\n",
       "      <td>1.0</td>\n",
       "      <td>1.0</td>\n",
       "      <td>...</td>\n",
       "      <td>0.0</td>\n",
       "      <td>1.0</td>\n",
       "      <td>0.0</td>\n",
       "      <td>2.0</td>\n",
       "      <td>3.0</td>\n",
       "      <td>0.0</td>\n",
       "      <td>0.0</td>\n",
       "      <td>0.0</td>\n",
       "      <td>11.0</td>\n",
       "      <td>5.0</td>\n",
       "    </tr>\n",
       "    <tr>\n",
       "      <th>...</th>\n",
       "      <td>...</td>\n",
       "      <td>...</td>\n",
       "      <td>...</td>\n",
       "      <td>...</td>\n",
       "      <td>...</td>\n",
       "      <td>...</td>\n",
       "      <td>...</td>\n",
       "      <td>...</td>\n",
       "      <td>...</td>\n",
       "      <td>...</td>\n",
       "      <td>...</td>\n",
       "      <td>...</td>\n",
       "      <td>...</td>\n",
       "      <td>...</td>\n",
       "      <td>...</td>\n",
       "      <td>...</td>\n",
       "      <td>...</td>\n",
       "      <td>...</td>\n",
       "      <td>...</td>\n",
       "      <td>...</td>\n",
       "      <td>...</td>\n",
       "    </tr>\n",
       "    <tr>\n",
       "      <th>253675</th>\n",
       "      <td>0.0</td>\n",
       "      <td>1.0</td>\n",
       "      <td>1.0</td>\n",
       "      <td>1.0</td>\n",
       "      <td>45.0</td>\n",
       "      <td>0.0</td>\n",
       "      <td>0.0</td>\n",
       "      <td>0.0</td>\n",
       "      <td>0.0</td>\n",
       "      <td>1.0</td>\n",
       "      <td>...</td>\n",
       "      <td>0.0</td>\n",
       "      <td>1.0</td>\n",
       "      <td>0.0</td>\n",
       "      <td>3.0</td>\n",
       "      <td>0.0</td>\n",
       "      <td>5.0</td>\n",
       "      <td>0.0</td>\n",
       "      <td>1.0</td>\n",
       "      <td>5.0</td>\n",
       "      <td>6.0</td>\n",
       "    </tr>\n",
       "    <tr>\n",
       "      <th>253676</th>\n",
       "      <td>2.0</td>\n",
       "      <td>1.0</td>\n",
       "      <td>1.0</td>\n",
       "      <td>1.0</td>\n",
       "      <td>18.0</td>\n",
       "      <td>0.0</td>\n",
       "      <td>0.0</td>\n",
       "      <td>0.0</td>\n",
       "      <td>0.0</td>\n",
       "      <td>0.0</td>\n",
       "      <td>...</td>\n",
       "      <td>0.0</td>\n",
       "      <td>1.0</td>\n",
       "      <td>0.0</td>\n",
       "      <td>4.0</td>\n",
       "      <td>0.0</td>\n",
       "      <td>0.0</td>\n",
       "      <td>1.0</td>\n",
       "      <td>0.0</td>\n",
       "      <td>11.0</td>\n",
       "      <td>2.0</td>\n",
       "    </tr>\n",
       "    <tr>\n",
       "      <th>253677</th>\n",
       "      <td>0.0</td>\n",
       "      <td>0.0</td>\n",
       "      <td>0.0</td>\n",
       "      <td>1.0</td>\n",
       "      <td>28.0</td>\n",
       "      <td>0.0</td>\n",
       "      <td>0.0</td>\n",
       "      <td>0.0</td>\n",
       "      <td>1.0</td>\n",
       "      <td>1.0</td>\n",
       "      <td>...</td>\n",
       "      <td>0.0</td>\n",
       "      <td>1.0</td>\n",
       "      <td>0.0</td>\n",
       "      <td>1.0</td>\n",
       "      <td>0.0</td>\n",
       "      <td>0.0</td>\n",
       "      <td>0.0</td>\n",
       "      <td>0.0</td>\n",
       "      <td>2.0</td>\n",
       "      <td>5.0</td>\n",
       "    </tr>\n",
       "    <tr>\n",
       "      <th>253678</th>\n",
       "      <td>0.0</td>\n",
       "      <td>1.0</td>\n",
       "      <td>0.0</td>\n",
       "      <td>1.0</td>\n",
       "      <td>23.0</td>\n",
       "      <td>0.0</td>\n",
       "      <td>0.0</td>\n",
       "      <td>0.0</td>\n",
       "      <td>0.0</td>\n",
       "      <td>1.0</td>\n",
       "      <td>...</td>\n",
       "      <td>0.0</td>\n",
       "      <td>1.0</td>\n",
       "      <td>0.0</td>\n",
       "      <td>3.0</td>\n",
       "      <td>0.0</td>\n",
       "      <td>0.0</td>\n",
       "      <td>0.0</td>\n",
       "      <td>1.0</td>\n",
       "      <td>7.0</td>\n",
       "      <td>5.0</td>\n",
       "    </tr>\n",
       "    <tr>\n",
       "      <th>253679</th>\n",
       "      <td>2.0</td>\n",
       "      <td>1.0</td>\n",
       "      <td>1.0</td>\n",
       "      <td>1.0</td>\n",
       "      <td>25.0</td>\n",
       "      <td>0.0</td>\n",
       "      <td>0.0</td>\n",
       "      <td>1.0</td>\n",
       "      <td>1.0</td>\n",
       "      <td>1.0</td>\n",
       "      <td>...</td>\n",
       "      <td>0.0</td>\n",
       "      <td>1.0</td>\n",
       "      <td>0.0</td>\n",
       "      <td>2.0</td>\n",
       "      <td>0.0</td>\n",
       "      <td>0.0</td>\n",
       "      <td>0.0</td>\n",
       "      <td>0.0</td>\n",
       "      <td>9.0</td>\n",
       "      <td>6.0</td>\n",
       "    </tr>\n",
       "  </tbody>\n",
       "</table>\n",
       "<p>249049 rows × 21 columns</p>\n",
       "</div>"
      ],
      "text/plain": [
       "        Diabetes_012  HighBP  HighChol  CholCheck   BMI  Smoker  Stroke  \\\n",
       "0                0.0     1.0       1.0        1.0  40.0     1.0     0.0   \n",
       "1                0.0     0.0       0.0        0.0  25.0     1.0     0.0   \n",
       "2                0.0     1.0       1.0        1.0  28.0     0.0     0.0   \n",
       "3                0.0     1.0       0.0        1.0  27.0     0.0     0.0   \n",
       "4                0.0     1.0       1.0        1.0  24.0     0.0     0.0   \n",
       "...              ...     ...       ...        ...   ...     ...     ...   \n",
       "253675           0.0     1.0       1.0        1.0  45.0     0.0     0.0   \n",
       "253676           2.0     1.0       1.0        1.0  18.0     0.0     0.0   \n",
       "253677           0.0     0.0       0.0        1.0  28.0     0.0     0.0   \n",
       "253678           0.0     1.0       0.0        1.0  23.0     0.0     0.0   \n",
       "253679           2.0     1.0       1.0        1.0  25.0     0.0     0.0   \n",
       "\n",
       "        HeartDiseaseorAttack  PhysActivity  Fruits  ...  HvyAlcoholConsump  \\\n",
       "0                        0.0           0.0     0.0  ...                0.0   \n",
       "1                        0.0           1.0     0.0  ...                0.0   \n",
       "2                        0.0           0.0     1.0  ...                0.0   \n",
       "3                        0.0           1.0     1.0  ...                0.0   \n",
       "4                        0.0           1.0     1.0  ...                0.0   \n",
       "...                      ...           ...     ...  ...                ...   \n",
       "253675                   0.0           0.0     1.0  ...                0.0   \n",
       "253676                   0.0           0.0     0.0  ...                0.0   \n",
       "253677                   0.0           1.0     1.0  ...                0.0   \n",
       "253678                   0.0           0.0     1.0  ...                0.0   \n",
       "253679                   1.0           1.0     1.0  ...                0.0   \n",
       "\n",
       "        AnyHealthcare  NoDocbcCost  GenHlth  MentHlth  PhysHlth  DiffWalk  \\\n",
       "0                 1.0          0.0      5.0      18.0      15.0       1.0   \n",
       "1                 0.0          1.0      3.0       0.0       0.0       0.0   \n",
       "2                 1.0          1.0      5.0      30.0      30.0       1.0   \n",
       "3                 1.0          0.0      2.0       0.0       0.0       0.0   \n",
       "4                 1.0          0.0      2.0       3.0       0.0       0.0   \n",
       "...               ...          ...      ...       ...       ...       ...   \n",
       "253675            1.0          0.0      3.0       0.0       5.0       0.0   \n",
       "253676            1.0          0.0      4.0       0.0       0.0       1.0   \n",
       "253677            1.0          0.0      1.0       0.0       0.0       0.0   \n",
       "253678            1.0          0.0      3.0       0.0       0.0       0.0   \n",
       "253679            1.0          0.0      2.0       0.0       0.0       0.0   \n",
       "\n",
       "        Sex   Age  Education  \n",
       "0       0.0   9.0        4.0  \n",
       "1       0.0   7.0        6.0  \n",
       "2       0.0   9.0        4.0  \n",
       "3       0.0  11.0        3.0  \n",
       "4       0.0  11.0        5.0  \n",
       "...     ...   ...        ...  \n",
       "253675  1.0   5.0        6.0  \n",
       "253676  0.0  11.0        2.0  \n",
       "253677  0.0   2.0        5.0  \n",
       "253678  1.0   7.0        5.0  \n",
       "253679  0.0   9.0        6.0  \n",
       "\n",
       "[249049 rows x 21 columns]"
      ]
     },
     "execution_count": 9,
     "metadata": {},
     "output_type": "execute_result"
    }
   ],
   "source": [
    "# deleting prediabetes \n",
    "data = data[data.Diabetes_012 != 1]\n",
    "data"
   ]
  },
  {
   "cell_type": "code",
   "execution_count": 10,
   "id": "0e47c0f8",
   "metadata": {
    "colab": {
     "base_uri": "https://localhost:8080/",
     "height": 381
    },
    "id": "adK-id8S0g4p",
    "outputId": "86172a6b-bb8e-490e-c167-9a729d05c6a2"
   },
   "outputs": [
    {
     "data": {
      "image/png": "[encoded data removed]",
      "text/plain": [
       "<Figure size 864x288 with 1 Axes>"
      ]
     },
     "metadata": {
      "needs_background": "light"
     },
     "output_type": "display_data"
    }
   ],
   "source": [
    "data.drop('Diabetes_012', axis=1).corrwith(data.Diabetes_012).sort_values(ascending=False).plot(kind='bar', grid=True, figsize=(12, 4)\n",
    ", title=\"Correlation with Diabetes\");\n",
    "#df.drop('Diabetes', axis=1).corrwith(df.Diabetes).sort_values(ascending=False)"
   ]
  },
  {
   "cell_type": "code",
   "execution_count": 11,
   "id": "52713a83",
   "metadata": {
    "id": "rCvv62leUV-g"
   },
   "outputs": [],
   "source": [
    "x = data.drop('Diabetes_012', axis = 1)\n",
    "y = data['Diabetes_012']"
   ]
  },
  {
   "cell_type": "code",
   "execution_count": 12,
   "id": "6ff66349",
   "metadata": {
    "id": "uspp8gRfVqn1"
   },
   "outputs": [],
   "source": [
    "from sklearn.model_selection import train_test_split\n",
    "\n",
    "x_train,xx,y_train,yy = train_test_split(x,y,test_size = 0.8,random_state = 23) \n",
    "#x_test,x_val,y_test,y_val = train_test_split(xx,yy,test_size = 0.5,random_state = 23) "
   ]
  },
  {
   "cell_type": "code",
   "execution_count": 13,
   "id": "1594ca7c",
   "metadata": {
    "colab": {
     "base_uri": "https://localhost:8080/"
    },
    "id": "vaTk_37WVMvD",
    "outputId": "67a43c77-2db9-42e2-b747-492c310ec7f7"
   },
   "outputs": [
    {
     "name": "stdout",
     "output_type": "stream",
     "text": [
      "0.9116223975586741\n"
     ]
    }
   ],
   "source": [
    "clf = lgb.LGBMClassifier(boosting_type= 'gbdt', objective = 'binary',learning_rate= 0.07, n_estimators= 4000, reg_lambda = 2, \n",
    "                         max_depth = 5 , num_leaves = 20)\n",
    "clf.fit(x_train,y_train)\n",
    "train_predict = clf.predict(x_train)\n",
    "print (metrics.accuracy_score(y_train,train_predict))"
   ]
  },
  {
   "cell_type": "code",
   "execution_count": 14,
   "id": "62aadab3",
   "metadata": {
    "colab": {
     "base_uri": "https://localhost:8080/"
    },
    "id": "tahdDZ6cZSCP",
    "outputId": "f0989dd3-60df-4264-e058-2be672e8bfea"
   },
   "outputs": [
    {
     "name": "stdout",
     "output_type": "stream",
     "text": [
      "0.8567054808271432\n"
     ]
    }
   ],
   "source": [
    "test_predict = clf.predict(xx)\n",
    "print (metrics.accuracy_score(yy,test_predict))"
   ]
  },
  {
   "cell_type": "code",
   "execution_count": 15,
   "id": "b2655b7c",
   "metadata": {
    "colab": {
     "base_uri": "https://localhost:8080/",
     "height": 708
    },
    "id": "vWVuDAhiVVff",
    "outputId": "fd953cd5-5177-4aff-95d8-525acbd59c12"
   },
   "outputs": [
    {
     "data": {
      "text/html": [
       "<div>\n",
       "<style scoped>\n",
       "    .dataframe tbody tr th:only-of-type {\n",
       "        vertical-align: middle;\n",
       "    }\n",
       "\n",
       "    .dataframe tbody tr th {\n",
       "        vertical-align: top;\n",
       "    }\n",
       "\n",
       "    .dataframe thead th {\n",
       "        text-align: right;\n",
       "    }\n",
       "</style>\n",
       "<table border=\"1\" class=\"dataframe\">\n",
       "  <thead>\n",
       "    <tr style=\"text-align: right;\">\n",
       "      <th></th>\n",
       "      <th>importance</th>\n",
       "      <th>feature name</th>\n",
       "    </tr>\n",
       "  </thead>\n",
       "  <tbody>\n",
       "    <tr>\n",
       "      <th>3</th>\n",
       "      <td>15671</td>\n",
       "      <td>BMI</td>\n",
       "    </tr>\n",
       "    <tr>\n",
       "      <th>18</th>\n",
       "      <td>9794</td>\n",
       "      <td>Age</td>\n",
       "    </tr>\n",
       "    <tr>\n",
       "      <th>15</th>\n",
       "      <td>8270</td>\n",
       "      <td>PhysHlth</td>\n",
       "    </tr>\n",
       "    <tr>\n",
       "      <th>14</th>\n",
       "      <td>7640</td>\n",
       "      <td>MentHlth</td>\n",
       "    </tr>\n",
       "    <tr>\n",
       "      <th>19</th>\n",
       "      <td>5819</td>\n",
       "      <td>Education</td>\n",
       "    </tr>\n",
       "    <tr>\n",
       "      <th>13</th>\n",
       "      <td>4604</td>\n",
       "      <td>GenHlth</td>\n",
       "    </tr>\n",
       "    <tr>\n",
       "      <th>4</th>\n",
       "      <td>2162</td>\n",
       "      <td>Smoker</td>\n",
       "    </tr>\n",
       "    <tr>\n",
       "      <th>1</th>\n",
       "      <td>2068</td>\n",
       "      <td>HighChol</td>\n",
       "    </tr>\n",
       "    <tr>\n",
       "      <th>8</th>\n",
       "      <td>2029</td>\n",
       "      <td>Fruits</td>\n",
       "    </tr>\n",
       "    <tr>\n",
       "      <th>7</th>\n",
       "      <td>1973</td>\n",
       "      <td>PhysActivity</td>\n",
       "    </tr>\n",
       "    <tr>\n",
       "      <th>16</th>\n",
       "      <td>1926</td>\n",
       "      <td>DiffWalk</td>\n",
       "    </tr>\n",
       "    <tr>\n",
       "      <th>17</th>\n",
       "      <td>1851</td>\n",
       "      <td>Sex</td>\n",
       "    </tr>\n",
       "    <tr>\n",
       "      <th>9</th>\n",
       "      <td>1769</td>\n",
       "      <td>Veggies</td>\n",
       "    </tr>\n",
       "    <tr>\n",
       "      <th>0</th>\n",
       "      <td>1705</td>\n",
       "      <td>HighBP</td>\n",
       "    </tr>\n",
       "    <tr>\n",
       "      <th>12</th>\n",
       "      <td>1547</td>\n",
       "      <td>NoDocbcCost</td>\n",
       "    </tr>\n",
       "    <tr>\n",
       "      <th>6</th>\n",
       "      <td>1513</td>\n",
       "      <td>HeartDiseaseorAttack</td>\n",
       "    </tr>\n",
       "    <tr>\n",
       "      <th>5</th>\n",
       "      <td>1012</td>\n",
       "      <td>Stroke</td>\n",
       "    </tr>\n",
       "    <tr>\n",
       "      <th>11</th>\n",
       "      <td>967</td>\n",
       "      <td>AnyHealthcare</td>\n",
       "    </tr>\n",
       "    <tr>\n",
       "      <th>10</th>\n",
       "      <td>734</td>\n",
       "      <td>HvyAlcoholConsump</td>\n",
       "    </tr>\n",
       "    <tr>\n",
       "      <th>2</th>\n",
       "      <td>407</td>\n",
       "      <td>CholCheck</td>\n",
       "    </tr>\n",
       "  </tbody>\n",
       "</table>\n",
       "</div>"
      ],
      "text/plain": [
       "    importance          feature name\n",
       "3        15671                   BMI\n",
       "18        9794                   Age\n",
       "15        8270              PhysHlth\n",
       "14        7640              MentHlth\n",
       "19        5819             Education\n",
       "13        4604               GenHlth\n",
       "4         2162                Smoker\n",
       "1         2068              HighChol\n",
       "8         2029                Fruits\n",
       "7         1973          PhysActivity\n",
       "16        1926              DiffWalk\n",
       "17        1851                   Sex\n",
       "9         1769               Veggies\n",
       "0         1705                HighBP\n",
       "12        1547           NoDocbcCost\n",
       "6         1513  HeartDiseaseorAttack\n",
       "5         1012                Stroke\n",
       "11         967         AnyHealthcare\n",
       "10         734     HvyAlcoholConsump\n",
       "2          407             CholCheck"
      ]
     },
     "execution_count": 15,
     "metadata": {},
     "output_type": "execute_result"
    }
   ],
   "source": [
    "# important features\n",
    "im = clf.feature_importances_\n",
    "col = np.array(x.columns)\n",
    "\n",
    "dd = pd.DataFrame(im, columns=['importance'])\n",
    "dd.insert(1 , 'feature name', value = col)\n",
    "dd.sort_values(by = 'importance', ascending=False, inplace = True)\n",
    "dd"
   ]
  },
  {
   "cell_type": "markdown",
   "id": "e566a592",
   "metadata": {},
   "source": [
    "## Phase 2: Communication Algirithm"
   ]
  },
  {
   "cell_type": "code",
   "execution_count": 16,
   "id": "3ed03a3d",
   "metadata": {},
   "outputs": [],
   "source": [
    "data['Label'] = [\"USA\"] * len(data)"
   ]
  },
  {
   "cell_type": "code",
   "execution_count": 17,
   "id": "3125ec25",
   "metadata": {},
   "outputs": [],
   "source": [
    "data['Date'] = [\"2015\"] * len(data)"
   ]
  },
  {
   "cell_type": "code",
   "execution_count": 18,
   "id": "c712cf72",
   "metadata": {},
   "outputs": [],
   "source": [
    "label = \"Capchered_site\""
   ]
  },
  {
   "cell_type": "code",
   "execution_count": 19,
   "id": "c6322427",
   "metadata": {},
   "outputs": [
    {
     "data": {
      "text/plain": [
       "0         USA\n",
       "1         USA\n",
       "2         USA\n",
       "3         USA\n",
       "4         USA\n",
       "         ... \n",
       "253675    USA\n",
       "253676    USA\n",
       "253677    USA\n",
       "253678    USA\n",
       "253679    USA\n",
       "Name: Label, Length: 249049, dtype: object"
      ]
     },
     "execution_count": 19,
     "metadata": {},
     "output_type": "execute_result"
    }
   ],
   "source": [
    "data['Label'].astype(str)"
   ]
  },
  {
   "cell_type": "code",
   "execution_count": 20,
   "id": "96223e1a",
   "metadata": {},
   "outputs": [
    {
     "name": "stdout",
     "output_type": "stream",
     "text": [
      "date and time = 2022-12-10 21:30:29.362534\n"
     ]
    }
   ],
   "source": [
    "# Comment\n",
    "from datetime import datetime\n",
    "\n",
    "# datetime object containing current date and time\n",
    "dt_string=datetime.now()\n",
    "#dt_string = now.strftime(\"%d/%m/%Y %H:%M:%S\")\n",
    "print(\"date and time =\", dt_string)"
   ]
  },
  {
   "cell_type": "code",
   "execution_count": 21,
   "id": "a1676f61",
   "metadata": {},
   "outputs": [
    {
     "name": "stdout",
     "output_type": "stream",
     "text": [
      "Do you have High Blood Pressure? (Yes/No)\n",
      "Noney\n"
     ]
    }
   ],
   "source": [
    "HighBP = input(print(\"Do you have High Blood Pressure? (Yes/No)\"))\n",
    "\n",
    "\n",
    "HighBP =  list(HighBP)[0].lower()\n",
    "\n",
    "\n",
    "if HighBP != \"y\" and \"yes\":\n",
    "    if HighBP != \"n\" and \"no\":\n",
    "        print(\"Wrong value! please enter yes or no\")\n",
    "        HighBP = input(print(\"Do you have High Blood Pressure? (Yes/No)\"))\n",
    "    elif HighBP == \"n\":\n",
    "        HighBP = 0\n",
    "elif HighBP == \"y\":\n",
    "    HighBP = 1\n",
    "    "
   ]
  },
  {
   "cell_type": "code",
   "execution_count": null,
   "id": "93d362c0",
   "metadata": {},
   "outputs": [],
   "source": [
    "HighBP"
   ]
  },
  {
   "cell_type": "code",
   "execution_count": 22,
   "id": "c3ad81a9",
   "metadata": {},
   "outputs": [
    {
     "name": "stdout",
     "output_type": "stream",
     "text": [
      "Do you have High Blood cholesterol? (Yes/No)\n",
      "Noney\n"
     ]
    }
   ],
   "source": [
    "HighChol = input(print(\"Do you have High Blood cholesterol? (Yes/No)\"))\n",
    "\n",
    "\n",
    "HighChol =  list(HighChol)[0].lower()\n",
    "\n",
    "\n",
    "if HighChol != \"y\" and \"yes\":\n",
    "    if HighChol != \"n\" and \"no\":\n",
    "        print(\"Wrong value! please enter yes or no\")\n",
    "        HighChol = input(print(\"Do you have High Blood cholesterol? (Yes/No)\"))\n",
    "    elif HighChol == \"n\":\n",
    "        HighChol =0\n",
    "elif HighChol == \"y\":\n",
    "    HighChol = 1  \n",
    "    "
   ]
  },
  {
   "cell_type": "code",
   "execution_count": 23,
   "id": "ec82a7d8",
   "metadata": {},
   "outputs": [
    {
     "data": {
      "text/plain": [
       "1"
      ]
     },
     "execution_count": 23,
     "metadata": {},
     "output_type": "execute_result"
    }
   ],
   "source": [
    "HighChol"
   ]
  },
  {
   "cell_type": "code",
   "execution_count": 24,
   "id": "005ba57c",
   "metadata": {},
   "outputs": [
    {
     "name": "stdout",
     "output_type": "stream",
     "text": [
      "Do you check within  Cholesterol past five years? (Yes/No)\n",
      "Noney\n"
     ]
    }
   ],
   "source": [
    "CholCheck = input(print(\"Do you check within  Cholesterol past five years? (Yes/No)\"))\n",
    "\n",
    "\n",
    "CholCheck =  list(CholCheck)[0].lower()\n",
    "\n",
    "\n",
    "if CholCheck != \"y\" and \"yes\":\n",
    "    if CholCheck != \"n\" and \"no\":\n",
    "        print(\"Wrong value! please enter yes or no\")\n",
    "        CholCheck = input(print(\"Do you check within  Cholesterol past five years? (Yes/No)\"))\n",
    "    elif CholCheck == \"n\":\n",
    "        CholCheck =0\n",
    "elif CholCheck == \"y\":\n",
    "    CholCheck = 1  \n"
   ]
  },
  {
   "cell_type": "code",
   "execution_count": 25,
   "id": "6afa1dee",
   "metadata": {},
   "outputs": [
    {
     "data": {
      "text/plain": [
       "1"
      ]
     },
     "execution_count": 25,
     "metadata": {},
     "output_type": "execute_result"
    }
   ],
   "source": [
    "CholCheck"
   ]
  },
  {
   "cell_type": "code",
   "execution_count": 30,
   "id": "ab65dcba",
   "metadata": {},
   "outputs": [
    {
     "name": "stdout",
     "output_type": "stream",
     "text": [
      "What is your Body Mass Index? (5..100)\n",
      "None70\n"
     ]
    }
   ],
   "source": [
    "BMI = input(print(\"What is your Body Mass Index? (5..100)\"))\n",
    "\n",
    "if (BMI<'5') and (BMI>'100'):\n",
    "    print(\"Wrong value! please enter yes or no\")\n",
    "    BMI = input(print(\"What is your Body Mass Index? (5..100)\"))\n",
    "elif (BMI>'5') and (BMI<='100'):\n",
    "    BMI = int(BMI) # Comment: Is there formula for BMI, If yes apply this formula to calculate BMI"
   ]
  },
  {
   "cell_type": "code",
   "execution_count": 31,
   "id": "021c0557",
   "metadata": {},
   "outputs": [
    {
     "data": {
      "text/plain": [
       "'70'"
      ]
     },
     "execution_count": 31,
     "metadata": {},
     "output_type": "execute_result"
    }
   ],
   "source": [
    "BMI"
   ]
  },
  {
   "cell_type": "code",
   "execution_count": 32,
   "id": "e252439c",
   "metadata": {},
   "outputs": [
    {
     "name": "stdout",
     "output_type": "stream",
     "text": [
      "Have you smoked at least 100 cigarettes in your entire life? [Note: 5 packs = 100 cigarettes] (Yes/No)\n",
      "Noney\n"
     ]
    }
   ],
   "source": [
    "Smoker = input(print(\"Have you smoked at least 100 cigarettes in your entire life? [Note: 5 packs = 100 cigarettes] (Yes/No)\"))\n",
    "\n",
    "\n",
    "Smoker =  list(Smoker)[0].lower()\n",
    "\n",
    "\n",
    "if Smoker != \"y\" and \"yes\":\n",
    "    if Smoker != \"n\" and \"no\":\n",
    "        print(\"Wrong value! please enter yes or no\")\n",
    "        Smoker = input(print(\"Have you smoked at least 100 cigarettes in your entire life? (Yes/No)\"))\n",
    "    elif Smoker == \"n\":\n",
    "        Smoker =0\n",
    "elif Smoker == \"y\":\n",
    "    Smoker = 1 "
   ]
  },
  {
   "cell_type": "code",
   "execution_count": 33,
   "id": "481e79c5",
   "metadata": {},
   "outputs": [
    {
     "data": {
      "text/plain": [
       "1"
      ]
     },
     "execution_count": 33,
     "metadata": {},
     "output_type": "execute_result"
    }
   ],
   "source": [
    "Smoker"
   ]
  },
  {
   "cell_type": "code",
   "execution_count": 34,
   "id": "396d2905",
   "metadata": {},
   "outputs": [
    {
     "name": "stdout",
     "output_type": "stream",
     "text": [
      "Did you have a stroke? (Yes/No)\n",
      "Noney\n"
     ]
    }
   ],
   "source": [
    "Stroke = input(print(\"Did you have a stroke? (Yes/No)\"))\n",
    "\n",
    "\n",
    "Stroke =  list(Stroke)[0].lower()\n",
    "\n",
    "\n",
    "if Stroke != \"y\" and \"yes\":\n",
    "    if Stroke != \"n\" and \"no\":\n",
    "        print(\"Wrong value! please enter yes or no\")\n",
    "        Stroke = input(print(\"you had a stroke? (Yes/No)\"))\n",
    "    elif Stroke == \"n\":\n",
    "        Stroke =0\n",
    "elif Stroke == \"y\":\n",
    "    Stroke = 1 "
   ]
  },
  {
   "cell_type": "code",
   "execution_count": 35,
   "id": "4a52f870",
   "metadata": {},
   "outputs": [
    {
     "data": {
      "text/plain": [
       "1"
      ]
     },
     "execution_count": 35,
     "metadata": {},
     "output_type": "execute_result"
    }
   ],
   "source": [
    "Stroke"
   ]
  },
  {
   "cell_type": "code",
   "execution_count": 36,
   "id": "1add4b2e",
   "metadata": {},
   "outputs": [
    {
     "name": "stdout",
     "output_type": "stream",
     "text": [
      "Do you have ever coronary heart disease (CHD) or myocardial infarction (MI)? (Yes/No)\n",
      "Noney\n"
     ]
    }
   ],
   "source": [
    "HeartDiseaseorAttack = input(print(\"Do you have ever coronary heart disease (CHD) or myocardial infarction (MI)? (Yes/No)\"))\n",
    "\n",
    "\n",
    "HeartDiseaseorAttack =  list(HeartDiseaseorAttack)[0].lower()\n",
    "\n",
    "\n",
    "if HeartDiseaseorAttack != \"y\" and \"yes\":\n",
    "    if HeartDiseaseorAttack != \"n\" and \"no\":\n",
    "        print(\"Wrong value! please enter yes or no\")\n",
    "        HeartDiseaseorAttack = input(print(\"Do you have ever coronary heart disease (CHD) or myocardial infarction (MI)? (Yes/No)\"))\n",
    "    elif HeartDiseaseorAttack == \"n\":\n",
    "        HeartDiseaseorAttack =0\n",
    "elif HeartDiseaseorAttack == \"y\":\n",
    "    HeartDiseaseorAttack = 1 "
   ]
  },
  {
   "cell_type": "code",
   "execution_count": 37,
   "id": "9863dd72",
   "metadata": {},
   "outputs": [
    {
     "data": {
      "text/plain": [
       "1"
      ]
     },
     "execution_count": 37,
     "metadata": {},
     "output_type": "execute_result"
    }
   ],
   "source": [
    "HeartDiseaseorAttack"
   ]
  },
  {
   "cell_type": "code",
   "execution_count": 38,
   "id": "9815fd90",
   "metadata": {},
   "outputs": [
    {
     "name": "stdout",
     "output_type": "stream",
     "text": [
      "Are you doing physical activity or exercise during the past 30 days other than their regular job? (Yes/No)\n",
      "Nonen\n"
     ]
    }
   ],
   "source": [
    "PhysActivity = input(print(\"Are you doing physical activity or exercise during the past 30 days other than their regular job? (Yes/No)\"))\n",
    "\n",
    "\n",
    "PhysActivity =  list(PhysActivity)[0].lower()\n",
    "\n",
    "\n",
    "if PhysActivity != \"y\" and \"yes\":\n",
    "    if PhysActivity != \"n\" and \"no\":\n",
    "        print(\"Wrong value! please enter yes or no\")\n",
    "        PhysActivity = input(print(\"Are you doing physical activity or exercise during the past 30 days other than their regular job? (Yes/No)\"))\n",
    "    elif PhysActivity == \"n\":\n",
    "        PhysActivity =0\n",
    "elif PhysActivity == \"y\":\n",
    "    PhysActivity = 1 "
   ]
  },
  {
   "cell_type": "code",
   "execution_count": 39,
   "id": "ec32ac45",
   "metadata": {},
   "outputs": [
    {
     "data": {
      "text/plain": [
       "0"
      ]
     },
     "execution_count": 39,
     "metadata": {},
     "output_type": "execute_result"
    }
   ],
   "source": [
    "PhysActivity"
   ]
  },
  {
   "cell_type": "code",
   "execution_count": 40,
   "id": "dfb85818",
   "metadata": {},
   "outputs": [
    {
     "name": "stdout",
     "output_type": "stream",
     "text": [
      "Consume Fruit 1 or more times per day? (Yes/No)\n",
      "Nonen\n"
     ]
    }
   ],
   "source": [
    "Fruits = input(print(\"Consume Fruit 1 or more times per day? (Yes/No)\"))\n",
    "\n",
    "Fruits =  list(Fruits)[0].lower()\n",
    "if Fruits != \"y\" and \"yes\":\n",
    "    if Fruits != \"n\" and \"no\":\n",
    "        print(\"Wrong value! please enter yes or no\")\n",
    "        Fruits = input(print(\"Consume Fruit 1 or more times per day? (Yes/No)\"))\n",
    "    elif Fruits == \"n\":\n",
    "        Fruits =0\n",
    "elif Fruits == \"y\":\n",
    "    Fruits = 1 "
   ]
  },
  {
   "cell_type": "code",
   "execution_count": 41,
   "id": "0a97f926",
   "metadata": {},
   "outputs": [
    {
     "data": {
      "text/plain": [
       "0"
      ]
     },
     "execution_count": 41,
     "metadata": {},
     "output_type": "execute_result"
    }
   ],
   "source": [
    "Fruits"
   ]
  },
  {
   "cell_type": "code",
   "execution_count": 42,
   "id": "56d05259",
   "metadata": {},
   "outputs": [
    {
     "name": "stdout",
     "output_type": "stream",
     "text": [
      "Consume Vegetables 1 or more times per day? (Yes/No)\n",
      "Nonen\n"
     ]
    }
   ],
   "source": [
    "Veggies = input(print(\"Consume Vegetables 1 or more times per day? (Yes/No)\"))\n",
    "\n",
    "Veggies =  list(Veggies)[0].lower()\n",
    "if Veggies != \"y\" and \"yes\":\n",
    "    if Veggies != \"n\" and \"no\":    \n",
    "        print(\"Wrong value! please enter yes or no\")\n",
    "        Veggies = input(print(\"Consume Vegetables 1 or more times per day? (Yes/No)\"))\n",
    "    elif Veggies == \"n\":\n",
    "        Veggies =0\n",
    "elif Veggies == \"y\":\n",
    "    Veggies = 1 "
   ]
  },
  {
   "cell_type": "code",
   "execution_count": 43,
   "id": "523578df",
   "metadata": {},
   "outputs": [
    {
     "data": {
      "text/plain": [
       "0"
      ]
     },
     "execution_count": 43,
     "metadata": {},
     "output_type": "execute_result"
    }
   ],
   "source": [
    "Veggies"
   ]
  },
  {
   "cell_type": "code",
   "execution_count": 44,
   "id": "39822c06",
   "metadata": {},
   "outputs": [
    {
     "name": "stdout",
     "output_type": "stream",
     "text": [
      "Heavy drinkers_adult men having more than14drinks per week and adult women having more than7drinks per week? (Yes/No)\n",
      "Noney\n"
     ]
    }
   ],
   "source": [
    "HvyAlcoholConsump = input(print(\"Heavy drinkers_adult men having more than14drinks per week and adult women having more than7drinks per week? (Yes/No)\"))\n",
    "\n",
    "HvyAlcoholConsump =  list(HvyAlcoholConsump)[0].lower()\n",
    "if HvyAlcoholConsump != \"y\" and \"yes\":\n",
    "    if HvyAlcoholConsump != \"n\" and \"no\": \n",
    "        print(\"Wrong value! please enter yes or no\")\n",
    "        HvyAlcoholConsump = input(print(\"Heavy drinkers_adult men having more than14drinks per week and adult women having more than7drinks per week? (Yes/No)\"))\n",
    "    elif HvyAlcoholConsump == \"n\":\n",
    "        HvyAlcoholConsump =0\n",
    "elif HvyAlcoholConsump == \"y\":\n",
    "    HvyAlcoholConsump = 1 "
   ]
  },
  {
   "cell_type": "code",
   "execution_count": 45,
   "id": "6fe08ee1",
   "metadata": {},
   "outputs": [
    {
     "data": {
      "text/plain": [
       "1"
      ]
     },
     "execution_count": 45,
     "metadata": {},
     "output_type": "execute_result"
    }
   ],
   "source": [
    "HvyAlcoholConsump"
   ]
  },
  {
   "cell_type": "code",
   "execution_count": 46,
   "id": "72f12246",
   "metadata": {},
   "outputs": [
    {
     "name": "stdout",
     "output_type": "stream",
     "text": [
      "Do you have any kind of health care coverage, including health insurance, prepaid plans such as HMOs, or government plans such as Medicare, or Indian Health Service? (Yes/No)\n",
      "Nonen\n"
     ]
    }
   ],
   "source": [
    "AnyHealthcare = input(print(\"Do you have any kind of health care coverage, including health insurance, prepaid plans such as HMOs, or government plans such as Medicare, or Indian Health Service? (Yes/No)\"))\n",
    "\n",
    "AnyHealthcare =  list(AnyHealthcare)[0].lower()\n",
    "if AnyHealthcare != \"y\" and \"yes\":\n",
    "    if AnyHealthcare != \"n\" and \"no\": \n",
    "        print(\"Wrong value! please enter yes or no\")\n",
    "        AnyHealthcare = input(print(\"Do you have any kind of health care coverage, including health insurance, prepaid plans such as HMOs, or government plans such as Medicare, or Indian Health Service? (Yes/No)\"))\n",
    "    elif AnyHealthcare == \"n\":\n",
    "        AnyHealthcare =0\n",
    "elif AnyHealthcare == \"y\":\n",
    "    AnyHealthcare = 1 "
   ]
  },
  {
   "cell_type": "code",
   "execution_count": 47,
   "id": "bf4eff16",
   "metadata": {},
   "outputs": [
    {
     "data": {
      "text/plain": [
       "0"
      ]
     },
     "execution_count": 47,
     "metadata": {},
     "output_type": "execute_result"
    }
   ],
   "source": [
    "AnyHealthcare"
   ]
  },
  {
   "cell_type": "code",
   "execution_count": 48,
   "id": "0720fc8d",
   "metadata": {},
   "outputs": [
    {
     "name": "stdout",
     "output_type": "stream",
     "text": [
      "Was there a time in the past 12 months when you needed to see a doctor but could not because of cost? (Yes/No)\n",
      "Noney\n"
     ]
    }
   ],
   "source": [
    "NoDocbcCost = input(print(\"Was there a time in the past 12 months when you needed to see a doctor but could not because of cost? (Yes/No)\"))\n",
    "\n",
    "NoDocbcCost =  list(NoDocbcCost)[0].lower()\n",
    "if NoDocbcCost != \"y\" and \"yes\":\n",
    "    if NoDocbcCost != \"n\" and \"no\": \n",
    "        print(\"Wrong value! please enter yes or no\")\n",
    "        NoDocbcCost = input(print(\"Was there a time in the past 12 months when you needed to see a doctor but could not because of cost? (Yes/No)\"))\n",
    "    elif NoDocbcCost == \"n\":\n",
    "        NoDocbcCost =0\n",
    "elif NoDocbcCost == \"y\":\n",
    "    NoDocbcCost = 1 "
   ]
  },
  {
   "cell_type": "code",
   "execution_count": 49,
   "id": "ee15bac9",
   "metadata": {},
   "outputs": [
    {
     "data": {
      "text/plain": [
       "1"
      ]
     },
     "execution_count": 49,
     "metadata": {},
     "output_type": "execute_result"
    }
   ],
   "source": [
    "NoDocbcCost"
   ]
  },
  {
   "cell_type": "code",
   "execution_count": 50,
   "id": "a0f24bc3",
   "metadata": {},
   "outputs": [
    {
     "name": "stdout",
     "output_type": "stream",
     "text": [
      " Would you say that in general your health is: rate (LOW:1 ~ HIGH:5)? (1..5)\n",
      "None1\n"
     ]
    }
   ],
   "source": [
    "GenHlth = input(print(\" Would you say that in general your health is: rate (LOW:1 ~ HIGH:5)? (1..5)\"))\n",
    "\n",
    "if (GenHlth<'1') and (GenHlth>'5'):\n",
    "    print(\"Wrong value! please enter yes or no\")\n",
    "    GenHlth = input(print(\" Would you say that in general your health is: rate (LOW:1 ~ HIGH:5)? (1..5)\"))\n",
    "if (GenHlth<'1') and (GenHlth>'5'):\n",
    "    print(\"Wrong value! please check!!!\")\n",
    "    GenHlth = input(print(\" Would you say that in general your health is: rate (LOW:1 ~ HIGH:5)? (Please ENTER 1..5)\"))\n",
    "elif (GenHlth>'1') and (GenHlth<='5'):\n",
    "    GenHlth = int(GenHlth)"
   ]
  },
  {
   "cell_type": "code",
   "execution_count": 51,
   "id": "295a2433",
   "metadata": {},
   "outputs": [
    {
     "data": {
      "text/plain": [
       "'1'"
      ]
     },
     "execution_count": 51,
     "metadata": {},
     "output_type": "execute_result"
    }
   ],
   "source": [
    "GenHlth"
   ]
  },
  {
   "cell_type": "code",
   "execution_count": 52,
   "id": "14315306",
   "metadata": {},
   "outputs": [
    {
     "name": "stdout",
     "output_type": "stream",
     "text": [
      "Now thinking about your mental health, which includes stress, depression, and problems with emotions, for how many days during the past 30 days was your mental health not good? (LOW:0 ~ HIGH:30)? (0..30)\n",
      "None30\n"
     ]
    }
   ],
   "source": [
    "MentHlth = input(print(\"Now thinking about your mental health, which includes stress, depression, and problems with emotions, for how many days during the past 30 days was your mental health not good? (LOW:0 ~ HIGH:30)? (0..30)\"))\n",
    "\n",
    "if (MentHlth<'0') or (MentHlth>'30'):\n",
    "    print(\"Wrong value! please enter yes or no\")\n",
    "    MentHlth = input(print(\"Now thinking about your mental health, which includes stress, depression, and problems with emotions, for how many days during the past 30 days was your mental health not good? (0LOW:0 ~ HIGH:30)? (0..30)\"))\n",
    "if (MentHlth<'0') or (MentHlth>'30'):\n",
    "    print(\"Wrong value! please check!!!\")\n",
    "    MentHlth = input(print(\"Now thinking about your mental health, which includes stress, depression, and problems with emotions, for how many days during the past 30 days was your mental health not good? (LOW:0 ~ HIGH:30)? (Please ENTER 0..30)\"))\n",
    "elif (MentHlth>'0') and (MentHlth<='30'):\n",
    "    MentHlth = int(MentHlth)"
   ]
  },
  {
   "cell_type": "code",
   "execution_count": 53,
   "id": "b1805e2e",
   "metadata": {},
   "outputs": [
    {
     "data": {
      "text/plain": [
       "30"
      ]
     },
     "execution_count": 53,
     "metadata": {},
     "output_type": "execute_result"
    }
   ],
   "source": [
    "MentHlth"
   ]
  },
  {
   "cell_type": "code",
   "execution_count": 54,
   "id": "ae65f542",
   "metadata": {},
   "outputs": [
    {
     "name": "stdout",
     "output_type": "stream",
     "text": [
      "Now thinking about your physical health, which includes physical illness and injury, for how many days during the past 30 days was your physical health not good? (LOW:0 ~ HIGH:30)? (0..30)\n",
      "None30\n"
     ]
    }
   ],
   "source": [
    "PhysHlth = input(print(\"Now thinking about your physical health, which includes physical illness and injury, for how many days during the past 30 days was your physical health not good? (LOW:0 ~ HIGH:30)? (0..30)\"))\n",
    "\n",
    "if (PhysHlth<'0') or (PhysHlth>'30'):\n",
    "    print(\"Wrong value! please enter yes or no\")\n",
    "    PhysHlth = input(print(\"Now thinking about your physical health, which includes physical illness and injury, for how many days during the past 30 days was your physical health not good? (LOW:0 ~ HIGH:30)? (0..30)\"))\n",
    "if (PhysHlth<'0') or (PhysHlth>'30'):\n",
    "    print(\"Wrong value! please check!!!\")\n",
    "    PhysHlth = input(print(\"Now thinking about your physical health, which includes physical illness and injury, for how many days during the past 30 days was your physical health not good? (LOW:0 ~ HIGH:30)? (Please ENTER 0..30)\"))\n",
    "elif (PhysHlth>'0') and (PhysHlth<='30'):\n",
    "    PhysHlth = int(PhysHlth)"
   ]
  },
  {
   "cell_type": "code",
   "execution_count": 55,
   "id": "c78f3d02",
   "metadata": {},
   "outputs": [
    {
     "data": {
      "text/plain": [
       "30"
      ]
     },
     "execution_count": 55,
     "metadata": {},
     "output_type": "execute_result"
    }
   ],
   "source": [
    "PhysHlth"
   ]
  },
  {
   "cell_type": "code",
   "execution_count": 56,
   "id": "9a93306b",
   "metadata": {},
   "outputs": [
    {
     "name": "stdout",
     "output_type": "stream",
     "text": [
      "Do you have serious difficulty walking or climbing stairs? (Yes/No)\n",
      "Noney\n"
     ]
    }
   ],
   "source": [
    "DiffWalk = input(print(\"Do you have serious difficulty walking or climbing stairs? (Yes/No)\"))\n",
    "\n",
    "DiffWalk =  list(DiffWalk)[0].lower()\n",
    "if DiffWalk != \"y\" and \"yes\":\n",
    "    if DiffWalk != \"n\" and \"no\": \n",
    "        print(\"Wrong value! please enter yes or no\")\n",
    "        DiffWalk = input(print(\"Do you have serious difficulty walking or climbing stairs? (Yes/No)\"))\n",
    "    elif DiffWalk == \"n\":\n",
    "        DiffWalk =0\n",
    "elif DiffWalk == \"y\":\n",
    "    DiffWalk = 1 "
   ]
  },
  {
   "cell_type": "code",
   "execution_count": 57,
   "id": "31f7d04e",
   "metadata": {},
   "outputs": [
    {
     "data": {
      "text/plain": [
       "1"
      ]
     },
     "execution_count": 57,
     "metadata": {},
     "output_type": "execute_result"
    }
   ],
   "source": [
    "DiffWalk"
   ]
  },
  {
   "cell_type": "code",
   "execution_count": 58,
   "id": "2f8a4df5",
   "metadata": {},
   "outputs": [
    {
     "name": "stdout",
     "output_type": "stream",
     "text": [
      "Indicate sex of respondent (Female or Male)? (Female/Male)\n",
      "Nonem\n"
     ]
    }
   ],
   "source": [
    "Sex = input(print(\"Indicate sex of respondent (Female or Male)? (Female/Male)\"))\n",
    "\n",
    "Sex =  list(Sex)[0].lower()\n",
    "if Sex != \"m\" and \"male\":\n",
    "    if Sex != \"f\" and \"female\":\n",
    "        print(\"Wrong value! please enter male or female\")\n",
    "        Sex = input(print(\"Indicate sex of respondent (Female or Male)? (Female/Male)\"))\n",
    "    elif Sex == \"f\":\n",
    "        Sex =0\n",
    "elif Sex == \"m\":\n",
    "    Sex = 1 "
   ]
  },
  {
   "cell_type": "code",
   "execution_count": 59,
   "id": "f3a32dae",
   "metadata": {},
   "outputs": [
    {
     "data": {
      "text/plain": [
       "1"
      ]
     },
     "execution_count": 59,
     "metadata": {},
     "output_type": "execute_result"
    }
   ],
   "source": [
    "Sex"
   ]
  },
  {
   "cell_type": "code",
   "execution_count": 60,
   "id": "1f6216de",
   "metadata": {},
   "outputs": [
    {
     "name": "stdout",
     "output_type": "stream",
     "text": [
      "please enter age\n",
      "None28\n"
     ]
    }
   ],
   "source": [
    "# Comment: Correct it\n",
    "Age = input(print(\"please enter age\"))\n",
    "\n",
    "if (Age<'18'):\n",
    "    print(\"Wrong value! please enter 18 years old and older\")\n",
    "    Age = input(print(\"Fourteen-level age category?\"))\n",
    "elif (Age>='18') and (Age<='24'):\n",
    "    Age = 1\n",
    "elif (Age>='25') and (Age<='29'):\n",
    "    Age = 2\n",
    "elif (Age>='30') and (Age<='34'):\n",
    "    Age = 3\n",
    "elif (Age>='35') and (Age<='39'):\n",
    "    Age = 4\n",
    "elif (Age>='40') and (Age<='44'):\n",
    "    Age = 5\n",
    "elif (Age>='45') and (Age<='49'):\n",
    "    Age = 6\n",
    "elif (Age>='50') and (Age<='54'):\n",
    "    Age = 7\n",
    "elif (Age>='55') and (Age<='59'):\n",
    "    Age = 8\n",
    "elif (Age>='60') and (Age<='64'):\n",
    "    Age = 9\n",
    "elif (Age>='65') and (Age<='69'):\n",
    "    Age = 10\n",
    "elif (Age>='70') and (Age<='74'):\n",
    "    Age = 11\n",
    "elif (Age>='75') and (Age<='79'):\n",
    "    Age = 12\n",
    "elif (Age>='80'):\n",
    "    Age = 13"
   ]
  },
  {
   "cell_type": "code",
   "execution_count": 61,
   "id": "ed7d5cde",
   "metadata": {},
   "outputs": [
    {
     "data": {
      "text/plain": [
       "2"
      ]
     },
     "execution_count": 61,
     "metadata": {},
     "output_type": "execute_result"
    }
   ],
   "source": [
    "Age"
   ]
  },
  {
   "cell_type": "code",
   "execution_count": 62,
   "id": "7fdb0e50",
   "metadata": {},
   "outputs": [
    {
     "name": "stdout",
     "output_type": "stream",
     "text": [
      "What is the highest grade or year of school you completed? (1 ~ 6)['Education'] == 1 => 'Bi Savad',['Education'] == 2 => 'Sikl,['Education'] == 3 => 'Diplom',['Education'] == 4 => 'Karshenasi',['Education'] == 5 => 'Karshenasi arshad',['Education'] == 6 => 'Doctora'? (1..6)\n",
      "None3\n"
     ]
    }
   ],
   "source": [
    "Education = input(print(\"What is the highest grade or year of school you completed? (1 ~ 6)['Education'] == 1 => 'Bi Savad',['Education'] == 2 => 'Sikl,['Education'] == 3 => 'Diplom',['Education'] == 4 => 'Karshenasi',['Education'] == 5 => 'Karshenasi arshad',['Education'] == 6 => 'Doctora'? (1..6)\"))\n",
    "\n",
    "if (Education<'1') or (Education>'6'):\n",
    "    print(\"Wrong value! please enter yes or no\")\n",
    "    Education = input(print(\"What is the highest grade or year of school you completed? (1 ~ 6)? (1..6)\"))\n",
    "if (Education<'1') or (Education>'6'):\n",
    "    print(\"Wrong value! please check!!!\")\n",
    "    Education = input(print(\"What is the highest grade or year of school you completed? (1 ~ 6)? (Please ENTER 1..6)\"))\n",
    "elif (Education>'1') and (Education<='6'):\n",
    "    Education = int(Education)"
   ]
  },
  {
   "cell_type": "code",
   "execution_count": 63,
   "id": "9e01edc6",
   "metadata": {},
   "outputs": [
    {
     "data": {
      "text/plain": [
       "3"
      ]
     },
     "execution_count": 63,
     "metadata": {},
     "output_type": "execute_result"
    }
   ],
   "source": [
    "Education"
   ]
  },
  {
   "cell_type": "code",
   "execution_count": 111,
   "id": "1245c86a",
   "metadata": {},
   "outputs": [
    {
     "data": {
      "text/plain": [
       "Index(['Diabetes_012', 'HighBP', 'HighChol', 'CholCheck', 'BMI', 'Smoker',\n",
       "       'Stroke', 'HeartDiseaseorAttack', 'PhysActivity', 'Fruits', 'Veggies',\n",
       "       'HvyAlcoholConsump', 'AnyHealthcare', 'NoDocbcCost', 'GenHlth',\n",
       "       'MentHlth', 'PhysHlth', 'DiffWalk', 'Sex', 'Age', 'Education', 'Label',\n",
       "       'Date'],\n",
       "      dtype='object')"
      ]
     },
     "execution_count": 111,
     "metadata": {},
     "output_type": "execute_result"
    }
   ],
   "source": [
    "data.columns "
   ]
  },
  {
   "cell_type": "code",
   "execution_count": 112,
   "id": "b0a11d2b",
   "metadata": {},
   "outputs": [],
   "source": [
    "new_vector = [[HighBP, HighChol, CholCheck, BMI, Smoker,\n",
    "       Stroke, HeartDiseaseorAttack, PhysActivity, Fruits, Veggies,\n",
    "       HvyAlcoholConsump, AnyHealthcare, NoDocbcCost, GenHlth,\n",
    "       MentHlth, PhysHlth, DiffWalk, Sex, Age, Education]]"
   ]
  },
  {
   "cell_type": "code",
   "execution_count": 113,
   "id": "77c18ca5",
   "metadata": {},
   "outputs": [
    {
     "data": {
      "text/plain": [
       "[[1, 1, 1, '70', 1, 1, 1, 0, 0, 0, 1, 0, 1, '1', 30, 30, 1, 1, 2, 3]]"
      ]
     },
     "execution_count": 113,
     "metadata": {},
     "output_type": "execute_result"
    }
   ],
   "source": [
    "new_vector"
   ]
  },
  {
   "cell_type": "code",
   "execution_count": 124,
   "id": "1df1c9e3",
   "metadata": {},
   "outputs": [
    {
     "name": "stderr",
     "output_type": "stream",
     "text": [
      "C:\\ProgramData\\Anaconda3\\lib\\site-packages\\sklearn\\utils\\validation.py:63: FutureWarning:\n",
      "\n",
      "Arrays of bytes/strings is being converted to decimal numbers if dtype='numeric'. This behavior is deprecated in 0.24 and will be removed in 1.1 (renaming of 0.26). Please convert your data to numeric values explicitly instead.\n",
      "\n"
     ]
    }
   ],
   "source": [
    "Diabetes_Prediction = clf.predict(new_vector)\n",
    "if Diabetes_Prediction == 2:\n",
    "    result = \"Positive\"\n",
    "else:\n",
    "    result = \"Negative\""
   ]
  },
  {
   "cell_type": "code",
   "execution_count": 125,
   "id": "eeea6b0c",
   "metadata": {},
   "outputs": [
    {
     "data": {
      "text/plain": [
       "'Positive'"
      ]
     },
     "execution_count": 125,
     "metadata": {},
     "output_type": "execute_result"
    }
   ],
   "source": [
    "result"
   ]
  },
  {
   "cell_type": "code",
   "execution_count": 122,
   "id": "90489b1b",
   "metadata": {},
   "outputs": [],
   "source": [
    "#print(\"Our model predicted your diabetec test result is: {}\".format(result))\n",
    "#print(\"The accuracy of pediction model: {}\".format(result))\n"
   ]
  },
  {
   "cell_type": "code",
   "execution_count": 123,
   "id": "699a9dc3",
   "metadata": {},
   "outputs": [
    {
     "name": "stdout",
     "output_type": "stream",
     "text": [
      "Our model predicted that your diabetec result is: 'Posetive'\n",
      "Number of participants of in this survaytion = 249049\n",
      "The accuracy of model is:  86%\n"
     ]
    }
   ],
   "source": [
    "print(\"Our model predicted that your diabetec result is: '{}'\".format(result))\n",
    "print(\"Number of participants of in this survaytion = {}\\nThe accuracy of model is:  86%\".format(len(data)))"
   ]
  },
  {
   "cell_type": "code",
   "execution_count": null,
   "id": "2a99e3d5",
   "metadata": {},
   "outputs": [],
   "source": []
  },
  {
   "cell_type": "code",
   "execution_count": 80,
   "id": "8d53ca31",
   "metadata": {},
   "outputs": [
    {
     "data": {
      "text/html": [
       "<div>\n",
       "<style scoped>\n",
       "    .dataframe tbody tr th:only-of-type {\n",
       "        vertical-align: middle;\n",
       "    }\n",
       "\n",
       "    .dataframe tbody tr th {\n",
       "        vertical-align: top;\n",
       "    }\n",
       "\n",
       "    .dataframe thead th {\n",
       "        text-align: right;\n",
       "    }\n",
       "</style>\n",
       "<table border=\"1\" class=\"dataframe\">\n",
       "  <thead>\n",
       "    <tr style=\"text-align: right;\">\n",
       "      <th></th>\n",
       "      <th>Diabetes_012</th>\n",
       "      <th>HighBP</th>\n",
       "      <th>HighChol</th>\n",
       "      <th>CholCheck</th>\n",
       "      <th>BMI</th>\n",
       "      <th>Smoker</th>\n",
       "      <th>Stroke</th>\n",
       "      <th>HeartDiseaseorAttack</th>\n",
       "      <th>PhysActivity</th>\n",
       "      <th>Fruits</th>\n",
       "      <th>...</th>\n",
       "      <th>NoDocbcCost</th>\n",
       "      <th>GenHlth</th>\n",
       "      <th>MentHlth</th>\n",
       "      <th>PhysHlth</th>\n",
       "      <th>DiffWalk</th>\n",
       "      <th>Sex</th>\n",
       "      <th>Age</th>\n",
       "      <th>Education</th>\n",
       "      <th>Label</th>\n",
       "      <th>Date</th>\n",
       "    </tr>\n",
       "  </thead>\n",
       "  <tbody>\n",
       "    <tr>\n",
       "      <th>18</th>\n",
       "      <td>0.0</td>\n",
       "      <td>0.0</td>\n",
       "      <td>0.0</td>\n",
       "      <td>0.0</td>\n",
       "      <td>23.0</td>\n",
       "      <td>0.0</td>\n",
       "      <td>0.0</td>\n",
       "      <td>0.0</td>\n",
       "      <td>0.0</td>\n",
       "      <td>0.0</td>\n",
       "      <td>...</td>\n",
       "      <td>0.0</td>\n",
       "      <td>2.0</td>\n",
       "      <td>15.0</td>\n",
       "      <td>0.0</td>\n",
       "      <td>0.0</td>\n",
       "      <td>0.0</td>\n",
       "      <td>2.0</td>\n",
       "      <td>6.0</td>\n",
       "      <td>USA</td>\n",
       "      <td>2015</td>\n",
       "    </tr>\n",
       "    <tr>\n",
       "      <th>220</th>\n",
       "      <td>0.0</td>\n",
       "      <td>0.0</td>\n",
       "      <td>0.0</td>\n",
       "      <td>1.0</td>\n",
       "      <td>22.0</td>\n",
       "      <td>1.0</td>\n",
       "      <td>0.0</td>\n",
       "      <td>0.0</td>\n",
       "      <td>0.0</td>\n",
       "      <td>1.0</td>\n",
       "      <td>...</td>\n",
       "      <td>0.0</td>\n",
       "      <td>2.0</td>\n",
       "      <td>0.0</td>\n",
       "      <td>0.0</td>\n",
       "      <td>0.0</td>\n",
       "      <td>0.0</td>\n",
       "      <td>2.0</td>\n",
       "      <td>4.0</td>\n",
       "      <td>USA</td>\n",
       "      <td>2015</td>\n",
       "    </tr>\n",
       "    <tr>\n",
       "      <th>356</th>\n",
       "      <td>0.0</td>\n",
       "      <td>0.0</td>\n",
       "      <td>0.0</td>\n",
       "      <td>1.0</td>\n",
       "      <td>23.0</td>\n",
       "      <td>0.0</td>\n",
       "      <td>0.0</td>\n",
       "      <td>0.0</td>\n",
       "      <td>0.0</td>\n",
       "      <td>1.0</td>\n",
       "      <td>...</td>\n",
       "      <td>0.0</td>\n",
       "      <td>3.0</td>\n",
       "      <td>0.0</td>\n",
       "      <td>0.0</td>\n",
       "      <td>1.0</td>\n",
       "      <td>0.0</td>\n",
       "      <td>2.0</td>\n",
       "      <td>4.0</td>\n",
       "      <td>USA</td>\n",
       "      <td>2015</td>\n",
       "    </tr>\n",
       "    <tr>\n",
       "      <th>475</th>\n",
       "      <td>0.0</td>\n",
       "      <td>0.0</td>\n",
       "      <td>1.0</td>\n",
       "      <td>1.0</td>\n",
       "      <td>26.0</td>\n",
       "      <td>0.0</td>\n",
       "      <td>0.0</td>\n",
       "      <td>0.0</td>\n",
       "      <td>1.0</td>\n",
       "      <td>1.0</td>\n",
       "      <td>...</td>\n",
       "      <td>0.0</td>\n",
       "      <td>2.0</td>\n",
       "      <td>4.0</td>\n",
       "      <td>2.0</td>\n",
       "      <td>0.0</td>\n",
       "      <td>0.0</td>\n",
       "      <td>2.0</td>\n",
       "      <td>6.0</td>\n",
       "      <td>USA</td>\n",
       "      <td>2015</td>\n",
       "    </tr>\n",
       "    <tr>\n",
       "      <th>482</th>\n",
       "      <td>0.0</td>\n",
       "      <td>0.0</td>\n",
       "      <td>0.0</td>\n",
       "      <td>1.0</td>\n",
       "      <td>31.0</td>\n",
       "      <td>1.0</td>\n",
       "      <td>0.0</td>\n",
       "      <td>0.0</td>\n",
       "      <td>0.0</td>\n",
       "      <td>1.0</td>\n",
       "      <td>...</td>\n",
       "      <td>0.0</td>\n",
       "      <td>3.0</td>\n",
       "      <td>0.0</td>\n",
       "      <td>7.0</td>\n",
       "      <td>0.0</td>\n",
       "      <td>1.0</td>\n",
       "      <td>2.0</td>\n",
       "      <td>4.0</td>\n",
       "      <td>USA</td>\n",
       "      <td>2015</td>\n",
       "    </tr>\n",
       "    <tr>\n",
       "      <th>...</th>\n",
       "      <td>...</td>\n",
       "      <td>...</td>\n",
       "      <td>...</td>\n",
       "      <td>...</td>\n",
       "      <td>...</td>\n",
       "      <td>...</td>\n",
       "      <td>...</td>\n",
       "      <td>...</td>\n",
       "      <td>...</td>\n",
       "      <td>...</td>\n",
       "      <td>...</td>\n",
       "      <td>...</td>\n",
       "      <td>...</td>\n",
       "      <td>...</td>\n",
       "      <td>...</td>\n",
       "      <td>...</td>\n",
       "      <td>...</td>\n",
       "      <td>...</td>\n",
       "      <td>...</td>\n",
       "      <td>...</td>\n",
       "      <td>...</td>\n",
       "    </tr>\n",
       "    <tr>\n",
       "      <th>253637</th>\n",
       "      <td>0.0</td>\n",
       "      <td>0.0</td>\n",
       "      <td>0.0</td>\n",
       "      <td>1.0</td>\n",
       "      <td>20.0</td>\n",
       "      <td>0.0</td>\n",
       "      <td>0.0</td>\n",
       "      <td>0.0</td>\n",
       "      <td>1.0</td>\n",
       "      <td>1.0</td>\n",
       "      <td>...</td>\n",
       "      <td>0.0</td>\n",
       "      <td>3.0</td>\n",
       "      <td>0.0</td>\n",
       "      <td>0.0</td>\n",
       "      <td>0.0</td>\n",
       "      <td>0.0</td>\n",
       "      <td>2.0</td>\n",
       "      <td>5.0</td>\n",
       "      <td>USA</td>\n",
       "      <td>2015</td>\n",
       "    </tr>\n",
       "    <tr>\n",
       "      <th>253646</th>\n",
       "      <td>0.0</td>\n",
       "      <td>0.0</td>\n",
       "      <td>0.0</td>\n",
       "      <td>1.0</td>\n",
       "      <td>35.0</td>\n",
       "      <td>0.0</td>\n",
       "      <td>0.0</td>\n",
       "      <td>0.0</td>\n",
       "      <td>0.0</td>\n",
       "      <td>1.0</td>\n",
       "      <td>...</td>\n",
       "      <td>0.0</td>\n",
       "      <td>3.0</td>\n",
       "      <td>4.0</td>\n",
       "      <td>0.0</td>\n",
       "      <td>0.0</td>\n",
       "      <td>0.0</td>\n",
       "      <td>2.0</td>\n",
       "      <td>4.0</td>\n",
       "      <td>USA</td>\n",
       "      <td>2015</td>\n",
       "    </tr>\n",
       "    <tr>\n",
       "      <th>253651</th>\n",
       "      <td>0.0</td>\n",
       "      <td>0.0</td>\n",
       "      <td>0.0</td>\n",
       "      <td>1.0</td>\n",
       "      <td>24.0</td>\n",
       "      <td>0.0</td>\n",
       "      <td>0.0</td>\n",
       "      <td>0.0</td>\n",
       "      <td>1.0</td>\n",
       "      <td>1.0</td>\n",
       "      <td>...</td>\n",
       "      <td>1.0</td>\n",
       "      <td>1.0</td>\n",
       "      <td>0.0</td>\n",
       "      <td>0.0</td>\n",
       "      <td>0.0</td>\n",
       "      <td>1.0</td>\n",
       "      <td>2.0</td>\n",
       "      <td>6.0</td>\n",
       "      <td>USA</td>\n",
       "      <td>2015</td>\n",
       "    </tr>\n",
       "    <tr>\n",
       "      <th>253655</th>\n",
       "      <td>0.0</td>\n",
       "      <td>0.0</td>\n",
       "      <td>0.0</td>\n",
       "      <td>1.0</td>\n",
       "      <td>28.0</td>\n",
       "      <td>0.0</td>\n",
       "      <td>0.0</td>\n",
       "      <td>0.0</td>\n",
       "      <td>1.0</td>\n",
       "      <td>1.0</td>\n",
       "      <td>...</td>\n",
       "      <td>0.0</td>\n",
       "      <td>2.0</td>\n",
       "      <td>0.0</td>\n",
       "      <td>0.0</td>\n",
       "      <td>0.0</td>\n",
       "      <td>0.0</td>\n",
       "      <td>2.0</td>\n",
       "      <td>6.0</td>\n",
       "      <td>USA</td>\n",
       "      <td>2015</td>\n",
       "    </tr>\n",
       "    <tr>\n",
       "      <th>253677</th>\n",
       "      <td>0.0</td>\n",
       "      <td>0.0</td>\n",
       "      <td>0.0</td>\n",
       "      <td>1.0</td>\n",
       "      <td>28.0</td>\n",
       "      <td>0.0</td>\n",
       "      <td>0.0</td>\n",
       "      <td>0.0</td>\n",
       "      <td>1.0</td>\n",
       "      <td>1.0</td>\n",
       "      <td>...</td>\n",
       "      <td>0.0</td>\n",
       "      <td>1.0</td>\n",
       "      <td>0.0</td>\n",
       "      <td>0.0</td>\n",
       "      <td>0.0</td>\n",
       "      <td>0.0</td>\n",
       "      <td>2.0</td>\n",
       "      <td>5.0</td>\n",
       "      <td>USA</td>\n",
       "      <td>2015</td>\n",
       "    </tr>\n",
       "  </tbody>\n",
       "</table>\n",
       "<p>7544 rows × 23 columns</p>\n",
       "</div>"
      ],
      "text/plain": [
       "        Diabetes_012  HighBP  HighChol  CholCheck   BMI  Smoker  Stroke  \\\n",
       "18               0.0     0.0       0.0        0.0  23.0     0.0     0.0   \n",
       "220              0.0     0.0       0.0        1.0  22.0     1.0     0.0   \n",
       "356              0.0     0.0       0.0        1.0  23.0     0.0     0.0   \n",
       "475              0.0     0.0       1.0        1.0  26.0     0.0     0.0   \n",
       "482              0.0     0.0       0.0        1.0  31.0     1.0     0.0   \n",
       "...              ...     ...       ...        ...   ...     ...     ...   \n",
       "253637           0.0     0.0       0.0        1.0  20.0     0.0     0.0   \n",
       "253646           0.0     0.0       0.0        1.0  35.0     0.0     0.0   \n",
       "253651           0.0     0.0       0.0        1.0  24.0     0.0     0.0   \n",
       "253655           0.0     0.0       0.0        1.0  28.0     0.0     0.0   \n",
       "253677           0.0     0.0       0.0        1.0  28.0     0.0     0.0   \n",
       "\n",
       "        HeartDiseaseorAttack  PhysActivity  Fruits  ...  NoDocbcCost  GenHlth  \\\n",
       "18                       0.0           0.0     0.0  ...          0.0      2.0   \n",
       "220                      0.0           0.0     1.0  ...          0.0      2.0   \n",
       "356                      0.0           0.0     1.0  ...          0.0      3.0   \n",
       "475                      0.0           1.0     1.0  ...          0.0      2.0   \n",
       "482                      0.0           0.0     1.0  ...          0.0      3.0   \n",
       "...                      ...           ...     ...  ...          ...      ...   \n",
       "253637                   0.0           1.0     1.0  ...          0.0      3.0   \n",
       "253646                   0.0           0.0     1.0  ...          0.0      3.0   \n",
       "253651                   0.0           1.0     1.0  ...          1.0      1.0   \n",
       "253655                   0.0           1.0     1.0  ...          0.0      2.0   \n",
       "253677                   0.0           1.0     1.0  ...          0.0      1.0   \n",
       "\n",
       "        MentHlth  PhysHlth  DiffWalk  Sex  Age  Education  Label  Date  \n",
       "18          15.0       0.0       0.0  0.0  2.0        6.0    USA  2015  \n",
       "220          0.0       0.0       0.0  0.0  2.0        4.0    USA  2015  \n",
       "356          0.0       0.0       1.0  0.0  2.0        4.0    USA  2015  \n",
       "475          4.0       2.0       0.0  0.0  2.0        6.0    USA  2015  \n",
       "482          0.0       7.0       0.0  1.0  2.0        4.0    USA  2015  \n",
       "...          ...       ...       ...  ...  ...        ...    ...   ...  \n",
       "253637       0.0       0.0       0.0  0.0  2.0        5.0    USA  2015  \n",
       "253646       4.0       0.0       0.0  0.0  2.0        4.0    USA  2015  \n",
       "253651       0.0       0.0       0.0  1.0  2.0        6.0    USA  2015  \n",
       "253655       0.0       0.0       0.0  0.0  2.0        6.0    USA  2015  \n",
       "253677       0.0       0.0       0.0  0.0  2.0        5.0    USA  2015  \n",
       "\n",
       "[7544 rows x 23 columns]"
      ]
     },
     "execution_count": 80,
     "metadata": {},
     "output_type": "execute_result"
    }
   ],
   "source": [
    "data0 = data[data[\"Age\"]==Age]\n",
    "data0"
   ]
  },
  {
   "cell_type": "code",
   "execution_count": 81,
   "id": "524afdcf",
   "metadata": {},
   "outputs": [],
   "source": [
    "import seaborn as sns\n",
    "import matplotlib.pyplot as plt\n",
    "import warnings\n",
    "import plotly.express as px\n",
    "px_template = \"simple_white\""
   ]
  },
  {
   "cell_type": "code",
   "execution_count": 119,
   "id": "cb7f3c5e",
   "metadata": {},
   "outputs": [],
   "source": [
    "#ax= px.treemap(data0,path=['Age'],title=\"Age counts\")\n",
    "#ax.show()"
   ]
  },
  {
   "cell_type": "code",
   "execution_count": 83,
   "id": "19fd4e3b",
   "metadata": {},
   "outputs": [
    {
     "data": {
      "text/html": [
       "<div>\n",
       "<style scoped>\n",
       "    .dataframe tbody tr th:only-of-type {\n",
       "        vertical-align: middle;\n",
       "    }\n",
       "\n",
       "    .dataframe tbody tr th {\n",
       "        vertical-align: top;\n",
       "    }\n",
       "\n",
       "    .dataframe thead th {\n",
       "        text-align: right;\n",
       "    }\n",
       "</style>\n",
       "<table border=\"1\" class=\"dataframe\">\n",
       "  <thead>\n",
       "    <tr style=\"text-align: right;\">\n",
       "      <th>HighBP</th>\n",
       "      <th>0.0</th>\n",
       "      <th>1.0</th>\n",
       "    </tr>\n",
       "    <tr>\n",
       "      <th>Age</th>\n",
       "      <th></th>\n",
       "      <th></th>\n",
       "    </tr>\n",
       "  </thead>\n",
       "  <tbody>\n",
       "    <tr>\n",
       "      <th>2.0</th>\n",
       "      <td>6673</td>\n",
       "      <td>871</td>\n",
       "    </tr>\n",
       "  </tbody>\n",
       "</table>\n",
       "</div>"
      ],
      "text/plain": [
       "HighBP   0.0  1.0\n",
       "Age              \n",
       "2.0     6673  871"
      ]
     },
     "execution_count": 83,
     "metadata": {},
     "output_type": "execute_result"
    }
   ],
   "source": [
    "pd.crosstab(data0.Age,data0.HighBP)"
   ]
  },
  {
   "cell_type": "code",
   "execution_count": 84,
   "id": "d5a9c777",
   "metadata": {},
   "outputs": [
    {
     "data": {
      "text/html": [
       "<div>\n",
       "<style scoped>\n",
       "    .dataframe tbody tr th:only-of-type {\n",
       "        vertical-align: middle;\n",
       "    }\n",
       "\n",
       "    .dataframe tbody tr th {\n",
       "        vertical-align: top;\n",
       "    }\n",
       "\n",
       "    .dataframe thead th {\n",
       "        text-align: right;\n",
       "    }\n",
       "</style>\n",
       "<table border=\"1\" class=\"dataframe\">\n",
       "  <thead>\n",
       "    <tr style=\"text-align: right;\">\n",
       "      <th>Diabetes_012</th>\n",
       "      <th>0.0</th>\n",
       "      <th>2.0</th>\n",
       "    </tr>\n",
       "    <tr>\n",
       "      <th>Age</th>\n",
       "      <th></th>\n",
       "      <th></th>\n",
       "    </tr>\n",
       "  </thead>\n",
       "  <tbody>\n",
       "    <tr>\n",
       "      <th>2.0</th>\n",
       "      <td>7404</td>\n",
       "      <td>140</td>\n",
       "    </tr>\n",
       "  </tbody>\n",
       "</table>\n",
       "</div>"
      ],
      "text/plain": [
       "Diabetes_012   0.0  2.0\n",
       "Age                    \n",
       "2.0           7404  140"
      ]
     },
     "execution_count": 84,
     "metadata": {},
     "output_type": "execute_result"
    }
   ],
   "source": [
    "pd.crosstab(data0.Age,data0.Diabetes_012)"
   ]
  },
  {
   "cell_type": "code",
   "execution_count": 85,
   "id": "2719ca6c",
   "metadata": {},
   "outputs": [],
   "source": [
    "#plt.figure(figsize=(5, 3))\n",
    "#sns.histplot(data0.Age[data0.Diabetes_012 == 0], color=\"y\", label=\"No Diabetic\" , kde = True )\n",
    "#sns.histplot(data0.Age[data0.Diabetes_012 == 1], color=\"b\", label=\"Diabetic\" , kde = True )\n",
    "#plt.title(\"Relation b/w Age and Diabetes\")\n",
    "\n",
    "#plt.xticks(data0[\"Age\"].unique())\n",
    "#plt.legend()"
   ]
  },
  {
   "cell_type": "code",
   "execution_count": 86,
   "id": "f1bcf02e",
   "metadata": {},
   "outputs": [
    {
     "name": "stdout",
     "output_type": "stream",
     "text": [
      "   Diabetes_012  Age  Count\n",
      "0           0.0  2.0   7404\n",
      "1           2.0  2.0    140\n"
     ]
    }
   ],
   "source": [
    "diabetes_bp = data0.groupby(['Diabetes_012', 'Age']).size().reset_index(name = 'Count')\n",
    "print(diabetes_bp)"
   ]
  },
  {
   "cell_type": "code",
   "execution_count": 87,
   "id": "2b76be5c",
   "metadata": {},
   "outputs": [
    {
     "data": {
      "image/png": "[encoded data removed]",
      "text/plain": [
       "<Figure size 288x216 with 1 Axes>"
      ]
     },
     "metadata": {
      "needs_background": "light"
     },
     "output_type": "display_data"
    }
   ],
   "source": [
    "plt.figure(figsize = (4,3))\n",
    "sns.barplot(x = 'Diabetes_012', y = 'Count', hue = 'Age', data = diabetes_bp, palette = 'Set1')\n",
    "plt.title(\"Dibaetes Status ~ Age\")\n",
    "plt.show()"
   ]
  },
  {
   "cell_type": "code",
   "execution_count": 88,
   "id": "b5fe667f",
   "metadata": {},
   "outputs": [
    {
     "data": {
      "image/png": "[encoded data removed]",
      "text/plain": [
       "<Figure size 576x432 with 1 Axes>"
      ]
     },
     "metadata": {
      "needs_background": "light"
     },
     "output_type": "display_data"
    }
   ],
   "source": [
    "plt.figure(figsize = (8,6))\n",
    "sns.boxplot(data = data, x = 'Diabetes_012', y = 'Age', palette = 'Set2')\n",
    "plt.title(\"Dibaetes Status ~ Age\")\n",
    "plt.show()"
   ]
  },
  {
   "cell_type": "code",
   "execution_count": 89,
   "id": "07a3e40d",
   "metadata": {},
   "outputs": [
    {
     "name": "stderr",
     "output_type": "stream",
     "text": [
      "C:\\ProgramData\\Anaconda3\\lib\\site-packages\\seaborn\\_decorators.py:36: FutureWarning: Pass the following variable as a keyword arg: x. From version 0.12, the only valid positional argument will be `data`, and passing other arguments without an explicit keyword will result in an error or misinterpretation.\n",
      "  warnings.warn(\n"
     ]
    },
    {
     "data": {
      "image/png": "[encoded data removed]",
      "text/plain": [
       "<Figure size 720x576 with 2 Axes>"
      ]
     },
     "metadata": {
      "needs_background": "light"
     },
     "output_type": "display_data"
    }
   ],
   "source": [
    "figure1, plot1 = plt.subplots(1,2,figsize=(10,8))\n",
    "\n",
    "sns.countplot(data0['Diabetes_012'],ax=plot1[0])\n",
    "\n",
    "\n",
    "\n",
    "labels=[\"non-Diabetic\",\"Diabetic\"]\n",
    "\n",
    "plt.pie(data0[\"Diabetes_012\"].value_counts() , labels =labels ,autopct='%.02f' );"
   ]
  },
  {
   "cell_type": "code",
   "execution_count": 90,
   "id": "7180917b",
   "metadata": {},
   "outputs": [
    {
     "data": {
      "image/png": "[encoded data removed]",
      "text/plain": [
       "<Figure size 432x288 with 1 Axes>"
      ]
     },
     "metadata": {
      "needs_background": "light"
     },
     "output_type": "display_data"
    }
   ],
   "source": [
    "sns.boxplot(x = 'Diabetes_012', y = 'Education', data = data0)\n",
    "plt.title('Age vs Diabetes_012')\n",
    "plt.show()"
   ]
  },
  {
   "cell_type": "code",
   "execution_count": 91,
   "id": "ccd48b08",
   "metadata": {},
   "outputs": [
    {
     "data": {
      "image/png": "[encoded data removed]",
      "text/plain": [
       "<Figure size 360x216 with 1 Axes>"
      ]
     },
     "metadata": {
      "needs_background": "light"
     },
     "output_type": "display_data"
    }
   ],
   "source": [
    "pd.crosstab(data0.Age,data0.Diabetes_012).plot(kind=\"bar\",figsize=(5,3))\n",
    "plt.title('Diabetes Disease Frequency for Ages')\n",
    "plt.xlabel('Age')\n",
    "plt.xticks(rotation=0)\n",
    "plt.ylabel('Frequency')\n",
    "plt.show()"
   ]
  },
  {
   "cell_type": "code",
   "execution_count": 92,
   "id": "5038ffbd",
   "metadata": {},
   "outputs": [
    {
     "data": {
      "image/png": "[encoded data removed]",
      "text/plain": [
       "<Figure size 360x216 with 1 Axes>"
      ]
     },
     "metadata": {
      "needs_background": "light"
     },
     "output_type": "display_data"
    }
   ],
   "source": [
    "pd.crosstab(data0.HighBP,data0.Diabetes_012).plot(kind=\"bar\",figsize=(5,3))\n",
    "plt.title('Diabetes Disease Frequency for Ages')\n",
    "plt.xlabel('HighBP')\n",
    "plt.xticks(rotation=0)\n",
    "plt.ylabel('Frequency')\n",
    "plt.show()"
   ]
  },
  {
   "cell_type": "code",
   "execution_count": 93,
   "id": "52a46c0c",
   "metadata": {},
   "outputs": [
    {
     "data": {
      "image/png": "[encoded data removed]",
      "text/plain": [
       "<Figure size 360x216 with 1 Axes>"
      ]
     },
     "metadata": {
      "needs_background": "light"
     },
     "output_type": "display_data"
    }
   ],
   "source": [
    "pd.crosstab(data0.HighChol,data0.Diabetes_012).plot(kind=\"bar\",figsize=(5,3))\n",
    "plt.title('Diabetes Disease Frequency for Ages')\n",
    "plt.xlabel('HighChol')\n",
    "plt.xticks(rotation=0)\n",
    "plt.ylabel('Frequency')\n",
    "plt.show()"
   ]
  },
  {
   "cell_type": "code",
   "execution_count": 94,
   "id": "a554ee07",
   "metadata": {},
   "outputs": [
    {
     "data": {
      "image/png": "[encoded data removed]",
      "text/plain": [
       "<Figure size 360x216 with 1 Axes>"
      ]
     },
     "metadata": {
      "needs_background": "light"
     },
     "output_type": "display_data"
    }
   ],
   "source": [
    "pd.crosstab(data0.CholCheck,data0.Diabetes_012).plot(kind=\"bar\",figsize=(5,3))\n",
    "plt.title('Diabetes Disease Frequency for Ages')\n",
    "plt.xlabel('CholCheck')\n",
    "plt.xticks(rotation=0)\n",
    "plt.ylabel('Frequency')\n",
    "plt.show()"
   ]
  },
  {
   "cell_type": "code",
   "execution_count": 95,
   "id": "32e23436",
   "metadata": {},
   "outputs": [],
   "source": [
    "#pd.crosstab(data0.BMI,data0.Diabetes_012).plot(kind=\"bar\",figsize=(100,30))\n",
    "#plt.title('Diabetes Disease Frequency for Ages')\n",
    "#plt.xlabel('BMI')\n",
    "#plt.xticks(rotation=0)\n",
    "#plt.ylabel('Frequency')\n",
    "#plt.show()"
   ]
  },
  {
   "cell_type": "code",
   "execution_count": 96,
   "id": "95b22774",
   "metadata": {},
   "outputs": [
    {
     "data": {
      "image/png": "[encoded data removed]",
      "text/plain": [
       "<Figure size 360x216 with 1 Axes>"
      ]
     },
     "metadata": {
      "needs_background": "light"
     },
     "output_type": "display_data"
    }
   ],
   "source": [
    "pd.crosstab(data0.Smoker,data0.Diabetes_012).plot(kind=\"bar\",figsize=(5,3))\n",
    "plt.title('Diabetes Disease Frequency for Ages')\n",
    "plt.xlabel('Smoker')\n",
    "plt.xticks(rotation=0)\n",
    "plt.ylabel('Frequency')\n",
    "plt.show()"
   ]
  },
  {
   "cell_type": "code",
   "execution_count": 97,
   "id": "7fe7150c",
   "metadata": {},
   "outputs": [
    {
     "data": {
      "image/png": "[encoded data removed]",
      "text/plain": [
       "<Figure size 360x216 with 1 Axes>"
      ]
     },
     "metadata": {
      "needs_background": "light"
     },
     "output_type": "display_data"
    }
   ],
   "source": [
    "pd.crosstab(data0.Stroke,data0.Diabetes_012).plot(kind=\"bar\",figsize=(5,3))\n",
    "plt.title('Diabetes Disease Frequency for Ages')\n",
    "plt.xlabel('Stroke')\n",
    "plt.xticks(rotation=0)\n",
    "plt.ylabel('Frequency')\n",
    "plt.show()"
   ]
  },
  {
   "cell_type": "code",
   "execution_count": 98,
   "id": "d8130145",
   "metadata": {},
   "outputs": [
    {
     "data": {
      "image/png": "[encoded data removed]",
      "text/plain": [
       "<Figure size 360x216 with 1 Axes>"
      ]
     },
     "metadata": {
      "needs_background": "light"
     },
     "output_type": "display_data"
    }
   ],
   "source": [
    "pd.crosstab(data0.HeartDiseaseorAttack,data0.Diabetes_012).plot(kind=\"bar\",figsize=(5,3))\n",
    "plt.title('Diabetes Disease Frequency for Ages')\n",
    "plt.xlabel('HeartDiseaseorAttack')\n",
    "plt.xticks(rotation=0)\n",
    "plt.ylabel('Frequency')\n",
    "plt.show()"
   ]
  },
  {
   "cell_type": "code",
   "execution_count": 99,
   "id": "f09c2c5e",
   "metadata": {},
   "outputs": [
    {
     "data": {
      "image/png": "[encoded data removed]",
      "text/plain": [
       "<Figure size 360x216 with 1 Axes>"
      ]
     },
     "metadata": {
      "needs_background": "light"
     },
     "output_type": "display_data"
    }
   ],
   "source": [
    "pd.crosstab(data0.PhysActivity,data0.Diabetes_012).plot(kind=\"bar\",figsize=(5,3))\n",
    "plt.title('Diabetes Disease Frequency for Ages')\n",
    "plt.xlabel('PhysActivity')\n",
    "plt.xticks(rotation=0)\n",
    "plt.ylabel('Frequency')\n",
    "plt.show()"
   ]
  },
  {
   "cell_type": "code",
   "execution_count": 100,
   "id": "34f42be3",
   "metadata": {},
   "outputs": [
    {
     "data": {
      "image/png": "[encoded data removed]",
      "text/plain": [
       "<Figure size 360x216 with 1 Axes>"
      ]
     },
     "metadata": {
      "needs_background": "light"
     },
     "output_type": "display_data"
    }
   ],
   "source": [
    "pd.crosstab(data0.Fruits,data0.Diabetes_012).plot(kind=\"bar\",figsize=(5,3))\n",
    "plt.title('Diabetes Disease Frequency for Ages')\n",
    "plt.xlabel('Fruits')\n",
    "plt.xticks(rotation=0)\n",
    "plt.ylabel('Frequency')\n",
    "plt.show()"
   ]
  },
  {
   "cell_type": "code",
   "execution_count": 101,
   "id": "28feea80",
   "metadata": {},
   "outputs": [
    {
     "data": {
      "image/png": "[encoded data removed]",
      "text/plain": [
       "<Figure size 360x216 with 1 Axes>"
      ]
     },
     "metadata": {
      "needs_background": "light"
     },
     "output_type": "display_data"
    }
   ],
   "source": [
    "pd.crosstab(data0.Veggies,data0.Diabetes_012).plot(kind=\"bar\",figsize=(5,3))\n",
    "plt.title('Diabetes Disease Frequency for Ages')\n",
    "plt.xlabel('Veggies')\n",
    "plt.xticks(rotation=0)\n",
    "plt.ylabel('Frequency')\n",
    "plt.show()"
   ]
  },
  {
   "cell_type": "code",
   "execution_count": 102,
   "id": "2e189fea",
   "metadata": {},
   "outputs": [
    {
     "data": {
      "image/png": "[encoded data removed]",
      "text/plain": [
       "<Figure size 360x216 with 1 Axes>"
      ]
     },
     "metadata": {
      "needs_background": "light"
     },
     "output_type": "display_data"
    }
   ],
   "source": [
    "pd.crosstab(data0.HvyAlcoholConsump,data0.Diabetes_012).plot(kind=\"bar\",figsize=(5,3))\n",
    "plt.title('Diabetes Disease Frequency for Ages')\n",
    "plt.xlabel('HvyAlcoholConsump')\n",
    "plt.xticks(rotation=0)\n",
    "plt.ylabel('Frequency')\n",
    "plt.show()"
   ]
  },
  {
   "cell_type": "code",
   "execution_count": 103,
   "id": "f58456ef",
   "metadata": {},
   "outputs": [
    {
     "data": {
      "image/png": "[encoded data removed]",
      "text/plain": [
       "<Figure size 360x216 with 1 Axes>"
      ]
     },
     "metadata": {
      "needs_background": "light"
     },
     "output_type": "display_data"
    }
   ],
   "source": [
    "pd.crosstab(data0.AnyHealthcare,data0.Diabetes_012).plot(kind=\"bar\",figsize=(5,3))\n",
    "plt.title('Diabetes Disease Frequency for Ages')\n",
    "plt.xlabel('AnyHealthcare')\n",
    "plt.xticks(rotation=0)\n",
    "plt.ylabel('Frequency')\n",
    "plt.show()"
   ]
  },
  {
   "cell_type": "code",
   "execution_count": 104,
   "id": "d88540df",
   "metadata": {},
   "outputs": [
    {
     "data": {
      "image/png": "[encoded data removed]",
      "text/plain": [
       "<Figure size 360x216 with 1 Axes>"
      ]
     },
     "metadata": {
      "needs_background": "light"
     },
     "output_type": "display_data"
    }
   ],
   "source": [
    "pd.crosstab(data0.NoDocbcCost,data0.Diabetes_012).plot(kind=\"bar\",figsize=(5,3))\n",
    "plt.title('Diabetes Disease Frequency for Ages')\n",
    "plt.xlabel('NoDocbcCost')\n",
    "plt.xticks(rotation=0)\n",
    "plt.ylabel('Frequency')\n",
    "plt.show()"
   ]
  },
  {
   "cell_type": "code",
   "execution_count": 105,
   "id": "823bd2b3",
   "metadata": {},
   "outputs": [
    {
     "data": {
      "image/png": "[encoded data removed]",
      "text/plain": [
       "<Figure size 360x216 with 1 Axes>"
      ]
     },
     "metadata": {
      "needs_background": "light"
     },
     "output_type": "display_data"
    }
   ],
   "source": [
    "pd.crosstab(data0.GenHlth,data0.Diabetes_012).plot(kind=\"bar\",figsize=(5,3))\n",
    "plt.title('Diabetes Disease Frequency for Ages')\n",
    "plt.xlabel('GenHlth')\n",
    "plt.xticks(rotation=0)\n",
    "plt.ylabel('Frequency')\n",
    "plt.show()"
   ]
  },
  {
   "cell_type": "code",
   "execution_count": 106,
   "id": "98ed147d",
   "metadata": {},
   "outputs": [
    {
     "data": {
      "image/png": "[encoded data removed]",
      "text/plain": [
       "<Figure size 2160x720 with 1 Axes>"
      ]
     },
     "metadata": {
      "needs_background": "light"
     },
     "output_type": "display_data"
    }
   ],
   "source": [
    "pd.crosstab(data0.MentHlth,data0.Diabetes_012).plot(kind=\"bar\",figsize=(30,10))\n",
    "plt.title('Diabetes Disease Frequency for Ages')\n",
    "plt.xlabel('MentHlth')\n",
    "plt.xticks(rotation=0)\n",
    "plt.ylabel('Frequency')\n",
    "plt.show()"
   ]
  },
  {
   "cell_type": "code",
   "execution_count": 107,
   "id": "043955e8",
   "metadata": {},
   "outputs": [
    {
     "data": {
      "image/png": "[encoded data removed]",
      "text/plain": [
       "<Figure size 2160x720 with 1 Axes>"
      ]
     },
     "metadata": {
      "needs_background": "light"
     },
     "output_type": "display_data"
    }
   ],
   "source": [
    "pd.crosstab(data0.PhysHlth,data0.Diabetes_012).plot(kind=\"bar\",figsize=(30,10))\n",
    "plt.title('Diabetes Disease Frequency for Ages')\n",
    "plt.xlabel('PhysHlth')\n",
    "plt.xticks(rotation=0)\n",
    "plt.ylabel('Frequency')\n",
    "plt.show()"
   ]
  },
  {
   "cell_type": "code",
   "execution_count": 108,
   "id": "83b397bb",
   "metadata": {},
   "outputs": [
    {
     "data": {
      "image/png": "[encoded data removed]",
      "text/plain": [
       "<Figure size 360x216 with 1 Axes>"
      ]
     },
     "metadata": {
      "needs_background": "light"
     },
     "output_type": "display_data"
    }
   ],
   "source": [
    "pd.crosstab(data0.DiffWalk,data0.Diabetes_012).plot(kind=\"bar\",figsize=(5,3))\n",
    "plt.title('Diabetes Disease Frequency for Ages')\n",
    "plt.xlabel('DiffWalk')\n",
    "plt.xticks(rotation=0)\n",
    "plt.ylabel('Frequency')\n",
    "plt.show()"
   ]
  },
  {
   "cell_type": "code",
   "execution_count": 109,
   "id": "c4245b8b",
   "metadata": {},
   "outputs": [
    {
     "data": {
      "image/png": "[encoded data removed]",
      "text/plain": [
       "<Figure size 360x216 with 1 Axes>"
      ]
     },
     "metadata": {
      "needs_background": "light"
     },
     "output_type": "display_data"
    }
   ],
   "source": [
    "pd.crosstab(data0.Sex,data0.Diabetes_012).plot(kind=\"bar\",figsize=(5,3))\n",
    "plt.title('Diabetes Disease Frequency for Ages')\n",
    "plt.xlabel('Sex')\n",
    "plt.xticks(rotation=0)\n",
    "plt.ylabel('Frequency')\n",
    "plt.show()"
   ]
  },
  {
   "cell_type": "code",
   "execution_count": 110,
   "id": "422f4347",
   "metadata": {},
   "outputs": [
    {
     "data": {
      "image/png": "[encoded data removed]",
      "text/plain": [
       "<Figure size 720x360 with 1 Axes>"
      ]
     },
     "metadata": {
      "needs_background": "light"
     },
     "output_type": "display_data"
    }
   ],
   "source": [
    "pd.crosstab(data0.Education,data0.Diabetes_012).plot(kind=\"bar\",figsize=(10,5))\n",
    "plt.title('Diabetes Disease Frequency for Ages')\n",
    "plt.xlabel('Age')\n",
    "plt.xticks(rotation=0)\n",
    "plt.ylabel('Frequency')\n",
    "plt.show()"
   ]
  },
  {
   "cell_type": "code",
   "execution_count": null,
   "id": "7570b488",
   "metadata": {},
   "outputs": [],
   "source": []
  },
  {
   "cell_type": "code",
   "execution_count": null,
   "id": "b92ed4ee",
   "metadata": {},
   "outputs": [],
   "source": []
  }
 ],
 "metadata": {
  "kernelspec": {
   "display_name": "Python 3 (ipykernel)",
   "language": "python",
   "name": "python3"
  },
  "language_info": {
   "codemirror_mode": {
    "name": "ipython",
    "version": 3
   },
   "file_extension": ".py",
   "mimetype": "text/x-python",
   "name": "python",
   "nbconvert_exporter": "python",
   "pygments_lexer": "ipython3",
   "version": "3.9.7"
  }
 },
 "nbformat": 4,
 "nbformat_minor": 5
}
